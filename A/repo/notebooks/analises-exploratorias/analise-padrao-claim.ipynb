{
 "cells": [
  {
   "cell_type": "markdown",
   "metadata": {},
   "source": [
    "## Importando bibliotecas"
   ]
  },
  {
   "cell_type": "code",
   "execution_count": 1,
   "metadata": {},
   "outputs": [],
   "source": [
    "import pandas as pd\n",
    "import numpy as np\n",
    "from config import *\n",
    "import matplotlib.pyplot as plt\n",
    "import plotly.express as px\n",
    "import plotly.graph_objects as go\n",
    "import statistics as stat\n",
    "\n",
    "pd.set_option('display.max_columns', 500)"
   ]
  },
  {
   "cell_type": "markdown",
   "metadata": {},
   "source": [
    "## Leitura dos dados"
   ]
  },
  {
   "cell_type": "code",
   "execution_count": 2,
   "metadata": {},
   "outputs": [
    {
     "data": {
      "text/plain": [
       "(217636, 26)"
      ]
     },
     "execution_count": 2,
     "metadata": {},
     "output_type": "execute_result"
    }
   ],
   "source": [
    "df = pd.read_csv(path_arquivo_treino)\n",
    "df = df.drop(df[df.vh_weight < 50].index)\n",
    "df.shape"
   ]
  },
  {
   "cell_type": "markdown",
   "metadata": {},
   "source": [
    "## Análises"
   ]
  },
  {
   "cell_type": "code",
   "execution_count": 3,
   "metadata": {},
   "outputs": [
    {
     "data": {
      "text/html": [
       "<div>\n",
       "<style scoped>\n",
       "    .dataframe tbody tr th:only-of-type {\n",
       "        vertical-align: middle;\n",
       "    }\n",
       "\n",
       "    .dataframe tbody tr th {\n",
       "        vertical-align: top;\n",
       "    }\n",
       "\n",
       "    .dataframe thead th {\n",
       "        text-align: right;\n",
       "    }\n",
       "</style>\n",
       "<table border=\"1\" class=\"dataframe\">\n",
       "  <thead>\n",
       "    <tr style=\"text-align: right;\">\n",
       "      <th>year</th>\n",
       "      <th>1.0</th>\n",
       "      <th>2.0</th>\n",
       "      <th>3.0</th>\n",
       "      <th>4.0</th>\n",
       "    </tr>\n",
       "    <tr>\n",
       "      <th>id_policy</th>\n",
       "      <th></th>\n",
       "      <th></th>\n",
       "      <th></th>\n",
       "      <th></th>\n",
       "    </tr>\n",
       "  </thead>\n",
       "  <tbody>\n",
       "    <tr>\n",
       "      <th>PL000000</th>\n",
       "      <td>0.0</td>\n",
       "      <td>0.00</td>\n",
       "      <td>0.00</td>\n",
       "      <td>0.00</td>\n",
       "    </tr>\n",
       "    <tr>\n",
       "      <th>PL000001</th>\n",
       "      <td>0.0</td>\n",
       "      <td>0.00</td>\n",
       "      <td>0.00</td>\n",
       "      <td>0.00</td>\n",
       "    </tr>\n",
       "    <tr>\n",
       "      <th>PL000003</th>\n",
       "      <td>0.0</td>\n",
       "      <td>0.00</td>\n",
       "      <td>0.00</td>\n",
       "      <td>0.00</td>\n",
       "    </tr>\n",
       "    <tr>\n",
       "      <th>PL000005</th>\n",
       "      <td>0.0</td>\n",
       "      <td>0.00</td>\n",
       "      <td>2168.53</td>\n",
       "      <td>0.00</td>\n",
       "    </tr>\n",
       "    <tr>\n",
       "      <th>PL000007</th>\n",
       "      <td>0.0</td>\n",
       "      <td>0.00</td>\n",
       "      <td>0.00</td>\n",
       "      <td>0.00</td>\n",
       "    </tr>\n",
       "    <tr>\n",
       "      <th>...</th>\n",
       "      <td>...</td>\n",
       "      <td>...</td>\n",
       "      <td>...</td>\n",
       "      <td>...</td>\n",
       "    </tr>\n",
       "    <tr>\n",
       "      <th>PL095628</th>\n",
       "      <td>0.0</td>\n",
       "      <td>1131.96</td>\n",
       "      <td>1242.00</td>\n",
       "      <td>1049.95</td>\n",
       "    </tr>\n",
       "    <tr>\n",
       "      <th>PL095631</th>\n",
       "      <td>0.0</td>\n",
       "      <td>0.00</td>\n",
       "      <td>0.00</td>\n",
       "      <td>0.00</td>\n",
       "    </tr>\n",
       "    <tr>\n",
       "      <th>PL095633</th>\n",
       "      <td>0.0</td>\n",
       "      <td>0.00</td>\n",
       "      <td>0.00</td>\n",
       "      <td>0.00</td>\n",
       "    </tr>\n",
       "    <tr>\n",
       "      <th>PL095634</th>\n",
       "      <td>0.0</td>\n",
       "      <td>1853.89</td>\n",
       "      <td>0.00</td>\n",
       "      <td>56.38</td>\n",
       "    </tr>\n",
       "    <tr>\n",
       "      <th>PL095635</th>\n",
       "      <td>0.0</td>\n",
       "      <td>0.00</td>\n",
       "      <td>0.00</td>\n",
       "      <td>0.00</td>\n",
       "    </tr>\n",
       "  </tbody>\n",
       "</table>\n",
       "<p>54409 rows × 4 columns</p>\n",
       "</div>"
      ],
      "text/plain": [
       "year       1.0      2.0      3.0      4.0\n",
       "id_policy                                \n",
       "PL000000   0.0     0.00     0.00     0.00\n",
       "PL000001   0.0     0.00     0.00     0.00\n",
       "PL000003   0.0     0.00     0.00     0.00\n",
       "PL000005   0.0     0.00  2168.53     0.00\n",
       "PL000007   0.0     0.00     0.00     0.00\n",
       "...        ...      ...      ...      ...\n",
       "PL095628   0.0  1131.96  1242.00  1049.95\n",
       "PL095631   0.0     0.00     0.00     0.00\n",
       "PL095633   0.0     0.00     0.00     0.00\n",
       "PL095634   0.0  1853.89     0.00    56.38\n",
       "PL095635   0.0     0.00     0.00     0.00\n",
       "\n",
       "[54409 rows x 4 columns]"
      ]
     },
     "execution_count": 3,
     "metadata": {},
     "output_type": "execute_result"
    }
   ],
   "source": [
    "series_claims = pd.pivot_table( df, columns= 'year', index='id_policy', values='claim_amount', aggfunc='sum')\n",
    "series_claims"
   ]
  },
  {
   "cell_type": "markdown",
   "metadata": {},
   "source": [
    "#### Probabilidade de ter claim dado que não tem no anterior"
   ]
  },
  {
   "cell_type": "code",
   "execution_count": 4,
   "metadata": {},
   "outputs": [
    {
     "data": {
      "text/plain": [
       "0.0947772516242323"
      ]
     },
     "execution_count": 4,
     "metadata": {},
     "output_type": "execute_result"
    }
   ],
   "source": [
    "clientes_1_2 = series_claims[(series_claims[1]==0)]\n",
    "prob_1_2 = (clientes_1_2[2]>0).mean()\n",
    "\n",
    "clientes_2_3 = series_claims[(series_claims[2]==0)]\n",
    "prob_2_3 = (clientes_2_3[3]>0).mean()\n",
    "\n",
    "clientes_3_4 = series_claims[(series_claims[3]==0)]\n",
    "prob_3_4 = (clientes_3_4[4]>0).mean()\n",
    "\n",
    "prob_claim_dado_ano_anterior_sem = stat.mean([prob_1_2,prob_2_3,prob_3_4]) \n",
    "prob_claim_dado_ano_anterior_sem"
   ]
  },
  {
   "cell_type": "markdown",
   "metadata": {},
   "source": [
    "####  Probabilidade de ter claim dado que tem no anterior"
   ]
  },
  {
   "cell_type": "code",
   "execution_count": 5,
   "metadata": {},
   "outputs": [
    {
     "data": {
      "text/plain": [
       "0.1525587198448692"
      ]
     },
     "execution_count": 5,
     "metadata": {},
     "output_type": "execute_result"
    }
   ],
   "source": [
    "clientes_1_2 = series_claims[(series_claims[1]>0)]\n",
    "prob_1_2 = (clientes_1_2[2]>0).mean()\n",
    "\n",
    "clientes_2_3 = series_claims[(series_claims[2]>0)]\n",
    "prob_2_3 = (clientes_2_3[3]>0).mean()\n",
    "\n",
    "clientes_3_4 = series_claims[(series_claims[3]>0)]\n",
    "prob_3_4 = (clientes_3_4[4]>0).mean()\n",
    "\n",
    "prob_claim_dado_ano_anterior_com = stat.mean([prob_1_2,prob_2_3,prob_3_4]) \n",
    "prob_claim_dado_ano_anterior_com"
   ]
  },
  {
   "cell_type": "markdown",
   "metadata": {},
   "source": [
    "#### Probabilidade de ter claim no 4 ano dado que temos 3 anos sem claim"
   ]
  },
  {
   "cell_type": "code",
   "execution_count": 6,
   "metadata": {},
   "outputs": [
    {
     "name": "stdout",
     "output_type": "stream",
     "text": [
      "Temos 39549 clientes, e probabilidade de 0.07820678146097246\n"
     ]
    }
   ],
   "source": [
    "clientes_sem_claim_3_anos = series_claims[((series_claims[1]==0)*1 + (series_claims[2]==0)*1 + (series_claims[3]==0)*1)==3]\n",
    "print('Temos',len(clientes_sem_claim_3_anos),'clientes, e probabilidade de',(clientes_sem_claim_3_anos[4]>0).mean())"
   ]
  },
  {
   "cell_type": "markdown",
   "metadata": {},
   "source": [
    "#### Probabilidade de ter claim no 4 ano dado que temos 2 anos sem claim"
   ]
  },
  {
   "cell_type": "code",
   "execution_count": 7,
   "metadata": {},
   "outputs": [
    {
     "name": "stdout",
     "output_type": "stream",
     "text": [
      "Temos 12407 clientes, e probabilidade de 0.12331748206657532\n"
     ]
    }
   ],
   "source": [
    "clientes_sem_claim_2_anos = series_claims[((series_claims[1]==0)*1 + (series_claims[2]==0)*1 + (series_claims[3]==0)*1)==2]\n",
    "clientes_sem_claim_2_anos\n",
    "print('Temos',len(clientes_sem_claim_2_anos),'clientes, e probabilidade de',(clientes_sem_claim_2_anos[4]>0).mean())"
   ]
  },
  {
   "cell_type": "markdown",
   "metadata": {},
   "source": [
    "#### Probabilidade de ter claim no 4 ano dado que temos 1 ano sem claim"
   ]
  },
  {
   "cell_type": "code",
   "execution_count": 8,
   "metadata": {},
   "outputs": [
    {
     "name": "stdout",
     "output_type": "stream",
     "text": [
      "Temos 2243 clientes, e probabilidade de 0.16674097191261703\n"
     ]
    }
   ],
   "source": [
    "clientes_sem_claim_1_anos = series_claims[((series_claims[1]==0)*1 + (series_claims[2]==0)*1 + (series_claims[3]==0)*1)==1]\n",
    "clientes_sem_claim_1_anos\n",
    "\n",
    "print('Temos',len(clientes_sem_claim_1_anos),'clientes, e probabilidade de',(clientes_sem_claim_1_anos[4]>0).mean())"
   ]
  },
  {
   "cell_type": "markdown",
   "metadata": {},
   "source": [
    "#### Probabilidade de ter claim no 4 ano dado que temos 0 anos sem claim"
   ]
  },
  {
   "cell_type": "code",
   "execution_count": 9,
   "metadata": {},
   "outputs": [
    {
     "name": "stdout",
     "output_type": "stream",
     "text": [
      "Temos 210 clientes, e probabilidade de 0.26666666666666666\n"
     ]
    }
   ],
   "source": [
    "clientes_sem_claim_0_anos = series_claims[((series_claims[1]==0)*1 + (series_claims[2]==0)*1 + (series_claims[3]==0)*1)==0]\n",
    "clientes_sem_claim_0_anos\n",
    "\n",
    "print('Temos',len(clientes_sem_claim_0_anos),'clientes, e probabilidade de',(clientes_sem_claim_0_anos[4]>0).mean())"
   ]
  }
 ],
 "metadata": {
  "kernelspec": {
   "display_name": "Python 3",
   "language": "python",
   "name": "python3"
  },
  "language_info": {
   "codemirror_mode": {
    "name": "ipython",
    "version": 3
   },
   "file_extension": ".py",
   "mimetype": "text/x-python",
   "name": "python",
   "nbconvert_exporter": "python",
   "pygments_lexer": "ipython3",
   "version": "3.8.3"
  }
 },
 "nbformat": 4,
 "nbformat_minor": 4
}

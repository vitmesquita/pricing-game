{
 "cells": [
  {
   "cell_type": "markdown",
   "metadata": {},
   "source": [
    "## Import de bibliotecas"
   ]
  },
  {
   "cell_type": "code",
   "execution_count": 1,
   "metadata": {},
   "outputs": [],
   "source": [
    "import sys\n",
    "sys.path.append('..\\..')"
   ]
  },
  {
   "cell_type": "code",
   "execution_count": 2,
   "metadata": {},
   "outputs": [],
   "source": [
    "import pandas as pd\n",
    "import numpy as np\n",
    "from config import *\n",
    "import matplotlib.pyplot as plt\n",
    "import plotly.express as px\n",
    "import plotly.graph_objects as go\n",
    "import statistics as stat\n",
    "pd.set_option('display.max_columns', 500)\n",
    "from functools import reduce\n",
    "\n",
    "from sklearn import datasets, linear_model\n",
    "from sklearn.metrics import mean_squared_error, r2_score, confusion_matrix\n",
    "from sklearn.linear_model import LogisticRegression\n",
    "from sklearn import svm\n",
    "from sklearn.preprocessing import StandardScaler\n",
    "from sklearn.ensemble import RandomForestClassifier\n",
    "from sklearn.model_selection import train_test_split \n",
    "from sklearn.tree import DecisionTreeClassifier\n",
    "from sklearn.model_selection import cross_val_score"
   ]
  },
  {
   "cell_type": "code",
   "execution_count": 3,
   "metadata": {},
   "outputs": [
    {
     "data": {
      "text/plain": [
       "(228216, 26)"
      ]
     },
     "execution_count": 3,
     "metadata": {},
     "output_type": "execute_result"
    }
   ],
   "source": [
    "df = pd.read_csv(path_arquivo_treino)\n",
    "#df = df.drop(df[df.vh_weight < 50].index)\n",
    "df.shape"
   ]
  },
  {
   "cell_type": "code",
   "execution_count": 4,
   "metadata": {},
   "outputs": [],
   "source": [
    "df=df[df['year']==1]"
   ]
  },
  {
   "cell_type": "code",
   "execution_count": 5,
   "metadata": {},
   "outputs": [],
   "source": [
    "Xraw = df.drop(columns=['claim_amount'])\n",
    "yraw = df['claim_amount'].values"
   ]
  },
  {
   "cell_type": "code",
   "execution_count": 6,
   "metadata": {},
   "outputs": [
    {
     "data": {
      "text/html": [
       "<div>\n",
       "<style scoped>\n",
       "    .dataframe tbody tr th:only-of-type {\n",
       "        vertical-align: middle;\n",
       "    }\n",
       "\n",
       "    .dataframe tbody tr th {\n",
       "        vertical-align: top;\n",
       "    }\n",
       "\n",
       "    .dataframe thead th {\n",
       "        text-align: right;\n",
       "    }\n",
       "</style>\n",
       "<table border=\"1\" class=\"dataframe\">\n",
       "  <thead>\n",
       "    <tr style=\"text-align: right;\">\n",
       "      <th></th>\n",
       "      <th>id_policy</th>\n",
       "      <th>year</th>\n",
       "      <th>pol_no_claims_discount</th>\n",
       "      <th>pol_coverage</th>\n",
       "      <th>pol_duration</th>\n",
       "      <th>pol_sit_duration</th>\n",
       "      <th>pol_pay_freq</th>\n",
       "      <th>pol_payd</th>\n",
       "      <th>pol_usage</th>\n",
       "      <th>drv_sex1</th>\n",
       "      <th>drv_age1</th>\n",
       "      <th>drv_age_lic1</th>\n",
       "      <th>drv_drv2</th>\n",
       "      <th>drv_sex2</th>\n",
       "      <th>drv_age2</th>\n",
       "      <th>drv_age_lic2</th>\n",
       "      <th>vh_make_model</th>\n",
       "      <th>vh_age</th>\n",
       "      <th>vh_fuel</th>\n",
       "      <th>vh_type</th>\n",
       "      <th>vh_speed</th>\n",
       "      <th>vh_value</th>\n",
       "      <th>vh_weight</th>\n",
       "      <th>population</th>\n",
       "      <th>town_surface_area</th>\n",
       "    </tr>\n",
       "  </thead>\n",
       "  <tbody>\n",
       "    <tr>\n",
       "      <th>0</th>\n",
       "      <td>PL000000</td>\n",
       "      <td>1.0</td>\n",
       "      <td>0.332</td>\n",
       "      <td>Med2</td>\n",
       "      <td>5</td>\n",
       "      <td>1</td>\n",
       "      <td>Monthly</td>\n",
       "      <td>No</td>\n",
       "      <td>WorkPrivate</td>\n",
       "      <td>M</td>\n",
       "      <td>35.0</td>\n",
       "      <td>16.0</td>\n",
       "      <td>Yes</td>\n",
       "      <td>F</td>\n",
       "      <td>26.0</td>\n",
       "      <td>1.0</td>\n",
       "      <td>aparvvfowrjncdhp</td>\n",
       "      <td>8.0</td>\n",
       "      <td>Gasoline</td>\n",
       "      <td>Tourism</td>\n",
       "      <td>174.0</td>\n",
       "      <td>11040.0</td>\n",
       "      <td>1143.0</td>\n",
       "      <td>1270.0</td>\n",
       "      <td>33.1</td>\n",
       "    </tr>\n",
       "    <tr>\n",
       "      <th>1</th>\n",
       "      <td>PL042495</td>\n",
       "      <td>1.0</td>\n",
       "      <td>0.000</td>\n",
       "      <td>Med2</td>\n",
       "      <td>6</td>\n",
       "      <td>1</td>\n",
       "      <td>Monthly</td>\n",
       "      <td>No</td>\n",
       "      <td>WorkPrivate</td>\n",
       "      <td>M</td>\n",
       "      <td>60.0</td>\n",
       "      <td>41.0</td>\n",
       "      <td>No</td>\n",
       "      <td>0</td>\n",
       "      <td>NaN</td>\n",
       "      <td>NaN</td>\n",
       "      <td>aparvvfowrjncdhp</td>\n",
       "      <td>10.0</td>\n",
       "      <td>Diesel</td>\n",
       "      <td>Tourism</td>\n",
       "      <td>174.0</td>\n",
       "      <td>11040.0</td>\n",
       "      <td>1143.0</td>\n",
       "      <td>1290.0</td>\n",
       "      <td>51.3</td>\n",
       "    </tr>\n",
       "    <tr>\n",
       "      <th>2</th>\n",
       "      <td>PL042496</td>\n",
       "      <td>1.0</td>\n",
       "      <td>0.196</td>\n",
       "      <td>Med1</td>\n",
       "      <td>2</td>\n",
       "      <td>1</td>\n",
       "      <td>Yearly</td>\n",
       "      <td>Yes</td>\n",
       "      <td>Retired</td>\n",
       "      <td>M</td>\n",
       "      <td>55.0</td>\n",
       "      <td>35.0</td>\n",
       "      <td>Yes</td>\n",
       "      <td>F</td>\n",
       "      <td>57.0</td>\n",
       "      <td>38.0</td>\n",
       "      <td>iwhqpdfuhrsxyqxe</td>\n",
       "      <td>8.0</td>\n",
       "      <td>Diesel</td>\n",
       "      <td>Commercial</td>\n",
       "      <td>150.0</td>\n",
       "      <td>14159.0</td>\n",
       "      <td>1193.0</td>\n",
       "      <td>1020.0</td>\n",
       "      <td>262.8</td>\n",
       "    </tr>\n",
       "    <tr>\n",
       "      <th>3</th>\n",
       "      <td>PL042497</td>\n",
       "      <td>1.0</td>\n",
       "      <td>0.000</td>\n",
       "      <td>Med2</td>\n",
       "      <td>8</td>\n",
       "      <td>5</td>\n",
       "      <td>Yearly</td>\n",
       "      <td>No</td>\n",
       "      <td>WorkPrivate</td>\n",
       "      <td>F</td>\n",
       "      <td>54.0</td>\n",
       "      <td>31.0</td>\n",
       "      <td>No</td>\n",
       "      <td>0</td>\n",
       "      <td>NaN</td>\n",
       "      <td>NaN</td>\n",
       "      <td>kvcddisqpkysmvvo</td>\n",
       "      <td>4.0</td>\n",
       "      <td>Gasoline</td>\n",
       "      <td>Tourism</td>\n",
       "      <td>149.0</td>\n",
       "      <td>17233.0</td>\n",
       "      <td>1012.0</td>\n",
       "      <td>180.0</td>\n",
       "      <td>219.7</td>\n",
       "    </tr>\n",
       "    <tr>\n",
       "      <th>4</th>\n",
       "      <td>PL042498</td>\n",
       "      <td>1.0</td>\n",
       "      <td>0.000</td>\n",
       "      <td>Med1</td>\n",
       "      <td>2</td>\n",
       "      <td>2</td>\n",
       "      <td>Yearly</td>\n",
       "      <td>No</td>\n",
       "      <td>Retired</td>\n",
       "      <td>F</td>\n",
       "      <td>65.0</td>\n",
       "      <td>38.0</td>\n",
       "      <td>No</td>\n",
       "      <td>0</td>\n",
       "      <td>NaN</td>\n",
       "      <td>NaN</td>\n",
       "      <td>tdgkjlphosocwbgu</td>\n",
       "      <td>13.0</td>\n",
       "      <td>Gasoline</td>\n",
       "      <td>Tourism</td>\n",
       "      <td>200.0</td>\n",
       "      <td>19422.0</td>\n",
       "      <td>1315.0</td>\n",
       "      <td>30.0</td>\n",
       "      <td>70.3</td>\n",
       "    </tr>\n",
       "    <tr>\n",
       "      <th>...</th>\n",
       "      <td>...</td>\n",
       "      <td>...</td>\n",
       "      <td>...</td>\n",
       "      <td>...</td>\n",
       "      <td>...</td>\n",
       "      <td>...</td>\n",
       "      <td>...</td>\n",
       "      <td>...</td>\n",
       "      <td>...</td>\n",
       "      <td>...</td>\n",
       "      <td>...</td>\n",
       "      <td>...</td>\n",
       "      <td>...</td>\n",
       "      <td>...</td>\n",
       "      <td>...</td>\n",
       "      <td>...</td>\n",
       "      <td>...</td>\n",
       "      <td>...</td>\n",
       "      <td>...</td>\n",
       "      <td>...</td>\n",
       "      <td>...</td>\n",
       "      <td>...</td>\n",
       "      <td>...</td>\n",
       "      <td>...</td>\n",
       "      <td>...</td>\n",
       "    </tr>\n",
       "    <tr>\n",
       "      <th>57049</th>\n",
       "      <td>PL002373</td>\n",
       "      <td>1.0</td>\n",
       "      <td>0.000</td>\n",
       "      <td>Max</td>\n",
       "      <td>14</td>\n",
       "      <td>6</td>\n",
       "      <td>Biannual</td>\n",
       "      <td>No</td>\n",
       "      <td>WorkPrivate</td>\n",
       "      <td>F</td>\n",
       "      <td>48.0</td>\n",
       "      <td>27.0</td>\n",
       "      <td>No</td>\n",
       "      <td>0</td>\n",
       "      <td>NaN</td>\n",
       "      <td>NaN</td>\n",
       "      <td>ylboorftnzombypn</td>\n",
       "      <td>4.0</td>\n",
       "      <td>Gasoline</td>\n",
       "      <td>Tourism</td>\n",
       "      <td>154.0</td>\n",
       "      <td>16796.0</td>\n",
       "      <td>940.0</td>\n",
       "      <td>470.0</td>\n",
       "      <td>110.5</td>\n",
       "    </tr>\n",
       "    <tr>\n",
       "      <th>57050</th>\n",
       "      <td>PL004062</td>\n",
       "      <td>1.0</td>\n",
       "      <td>0.225</td>\n",
       "      <td>Med1</td>\n",
       "      <td>10</td>\n",
       "      <td>1</td>\n",
       "      <td>Biannual</td>\n",
       "      <td>No</td>\n",
       "      <td>WorkPrivate</td>\n",
       "      <td>F</td>\n",
       "      <td>44.0</td>\n",
       "      <td>26.0</td>\n",
       "      <td>No</td>\n",
       "      <td>0</td>\n",
       "      <td>NaN</td>\n",
       "      <td>NaN</td>\n",
       "      <td>ojribuhtopqgkqpp</td>\n",
       "      <td>15.0</td>\n",
       "      <td>Gasoline</td>\n",
       "      <td>Tourism</td>\n",
       "      <td>170.0</td>\n",
       "      <td>19427.0</td>\n",
       "      <td>1535.0</td>\n",
       "      <td>50.0</td>\n",
       "      <td>144.8</td>\n",
       "    </tr>\n",
       "    <tr>\n",
       "      <th>57051</th>\n",
       "      <td>PL006847</td>\n",
       "      <td>1.0</td>\n",
       "      <td>0.000</td>\n",
       "      <td>Max</td>\n",
       "      <td>18</td>\n",
       "      <td>1</td>\n",
       "      <td>Biannual</td>\n",
       "      <td>No</td>\n",
       "      <td>Retired</td>\n",
       "      <td>F</td>\n",
       "      <td>83.0</td>\n",
       "      <td>49.0</td>\n",
       "      <td>No</td>\n",
       "      <td>0</td>\n",
       "      <td>NaN</td>\n",
       "      <td>NaN</td>\n",
       "      <td>ngombkqqomblyxwv</td>\n",
       "      <td>12.0</td>\n",
       "      <td>Gasoline</td>\n",
       "      <td>Tourism</td>\n",
       "      <td>140.0</td>\n",
       "      <td>12071.0</td>\n",
       "      <td>1117.0</td>\n",
       "      <td>380.0</td>\n",
       "      <td>455.5</td>\n",
       "    </tr>\n",
       "    <tr>\n",
       "      <th>57052</th>\n",
       "      <td>PL012984</td>\n",
       "      <td>1.0</td>\n",
       "      <td>0.000</td>\n",
       "      <td>Min</td>\n",
       "      <td>2</td>\n",
       "      <td>2</td>\n",
       "      <td>Biannual</td>\n",
       "      <td>No</td>\n",
       "      <td>WorkPrivate</td>\n",
       "      <td>M</td>\n",
       "      <td>52.0</td>\n",
       "      <td>32.0</td>\n",
       "      <td>No</td>\n",
       "      <td>0</td>\n",
       "      <td>NaN</td>\n",
       "      <td>NaN</td>\n",
       "      <td>brjgjnnpueqkyaxo</td>\n",
       "      <td>13.0</td>\n",
       "      <td>Gasoline</td>\n",
       "      <td>Tourism</td>\n",
       "      <td>220.0</td>\n",
       "      <td>57245.0</td>\n",
       "      <td>1491.0</td>\n",
       "      <td>250.0</td>\n",
       "      <td>222.8</td>\n",
       "    </tr>\n",
       "    <tr>\n",
       "      <th>57053</th>\n",
       "      <td>PL008560</td>\n",
       "      <td>1.0</td>\n",
       "      <td>0.000</td>\n",
       "      <td>Med1</td>\n",
       "      <td>12</td>\n",
       "      <td>8</td>\n",
       "      <td>Biannual</td>\n",
       "      <td>No</td>\n",
       "      <td>Retired</td>\n",
       "      <td>M</td>\n",
       "      <td>70.0</td>\n",
       "      <td>50.0</td>\n",
       "      <td>No</td>\n",
       "      <td>0</td>\n",
       "      <td>NaN</td>\n",
       "      <td>NaN</td>\n",
       "      <td>gpclrtlzecazeeev</td>\n",
       "      <td>15.0</td>\n",
       "      <td>Gasoline</td>\n",
       "      <td>Tourism</td>\n",
       "      <td>167.0</td>\n",
       "      <td>15374.0</td>\n",
       "      <td>1180.0</td>\n",
       "      <td>390.0</td>\n",
       "      <td>431.9</td>\n",
       "    </tr>\n",
       "  </tbody>\n",
       "</table>\n",
       "<p>57054 rows × 25 columns</p>\n",
       "</div>"
      ],
      "text/plain": [
       "      id_policy  year  pol_no_claims_discount pol_coverage  pol_duration  \\\n",
       "0      PL000000   1.0                   0.332         Med2             5   \n",
       "1      PL042495   1.0                   0.000         Med2             6   \n",
       "2      PL042496   1.0                   0.196         Med1             2   \n",
       "3      PL042497   1.0                   0.000         Med2             8   \n",
       "4      PL042498   1.0                   0.000         Med1             2   \n",
       "...         ...   ...                     ...          ...           ...   \n",
       "57049  PL002373   1.0                   0.000          Max            14   \n",
       "57050  PL004062   1.0                   0.225         Med1            10   \n",
       "57051  PL006847   1.0                   0.000          Max            18   \n",
       "57052  PL012984   1.0                   0.000          Min             2   \n",
       "57053  PL008560   1.0                   0.000         Med1            12   \n",
       "\n",
       "       pol_sit_duration pol_pay_freq pol_payd    pol_usage drv_sex1  drv_age1  \\\n",
       "0                     1      Monthly       No  WorkPrivate        M      35.0   \n",
       "1                     1      Monthly       No  WorkPrivate        M      60.0   \n",
       "2                     1       Yearly      Yes      Retired        M      55.0   \n",
       "3                     5       Yearly       No  WorkPrivate        F      54.0   \n",
       "4                     2       Yearly       No      Retired        F      65.0   \n",
       "...                 ...          ...      ...          ...      ...       ...   \n",
       "57049                 6     Biannual       No  WorkPrivate        F      48.0   \n",
       "57050                 1     Biannual       No  WorkPrivate        F      44.0   \n",
       "57051                 1     Biannual       No      Retired        F      83.0   \n",
       "57052                 2     Biannual       No  WorkPrivate        M      52.0   \n",
       "57053                 8     Biannual       No      Retired        M      70.0   \n",
       "\n",
       "       drv_age_lic1 drv_drv2 drv_sex2  drv_age2  drv_age_lic2  \\\n",
       "0              16.0      Yes        F      26.0           1.0   \n",
       "1              41.0       No        0       NaN           NaN   \n",
       "2              35.0      Yes        F      57.0          38.0   \n",
       "3              31.0       No        0       NaN           NaN   \n",
       "4              38.0       No        0       NaN           NaN   \n",
       "...             ...      ...      ...       ...           ...   \n",
       "57049          27.0       No        0       NaN           NaN   \n",
       "57050          26.0       No        0       NaN           NaN   \n",
       "57051          49.0       No        0       NaN           NaN   \n",
       "57052          32.0       No        0       NaN           NaN   \n",
       "57053          50.0       No        0       NaN           NaN   \n",
       "\n",
       "          vh_make_model  vh_age   vh_fuel     vh_type  vh_speed  vh_value  \\\n",
       "0      aparvvfowrjncdhp     8.0  Gasoline     Tourism     174.0   11040.0   \n",
       "1      aparvvfowrjncdhp    10.0    Diesel     Tourism     174.0   11040.0   \n",
       "2      iwhqpdfuhrsxyqxe     8.0    Diesel  Commercial     150.0   14159.0   \n",
       "3      kvcddisqpkysmvvo     4.0  Gasoline     Tourism     149.0   17233.0   \n",
       "4      tdgkjlphosocwbgu    13.0  Gasoline     Tourism     200.0   19422.0   \n",
       "...                 ...     ...       ...         ...       ...       ...   \n",
       "57049  ylboorftnzombypn     4.0  Gasoline     Tourism     154.0   16796.0   \n",
       "57050  ojribuhtopqgkqpp    15.0  Gasoline     Tourism     170.0   19427.0   \n",
       "57051  ngombkqqomblyxwv    12.0  Gasoline     Tourism     140.0   12071.0   \n",
       "57052  brjgjnnpueqkyaxo    13.0  Gasoline     Tourism     220.0   57245.0   \n",
       "57053  gpclrtlzecazeeev    15.0  Gasoline     Tourism     167.0   15374.0   \n",
       "\n",
       "       vh_weight  population  town_surface_area  \n",
       "0         1143.0      1270.0               33.1  \n",
       "1         1143.0      1290.0               51.3  \n",
       "2         1193.0      1020.0              262.8  \n",
       "3         1012.0       180.0              219.7  \n",
       "4         1315.0        30.0               70.3  \n",
       "...          ...         ...                ...  \n",
       "57049      940.0       470.0              110.5  \n",
       "57050     1535.0        50.0              144.8  \n",
       "57051     1117.0       380.0              455.5  \n",
       "57052     1491.0       250.0              222.8  \n",
       "57053     1180.0       390.0              431.9  \n",
       "\n",
       "[57054 rows x 25 columns]"
      ]
     },
     "execution_count": 6,
     "metadata": {},
     "output_type": "execute_result"
    }
   ],
   "source": [
    "Xraw"
   ]
  },
  {
   "cell_type": "markdown",
   "metadata": {},
   "source": [
    "### Funções de feature engineering"
   ]
  },
  {
   "cell_type": "code",
   "execution_count": 28,
   "metadata": {},
   "outputs": [],
   "source": [
    "def preprocessing(Xraw,yraw,year):\n",
    "    df_total = pd.concat([Xraw,pd.DataFrame(yraw,columns=['claim_amount'])], axis=1) #gerando o df original\n",
    "    carros_maior_prob,carros_menor_prob = carros_prob(df_total) #gerando a lista de carros\n",
    "    df_total = df_total.drop(df_total[df_total.vh_weight < 50].index) # drop de dados sem sentido\n",
    "    df_merged_by_id = concat_by_id(df_total) #df id por linha\n",
    "    \n",
    "    df_merged_by_id['pol_coverage_2'] = df_merged_by_id['pol_coverage'].map({'Min':1,'Med1':2,'Med2':3,'Max':4})\n",
    "    \n",
    "    df_fuel = pd.get_dummies(df_merged_by_id['vh_fuel'], drop_first = True, prefix = 'fuel')\n",
    "    df_merged_by_id = pd.concat([df_merged_by_id,df_fuel], axis=1)\n",
    "    \n",
    "    df_merged_by_id['grupo_risco_1'] = ((df_merged_by_id['pol_usage']=='Professional')&\n",
    "                                        (df_merged_by_id['pol_coverage']=='Max')).astype(int)\n",
    "    \n",
    "    df_merged_by_id['grupo_risco_2'] = ((df_merged_by_id['pol_usage']=='WorkPrivate')&\n",
    "                                        (df_merged_by_id['pol_coverage']=='Min')).astype(int)\n",
    "    \n",
    "    df_merged_by_id['grupo_risco_3'] = df_merged_by_id['vh_make_model'].isin(carros_maior_prob).astype(int)\n",
    "    \n",
    "    df_merged_by_id['grupo_risco_4'] = df_merged_by_id['vh_make_model'].isin(carros_menor_prob).astype(int)\n",
    "    \n",
    "    df_merged_by_id['grupo_risco_5'] = ((df_merged_by_id['vh_age']>15) ).astype(int)\n",
    "    \n",
    "    df_merged_by_id['grupo_risco_6'] = ((df_merged_by_id['vh_age']>0)&\n",
    "                                        (df_merged_by_id['vh_age']<6)).astype(int)\n",
    "    \n",
    "    df_merged_by_id['vh_value_risk'] = df_merged_by_id['vh_value']/df_merged_by_id['pol_coverage_2']\n",
    "    \n",
    "    features = ['pol_coverage_2','drv_age_lic1', 'vh_weight',\n",
    "                'fuel_Gasoline','drv_age1','vh_speed','vh_age',\n",
    "                'vh_value','population','grupo_risco_1',\n",
    "                'grupo_risco_2','grupo_risco_3','grupo_risco_4',\n",
    "                'grupo_risco_5','grupo_risco_6','vh_value_risk']\n",
    "    \n",
    "    if year ==1:  \n",
    "        df_1 = df_merged_by_id.rename(columns= {'claim_amount_1':'y'})\n",
    "        Xraw = df_1[features].copy()\n",
    "        yraw = (df_1['y']>0).astype(int)\n",
    "        Xraw.fillna(0,inplace = True)\n",
    "    elif year==2:\n",
    "        df_year = df_merged_by_id.rename(columns= {'claim_amount_2':'y'})\n",
    "        Xraw = df_year[features+['claim_amount_1','pol_no_claims_discount_1']].copy()\n",
    "        yraw = (df_year['y']>0).astype(int)\n",
    "        Xraw.fillna(0,inplace = True)\n",
    "    elif year==3:\n",
    "        df_year = df_merged_by_id.rename(columns= {'claim_amount_3':'y'})\n",
    "        Xraw = df_year[features+['claim_amount_1','pol_no_claims_discount_1','claim_amount_2','pol_no_claims_discount_2']].copy()\n",
    "        yraw = (df_year['y']>0).astype(int)\n",
    "        Xraw.fillna(0,inplace = True)\n",
    "    else:\n",
    "        df_year = df_merged_by_id.rename(columns= {'claim_amount_4':'y'})\n",
    "        Xraw = df_year[features+['claim_amount_1','pol_no_claims_discount_1','claim_amount_2',\n",
    "                                 'pol_no_claims_discount_2','claim_amount_3','pol_no_claims_discount_3']].copy()\n",
    "        yraw = (df_year['y']>0).astype(int)\n",
    "        Xraw.fillna(0,inplace = True)\n",
    "    \n",
    "    return Xraw,yraw"
   ]
  },
  {
   "cell_type": "code",
   "execution_count": 8,
   "metadata": {},
   "outputs": [],
   "source": [
    "def concat_by_id(df):\n",
    "    df_ano_1 = df[df['year']==1]\n",
    "    df_ano_1 = df_ano_1.rename(columns={'claim_amount':'claim_amount_1','pol_no_claims_discount':'pol_no_claims_discount_1'})\n",
    "\n",
    "    df_ano_2 = df[df['year']==2]\n",
    "    df_ano_2 = df_ano_2.rename(columns={'claim_amount':'claim_amount_2','pol_no_claims_discount':'pol_no_claims_discount_2'})\n",
    "\n",
    "    df_ano_3 = df[df['year']==3]\n",
    "    df_ano_3 = df_ano_3.rename(columns={'claim_amount':'claim_amount_3','pol_no_claims_discount':'pol_no_claims_discount_3'})\n",
    "\n",
    "    df_ano_4 = df[df['year']==4]\n",
    "    df_ano_4 = df_ano_4.rename(columns={'claim_amount':'claim_amount_4'})\n",
    "    \n",
    "    df_ano_4['claim_amount_4'] = (df_ano_4['claim_amount_4']>0).astype(int)\n",
    "\n",
    "    dfs = [df_ano_1[['id_policy','claim_amount_1','pol_no_claims_discount_1']],\n",
    "           df_ano_2[['id_policy','claim_amount_2','pol_no_claims_discount_2']],\n",
    "           df_ano_3[['id_policy','claim_amount_3','pol_no_claims_discount_3']],\n",
    "           df_ano_4[['id_policy','claim_amount_4']]]\n",
    "    \n",
    "    colunas = list(df_ano_1.columns)\n",
    "    df_merged = reduce(lambda  left,right: pd.merge(left,right,on=['id_policy'],\n",
    "                                            how='inner'), dfs)\n",
    "\n",
    "    dfs = [df_ano_1[['id_policy', 'year', 'pol_coverage',\n",
    "       'pol_duration', 'pol_sit_duration', 'pol_pay_freq', 'pol_payd',\n",
    "       'pol_usage', 'drv_sex1', 'drv_age1', 'drv_age_lic1', 'drv_drv2',\n",
    "       'drv_sex2', 'drv_age2', 'drv_age_lic2', 'vh_make_model', 'vh_age',\n",
    "       'vh_fuel', 'vh_type', 'vh_speed', 'vh_value', 'vh_weight', 'population',\n",
    "       'town_surface_area']],df_merged]\n",
    "    df_merged = reduce(lambda  left,right: pd.merge(left,right,on=['id_policy'],\n",
    "                                            how='inner'), dfs)\n",
    "    return df_merged"
   ]
  },
  {
   "cell_type": "code",
   "execution_count": 9,
   "metadata": {},
   "outputs": [],
   "source": [
    "def carros_prob(df):\n",
    "    filtro =  df['vh_make_model'].value_counts()\n",
    "    modelos = filtro[filtro>=200]\n",
    "    df_modelos = df[df['vh_make_model'].isin(modelos.index)]\n",
    "\n",
    "    contagem_veiculos = df_modelos.groupby('vh_make_model')['id_policy'].count()\n",
    "    contagem_claim_veiculos = df_modelos[ df['claim_amount'] > 0 ].groupby('vh_make_model')['id_policy'].count()\n",
    "\n",
    "    prob_claim_veiculos = (contagem_claim_veiculos / contagem_veiculos).fillna(0)\n",
    "    carros_maior_prob = list(prob_claim_veiculos[prob_claim_veiculos>0.15].index)\n",
    "    carros_menor_prob = list(prob_claim_veiculos[prob_claim_veiculos<0.05].index)\n",
    "    return carros_maior_prob,carros_menor_prob"
   ]
  },
  {
   "cell_type": "markdown",
   "metadata": {},
   "source": [
    "### Outras funções"
   ]
  },
  {
   "cell_type": "code",
   "execution_count": 10,
   "metadata": {},
   "outputs": [],
   "source": [
    "def fit_model(Xraw,yraw):\n",
    "    w = {0:1,1:8.5}\n",
    "    model = RandomForestClassifier(n_estimators=1000,max_depth=5,verbose=1,class_weight=w,random_state=0)\n",
    "    model.fit(X_train,y_train)\n",
    "    return model"
   ]
  },
  {
   "cell_type": "code",
   "execution_count": 11,
   "metadata": {},
   "outputs": [],
   "source": [
    "def predict_claim(model,Xraw):\n",
    "    y_pred = model.predict(Xraw)\n",
    "    return y_pred"
   ]
  },
  {
   "cell_type": "code",
   "execution_count": 12,
   "metadata": {},
   "outputs": [],
   "source": [
    "def model_metrics(model,y_pred,X_test,y_test):\n",
    "    score = model.score(X_test, y_test)\n",
    "    matriz = confusion_matrix(y_pred,y_test,normalize='true')\n",
    "    \n",
    "    print(score)\n",
    "    print(matriz)\n",
    "    print(list(zip(Xraw.columns,model.feature_importances_)))"
   ]
  },
  {
   "cell_type": "markdown",
   "metadata": {},
   "source": [
    "### Modelo para prever 0 claim"
   ]
  },
  {
   "cell_type": "markdown",
   "metadata": {},
   "source": [
    "### Previsão ano 1"
   ]
  },
  {
   "cell_type": "code",
   "execution_count": 26,
   "metadata": {},
   "outputs": [
    {
     "name": "stderr",
     "output_type": "stream",
     "text": [
      "<ipython-input-9-abdc0de8caab>:7: UserWarning: Boolean Series key will be reindexed to match DataFrame index.\n",
      "  contagem_claim_veiculos = df_modelos[ df['claim_amount'] > 0 ].groupby('vh_make_model')['id_policy'].count()\n"
     ]
    },
    {
     "ename": "KeyError",
     "evalue": "\"['fuel_Gasoline'] not in index\"",
     "output_type": "error",
     "traceback": [
      "\u001b[1;31m---------------------------------------------------------------------------\u001b[0m",
      "\u001b[1;31mKeyError\u001b[0m                                  Traceback (most recent call last)",
      "\u001b[1;32m<ipython-input-26-a4ed89f665c2>\u001b[0m in \u001b[0;36m<module>\u001b[1;34m\u001b[0m\n\u001b[1;32m----> 1\u001b[1;33m \u001b[0mXraw_1\u001b[0m\u001b[1;33m,\u001b[0m\u001b[0myraw_1\u001b[0m \u001b[1;33m=\u001b[0m \u001b[0mpreprocessing\u001b[0m\u001b[1;33m(\u001b[0m\u001b[0mXraw\u001b[0m\u001b[1;33m,\u001b[0m\u001b[0myraw\u001b[0m\u001b[1;33m,\u001b[0m\u001b[1;36m1\u001b[0m\u001b[1;33m)\u001b[0m\u001b[1;33m\u001b[0m\u001b[1;33m\u001b[0m\u001b[0m\n\u001b[0m\u001b[0;32m      2\u001b[0m \u001b[0mX_train\u001b[0m\u001b[1;33m,\u001b[0m \u001b[0mX_test\u001b[0m\u001b[1;33m,\u001b[0m \u001b[0my_train\u001b[0m\u001b[1;33m,\u001b[0m \u001b[0my_test\u001b[0m \u001b[1;33m=\u001b[0m \u001b[0mtrain_test_split\u001b[0m\u001b[1;33m(\u001b[0m\u001b[0mXraw_1\u001b[0m\u001b[1;33m,\u001b[0m \u001b[0myraw_1\u001b[0m\u001b[1;33m,\u001b[0m \u001b[0mtest_size\u001b[0m\u001b[1;33m=\u001b[0m\u001b[1;36m0.33\u001b[0m\u001b[1;33m,\u001b[0m\u001b[0mrandom_state\u001b[0m\u001b[1;33m=\u001b[0m\u001b[1;36m0\u001b[0m\u001b[1;33m)\u001b[0m\u001b[1;33m\u001b[0m\u001b[1;33m\u001b[0m\u001b[0m\n\u001b[0;32m      3\u001b[0m \u001b[0mmodel\u001b[0m \u001b[1;33m=\u001b[0m \u001b[0mfit_model\u001b[0m\u001b[1;33m(\u001b[0m\u001b[0mX_train\u001b[0m\u001b[1;33m,\u001b[0m\u001b[0my_train\u001b[0m\u001b[1;33m)\u001b[0m\u001b[1;33m\u001b[0m\u001b[1;33m\u001b[0m\u001b[0m\n\u001b[0;32m      4\u001b[0m \u001b[0my_pred_1\u001b[0m \u001b[1;33m=\u001b[0m \u001b[0mpredict_claim\u001b[0m\u001b[1;33m(\u001b[0m\u001b[0mmodel\u001b[0m\u001b[1;33m,\u001b[0m\u001b[0mXraw_1\u001b[0m\u001b[1;33m)\u001b[0m\u001b[1;33m\u001b[0m\u001b[1;33m\u001b[0m\u001b[0m\n\u001b[0;32m      5\u001b[0m \u001b[0mmodel_metrics\u001b[0m\u001b[1;33m(\u001b[0m\u001b[0my_pred_1\u001b[0m\u001b[1;33m,\u001b[0m\u001b[0mXraw_1\u001b[0m\u001b[1;33m,\u001b[0m\u001b[0myraw_1\u001b[0m\u001b[1;33m)\u001b[0m\u001b[1;33m\u001b[0m\u001b[1;33m\u001b[0m\u001b[0m\n",
      "\u001b[1;32m<ipython-input-17-45c888228757>\u001b[0m in \u001b[0;36mpreprocessing\u001b[1;34m(Xraw, yraw, year)\u001b[0m\n\u001b[0;32m     35\u001b[0m     \u001b[1;32mif\u001b[0m \u001b[0myear\u001b[0m \u001b[1;33m==\u001b[0m\u001b[1;36m1\u001b[0m\u001b[1;33m:\u001b[0m\u001b[1;33m\u001b[0m\u001b[1;33m\u001b[0m\u001b[0m\n\u001b[0;32m     36\u001b[0m         \u001b[0mdf_1\u001b[0m \u001b[1;33m=\u001b[0m \u001b[0mdf_merged_by_id\u001b[0m\u001b[1;33m.\u001b[0m\u001b[0mrename\u001b[0m\u001b[1;33m(\u001b[0m\u001b[0mcolumns\u001b[0m\u001b[1;33m=\u001b[0m \u001b[1;33m{\u001b[0m\u001b[1;34m'claim_amount_1'\u001b[0m\u001b[1;33m:\u001b[0m\u001b[1;34m'y'\u001b[0m\u001b[1;33m}\u001b[0m\u001b[1;33m)\u001b[0m\u001b[1;33m\u001b[0m\u001b[1;33m\u001b[0m\u001b[0m\n\u001b[1;32m---> 37\u001b[1;33m         \u001b[0mXraw\u001b[0m \u001b[1;33m=\u001b[0m \u001b[0mdf_1\u001b[0m\u001b[1;33m[\u001b[0m\u001b[0mfeatures\u001b[0m\u001b[1;33m]\u001b[0m\u001b[1;33m.\u001b[0m\u001b[0mcopy\u001b[0m\u001b[1;33m(\u001b[0m\u001b[1;33m)\u001b[0m\u001b[1;33m\u001b[0m\u001b[1;33m\u001b[0m\u001b[0m\n\u001b[0m\u001b[0;32m     38\u001b[0m         \u001b[0myraw\u001b[0m \u001b[1;33m=\u001b[0m \u001b[1;33m(\u001b[0m\u001b[0mdf_1\u001b[0m\u001b[1;33m[\u001b[0m\u001b[1;34m'y'\u001b[0m\u001b[1;33m]\u001b[0m\u001b[1;33m>\u001b[0m\u001b[1;36m0\u001b[0m\u001b[1;33m)\u001b[0m\u001b[1;33m.\u001b[0m\u001b[0mastype\u001b[0m\u001b[1;33m(\u001b[0m\u001b[0mint\u001b[0m\u001b[1;33m)\u001b[0m\u001b[1;33m\u001b[0m\u001b[1;33m\u001b[0m\u001b[0m\n\u001b[0;32m     39\u001b[0m         \u001b[0mXraw\u001b[0m\u001b[1;33m.\u001b[0m\u001b[0mfillna\u001b[0m\u001b[1;33m(\u001b[0m\u001b[1;36m0\u001b[0m\u001b[1;33m,\u001b[0m\u001b[0minplace\u001b[0m \u001b[1;33m=\u001b[0m \u001b[1;32mTrue\u001b[0m\u001b[1;33m)\u001b[0m\u001b[1;33m\u001b[0m\u001b[1;33m\u001b[0m\u001b[0m\n",
      "\u001b[1;32mC:\\ProgramData\\Anaconda3\\lib\\site-packages\\pandas\\core\\frame.py\u001b[0m in \u001b[0;36m__getitem__\u001b[1;34m(self, key)\u001b[0m\n\u001b[0;32m   2804\u001b[0m             \u001b[1;32mif\u001b[0m \u001b[0mis_iterator\u001b[0m\u001b[1;33m(\u001b[0m\u001b[0mkey\u001b[0m\u001b[1;33m)\u001b[0m\u001b[1;33m:\u001b[0m\u001b[1;33m\u001b[0m\u001b[1;33m\u001b[0m\u001b[0m\n\u001b[0;32m   2805\u001b[0m                 \u001b[0mkey\u001b[0m \u001b[1;33m=\u001b[0m \u001b[0mlist\u001b[0m\u001b[1;33m(\u001b[0m\u001b[0mkey\u001b[0m\u001b[1;33m)\u001b[0m\u001b[1;33m\u001b[0m\u001b[1;33m\u001b[0m\u001b[0m\n\u001b[1;32m-> 2806\u001b[1;33m             \u001b[0mindexer\u001b[0m \u001b[1;33m=\u001b[0m \u001b[0mself\u001b[0m\u001b[1;33m.\u001b[0m\u001b[0mloc\u001b[0m\u001b[1;33m.\u001b[0m\u001b[0m_get_listlike_indexer\u001b[0m\u001b[1;33m(\u001b[0m\u001b[0mkey\u001b[0m\u001b[1;33m,\u001b[0m \u001b[0maxis\u001b[0m\u001b[1;33m=\u001b[0m\u001b[1;36m1\u001b[0m\u001b[1;33m,\u001b[0m \u001b[0mraise_missing\u001b[0m\u001b[1;33m=\u001b[0m\u001b[1;32mTrue\u001b[0m\u001b[1;33m)\u001b[0m\u001b[1;33m[\u001b[0m\u001b[1;36m1\u001b[0m\u001b[1;33m]\u001b[0m\u001b[1;33m\u001b[0m\u001b[1;33m\u001b[0m\u001b[0m\n\u001b[0m\u001b[0;32m   2807\u001b[0m \u001b[1;33m\u001b[0m\u001b[0m\n\u001b[0;32m   2808\u001b[0m         \u001b[1;31m# take() does not accept boolean indexers\u001b[0m\u001b[1;33m\u001b[0m\u001b[1;33m\u001b[0m\u001b[1;33m\u001b[0m\u001b[0m\n",
      "\u001b[1;32mC:\\ProgramData\\Anaconda3\\lib\\site-packages\\pandas\\core\\indexing.py\u001b[0m in \u001b[0;36m_get_listlike_indexer\u001b[1;34m(self, key, axis, raise_missing)\u001b[0m\n\u001b[0;32m   1550\u001b[0m             \u001b[0mkeyarr\u001b[0m\u001b[1;33m,\u001b[0m \u001b[0mindexer\u001b[0m\u001b[1;33m,\u001b[0m \u001b[0mnew_indexer\u001b[0m \u001b[1;33m=\u001b[0m \u001b[0max\u001b[0m\u001b[1;33m.\u001b[0m\u001b[0m_reindex_non_unique\u001b[0m\u001b[1;33m(\u001b[0m\u001b[0mkeyarr\u001b[0m\u001b[1;33m)\u001b[0m\u001b[1;33m\u001b[0m\u001b[1;33m\u001b[0m\u001b[0m\n\u001b[0;32m   1551\u001b[0m \u001b[1;33m\u001b[0m\u001b[0m\n\u001b[1;32m-> 1552\u001b[1;33m         self._validate_read_indexer(\n\u001b[0m\u001b[0;32m   1553\u001b[0m             \u001b[0mkeyarr\u001b[0m\u001b[1;33m,\u001b[0m \u001b[0mindexer\u001b[0m\u001b[1;33m,\u001b[0m \u001b[0mo\u001b[0m\u001b[1;33m.\u001b[0m\u001b[0m_get_axis_number\u001b[0m\u001b[1;33m(\u001b[0m\u001b[0maxis\u001b[0m\u001b[1;33m)\u001b[0m\u001b[1;33m,\u001b[0m \u001b[0mraise_missing\u001b[0m\u001b[1;33m=\u001b[0m\u001b[0mraise_missing\u001b[0m\u001b[1;33m\u001b[0m\u001b[1;33m\u001b[0m\u001b[0m\n\u001b[0;32m   1554\u001b[0m         )\n",
      "\u001b[1;32mC:\\ProgramData\\Anaconda3\\lib\\site-packages\\pandas\\core\\indexing.py\u001b[0m in \u001b[0;36m_validate_read_indexer\u001b[1;34m(self, key, indexer, axis, raise_missing)\u001b[0m\n\u001b[0;32m   1644\u001b[0m             \u001b[1;32mif\u001b[0m \u001b[1;32mnot\u001b[0m \u001b[1;33m(\u001b[0m\u001b[0mself\u001b[0m\u001b[1;33m.\u001b[0m\u001b[0mname\u001b[0m \u001b[1;33m==\u001b[0m \u001b[1;34m\"loc\"\u001b[0m \u001b[1;32mand\u001b[0m \u001b[1;32mnot\u001b[0m \u001b[0mraise_missing\u001b[0m\u001b[1;33m)\u001b[0m\u001b[1;33m:\u001b[0m\u001b[1;33m\u001b[0m\u001b[1;33m\u001b[0m\u001b[0m\n\u001b[0;32m   1645\u001b[0m                 \u001b[0mnot_found\u001b[0m \u001b[1;33m=\u001b[0m \u001b[0mlist\u001b[0m\u001b[1;33m(\u001b[0m\u001b[0mset\u001b[0m\u001b[1;33m(\u001b[0m\u001b[0mkey\u001b[0m\u001b[1;33m)\u001b[0m \u001b[1;33m-\u001b[0m \u001b[0mset\u001b[0m\u001b[1;33m(\u001b[0m\u001b[0max\u001b[0m\u001b[1;33m)\u001b[0m\u001b[1;33m)\u001b[0m\u001b[1;33m\u001b[0m\u001b[1;33m\u001b[0m\u001b[0m\n\u001b[1;32m-> 1646\u001b[1;33m                 \u001b[1;32mraise\u001b[0m \u001b[0mKeyError\u001b[0m\u001b[1;33m(\u001b[0m\u001b[1;34mf\"{not_found} not in index\"\u001b[0m\u001b[1;33m)\u001b[0m\u001b[1;33m\u001b[0m\u001b[1;33m\u001b[0m\u001b[0m\n\u001b[0m\u001b[0;32m   1647\u001b[0m \u001b[1;33m\u001b[0m\u001b[0m\n\u001b[0;32m   1648\u001b[0m             \u001b[1;31m# we skip the warning on Categorical/Interval\u001b[0m\u001b[1;33m\u001b[0m\u001b[1;33m\u001b[0m\u001b[1;33m\u001b[0m\u001b[0m\n",
      "\u001b[1;31mKeyError\u001b[0m: \"['fuel_Gasoline'] not in index\""
     ]
    }
   ],
   "source": [
    "Xraw_1,yraw_1 = preprocessing(Xraw,yraw,1)\n",
    "X_train, X_test, y_train, y_test = train_test_split(Xraw_1, yraw_1, test_size=0.33,random_state=0)\n",
    "model = fit_model(X_train,y_train)\n",
    "y_pred_1 = predict_claim(model,Xraw_1)\n",
    "model_metrics(y_pred_1,Xraw_1,yraw_1)\n",
    "print(model)"
   ]
  },
  {
   "cell_type": "markdown",
   "metadata": {},
   "source": [
    "#### Random Forest"
   ]
  },
  {
   "cell_type": "code",
   "execution_count": 36,
   "metadata": {},
   "outputs": [
    {
     "name": "stderr",
     "output_type": "stream",
     "text": [
      "<ipython-input-6-abdc0de8caab>:7: UserWarning: Boolean Series key will be reindexed to match DataFrame index.\n",
      "  contagem_claim_veiculos = df_modelos[ df['claim_amount'] > 0 ].groupby('vh_make_model')['id_policy'].count()\n"
     ]
    }
   ],
   "source": [
    "X_ano1,y_ano1 = preprocessing(Xraw,yraw,1)"
   ]
  },
  {
   "cell_type": "code",
   "execution_count": 37,
   "metadata": {},
   "outputs": [],
   "source": [
    "X_train, X_test, y_train, y_test = train_test_split(X_ano1, y_ano1, test_size=0.33,random_state=0)"
   ]
  },
  {
   "cell_type": "code",
   "execution_count": 38,
   "metadata": {},
   "outputs": [],
   "source": [
    "w = {0:1,1:8.5}"
   ]
  },
  {
   "cell_type": "code",
   "execution_count": 39,
   "metadata": {},
   "outputs": [],
   "source": [
    "clf_rf = RandomForestClassifier(n_estimators=1000,max_depth=5,verbose=1,class_weight=w,random_state=0)"
   ]
  },
  {
   "cell_type": "code",
   "execution_count": 40,
   "metadata": {},
   "outputs": [
    {
     "name": "stderr",
     "output_type": "stream",
     "text": [
      "[Parallel(n_jobs=1)]: Using backend SequentialBackend with 1 concurrent workers.\n",
      "[Parallel(n_jobs=1)]: Done 1000 out of 1000 | elapsed:   12.7s finished\n"
     ]
    },
    {
     "data": {
      "text/plain": [
       "RandomForestClassifier(class_weight={0: 1, 1: 8.5}, max_depth=5,\n",
       "                       n_estimators=1000, random_state=0, verbose=1)"
      ]
     },
     "execution_count": 40,
     "metadata": {},
     "output_type": "execute_result"
    }
   ],
   "source": [
    "clf_rf.fit(X_train,y_train)"
   ]
  },
  {
   "cell_type": "code",
   "execution_count": 41,
   "metadata": {},
   "outputs": [
    {
     "name": "stderr",
     "output_type": "stream",
     "text": [
      "[Parallel(n_jobs=1)]: Using backend SequentialBackend with 1 concurrent workers.\n",
      "[Parallel(n_jobs=1)]: Done 1000 out of 1000 | elapsed:    0.9s finished\n"
     ]
    },
    {
     "data": {
      "text/plain": [
       "0.4344193817878028"
      ]
     },
     "execution_count": 41,
     "metadata": {},
     "output_type": "execute_result"
    }
   ],
   "source": [
    "clf_rf.score(X_test,y_test)"
   ]
  },
  {
   "cell_type": "code",
   "execution_count": 42,
   "metadata": {},
   "outputs": [
    {
     "name": "stderr",
     "output_type": "stream",
     "text": [
      "[Parallel(n_jobs=1)]: Using backend SequentialBackend with 1 concurrent workers.\n",
      "[Parallel(n_jobs=1)]: Done 1000 out of 1000 | elapsed:    0.9s finished\n"
     ]
    },
    {
     "data": {
      "text/plain": [
       "array([[0.39133715, 0.60866285],\n",
       "       [0.23095703, 0.76904297]])"
      ]
     },
     "execution_count": 42,
     "metadata": {},
     "output_type": "execute_result"
    }
   ],
   "source": [
    "y_pred = clf_rf.predict(X_test) \n",
    "confusion_matrix(y_test,y_pred,normalize='true')"
   ]
  },
  {
   "cell_type": "code",
   "execution_count": 97,
   "metadata": {},
   "outputs": [
    {
     "name": "stdout",
     "output_type": "stream",
     "text": [
      "[('pol_coverage_2', 0.16316195418776283), ('drv_age_lic1', 0.020538858526800083), ('vh_weight', 0.038473075966927964), ('fuel_Gasoline', 0.05499911801740815), ('drv_age1', 0.018925267328140347), ('vh_speed', 0.021912211330604024), ('vh_age', 0.21890811480937994), ('vh_value', 0.05309412925972281), ('population', 0.016056176694591095), ('grupo_risco_1', 0.006995059849966688), ('grupo_risco_2', 0.05261644449291872), ('grupo_risco_3', 0.000714736424930222), ('grupo_risco_4', 0.008475093481201883), ('grupo_risco_5', 0.08876962671965927), ('grupo_risco_6', 0.05422535453885805), ('vh_value_risk', 0.04559764576634331)]\n"
     ]
    }
   ],
   "source": [
    "print(list(zip(X_ano1.columns,clf_rf.feature_importances_)))"
   ]
  },
  {
   "cell_type": "markdown",
   "metadata": {},
   "source": [
    "### Previsão ano 2"
   ]
  },
  {
   "cell_type": "code",
   "execution_count": 65,
   "metadata": {},
   "outputs": [
    {
     "name": "stderr",
     "output_type": "stream",
     "text": [
      "<ipython-input-6-abdc0de8caab>:7: UserWarning: Boolean Series key will be reindexed to match DataFrame index.\n",
      "  contagem_claim_veiculos = df_modelos[ df['claim_amount'] > 0 ].groupby('vh_make_model')['id_policy'].count()\n",
      "[Parallel(n_jobs=1)]: Using backend SequentialBackend with 1 concurrent workers.\n",
      "[Parallel(n_jobs=1)]: Done 1000 out of 1000 | elapsed:   13.7s finished\n",
      "[Parallel(n_jobs=1)]: Using backend SequentialBackend with 1 concurrent workers.\n",
      "[Parallel(n_jobs=1)]: Done 1000 out of 1000 | elapsed:   12.9s finished\n",
      "[Parallel(n_jobs=1)]: Using backend SequentialBackend with 1 concurrent workers.\n",
      "[Parallel(n_jobs=1)]: Done 1000 out of 1000 | elapsed:    3.0s finished\n",
      "[Parallel(n_jobs=1)]: Using backend SequentialBackend with 1 concurrent workers.\n",
      "[Parallel(n_jobs=1)]: Done 1000 out of 1000 | elapsed:   12.5s finished\n",
      "[Parallel(n_jobs=1)]: Using backend SequentialBackend with 1 concurrent workers.\n",
      "[Parallel(n_jobs=1)]: Done 1000 out of 1000 | elapsed:    0.9s finished\n",
      "[Parallel(n_jobs=1)]: Using backend SequentialBackend with 1 concurrent workers.\n"
     ]
    },
    {
     "name": "stdout",
     "output_type": "stream",
     "text": [
      "0.5254803675856308\n",
      "[[0.50725181 0.49274819]\n",
      " [0.32567637 0.67432363]]\n"
     ]
    },
    {
     "name": "stderr",
     "output_type": "stream",
     "text": [
      "[Parallel(n_jobs=1)]: Done 1000 out of 1000 | elapsed:    0.9s finished\n"
     ]
    },
    {
     "data": {
      "text/plain": [
       "[('pol_coverage_2', 0.21157688243222655),\n",
       " ('drv_age_lic1', 0.023175845311409097),\n",
       " ('vh_weight', 0.0577691477680627),\n",
       " ('fuel_Gasoline', 0.06846370750516598),\n",
       " ('drv_age1', 0.023683542716694976),\n",
       " ('vh_speed', 0.024892293143061864),\n",
       " ('vh_age', 0.1902134072265708),\n",
       " ('vh_value', 0.05024756033225276),\n",
       " ('population', 0.017298186324209368),\n",
       " ('grupo_risco_1', 0.014005075714456519),\n",
       " ('grupo_risco_2', 0.07995227161023928),\n",
       " ('grupo_risco_3', 0.00741257210214106),\n",
       " ('grupo_risco_4', 0.015957033454688706),\n",
       " ('grupo_risco_5', 0.03988114996519799),\n",
       " ('grupo_risco_6', 0.05495864500670594),\n",
       " ('vh_value_risk', 0.044259392381788304),\n",
       " ('claim_amount_1', 0.05516661120355085),\n",
       " ('pol_no_claims_discount_1', 0.021086675801577213)]"
      ]
     },
     "execution_count": 65,
     "metadata": {},
     "output_type": "execute_result"
    }
   ],
   "source": [
    "Xraw_2,yraw_2 = preprocessing(Xraw,yraw,2)\n",
    "fit_model(Xraw_2,yraw_2)\n",
    "y_pred_2 = predict_claim(Xraw_2,yraw_2)\n",
    "model_metrics(y_pred_2,Xraw_2,yraw_2)"
   ]
  },
  {
   "cell_type": "markdown",
   "metadata": {},
   "source": [
    "#### Random Forest"
   ]
  },
  {
   "cell_type": "code",
   "execution_count": 57,
   "metadata": {},
   "outputs": [
    {
     "name": "stderr",
     "output_type": "stream",
     "text": [
      "<ipython-input-6-abdc0de8caab>:7: UserWarning: Boolean Series key will be reindexed to match DataFrame index.\n",
      "  contagem_claim_veiculos = df_modelos[ df['claim_amount'] > 0 ].groupby('vh_make_model')['id_policy'].count()\n"
     ]
    }
   ],
   "source": [
    "X_ano2,y_ano2 = preprocessing(Xraw,yraw,2)"
   ]
  },
  {
   "cell_type": "code",
   "execution_count": 58,
   "metadata": {},
   "outputs": [],
   "source": [
    "X_train, X_test, y_train, y_test = train_test_split(X_ano2, y_ano2, test_size=0.33,random_state=0)"
   ]
  },
  {
   "cell_type": "code",
   "execution_count": 59,
   "metadata": {},
   "outputs": [],
   "source": [
    "w = {0:1,1:8.5}"
   ]
  },
  {
   "cell_type": "code",
   "execution_count": 60,
   "metadata": {},
   "outputs": [],
   "source": [
    "clf_rf = RandomForestClassifier(n_estimators=1000,max_depth=5,verbose=1,class_weight=w,random_state=0)"
   ]
  },
  {
   "cell_type": "code",
   "execution_count": 61,
   "metadata": {},
   "outputs": [
    {
     "name": "stderr",
     "output_type": "stream",
     "text": [
      "[Parallel(n_jobs=1)]: Using backend SequentialBackend with 1 concurrent workers.\n",
      "[Parallel(n_jobs=1)]: Done 1000 out of 1000 | elapsed:   12.6s finished\n"
     ]
    },
    {
     "data": {
      "text/plain": [
       "RandomForestClassifier(class_weight={0: 1, 1: 8.5}, max_depth=5,\n",
       "                       n_estimators=1000, random_state=0, verbose=1)"
      ]
     },
     "execution_count": 61,
     "metadata": {},
     "output_type": "execute_result"
    }
   ],
   "source": [
    "clf_rf.fit(X_train,y_train)"
   ]
  },
  {
   "cell_type": "code",
   "execution_count": 62,
   "metadata": {},
   "outputs": [
    {
     "name": "stderr",
     "output_type": "stream",
     "text": [
      "[Parallel(n_jobs=1)]: Using backend SequentialBackend with 1 concurrent workers.\n",
      "[Parallel(n_jobs=1)]: Done 1000 out of 1000 | elapsed:    0.9s finished\n"
     ]
    },
    {
     "data": {
      "text/plain": [
       "0.5254803675856308"
      ]
     },
     "execution_count": 62,
     "metadata": {},
     "output_type": "execute_result"
    }
   ],
   "source": [
    "clf_rf.score(X_test,y_test)"
   ]
  },
  {
   "cell_type": "code",
   "execution_count": 63,
   "metadata": {},
   "outputs": [
    {
     "name": "stderr",
     "output_type": "stream",
     "text": [
      "[Parallel(n_jobs=1)]: Using backend SequentialBackend with 1 concurrent workers.\n",
      "[Parallel(n_jobs=1)]: Done 1000 out of 1000 | elapsed:    1.9s finished\n"
     ]
    },
    {
     "data": {
      "text/plain": [
       "array([[0.51038402, 0.48961598],\n",
       "       [0.2963627 , 0.7036373 ]])"
      ]
     },
     "execution_count": 63,
     "metadata": {},
     "output_type": "execute_result"
    }
   ],
   "source": [
    "y_pred = clf_rf.predict(X_train) \n",
    "confusion_matrix(y_train,y_pred,normalize='true')"
   ]
  },
  {
   "cell_type": "code",
   "execution_count": 64,
   "metadata": {},
   "outputs": [
    {
     "data": {
      "text/plain": [
       "[('pol_coverage_2', 0.21157688243222655),\n",
       " ('drv_age_lic1', 0.023175845311409097),\n",
       " ('vh_weight', 0.0577691477680627),\n",
       " ('fuel_Gasoline', 0.06846370750516598),\n",
       " ('drv_age1', 0.023683542716694976),\n",
       " ('vh_speed', 0.024892293143061864),\n",
       " ('vh_age', 0.1902134072265708),\n",
       " ('vh_value', 0.05024756033225276),\n",
       " ('population', 0.017298186324209368),\n",
       " ('grupo_risco_1', 0.014005075714456519),\n",
       " ('grupo_risco_2', 0.07995227161023928),\n",
       " ('grupo_risco_3', 0.00741257210214106),\n",
       " ('grupo_risco_4', 0.015957033454688706),\n",
       " ('grupo_risco_5', 0.03988114996519799),\n",
       " ('grupo_risco_6', 0.05495864500670594),\n",
       " ('vh_value_risk', 0.044259392381788304),\n",
       " ('claim_amount_1', 0.05516661120355085),\n",
       " ('pol_no_claims_discount_1', 0.021086675801577213)]"
      ]
     },
     "execution_count": 64,
     "metadata": {},
     "output_type": "execute_result"
    }
   ],
   "source": [
    "list(zip(X_ano2.columns,clf_rf.feature_importances_))"
   ]
  },
  {
   "cell_type": "markdown",
   "metadata": {},
   "source": [
    "### Previsão ano 3"
   ]
  },
  {
   "cell_type": "code",
   "execution_count": 67,
   "metadata": {},
   "outputs": [
    {
     "name": "stderr",
     "output_type": "stream",
     "text": [
      "<ipython-input-6-abdc0de8caab>:7: UserWarning: Boolean Series key will be reindexed to match DataFrame index.\n",
      "  contagem_claim_veiculos = df_modelos[ df['claim_amount'] > 0 ].groupby('vh_make_model')['id_policy'].count()\n",
      "[Parallel(n_jobs=1)]: Using backend SequentialBackend with 1 concurrent workers.\n",
      "[Parallel(n_jobs=1)]: Done 1000 out of 1000 | elapsed:   12.7s finished\n",
      "[Parallel(n_jobs=1)]: Using backend SequentialBackend with 1 concurrent workers.\n",
      "[Parallel(n_jobs=1)]: Done 1000 out of 1000 | elapsed:   13.1s finished\n",
      "[Parallel(n_jobs=1)]: Using backend SequentialBackend with 1 concurrent workers.\n",
      "[Parallel(n_jobs=1)]: Done 1000 out of 1000 | elapsed:    2.8s finished\n",
      "[Parallel(n_jobs=1)]: Using backend SequentialBackend with 1 concurrent workers.\n",
      "[Parallel(n_jobs=1)]: Done 1000 out of 1000 | elapsed:   13.1s finished\n",
      "[Parallel(n_jobs=1)]: Using backend SequentialBackend with 1 concurrent workers.\n",
      "[Parallel(n_jobs=1)]: Done 1000 out of 1000 | elapsed:    0.9s finished\n",
      "[Parallel(n_jobs=1)]: Using backend SequentialBackend with 1 concurrent workers.\n"
     ]
    },
    {
     "name": "stdout",
     "output_type": "stream",
     "text": [
      "0.5065998329156224\n",
      "[[0.48134375 0.51865625]\n",
      " [0.26963207 0.73036793]]\n"
     ]
    },
    {
     "name": "stderr",
     "output_type": "stream",
     "text": [
      "[Parallel(n_jobs=1)]: Done 1000 out of 1000 | elapsed:    0.9s finished\n"
     ]
    },
    {
     "data": {
      "text/plain": [
       "[('pol_coverage_2', 0.16026026316693007),\n",
       " ('drv_age_lic1', 0.021382386060421497),\n",
       " ('vh_weight', 0.026185920415748812),\n",
       " ('fuel_Gasoline', 0.04030875528882226),\n",
       " ('drv_age1', 0.02718493289985793),\n",
       " ('vh_speed', 0.0237106019382465),\n",
       " ('vh_age', 0.23893448320245284),\n",
       " ('vh_value', 0.04355997875764709),\n",
       " ('population', 0.016096436815220678),\n",
       " ('grupo_risco_1', 0.004983719889997563),\n",
       " ('grupo_risco_2', 0.07474161246512653),\n",
       " ('grupo_risco_3', 0.002655363694081107),\n",
       " ('grupo_risco_4', 0.019350090155101),\n",
       " ('grupo_risco_5', 0.09417007513908027),\n",
       " ('grupo_risco_6', 0.05062014239677313),\n",
       " ('vh_value_risk', 0.0376574979004952),\n",
       " ('claim_amount_1', 0.03687459287763918),\n",
       " ('pol_no_claims_discount_1', 0.010631607567843966),\n",
       " ('claim_amount_2', 0.05875476644144212),\n",
       " ('pol_no_claims_discount_2', 0.011936772927072393)]"
      ]
     },
     "execution_count": 67,
     "metadata": {},
     "output_type": "execute_result"
    }
   ],
   "source": [
    "Xraw_3,yraw_3 = preprocessing(Xraw,yraw,3)\n",
    "fit_model(Xraw_3,yraw_3)\n",
    "y_pred = predict_claim(Xraw_3,yraw_3)\n",
    "model_metrics(y_pred,Xraw_3,yraw_3)"
   ]
  },
  {
   "cell_type": "markdown",
   "metadata": {},
   "source": [
    "#### Random Forest"
   ]
  },
  {
   "cell_type": "code",
   "execution_count": 68,
   "metadata": {},
   "outputs": [
    {
     "name": "stderr",
     "output_type": "stream",
     "text": [
      "<ipython-input-6-abdc0de8caab>:7: UserWarning: Boolean Series key will be reindexed to match DataFrame index.\n",
      "  contagem_claim_veiculos = df_modelos[ df['claim_amount'] > 0 ].groupby('vh_make_model')['id_policy'].count()\n"
     ]
    }
   ],
   "source": [
    "X_ano3,y_ano3 = preprocessing(Xraw,yraw,3)"
   ]
  },
  {
   "cell_type": "code",
   "execution_count": 69,
   "metadata": {},
   "outputs": [],
   "source": [
    "X_train, X_test, y_train, y_test = train_test_split(X_ano3, y_ano3, test_size=0.33,random_state=0)"
   ]
  },
  {
   "cell_type": "code",
   "execution_count": 70,
   "metadata": {},
   "outputs": [],
   "source": [
    "w = {0:1,1:8.5}"
   ]
  },
  {
   "cell_type": "code",
   "execution_count": 71,
   "metadata": {},
   "outputs": [],
   "source": [
    "clf_rf = RandomForestClassifier(n_estimators=1000,max_depth=5,verbose=1,class_weight=w,random_state=0)"
   ]
  },
  {
   "cell_type": "code",
   "execution_count": 72,
   "metadata": {},
   "outputs": [
    {
     "name": "stderr",
     "output_type": "stream",
     "text": [
      "[Parallel(n_jobs=1)]: Using backend SequentialBackend with 1 concurrent workers.\n",
      "[Parallel(n_jobs=1)]: Done 1000 out of 1000 | elapsed:   12.7s finished\n"
     ]
    },
    {
     "data": {
      "text/plain": [
       "RandomForestClassifier(class_weight={0: 1, 1: 8.5}, max_depth=5,\n",
       "                       n_estimators=1000, random_state=0, verbose=1)"
      ]
     },
     "execution_count": 72,
     "metadata": {},
     "output_type": "execute_result"
    }
   ],
   "source": [
    "clf_rf.fit(X_train,y_train)"
   ]
  },
  {
   "cell_type": "code",
   "execution_count": 73,
   "metadata": {},
   "outputs": [
    {
     "name": "stderr",
     "output_type": "stream",
     "text": [
      "[Parallel(n_jobs=1)]: Using backend SequentialBackend with 1 concurrent workers.\n",
      "[Parallel(n_jobs=1)]: Done 1000 out of 1000 | elapsed:    0.9s finished\n"
     ]
    },
    {
     "data": {
      "text/plain": [
       "0.5065998329156224"
      ]
     },
     "execution_count": 73,
     "metadata": {},
     "output_type": "execute_result"
    }
   ],
   "source": [
    "clf_rf.score(X_test,y_test)"
   ]
  },
  {
   "cell_type": "code",
   "execution_count": 74,
   "metadata": {},
   "outputs": [
    {
     "name": "stderr",
     "output_type": "stream",
     "text": [
      "[Parallel(n_jobs=1)]: Using backend SequentialBackend with 1 concurrent workers.\n",
      "[Parallel(n_jobs=1)]: Done 1000 out of 1000 | elapsed:    2.7s finished\n"
     ]
    },
    {
     "data": {
      "text/plain": [
       "array([[0.48455128, 0.51544872],\n",
       "       [0.26876122, 0.73123878]])"
      ]
     },
     "execution_count": 74,
     "metadata": {},
     "output_type": "execute_result"
    }
   ],
   "source": [
    "y_pred = clf_rf.predict(X_ano3) \n",
    "confusion_matrix(y_ano3,y_pred,normalize='true')"
   ]
  },
  {
   "cell_type": "code",
   "execution_count": 75,
   "metadata": {},
   "outputs": [
    {
     "name": "stderr",
     "output_type": "stream",
     "text": [
      "[Parallel(n_jobs=1)]: Using backend SequentialBackend with 1 concurrent workers.\n",
      "[Parallel(n_jobs=1)]: Done 1000 out of 1000 | elapsed:    0.9s finished\n"
     ]
    },
    {
     "data": {
      "text/plain": [
       "array([[0.48134375, 0.51865625],\n",
       "       [0.26963207, 0.73036793]])"
      ]
     },
     "execution_count": 75,
     "metadata": {},
     "output_type": "execute_result"
    }
   ],
   "source": [
    "y_pred = clf_rf.predict(X_test) \n",
    "confusion_matrix(y_test,y_pred,normalize='true')"
   ]
  },
  {
   "cell_type": "code",
   "execution_count": 76,
   "metadata": {},
   "outputs": [
    {
     "data": {
      "text/plain": [
       "[('pol_coverage_2', 0.16026026316693007),\n",
       " ('drv_age_lic1', 0.021382386060421497),\n",
       " ('vh_weight', 0.026185920415748812),\n",
       " ('fuel_Gasoline', 0.04030875528882226),\n",
       " ('drv_age1', 0.02718493289985793),\n",
       " ('vh_speed', 0.0237106019382465),\n",
       " ('vh_age', 0.23893448320245284),\n",
       " ('vh_value', 0.04355997875764709),\n",
       " ('population', 0.016096436815220678),\n",
       " ('grupo_risco_1', 0.004983719889997563),\n",
       " ('grupo_risco_2', 0.07474161246512653),\n",
       " ('grupo_risco_3', 0.002655363694081107),\n",
       " ('grupo_risco_4', 0.019350090155101),\n",
       " ('grupo_risco_5', 0.09417007513908027),\n",
       " ('grupo_risco_6', 0.05062014239677313),\n",
       " ('vh_value_risk', 0.0376574979004952),\n",
       " ('claim_amount_1', 0.03687459287763918),\n",
       " ('pol_no_claims_discount_1', 0.010631607567843966),\n",
       " ('claim_amount_2', 0.05875476644144212),\n",
       " ('pol_no_claims_discount_2', 0.011936772927072393)]"
      ]
     },
     "execution_count": 76,
     "metadata": {},
     "output_type": "execute_result"
    }
   ],
   "source": [
    "list(zip(X_ano3.columns,clf_rf.feature_importances_))"
   ]
  },
  {
   "cell_type": "markdown",
   "metadata": {},
   "source": [
    "### Previsão ano 4"
   ]
  },
  {
   "cell_type": "code",
   "execution_count": 77,
   "metadata": {},
   "outputs": [
    {
     "name": "stderr",
     "output_type": "stream",
     "text": [
      "<ipython-input-6-abdc0de8caab>:7: UserWarning: Boolean Series key will be reindexed to match DataFrame index.\n",
      "  contagem_claim_veiculos = df_modelos[ df['claim_amount'] > 0 ].groupby('vh_make_model')['id_policy'].count()\n",
      "[Parallel(n_jobs=1)]: Using backend SequentialBackend with 1 concurrent workers.\n",
      "[Parallel(n_jobs=1)]: Done 1000 out of 1000 | elapsed:   12.9s finished\n",
      "[Parallel(n_jobs=1)]: Using backend SequentialBackend with 1 concurrent workers.\n",
      "[Parallel(n_jobs=1)]: Done 1000 out of 1000 | elapsed:   12.7s finished\n",
      "[Parallel(n_jobs=1)]: Using backend SequentialBackend with 1 concurrent workers.\n",
      "[Parallel(n_jobs=1)]: Done 1000 out of 1000 | elapsed:    2.7s finished\n",
      "[Parallel(n_jobs=1)]: Using backend SequentialBackend with 1 concurrent workers.\n",
      "[Parallel(n_jobs=1)]: Done 1000 out of 1000 | elapsed:   12.4s finished\n",
      "[Parallel(n_jobs=1)]: Using backend SequentialBackend with 1 concurrent workers.\n",
      "[Parallel(n_jobs=1)]: Done 1000 out of 1000 | elapsed:    0.9s finished\n",
      "[Parallel(n_jobs=1)]: Using backend SequentialBackend with 1 concurrent workers.\n"
     ]
    },
    {
     "name": "stdout",
     "output_type": "stream",
     "text": [
      "0.6107490949596213\n",
      "[[0.6136001  0.3863999 ]\n",
      " [0.41721854 0.58278146]]\n"
     ]
    },
    {
     "name": "stderr",
     "output_type": "stream",
     "text": [
      "[Parallel(n_jobs=1)]: Done 1000 out of 1000 | elapsed:    0.9s finished\n"
     ]
    },
    {
     "data": {
      "text/plain": [
       "[('pol_coverage_2', 0.16316195418776283),\n",
       " ('drv_age_lic1', 0.020538858526800083),\n",
       " ('vh_weight', 0.038473075966927964),\n",
       " ('fuel_Gasoline', 0.05499911801740815),\n",
       " ('drv_age1', 0.018925267328140347),\n",
       " ('vh_speed', 0.021912211330604024),\n",
       " ('vh_age', 0.21890811480937994),\n",
       " ('vh_value', 0.05309412925972281),\n",
       " ('population', 0.016056176694591095),\n",
       " ('grupo_risco_1', 0.006995059849966688),\n",
       " ('grupo_risco_2', 0.05261644449291872),\n",
       " ('grupo_risco_3', 0.000714736424930222),\n",
       " ('grupo_risco_4', 0.008475093481201883),\n",
       " ('grupo_risco_5', 0.08876962671965927),\n",
       " ('grupo_risco_6', 0.05422535453885805),\n",
       " ('vh_value_risk', 0.04559764576634331),\n",
       " ('claim_amount_1', 0.03233744572215974),\n",
       " ('pol_no_claims_discount_1', 0.011690337946055758),\n",
       " ('claim_amount_2', 0.03847969908567757),\n",
       " ('pol_no_claims_discount_2', 0.015045344949515638),\n",
       " ('claim_amount_3', 0.020747984587462014),\n",
       " ('pol_no_claims_discount_3', 0.01823632031391395)]"
      ]
     },
     "execution_count": 77,
     "metadata": {},
     "output_type": "execute_result"
    }
   ],
   "source": [
    "Xraw_4,yraw_4 = preprocessing(Xraw,yraw,4)\n",
    "fit_model(Xraw_4,yraw_4)\n",
    "y_pred = predict_claim(Xraw_4,yraw_4)\n",
    "model_metrics(y_pred,Xraw_4,yraw_4)"
   ]
  },
  {
   "cell_type": "markdown",
   "metadata": {},
   "source": [
    "#### Random Forest"
   ]
  },
  {
   "cell_type": "code",
   "execution_count": 87,
   "metadata": {},
   "outputs": [
    {
     "name": "stderr",
     "output_type": "stream",
     "text": [
      "<ipython-input-6-abdc0de8caab>:7: UserWarning: Boolean Series key will be reindexed to match DataFrame index.\n",
      "  contagem_claim_veiculos = df_modelos[ df['claim_amount'] > 0 ].groupby('vh_make_model')['id_policy'].count()\n"
     ]
    }
   ],
   "source": [
    "X_ano4, y_ano4 = preprocessing(Xraw,yraw,4)"
   ]
  },
  {
   "cell_type": "code",
   "execution_count": 88,
   "metadata": {},
   "outputs": [],
   "source": [
    "X_train, X_test, y_train, y_test = train_test_split(X_ano4, y_ano4, test_size=0.33,random_state=0)"
   ]
  },
  {
   "cell_type": "code",
   "execution_count": 89,
   "metadata": {},
   "outputs": [],
   "source": [
    "w = {0:1,1:8.5}"
   ]
  },
  {
   "cell_type": "code",
   "execution_count": 90,
   "metadata": {},
   "outputs": [],
   "source": [
    "clf_rf = RandomForestClassifier(n_estimators=1000,max_depth=5,verbose=1,class_weight=w,random_state=0)"
   ]
  },
  {
   "cell_type": "code",
   "execution_count": 91,
   "metadata": {},
   "outputs": [
    {
     "name": "stderr",
     "output_type": "stream",
     "text": [
      "[Parallel(n_jobs=1)]: Using backend SequentialBackend with 1 concurrent workers.\n",
      "[Parallel(n_jobs=1)]: Done 1000 out of 1000 | elapsed:   12.2s finished\n"
     ]
    },
    {
     "data": {
      "text/plain": [
       "RandomForestClassifier(class_weight={0: 1, 1: 8.5}, max_depth=5,\n",
       "                       n_estimators=1000, random_state=0, verbose=1)"
      ]
     },
     "execution_count": 91,
     "metadata": {},
     "output_type": "execute_result"
    }
   ],
   "source": [
    "clf_rf.fit(X_train,y_train)"
   ]
  },
  {
   "cell_type": "code",
   "execution_count": 92,
   "metadata": {},
   "outputs": [
    {
     "name": "stderr",
     "output_type": "stream",
     "text": [
      "[Parallel(n_jobs=1)]: Using backend SequentialBackend with 1 concurrent workers.\n",
      "[Parallel(n_jobs=1)]: Done 1000 out of 1000 | elapsed:    1.8s finished\n"
     ]
    },
    {
     "data": {
      "text/plain": [
       "0.617408240522302"
      ]
     },
     "execution_count": 92,
     "metadata": {},
     "output_type": "execute_result"
    }
   ],
   "source": [
    "clf_rf.score(X_train,y_train)"
   ]
  },
  {
   "cell_type": "code",
   "execution_count": 93,
   "metadata": {},
   "outputs": [
    {
     "name": "stderr",
     "output_type": "stream",
     "text": [
      "[Parallel(n_jobs=1)]: Using backend SequentialBackend with 1 concurrent workers.\n",
      "[Parallel(n_jobs=1)]: Done 1000 out of 1000 | elapsed:    0.9s finished\n"
     ]
    },
    {
     "data": {
      "text/plain": [
       "0.6107490949596213"
      ]
     },
     "execution_count": 93,
     "metadata": {},
     "output_type": "execute_result"
    }
   ],
   "source": [
    "clf_rf.score(X_test,y_test)"
   ]
  },
  {
   "cell_type": "code",
   "execution_count": 94,
   "metadata": {},
   "outputs": [
    {
     "name": "stderr",
     "output_type": "stream",
     "text": [
      "[Parallel(n_jobs=1)]: Using backend SequentialBackend with 1 concurrent workers.\n",
      "[Parallel(n_jobs=1)]: Done 1000 out of 1000 | elapsed:    0.9s finished\n"
     ]
    },
    {
     "data": {
      "text/plain": [
       "array([[0.6136001 , 0.3863999 ],\n",
       "       [0.41721854, 0.58278146]])"
      ]
     },
     "execution_count": 94,
     "metadata": {},
     "output_type": "execute_result"
    }
   ],
   "source": [
    "y_pred = clf_rf.predict(X_test) \n",
    "confusion_matrix(y_test,y_pred,normalize='true')"
   ]
  },
  {
   "cell_type": "code",
   "execution_count": 95,
   "metadata": {},
   "outputs": [
    {
     "data": {
      "text/plain": [
       "[('pol_coverage_2', 0.16316195418776283),\n",
       " ('drv_age_lic1', 0.020538858526800083),\n",
       " ('vh_weight', 0.038473075966927964),\n",
       " ('fuel_Gasoline', 0.05499911801740815),\n",
       " ('drv_age1', 0.018925267328140347),\n",
       " ('vh_speed', 0.021912211330604024),\n",
       " ('vh_age', 0.21890811480937994),\n",
       " ('vh_value', 0.05309412925972281),\n",
       " ('population', 0.016056176694591095),\n",
       " ('grupo_risco_1', 0.006995059849966688),\n",
       " ('grupo_risco_2', 0.05261644449291872),\n",
       " ('grupo_risco_3', 0.000714736424930222),\n",
       " ('grupo_risco_4', 0.008475093481201883),\n",
       " ('grupo_risco_5', 0.08876962671965927),\n",
       " ('grupo_risco_6', 0.05422535453885805),\n",
       " ('vh_value_risk', 0.04559764576634331),\n",
       " ('claim_amount_1', 0.03233744572215974),\n",
       " ('pol_no_claims_discount_1', 0.011690337946055758),\n",
       " ('claim_amount_2', 0.03847969908567757),\n",
       " ('pol_no_claims_discount_2', 0.015045344949515638),\n",
       " ('claim_amount_3', 0.020747984587462014),\n",
       " ('pol_no_claims_discount_3', 0.01823632031391395)]"
      ]
     },
     "execution_count": 95,
     "metadata": {},
     "output_type": "execute_result"
    }
   ],
   "source": [
    "list(zip(X_ano4.columns,clf_rf.feature_importances_))"
   ]
  },
  {
   "cell_type": "code",
   "execution_count": 10,
   "metadata": {},
   "outputs": [],
   "source": [
    "'''\n",
    "df_merged['pol_coverage_2'] = df_merged['pol_coverage'].map({'Min':1,'Med1':2,'Med2':3,'Max':4})\n",
    "df_merged['pol_pay_freq_2'] = df_merged['pol_pay_freq'].map({'Yearly':1,'Biannual':2,'Quarterly':4,'Monthly':12})\n",
    "df_merged['pol_payd_2'] = (df_merged['pol_payd']=='Yes').astype(int)\n",
    "df_merged = pd.concat([df_merged,pd.get_dummies(df_merged['pol_usage'], drop_first = True, prefix = 'pol_usage')], axis=1)\n",
    "df_merged['drv_sex1_2'] = (df_merged['drv_sex1']=='F').astype(int)\n",
    "df_merged['drv_drv2_2'] = (df_merged['drv_drv2']=='Yes').astype(int)\n",
    "df_merged['grupo_risco_1'] = ((df_merged['pol_usage']=='Professional')&(df_merged['pol_coverage']=='Max')).astype(int)\n",
    "df_merged['grupo_risco_2'] = ((df_merged['pol_usage']=='WorkPrivate')&(df_merged['pol_coverage']=='Min')).astype(int)\n",
    "df_merged['grupo_risco_3'] = df_merged['vh_make_model'].isin(carros_maior_prob).astype(int)\n",
    "df_merged['grupo_risco_4'] = df_merged['vh_make_model'].isin(carros_menor_prob).astype(int)\n",
    "df_merged['grupo_risco_5'] = ((df_merged['vh_age']>15) ).astype(int)\n",
    "df_merged['grupo_risco_6'] = ((df_merged['vh_age']>0) &(df_merged['vh_age']<6)).astype(int)\n",
    "df_merged['weight_p_speed'] = df_merged['vh_weight']/df_merged['vh_speed']\n",
    "df_merged['vh_value_risk'] = df_merged['vh_value']/df_merged['pol_coverage_2']\n",
    "\n",
    "df_merged['vh_type_2'] = (df_merged['vh_type']=='Commercial').astype(int)\n",
    "\n",
    "df_fuel = pd.get_dummies(df_merged['vh_fuel'], drop_first = True, prefix = 'fuel')\n",
    "df_merged = pd.concat([df_merged,df_fuel], axis=1)\n",
    "\n",
    "contagem_carros = df['vh_make_model'].value_counts()\n",
    "lista_50_carros = contagem_carros[contagem_carros>1000].index\n",
    "df_merged['vh_make_model_2'] = df_merged['vh_make_model'].copy()\n",
    "df_merged.loc[df_merged['vh_make_model'].isin(lista_50_carros)==False, 'vh_make_model_2']='Outros'\n",
    "df_modelos = pd.get_dummies(df_merged['vh_make_model_2'], drop_first = True, prefix = 'model')\n",
    "df_merged = pd.concat([df_merged,df_modelos], axis=1)\n",
    "\n",
    "'''"
   ]
  }
 ],
 "metadata": {
  "kernelspec": {
   "display_name": "Python 3",
   "language": "python",
   "name": "python3"
  },
  "language_info": {
   "codemirror_mode": {
    "name": "ipython",
    "version": 3
   },
   "file_extension": ".py",
   "mimetype": "text/x-python",
   "name": "python",
   "nbconvert_exporter": "python",
   "pygments_lexer": "ipython3",
   "version": "3.8.3"
  }
 },
 "nbformat": 4,
 "nbformat_minor": 4
}

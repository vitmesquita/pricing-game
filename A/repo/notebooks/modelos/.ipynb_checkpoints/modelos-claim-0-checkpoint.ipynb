{
 "cells": [
  {
   "cell_type": "markdown",
   "metadata": {},
   "source": [
    "## Import de bibliotecas"
   ]
  },
  {
   "cell_type": "code",
   "execution_count": 1,
   "metadata": {},
   "outputs": [],
   "source": [
    "import sys\n",
    "sys.path.append('..\\..')"
   ]
  },
  {
   "cell_type": "code",
   "execution_count": 267,
   "metadata": {},
   "outputs": [],
   "source": [
    "import pandas as pd\n",
    "import numpy as np\n",
    "from config import *\n",
    "import matplotlib.pyplot as plt\n",
    "import plotly.express as px\n",
    "import plotly.graph_objects as go\n",
    "import statistics as stat\n",
    "pd.set_option('display.max_columns', 500)\n",
    "from functools import reduce\n",
    "\n",
    "from sklearn import datasets, linear_model\n",
    "from sklearn.metrics import mean_squared_error, r2_score, confusion_matrix\n",
    "from sklearn.linear_model import LogisticRegression\n",
    "from sklearn import svm\n",
    "from sklearn.preprocessing import StandardScaler\n",
    "from sklearn.ensemble import RandomForestClassifier\n",
    "from sklearn.model_selection import train_test_split "
   ]
  },
  {
   "cell_type": "code",
   "execution_count": 106,
   "metadata": {},
   "outputs": [
    {
     "data": {
      "text/plain": [
       "(217636, 26)"
      ]
     },
     "execution_count": 106,
     "metadata": {},
     "output_type": "execute_result"
    }
   ],
   "source": [
    "df = pd.read_csv(path_arquivo_treino)\n",
    "df = df.drop(df[df.vh_weight < 50].index)\n",
    "df.shape"
   ]
  },
  {
   "cell_type": "markdown",
   "metadata": {},
   "source": [
    "### Feature engineering"
   ]
  },
  {
   "cell_type": "code",
   "execution_count": 107,
   "metadata": {},
   "outputs": [],
   "source": [
    "df_ano_1 = df[df['year']==1]\n",
    "df_ano_1 = df_ano_1.rename(columns={'claim_amount':'claim_amount_1','pol_no_claims_discount':'pol_no_claims_discount_1'})\n",
    "#df_ano_1['claim_amount_1'] = (df_ano_1['claim_amount_1']>0).astype(int)\n",
    "\n",
    "df_ano_2 = df[df['year']==2]\n",
    "df_ano_2 = df_ano_2.rename(columns={'claim_amount':'claim_amount_2','pol_no_claims_discount':'pol_no_claims_discount_2'})\n",
    "#df_ano_2['claim_amount_2'] = (df_ano_2['claim_amount_2']>0).astype(int)\n",
    "\n",
    "df_ano_3 = df[df['year']==3]\n",
    "df_ano_3 = df_ano_3.rename(columns={'claim_amount':'claim_amount_3','pol_no_claims_discount':'pol_no_claims_discount_3'})\n",
    "#df_ano_3['claim_amount_3'] = (df_ano_3['claim_amount_3']>0).astype(int)\n",
    "\n",
    "df_ano_4 = df[df['year']==4]\n",
    "df_ano_4 = df_ano_4.rename(columns={'claim_amount':'claim_amount_4'})\n",
    "df_ano_4['claim_amount_4'] = (df_ano_4['claim_amount_4']>0).astype(int)\n",
    "\n",
    "dfs = [ df_ano_1[['id_policy','claim_amount_1','pol_no_claims_discount_1']]\n",
    "       ,df_ano_2[['id_policy','claim_amount_2','pol_no_claims_discount_2']]\n",
    "       ,df_ano_3[['id_policy','claim_amount_3','pol_no_claims_discount_3']]\n",
    "       ,df_ano_4[['id_policy','claim_amount_4']]]"
   ]
  },
  {
   "cell_type": "code",
   "execution_count": 108,
   "metadata": {},
   "outputs": [],
   "source": [
    "colunas = list(df_ano_1.columns)\n",
    "df_merged = reduce(lambda  left,right: pd.merge(left,right,on=['id_policy'],\n",
    "                                            how='inner'), dfs)\n",
    "\n",
    "dfs = [df_ano_1[['id_policy', 'year', 'pol_coverage',\n",
    "       'pol_duration', 'pol_sit_duration', 'pol_pay_freq', 'pol_payd',\n",
    "       'pol_usage', 'drv_sex1', 'drv_age1', 'drv_age_lic1', 'drv_drv2',\n",
    "       'drv_sex2', 'drv_age2', 'drv_age_lic2', 'vh_make_model', 'vh_age',\n",
    "       'vh_fuel', 'vh_type', 'vh_speed', 'vh_value', 'vh_weight', 'population',\n",
    "       'town_surface_area']],df_merged]\n",
    "df_merged = reduce(lambda  left,right: pd.merge(left,right,on=['id_policy'],\n",
    "                                            how='inner'), dfs)"
   ]
  },
  {
   "cell_type": "code",
   "execution_count": 109,
   "metadata": {},
   "outputs": [
    {
     "name": "stderr",
     "output_type": "stream",
     "text": [
      "<ipython-input-109-f6865728d395>:5: UserWarning: Boolean Series key will be reindexed to match DataFrame index.\n",
      "  contagem_claim_veiculos = df_modelos[ df['claim_amount'] > 0 ].groupby('vh_make_model')['id_policy'].count()\n"
     ]
    }
   ],
   "source": [
    "filtro =  df['vh_make_model'].value_counts()\n",
    "modelos = filtro[filtro>=200]\n",
    "df_modelos = df[df['vh_make_model'].isin(modelos.index)]\n",
    "contagem_veiculos = df_modelos.groupby('vh_make_model')['id_policy'].count()\n",
    "contagem_claim_veiculos = df_modelos[ df['claim_amount'] > 0 ].groupby('vh_make_model')['id_policy'].count()\n",
    "prob_claim_veiculos = (contagem_claim_veiculos / contagem_veiculos).fillna(0)\n",
    "carros_maior_prob = list(prob_claim_veiculos[prob_claim_veiculos>0.15].index)\n",
    "carros_menor_prob = list(prob_claim_veiculos[prob_claim_veiculos<0.05].index)"
   ]
  },
  {
   "cell_type": "code",
   "execution_count": 110,
   "metadata": {},
   "outputs": [],
   "source": [
    "\n",
    "df_merged['pol_coverage_2'] = df_merged['pol_coverage'].map({'Min':1,'Med1':2,'Med2':3,'Max':4})\n",
    "df_merged['pol_pay_freq_2'] = df_merged['pol_pay_freq'].map({'Yearly':1,'Biannual':2,'Quarterly':4,'Monthly':12})\n",
    "df_merged['pol_payd_2'] = (df_merged['pol_payd']=='Yes').astype(int)\n",
    "df_merged = pd.concat([df_merged,pd.get_dummies(df_merged['pol_usage'], drop_first = True, prefix = 'pol_usage')], axis=1)\n",
    "df_merged['drv_sex1_2'] = (df_merged['drv_sex1']=='F').astype(int)\n",
    "df_merged['drv_drv2_2'] = (df_merged['drv_drv2']=='Yes').astype(int)\n",
    "df_merged['grupo_risco_1'] = ((df_merged['pol_usage']=='Professional')&(df_merged['pol_coverage']=='Max')).astype(int)\n",
    "df_merged['grupo_risco_2'] = ((df['pol_usage']=='WorkPrivate')&(df['pol_coverage']=='Min')).astype(int)\n",
    "df_merged['grupo_risco_3'] = df['vh_make_model'].isin(carros_maior_prob).astype(int)\n",
    "df_merged['grupo_risco_4'] = df['vh_make_model'].isin(carros_menor_prob).astype(int)\n",
    "df_merged['vh_type_2'] = (df_merged['vh_type']=='Commercial').astype(int)\n",
    "\n",
    "df_fuel = pd.get_dummies(df_merged['vh_fuel'], drop_first = True, prefix = 'fuel')\n",
    "df_merged = pd.concat([df_merged,df_fuel], axis=1)\n",
    "\n",
    "contagem_carros = df['vh_make_model'].value_counts()\n",
    "lista_50_carros = contagem_carros[contagem_carros>1000].index\n",
    "df_merged['vh_make_model_2'] = df_merged['vh_make_model'].copy()\n",
    "df_merged.loc[df_merged['vh_make_model'].isin(lista_50_carros)==False, 'vh_make_model_2']='Outros'\n",
    "df_modelos = pd.get_dummies(df_merged['vh_make_model_2'], drop_first = True, prefix = 'model')\n",
    "df_merged = pd.concat([df_merged,df_modelos], axis=1)"
   ]
  },
  {
   "cell_type": "markdown",
   "metadata": {},
   "source": [
    "### Modelo para prever 0 claim"
   ]
  },
  {
   "cell_type": "code",
   "execution_count": 111,
   "metadata": {},
   "outputs": [],
   "source": [
    "features = ['claim_amount_1','pol_no_claims_discount_1',\n",
    "            'claim_amount_2','pol_no_claims_discount_2',\n",
    "            'claim_amount_3','pol_no_claims_discount_3',\n",
    "            'pol_coverage_2','pol_pay_freq_2','pol_payd_2',\n",
    "            'drv_age_lic1','pol_usage_Professional',\n",
    "            'pol_usage_Retired','pol_usage_WorkPrivate',\n",
    "            'fuel_Gasoline','fuel_Hybrid','drv_age1',\n",
    "            'vh_age','vh_value','population','grupo_risco_1',\n",
    "            'grupo_risco_2','grupo_risco_3','grupo_risco_4']\n",
    "\n",
    "df_merged = df_merged.rename(columns= {'claim_amount_4':'y'})"
   ]
  },
  {
   "cell_type": "code",
   "execution_count": 112,
   "metadata": {},
   "outputs": [],
   "source": [
    "X = df_merged[features].copy()\n",
    "y = df_merged['y']"
   ]
  },
  {
   "cell_type": "code",
   "execution_count": 113,
   "metadata": {},
   "outputs": [],
   "source": [
    "X.fillna(0,inplace = True)"
   ]
  },
  {
   "cell_type": "markdown",
   "metadata": {},
   "source": [
    "#### Baseline"
   ]
  },
  {
   "cell_type": "code",
   "execution_count": 114,
   "metadata": {},
   "outputs": [
    {
     "data": {
      "text/plain": [
       "array([[36456, 12900],\n",
       "       [ 3093,  1960]], dtype=int64)"
      ]
     },
     "execution_count": 114,
     "metadata": {},
     "output_type": "execute_result"
    }
   ],
   "source": [
    "#modelo baseline\n",
    "\n",
    "df_merged['previsao_baseline'] = ((df_merged['claim_amount_1'] + df_merged['claim_amount_2'] + df_merged['claim_amount_3'])>0).astype(int)\n",
    "confusion_matrix(y,df_merged['previsao_baseline'])"
   ]
  },
  {
   "cell_type": "markdown",
   "metadata": {},
   "source": [
    "#### Regressão Logistica"
   ]
  },
  {
   "cell_type": "code",
   "execution_count": 174,
   "metadata": {},
   "outputs": [],
   "source": [
    "w = {0:1,1:7.7}\n",
    "clf_rl = LogisticRegression(max_iter = 1000, class_weight=w).fit(X, y)"
   ]
  },
  {
   "cell_type": "code",
   "execution_count": 175,
   "metadata": {},
   "outputs": [
    {
     "data": {
      "text/plain": [
       "0.7253395577937474"
      ]
     },
     "execution_count": 175,
     "metadata": {},
     "output_type": "execute_result"
    }
   ],
   "source": [
    "clf_rl.score(X, y)"
   ]
  },
  {
   "cell_type": "code",
   "execution_count": 176,
   "metadata": {},
   "outputs": [
    {
     "data": {
      "text/plain": [
       "0.9071293352202761"
      ]
     },
     "execution_count": 176,
     "metadata": {},
     "output_type": "execute_result"
    }
   ],
   "source": [
    "len(df[(df['claim_amount']==0) & (df['year']==4)])/len(df[df['year']==4])"
   ]
  },
  {
   "cell_type": "code",
   "execution_count": 177,
   "metadata": {},
   "outputs": [
    {
     "data": {
      "text/plain": [
       "array([[37537, 11819],\n",
       "       [ 3125,  1928]], dtype=int64)"
      ]
     },
     "execution_count": 177,
     "metadata": {},
     "output_type": "execute_result"
    }
   ],
   "source": [
    "y_pred = clf_rl.predict(X) \n",
    "confusion_matrix(y,y_pred)"
   ]
  },
  {
   "cell_type": "code",
   "execution_count": 23,
   "metadata": {},
   "outputs": [
    {
     "data": {
      "text/plain": [
       "array([[ 3.41785446e-03, -1.03239392e-03,  3.72658726e-03,\n",
       "        -6.73269421e-04,  2.78642056e-03, -3.25315644e-04,\n",
       "        -1.06477662e-02, -4.17726792e-03, -3.41567958e-04,\n",
       "         3.72709836e-02,  9.58916388e-04,  4.05990382e-03,\n",
       "        -1.27244415e-02, -9.49337715e-03,  3.70129774e-05,\n",
       "        -4.96045786e-02, -7.80307124e-02, -2.02069215e-06,\n",
       "        -2.77612532e-05,  1.22071164e-03, -7.36779583e-04,\n",
       "        -1.22296977e-04, -6.67389231e-04]])"
      ]
     },
     "execution_count": 23,
     "metadata": {},
     "output_type": "execute_result"
    }
   ],
   "source": [
    "clf_rl.coef_"
   ]
  },
  {
   "cell_type": "markdown",
   "metadata": {},
   "source": [
    "#### Support Vector"
   ]
  },
  {
   "cell_type": "code",
   "execution_count": 209,
   "metadata": {},
   "outputs": [],
   "source": [
    "w={0:1,1:5}"
   ]
  },
  {
   "cell_type": "code",
   "execution_count": 255,
   "metadata": {},
   "outputs": [],
   "source": [
    "clf_sv = svm.SVC(verbose=2,class_weight=w,tol=2)"
   ]
  },
  {
   "cell_type": "code",
   "execution_count": 256,
   "metadata": {},
   "outputs": [
    {
     "data": {
      "text/plain": [
       "StandardScaler()"
      ]
     },
     "execution_count": 256,
     "metadata": {},
     "output_type": "execute_result"
    }
   ],
   "source": [
    "scaler = StandardScaler()\n",
    "scaler.fit(X)"
   ]
  },
  {
   "cell_type": "code",
   "execution_count": 257,
   "metadata": {},
   "outputs": [
    {
     "name": "stdout",
     "output_type": "stream",
     "text": [
      "[LibSVM]"
     ]
    },
    {
     "data": {
      "text/plain": [
       "SVC(class_weight={0: 1, 1: 5}, tol=2, verbose=2)"
      ]
     },
     "execution_count": 257,
     "metadata": {},
     "output_type": "execute_result"
    }
   ],
   "source": [
    "clf_sv.fit(scaler.transform(X), y)"
   ]
  },
  {
   "cell_type": "code",
   "execution_count": 258,
   "metadata": {},
   "outputs": [
    {
     "data": {
      "text/plain": [
       "0.9071293352202761"
      ]
     },
     "execution_count": 258,
     "metadata": {},
     "output_type": "execute_result"
    }
   ],
   "source": [
    "clf_sv.score(X,y)"
   ]
  },
  {
   "cell_type": "code",
   "execution_count": 259,
   "metadata": {},
   "outputs": [
    {
     "data": {
      "text/plain": [
       "array([[49356,     0],\n",
       "       [ 5053,     0]], dtype=int64)"
      ]
     },
     "execution_count": 259,
     "metadata": {},
     "output_type": "execute_result"
    }
   ],
   "source": [
    "y_pred = clf_sv.predict(X) \n",
    "confusion_matrix(y,y_pred)"
   ]
  },
  {
   "cell_type": "markdown",
   "metadata": {},
   "source": [
    "#### Random Forest"
   ]
  },
  {
   "cell_type": "code",
   "execution_count": 308,
   "metadata": {},
   "outputs": [],
   "source": [
    "X_train, X_test, y_train, y_test = train_test_split(X, y, test_size=0.33,random_state=0)\n",
    "w = {0:1,1:8}"
   ]
  },
  {
   "cell_type": "code",
   "execution_count": 309,
   "metadata": {},
   "outputs": [],
   "source": [
    "clf_rf = RandomForestClassifier(n_estimators=1000,max_depth=5,verbose=1,class_weight=w)"
   ]
  },
  {
   "cell_type": "code",
   "execution_count": 310,
   "metadata": {},
   "outputs": [
    {
     "name": "stderr",
     "output_type": "stream",
     "text": [
      "[Parallel(n_jobs=1)]: Using backend SequentialBackend with 1 concurrent workers.\n",
      "[Parallel(n_jobs=1)]: Done 1000 out of 1000 | elapsed:   12.9s finished\n"
     ]
    },
    {
     "data": {
      "text/plain": [
       "RandomForestClassifier(class_weight={0: 1, 1: 8}, max_depth=5,\n",
       "                       n_estimators=1000, verbose=1)"
      ]
     },
     "execution_count": 310,
     "metadata": {},
     "output_type": "execute_result"
    }
   ],
   "source": [
    "clf_rf.fit(X_train,y_train)"
   ]
  },
  {
   "cell_type": "code",
   "execution_count": 311,
   "metadata": {},
   "outputs": [
    {
     "name": "stderr",
     "output_type": "stream",
     "text": [
      "[Parallel(n_jobs=1)]: Using backend SequentialBackend with 1 concurrent workers.\n",
      "[Parallel(n_jobs=1)]: Done 1000 out of 1000 | elapsed:    1.1s finished\n"
     ]
    },
    {
     "data": {
      "text/plain": [
       "0.700807574491785"
      ]
     },
     "execution_count": 311,
     "metadata": {},
     "output_type": "execute_result"
    }
   ],
   "source": [
    "clf_rf.score(X_test,y_test)"
   ]
  },
  {
   "cell_type": "code",
   "execution_count": 312,
   "metadata": {},
   "outputs": [
    {
     "name": "stderr",
     "output_type": "stream",
     "text": [
      "[Parallel(n_jobs=1)]: Using backend SequentialBackend with 1 concurrent workers.\n",
      "[Parallel(n_jobs=1)]: Done 1000 out of 1000 | elapsed:    2.5s finished\n"
     ]
    },
    {
     "data": {
      "text/plain": [
       "0.7068360125089154"
      ]
     },
     "execution_count": 312,
     "metadata": {},
     "output_type": "execute_result"
    }
   ],
   "source": [
    "clf_rf.score(X_train,y_train)"
   ]
  },
  {
   "cell_type": "code",
   "execution_count": 313,
   "metadata": {},
   "outputs": [
    {
     "name": "stderr",
     "output_type": "stream",
     "text": [
      "[Parallel(n_jobs=1)]: Using backend SequentialBackend with 1 concurrent workers.\n",
      "[Parallel(n_jobs=1)]: Done 1000 out of 1000 | elapsed:    1.3s finished\n"
     ]
    },
    {
     "data": {
      "text/plain": [
       "array([[11829,  4465],\n",
       "       [  907,   754]], dtype=int64)"
      ]
     },
     "execution_count": 313,
     "metadata": {},
     "output_type": "execute_result"
    }
   ],
   "source": [
    "y_pred = clf_rf.predict(X_test) \n",
    "confusion_matrix(y_test,y_pred)"
   ]
  },
  {
   "cell_type": "code",
   "execution_count": 314,
   "metadata": {},
   "outputs": [
    {
     "name": "stderr",
     "output_type": "stream",
     "text": [
      "[Parallel(n_jobs=1)]: Using backend SequentialBackend with 1 concurrent workers.\n",
      "[Parallel(n_jobs=1)]: Done 1000 out of 1000 | elapsed:    2.5s finished\n"
     ]
    },
    {
     "data": {
      "text/plain": [
       "array([[24137,  8925],\n",
       "       [ 1762,  1630]], dtype=int64)"
      ]
     },
     "execution_count": 314,
     "metadata": {},
     "output_type": "execute_result"
    }
   ],
   "source": [
    "y_pred = clf_rf.predict(X_train) \n",
    "confusion_matrix(y_train,y_pred)"
   ]
  },
  {
   "cell_type": "code",
   "execution_count": 315,
   "metadata": {},
   "outputs": [
    {
     "data": {
      "text/plain": [
       "array([0.05121142, 0.01735249, 0.05642527, 0.01912725, 0.03712569,\n",
       "       0.02592725, 0.21429946, 0.00921878, 0.00153091, 0.02678665,\n",
       "       0.00673542, 0.00263959, 0.00198509, 0.078332  , 0.00029277,\n",
       "       0.02446975, 0.29181852, 0.08997387, 0.02230513, 0.01596257,\n",
       "       0.0021462 , 0.00173384, 0.00260007])"
      ]
     },
     "execution_count": 315,
     "metadata": {},
     "output_type": "execute_result"
    }
   ],
   "source": [
    "clf_rf.feature_importances_"
   ]
  },
  {
   "cell_type": "code",
   "execution_count": 317,
   "metadata": {},
   "outputs": [
    {
     "data": {
      "text/plain": [
       "[('claim_amount_1', 0.051211421903003186),\n",
       " ('pol_no_claims_discount_1', 0.017352494537728337),\n",
       " ('claim_amount_2', 0.05642527417298921),\n",
       " ('pol_no_claims_discount_2', 0.01912725087798293),\n",
       " ('claim_amount_3', 0.03712568547747697),\n",
       " ('pol_no_claims_discount_3', 0.025927253935343494),\n",
       " ('pol_coverage_2', 0.21429946100463992),\n",
       " ('pol_pay_freq_2', 0.009218776289001474),\n",
       " ('pol_payd_2', 0.0015309145691902969),\n",
       " ('drv_age_lic1', 0.026786645781787122),\n",
       " ('pol_usage_Professional', 0.006735419460386113),\n",
       " ('pol_usage_Retired', 0.002639585589139647),\n",
       " ('pol_usage_WorkPrivate', 0.001985094380817824),\n",
       " ('fuel_Gasoline', 0.07833200208011352),\n",
       " ('fuel_Hybrid', 0.00029276669379293556),\n",
       " ('drv_age1', 0.024469751104850033),\n",
       " ('vh_age', 0.29181852477665116),\n",
       " ('vh_value', 0.08997386516307897),\n",
       " ('population', 0.022305129952825797),\n",
       " ('grupo_risco_1', 0.015962570874673728),\n",
       " ('grupo_risco_2', 0.0021462012234989896),\n",
       " ('grupo_risco_3', 0.0017338408775071034),\n",
       " ('grupo_risco_4', 0.002600069273521402)]"
      ]
     },
     "execution_count": 317,
     "metadata": {},
     "output_type": "execute_result"
    }
   ],
   "source": [
    "list(zip(X.columns,clf_rf.feature_importances_))"
   ]
  },
  {
   "cell_type": "code",
   "execution_count": null,
   "metadata": {},
   "outputs": [],
   "source": []
  }
 ],
 "metadata": {
  "kernelspec": {
   "display_name": "Python 3",
   "language": "python",
   "name": "python3"
  },
  "language_info": {
   "codemirror_mode": {
    "name": "ipython",
    "version": 3
   },
   "file_extension": ".py",
   "mimetype": "text/x-python",
   "name": "python",
   "nbconvert_exporter": "python",
   "pygments_lexer": "ipython3",
   "version": "3.8.3"
  }
 },
 "nbformat": 4,
 "nbformat_minor": 4
}

{
 "cells": [
  {
   "cell_type": "code",
   "execution_count": 1,
   "metadata": {},
   "outputs": [],
   "source": [
    "import sys\n",
    "sys.path.append('..\\..')"
   ]
  },
  {
   "cell_type": "code",
   "execution_count": 174,
   "metadata": {},
   "outputs": [],
   "source": [
    "import pandas as pd\n",
    "import numpy as np\n",
    "from config import *\n",
    "import matplotlib.pyplot as plt\n",
    "import plotly.express as px\n",
    "import plotly.graph_objects as go\n",
    "import statistics as stat\n",
    "pd.set_option('display.max_columns', 500)\n",
    "from functools import reduce\n",
    "from math import sqrt\n",
    "\n",
    "from sklearn import datasets, linear_model\n",
    "from sklearn.metrics import mean_squared_error, r2_score, confusion_matrix\n",
    "from sklearn import svm\n",
    "from sklearn.preprocessing import StandardScaler\n",
    "from sklearn.model_selection import train_test_split \n",
    "from sklearn import tree\n",
    "from sklearn import svm\n",
    "from sklearn.linear_model import LinearRegression\n",
    "from sklearn.pipeline import make_pipeline\n"
   ]
  },
  {
   "cell_type": "code",
   "execution_count": 72,
   "metadata": {},
   "outputs": [
    {
     "data": {
      "text/plain": [
       "(217636, 26)"
      ]
     },
     "execution_count": 72,
     "metadata": {},
     "output_type": "execute_result"
    }
   ],
   "source": [
    "df = pd.read_csv(path_arquivo_treino)\n",
    "df = df.drop(df[df.vh_weight < 50].index)\n",
    "df.shape"
   ]
  },
  {
   "cell_type": "code",
   "execution_count": 151,
   "metadata": {},
   "outputs": [],
   "source": [
    "feat = pd.read_csv('pred_file.csv')"
   ]
  },
  {
   "cell_type": "code",
   "execution_count": 124,
   "metadata": {},
   "outputs": [
    {
     "data": {
      "text/plain": [
       "(163227, 26)"
      ]
     },
     "execution_count": 124,
     "metadata": {},
     "output_type": "execute_result"
    }
   ],
   "source": [
    "df = df[df['year']<4]\n",
    "df.shape"
   ]
  },
  {
   "cell_type": "code",
   "execution_count": 152,
   "metadata": {},
   "outputs": [
    {
     "data": {
      "text/html": [
       "<div>\n",
       "<style scoped>\n",
       "    .dataframe tbody tr th:only-of-type {\n",
       "        vertical-align: middle;\n",
       "    }\n",
       "\n",
       "    .dataframe tbody tr th {\n",
       "        vertical-align: top;\n",
       "    }\n",
       "\n",
       "    .dataframe thead th {\n",
       "        text-align: right;\n",
       "    }\n",
       "</style>\n",
       "<table border=\"1\" class=\"dataframe\">\n",
       "  <thead>\n",
       "    <tr style=\"text-align: right;\">\n",
       "      <th></th>\n",
       "      <th>id_policy</th>\n",
       "      <th>year</th>\n",
       "      <th>pred</th>\n",
       "    </tr>\n",
       "  </thead>\n",
       "  <tbody>\n",
       "    <tr>\n",
       "      <th>0</th>\n",
       "      <td>PL000000</td>\n",
       "      <td>4</td>\n",
       "      <td>0</td>\n",
       "    </tr>\n",
       "    <tr>\n",
       "      <th>1</th>\n",
       "      <td>PL042495</td>\n",
       "      <td>4</td>\n",
       "      <td>0</td>\n",
       "    </tr>\n",
       "    <tr>\n",
       "      <th>2</th>\n",
       "      <td>PL042496</td>\n",
       "      <td>4</td>\n",
       "      <td>0</td>\n",
       "    </tr>\n",
       "    <tr>\n",
       "      <th>3</th>\n",
       "      <td>PL042497</td>\n",
       "      <td>4</td>\n",
       "      <td>0</td>\n",
       "    </tr>\n",
       "    <tr>\n",
       "      <th>4</th>\n",
       "      <td>PL042498</td>\n",
       "      <td>4</td>\n",
       "      <td>0</td>\n",
       "    </tr>\n",
       "    <tr>\n",
       "      <th>...</th>\n",
       "      <td>...</td>\n",
       "      <td>...</td>\n",
       "      <td>...</td>\n",
       "    </tr>\n",
       "    <tr>\n",
       "      <th>54404</th>\n",
       "      <td>PL002373</td>\n",
       "      <td>4</td>\n",
       "      <td>1</td>\n",
       "    </tr>\n",
       "    <tr>\n",
       "      <th>54405</th>\n",
       "      <td>PL004062</td>\n",
       "      <td>4</td>\n",
       "      <td>0</td>\n",
       "    </tr>\n",
       "    <tr>\n",
       "      <th>54406</th>\n",
       "      <td>PL006847</td>\n",
       "      <td>4</td>\n",
       "      <td>0</td>\n",
       "    </tr>\n",
       "    <tr>\n",
       "      <th>54407</th>\n",
       "      <td>PL012984</td>\n",
       "      <td>4</td>\n",
       "      <td>0</td>\n",
       "    </tr>\n",
       "    <tr>\n",
       "      <th>54408</th>\n",
       "      <td>PL008560</td>\n",
       "      <td>4</td>\n",
       "      <td>0</td>\n",
       "    </tr>\n",
       "  </tbody>\n",
       "</table>\n",
       "<p>54409 rows × 3 columns</p>\n",
       "</div>"
      ],
      "text/plain": [
       "      id_policy  year  pred\n",
       "0      PL000000     4     0\n",
       "1      PL042495     4     0\n",
       "2      PL042496     4     0\n",
       "3      PL042497     4     0\n",
       "4      PL042498     4     0\n",
       "...         ...   ...   ...\n",
       "54404  PL002373     4     1\n",
       "54405  PL004062     4     0\n",
       "54406  PL006847     4     0\n",
       "54407  PL012984     4     0\n",
       "54408  PL008560     4     0\n",
       "\n",
       "[54409 rows x 3 columns]"
      ]
     },
     "execution_count": 152,
     "metadata": {},
     "output_type": "execute_result"
    }
   ],
   "source": [
    "feat"
   ]
  },
  {
   "cell_type": "code",
   "execution_count": 75,
   "metadata": {},
   "outputs": [],
   "source": [
    "Xraw = df.drop(columns=['claim_amount'])\n",
    "yraw = df['claim_amount'].values"
   ]
  },
  {
   "cell_type": "code",
   "execution_count": 159,
   "metadata": {},
   "outputs": [],
   "source": [
    "def concat_by_id(df,pred):\n",
    "    dfs=[]\n",
    "    lista_info=[]\n",
    "    df_ano_1 = df[df['year']==1]\n",
    "    if int(max(df['year']))==1:\n",
    "        df_merged = df\n",
    "    else:\n",
    "        for i in range(1,int(max(df['year']))): #add anos 1-max\n",
    "            df_aux = df[df['year']==i]\n",
    "            df_aux = df_aux.rename(columns={'claim_amount':'claim_amount_'+str(i),'pol_no_claims_discount':'pol_no_claims_discount_'+str(i)})\n",
    "            dfs.append(df_aux[['id_policy','claim_amount_'+str(i),'pol_no_claims_discount_'+str(i)]])\n",
    "            lista_info = lista_info + ['claim_amount_'+str(i),'pol_no_claims_discount_'+str(i)]\n",
    "        df_ano_pred = df[df['year']==max(df['year'])] #add ano de predição\n",
    "        df_ano_pred = df_ano_pred.rename(columns={'claim_amount':'claim_amount_'+str(int(max(df['year'])))})\n",
    "        dfs.append(df_ano_pred[['id_policy','claim_amount_'+str(int(max(df['year'])))]])\n",
    "        \n",
    "        df_merged = reduce(lambda  left,right: pd.merge(left,right,on=['id_policy'],\n",
    "                                            how='inner'), dfs)\n",
    "        \n",
    "        dfs = [df_ano_1[['id_policy', 'pol_coverage',\n",
    "       'pol_duration', 'pol_sit_duration', 'pol_pay_freq', 'pol_payd',\n",
    "       'pol_usage', 'drv_sex1', 'drv_age1', 'drv_age_lic1', 'drv_drv2',\n",
    "       'drv_sex2', 'drv_age2', 'drv_age_lic2', 'vh_make_model', 'vh_age',\n",
    "       'vh_fuel', 'vh_type', 'vh_speed', 'vh_value', 'vh_weight', 'population',\n",
    "       'town_surface_area']],df_merged,feat[['id_policy','pred']]]\n",
    "        df_merged = reduce(lambda  left,right: pd.merge(left,right,on=['id_policy'],\n",
    "                                            how='inner'), dfs)\n",
    "    return df_merged,lista_info\n",
    "\n",
    "def carros_prob(df):\n",
    "    carros_maior_prob = ['aewtdnpoiopumymt','asmpttrlkodaejic','dgwbxitzfzbegnoc',\n",
    "                         'dlrodwgixwmoquny','mdxtphkujabwpjeu','oryfrzxilushvigq',\n",
    "                         'qxtqrwxfvuenelml','sguprofjftozaujc','synvsxhrexuyxpre',\n",
    "                         'wehkqzwvbeonajcu','wxzfbqtarfurwcfw','yvlkrzgjhwrlyihc']\n",
    "    carros_menor_prob = ['cgkclpnidlmetsrb','dllcylnkzeegtsgr','dwsasdexwmpsmowl',\n",
    "                         'epbwnmcyogpybxlm','hpohizpkyzvwunni','hwldevoubgzgbhgs',\n",
    "                         'jgkpiuuctpywtrlh','ldxjynecsqlswvbq','nhwgapjtnadqqaul',\n",
    "                         'pjbnwqhnqczouirt','prtnwsypyfnshpqx','shemwbbeliuvnvvm',\n",
    "                         'wyqgeeclrqbihfpk','zxvcbwcwoqnkxxbs']\n",
    "    return carros_maior_prob,carros_menor_prob\n",
    "\n",
    "def preprocessing(Xraw,yraw,pred):\n",
    "    df_total = Xraw\n",
    "    df_total['claim_amount'] = yraw #gerando o df original\n",
    "    carros_maior_prob,carros_menor_prob = carros_prob(df_total) #gerando a lista de carros\n",
    "    df_total = df_total.drop(df_total[df_total.vh_weight < 50].index) # drop de dados sem sentido\n",
    "    df_merged_by_id,lista_info = concat_by_id(df_total,pred) #df id por linha\n",
    "    \n",
    "    df_merged_by_id['pol_coverage_2'] = df_merged_by_id['pol_coverage'].map({'Min':1,'Med1':2,'Med2':3,'Max':4})\n",
    "    \n",
    "    df_fuel = pd.get_dummies(df_merged_by_id['vh_fuel'], drop_first = True, prefix = 'fuel')\n",
    "    df_merged_by_id = pd.concat([df_merged_by_id,df_fuel], axis=1)\n",
    "    \n",
    "    df_merged_by_id['grupo_risco_1'] = ((df_merged_by_id['pol_usage']=='Professional')&\n",
    "                                        (df_merged_by_id['pol_coverage']=='Max')).astype(int)\n",
    "    \n",
    "    df_merged_by_id['grupo_risco_2'] = ((df_merged_by_id['pol_usage']=='WorkPrivate')&\n",
    "                                        (df_merged_by_id['pol_coverage']=='Min')).astype(int)\n",
    "    \n",
    "    df_merged_by_id['grupo_risco_3'] = df_merged_by_id['vh_make_model'].isin(carros_maior_prob).astype(int)\n",
    "    \n",
    "    df_merged_by_id['grupo_risco_4'] = df_merged_by_id['vh_make_model'].isin(carros_menor_prob).astype(int)\n",
    "    \n",
    "    df_merged_by_id['grupo_risco_5'] = ((df_merged_by_id['vh_age']>15) ).astype(int)\n",
    "    \n",
    "    df_merged_by_id['grupo_risco_6'] = ((df_merged_by_id['vh_age']>0)&\n",
    "                                        (df_merged_by_id['vh_age']<6)).astype(int)\n",
    "    \n",
    "    df_merged_by_id['vh_value_risk'] = df_merged_by_id['vh_value']/df_merged_by_id['pol_coverage_2']\n",
    "    \n",
    "    features = ['pol_coverage_2','drv_age_lic1', 'vh_weight',\n",
    "                'fuel_Gasoline','drv_age1','vh_speed','vh_age',\n",
    "                'vh_value','population','grupo_risco_1',\n",
    "                'grupo_risco_2','grupo_risco_3','grupo_risco_4',\n",
    "                'grupo_risco_5','grupo_risco_6','vh_value_risk','pred']\n",
    "    \n",
    "    df_aux = df_merged_by_id.rename(columns = {'claim_amount_'+str(int(max(df_merged_by_id['year']))):'y'})\n",
    "    Xraw = df_aux[features+lista_info].copy()\n",
    "    yraw = df_aux['y']\n",
    "    Xraw.fillna(0,inplace = True)\n",
    "    \n",
    "    return Xraw,yraw\n"
   ]
  },
  {
   "cell_type": "code",
   "execution_count": 160,
   "metadata": {},
   "outputs": [],
   "source": [
    "X,y = preprocessing(Xraw,yraw,feat)"
   ]
  },
  {
   "cell_type": "code",
   "execution_count": 162,
   "metadata": {},
   "outputs": [],
   "source": [
    "X_train, X_test, y_train, y_test = train_test_split(X, y, test_size=0.33, random_state=42)"
   ]
  },
  {
   "cell_type": "markdown",
   "metadata": {},
   "source": [
    "#### Regressão Linear"
   ]
  },
  {
   "cell_type": "code",
   "execution_count": 187,
   "metadata": {},
   "outputs": [],
   "source": [
    "reg = LinearRegression().fit(X_train, y_train)"
   ]
  },
  {
   "cell_type": "code",
   "execution_count": 188,
   "metadata": {},
   "outputs": [
    {
     "data": {
      "text/plain": [
       "0.02261507864562795"
      ]
     },
     "execution_count": 188,
     "metadata": {},
     "output_type": "execute_result"
    }
   ],
   "source": [
    "reg.score(X_train,y_train)"
   ]
  },
  {
   "cell_type": "code",
   "execution_count": 189,
   "metadata": {},
   "outputs": [
    {
     "data": {
      "text/plain": [
       "0.022336163730348524"
      ]
     },
     "execution_count": 189,
     "metadata": {},
     "output_type": "execute_result"
    }
   ],
   "source": [
    "reg.score(X_test,y_test)"
   ]
  },
  {
   "cell_type": "code",
   "execution_count": 193,
   "metadata": {},
   "outputs": [
    {
     "data": {
      "text/plain": [
       "543.8782534004982"
      ]
     },
     "execution_count": 193,
     "metadata": {},
     "output_type": "execute_result"
    }
   ],
   "source": [
    "y_pred = reg.predict(X)\n",
    "sqrt(mean_squared_error(y,y_pred))"
   ]
  },
  {
   "cell_type": "code",
   "execution_count": 199,
   "metadata": {},
   "outputs": [],
   "source": [
    "final = y_pred-y"
   ]
  },
  {
   "cell_type": "code",
   "execution_count": 204,
   "metadata": {},
   "outputs": [
    {
     "data": {
      "text/plain": [
       "22      -3526.852377\n",
       "24      -1000.153189\n",
       "54         -8.401128\n",
       "86      -2821.619932\n",
       "104      -919.034396\n",
       "            ...     \n",
       "54354   -2035.343384\n",
       "54374   -1091.243082\n",
       "54383    -333.590734\n",
       "54384     -85.075873\n",
       "54385   -1079.646417\n",
       "Name: y, Length: 5923, dtype: float64"
      ]
     },
     "execution_count": 204,
     "metadata": {},
     "output_type": "execute_result"
    }
   ],
   "source": [
    "final[final<0]"
   ]
  },
  {
   "cell_type": "markdown",
   "metadata": {},
   "source": [
    "#### Decision Tree"
   ]
  },
  {
   "cell_type": "code",
   "execution_count": 272,
   "metadata": {},
   "outputs": [],
   "source": [
    "clf = tree.DecisionTreeRegressor(max_depth=5,random_state=0)"
   ]
  },
  {
   "cell_type": "code",
   "execution_count": 273,
   "metadata": {},
   "outputs": [],
   "source": [
    "clf = clf.fit(X_train, y_train)"
   ]
  },
  {
   "cell_type": "code",
   "execution_count": 274,
   "metadata": {},
   "outputs": [
    {
     "data": {
      "text/plain": [
       "0.01839630421088312"
      ]
     },
     "execution_count": 274,
     "metadata": {},
     "output_type": "execute_result"
    }
   ],
   "source": [
    "clf.score(X_test,y_test)"
   ]
  },
  {
   "cell_type": "code",
   "execution_count": 275,
   "metadata": {},
   "outputs": [
    {
     "data": {
      "text/plain": [
       "538.6443372893756"
      ]
     },
     "execution_count": 275,
     "metadata": {},
     "output_type": "execute_result"
    }
   ],
   "source": [
    "y_pred = clf.predict(X)\n",
    "sqrt(mean_squared_error(y,y_pred))"
   ]
  },
  {
   "cell_type": "code",
   "execution_count": 276,
   "metadata": {},
   "outputs": [],
   "source": [
    "final = y_pred-y"
   ]
  },
  {
   "cell_type": "code",
   "execution_count": 277,
   "metadata": {},
   "outputs": [
    {
     "data": {
      "text/plain": [
       "22      -3588.017675\n",
       "24       -971.436004\n",
       "35        -27.867675\n",
       "86      -2604.106231\n",
       "104      -954.536004\n",
       "            ...     \n",
       "54354   -2016.931635\n",
       "54374   -1075.486004\n",
       "54383    -417.107675\n",
       "54384    -126.263921\n",
       "54385   -1113.546004\n",
       "Name: y, Length: 4986, dtype: float64"
      ]
     },
     "execution_count": 277,
     "metadata": {},
     "output_type": "execute_result"
    }
   ],
   "source": [
    "final[final<0]"
   ]
  },
  {
   "cell_type": "code",
   "execution_count": null,
   "metadata": {},
   "outputs": [],
   "source": []
  }
 ],
 "metadata": {
  "kernelspec": {
   "display_name": "Python 3",
   "language": "python",
   "name": "python3"
  },
  "language_info": {
   "codemirror_mode": {
    "name": "ipython",
    "version": 3
   },
   "file_extension": ".py",
   "mimetype": "text/x-python",
   "name": "python",
   "nbconvert_exporter": "python",
   "pygments_lexer": "ipython3",
   "version": "3.8.3"
  }
 },
 "nbformat": 4,
 "nbformat_minor": 4
}

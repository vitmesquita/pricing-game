{
 "cells": [
  {
   "cell_type": "markdown",
   "metadata": {},
   "source": [
    "## Import de bibliotecas"
   ]
  },
  {
   "cell_type": "code",
   "execution_count": 99,
   "metadata": {},
   "outputs": [],
   "source": [
    "import pandas as pd\n",
    "import numpy as np\n",
    "from config import *\n",
    "import matplotlib.pyplot as plt\n",
    "import plotly.express as px\n",
    "import plotly.graph_objects as go\n",
    "import statistics as stat\n",
    "\n",
    "pd.set_option('display.max_columns', 500)"
   ]
  },
  {
   "cell_type": "markdown",
   "metadata": {},
   "source": [
    "## Leitura dos dados"
   ]
  },
  {
   "cell_type": "code",
   "execution_count": 100,
   "metadata": {},
   "outputs": [
    {
     "data": {
      "text/plain": [
       "(228216, 26)"
      ]
     },
     "execution_count": 100,
     "metadata": {},
     "output_type": "execute_result"
    }
   ],
   "source": [
    "df = pd.read_csv(path_arquivo_treino)\n",
    "df.shape"
   ]
  },
  {
   "cell_type": "code",
   "execution_count": 101,
   "metadata": {},
   "outputs": [
    {
     "data": {
      "text/plain": [
       "(217636, 26)"
      ]
     },
     "execution_count": 101,
     "metadata": {},
     "output_type": "execute_result"
    }
   ],
   "source": [
    "df = df.drop(df[df.vh_weight < 50].index)\n",
    "df.shape"
   ]
  },
  {
   "cell_type": "markdown",
   "metadata": {},
   "source": [
    "## Análises"
   ]
  },
  {
   "cell_type": "markdown",
   "metadata": {},
   "source": [
    "#### Veículos com maior probabilidade de ter claim maior que 0"
   ]
  },
  {
   "cell_type": "code",
   "execution_count": 102,
   "metadata": {},
   "outputs": [
    {
     "data": {
      "application/vnd.plotly.v1+json": {
       "config": {
        "plotlyServerURL": "https://plot.ly"
       },
       "data": [
        {
         "alignmentgroup": "True",
         "hovertemplate": "variable=vh_make_model<br>index=%{x}<br>value=%{y}<extra></extra>",
         "legendgroup": "vh_make_model",
         "marker": {
          "color": "#636efa"
         },
         "name": "vh_make_model",
         "offsetgroup": "vh_make_model",
         "orientation": "v",
         "showlegend": true,
         "textposition": "auto",
         "type": "bar",
         "x": [
          "rthsjeyjgdlmkygk",
          "johsjccpkithubii",
          "biqzvbfzjivqmrro",
          "swjkmyqytzxjwgag",
          "tdgkjlphosocwbgu",
          "lqkdgbosdzrtitgx",
          "hselphnqlvecmmyx",
          "svmjzfcsvgxiwwjt",
          "jjycmklnkdivnypu",
          "iwhqpdfuhrsxyqxe",
          "kzwthrslljkmbqur",
          "zqruwnlzuefcpqjm",
          "ponwkmeaxagundzq",
          "xjaddkudsebowzen",
          "aparvvfowrjncdhp",
          "prtnwsypyfnshpqx",
          "kvcddisqpkysmvvo",
          "iulvirmzdntweaee",
          "xkzehzohmfrsmolg",
          "zoypfizhpbtpjwpv",
          "uzmldekmvczimsrj",
          "ubttjiaeeuwzcclq",
          "xaklvfxsplowrglp",
          "nilvygybpajtnxnr",
          "jhdjdpthkztnjvmb",
          "rcxmbwwsxkkkyyjs",
          "ettwalwfkzvwdasa",
          "yfalryaixpzfoihd",
          "quslbttvcitxzeiy",
          "dtpbahjtnmyuxqno",
          "kbgblyclstrmicux",
          "dllcylnkzeegtsgr",
          "pjbnwqhnqczouirt",
          "gjbalugsikirqoam",
          "jgkpiuuctpywtrlh",
          "gfhjqtkgvomiygvx",
          "nsymgnybdjqxudvj",
          "fadjogsnmecatcfb",
          "xzdsapxqliboezbc",
          "hkazsxqvbtmawovu",
          "wpsyqubfrhdspxkx",
          "jrwdpzrmxqlzzepk",
          "jjjvjaxpzvlbryfd",
          "ngombkqqomblyxwv",
          "bsiyfrkwdyptmwji",
          "kpciudedjlrqsfte",
          "zspzyfdefowgwddf",
          "nhwgapjtnadqqaul",
          "yzxgnwgpnrdprtbh",
          "guiimarisyyjqnfg",
          "yvlkrzgjhwrlyihc",
          "wyqgeeclrqbihfpk",
          "dweqmfoluivgiayj",
          "nhoebceeiacnmvym",
          "dyzvyrmcdyybbddd",
          "gujwvdfcmmqcwxfi",
          "dpcnodgqfivkhxvn",
          "zkreetxvsoihwkgo",
          "xpxsjmglcvcsxwdy",
          "ammbrasbxojlitmt",
          "hpohizpkyzvwunni",
          "rrlvhbnzrdtphqnl",
          "pyykjiriqrhjduly",
          "epbwnmcyogpybxlm",
          "saempmkfulqhwfqk",
          "xyuwuxlpirkzkqdb",
          "ehapkksqqcbofeid",
          "nkueyjctyasmotny",
          "htedybhazfjiueyj",
          "uwwrbkmjbjyxutfq",
          "rwrevaiebpmviwqz",
          "bvuzvpriwqlnbjxt",
          "wehkqzwvbeonajcu",
          "onzjhhtppsfaiacz",
          "dwsasdexwmpsmowl",
          "asmpttrlkodaejic",
          "jiyzqszfywhdfsil",
          "dlrodwgixwmoquny",
          "synvsxhrexuyxpre",
          "clmcokjtplrbzvuh",
          "uhkhghxuorryhlis",
          "zagpnfpbwgeyeufr",
          "dbtkrhmbfxpkqbau",
          "rabwrzdzwjjdhbmx",
          "eslneidrjqwzpqhd",
          "fuwhdjmdexrstmmo",
          "xjnjmxyqemqqiejp",
          "wxzfbqtarfurwcfw",
          "qxtqrwxfvuenelml",
          "toqaaqswchaiyhsk",
          "qvwenzdmnwecdiql",
          "uahuglbjdtacoqjt",
          "sguprofjftozaujc",
          "snsnxmucuccvqfvz",
          "doohwubeqhbkevhr",
          "iqepotyqjqeebzix",
          "qpcebxmotqhildhx",
          "gjxmrfgnorpfspbb",
          "hwldevoubgzgbhgs",
          "nwaavqeweeqaryzv",
          "abcepdrvvynjsufa",
          "dgwtezteqyzzylho",
          "aewtdnpoiopumymt",
          "rgrpzewhrznrqrna",
          "gsooyxmnwsucrksh",
          "wsfgxnwhxftjhpxw",
          "aywlgifrijfokyzu",
          "srgqbkjrwdbikmzq",
          "jlxizhsfukrheysf",
          "ewkcexkqpsyfnugi",
          "gapclpflkdsbeorm",
          "mbytpqiuixyvpaab",
          "aifsqdniwqmcuqpv",
          "rguedwefqmzdxowu",
          "oryfrzxilushvigq",
          "qbztetcodwhfmoyg",
          "owxrlgxbigikfgtm",
          "nyrtstlobluggnkw",
          "gjpgirzuabhfpkjd",
          "ldxjynecsqlswvbq",
          "anqyvxqouldudiww",
          "dgwbxitzfzbegnoc",
          "fklewvbxuecmupxn",
          "ixbrfaoerogqomah",
          "wgruytvmfzalzrtb",
          "mizxbkgdiuoehddq",
          "cgkclpnidlmetsrb",
          "olupoctwepebdqqo",
          "zxvcbwcwoqnkxxbs",
          "efiskxgaocgqqjvr",
          "pheduvdlnmrchihf",
          "mdxtphkujabwpjeu",
          "djyptluftbfkxtjd",
          "shemwbbeliuvnvvm",
          "xgvsuftfggoojbdp",
          "otrziwxmbpndmyaa",
          "coufviypetbrtevy",
          "jepialiqqsttgcid",
          "ajtardhciglimsdi",
          "zydfvjqmmwhyfuyy",
          "pyholyswkkqjmxlj",
          "kjhuznifzeghfdra",
          "dpklliwcxycpfriu",
          "pselomoxubpkknqo",
          "abacekzzrkhtgpcp",
          "hcfpedolsygjsofb",
          "jmycebfjwrkqwsxi",
          "rulqevsymrlwrsrz",
          "byvoguptigfevpyy",
          "usjukvawgoqplrph",
          "vnxfpyxuciadydrl",
          "tceovgpqjjopitor",
          "lqqciehjjdtelpwa",
          "arfzuuojdtlgxehv",
          "ohgtowaarzphsifb",
          "esilvarzflhfmjhh",
          "kcfhiwouwwfjqtta",
          "ambmbeydwsdljdcc",
          "ujwlwswdwvbpacnf",
          "usmpkujeknoxdqrc",
          "jakvzvdollijyhwm",
          "lwrjcljtxkokvnes",
          "cazrxylvhylncoze",
          "llkwlxfjdmrqmdgq",
          "hywzsmogbhnfcaxk",
          "xdeuhuabvdhjipnp",
          "sutdaojcvfqmjnwg",
          "cxxzogxxkmkjwqui",
          "hhrmdevbfqiebnum",
          "nofmcfnaiuzlqgrk",
          "xqydufxhniyjunrl",
          "lfzbrhthlxhnmhva",
          "uclvvrkbezlvaulu",
          "yybjogamsfqljfpu",
          "eyrwkwxecpzxzscp",
          "rwtwnvhjqabvovnz",
          "gzebcnjcmqioqcjb",
          "tdozuksvtvtqcykp",
          "isyektlfmcpmotpl",
          "eokuiduvnrtzavmr",
          "yttvzqeuddvehiqu",
          "qdsjznqzjxlekjtp",
          "szvfwsizhxrbklhz",
          "kalfshwbcuoobdwe",
          "dwhlbcevejvegsob",
          "kzqcxkrdytalrphb",
          "alrfnehgsdtsunhm",
          "nruhduwvuytxnfvh",
          "ggaokfjtqxyctvok",
          "qdvjpkftaveygusd",
          "tlhipnhcbdhvhgyw",
          "obvxygchobqafuzw",
          "rxyndewyvbophaku",
          "uureltetaotxxdji",
          "wyopladghryqlrlb",
          "vpzzxdehhwlzsgrp",
          "smynsodmtrrubpqq",
          "fuddhlszptfmosir",
          "yzdbjmwwtofxmpaz",
          "ygsnfanduarpqvrn",
          "ysonsqntnqnqagnn",
          "gjblfwqtnckjletn",
          "lmqoiaqyftqublmk",
          "ofrkezlcbbluncri",
          "ctachoeiozcpkmst",
          "ptaxsjwbissrpvdm",
          "ivhhwynrahlruefk",
          "svcvmlpsqtzbrmnz",
          "xjsozzwcppavldee",
          "csxjshhnfbtgjcgm",
          "zfylmujpvzgqqfxo",
          "urbnjdherequimyo",
          "wyoxchtoecahbyjm",
          "wtxtgodhmneofvzz",
          "ejeggxbwhufjtjhd",
          "aysnuezuqgjioyyf",
          "xoueplwxwxrzasti",
          "pdljbgzzhxrhnqmu",
          "iemmvtjtejhlteqa",
          "yqrgxthbbzmruvwy",
          "fpfzaadmykntrupr",
          "aceqpjprqgzhffuw",
          "qfvolfbvalczrcko",
          "nfmbusxwwqhsaquy",
          "ufpwnqycocwwbgqi",
          "kfurwythfncqbrxs",
          "dsqmtbudvjtnnjwq",
          "gspurupoewenqznk",
          "vikmjrynreazqubj",
          "zzlzzujtugbfpsvv",
          "sdottmimvqvfhzlk",
          "jkarjtlhihuxqzfm",
          "nxwedpnhirijkodc",
          "gjchrdhbeixppooh",
          "ojribuhtopqgkqpp",
          "whcqrtwarljaqocm",
          "mcadxmmocjhzzbtt",
          "bnvgzfegimthyhyo",
          "swxgkelaxkoffszz",
          "ogrmvnhwyeydwcxi",
          "iigklaveqvybkbid",
          "ngksfbgkdeufmhfy",
          "nrmzpcqkbzgmsdeo",
          "ejbxcyhffvcouoxd",
          "qwcrrrebwyeauczj",
          "dhxftxnxtxlgqcqb",
          "ehtbxdjhvcwdapsg",
          "cmjjolnwfprpzntz",
          "ohxrgpugowiyinhv",
          "kwuuuvwdrjkyqyfv",
          "xiwnirovwicymtif",
          "kjdumkaiaeblbxtt",
          "wqqxbrsnrtnuxjjl",
          "wchxrbrhstsmhdsk",
          "gpclrtlzecazeeev",
          "sdvssyrvwfwmdccl",
          "exkqtrkthhgvjqdl",
          "ebdcmhmtqnfkaalo",
          "urullqqbaabxllxl",
          "xhczitnzxmxxebeq",
          "qnixeczkijjyiprb",
          "cbmmnlpqoyyursux",
          "spbjeokdemicpdey",
          "anrwlguztftzfdng",
          "wcyahxrmwqvhmadq",
          "nzxlhibmhrtafeav",
          "uamadghmregezetz",
          "cuxaapvakeemmbaa",
          "rjhfsrwtoqfqvuqu",
          "tyktnjdtbrucursh",
          "vpvsuuudxglarezp",
          "dhjmmmtnpcnalzna",
          "gguphuccgeqyojbl",
          "drpwkafcvcypyrmw",
          "ybmkbrazyartpatx",
          "nsgbpbjvswwlhvmm",
          "eudwptcohxaazhpt",
          "jeckddxjsdolnuhe",
          "ybbdbpunwekygnto",
          "tkqxtjbbrzagooya",
          "arcsdpohuzvikyaw",
          "jsudrcgsrfddwixw",
          "clsrzyechukbaeat",
          "ucggoqoneixjlxxy",
          "cqdmtwkacajclcml",
          "gxpuiivthwcmpcmc",
          "iljhlfeengkciosq",
          "xbhnetrbyfixuzmj",
          "fvrvkxucfyuyfpbk",
          "hjyumbyuzbeubtbb",
          "xuioboiuzasnmuva",
          "unmxysjyilftwsvy",
          "zsuewlbquazyrgvl",
          "iklmkdrwatltidff",
          "kcjttmlajpvbntkn",
          "ylboorftnzombypn",
          "aivacsqryguqpdib",
          "tduddcyerrjazjsh",
          "nzanewsbtbnpgrom",
          "pqpqthiapbycbhor",
          "adgfkcvmsaxxghoc",
          "cgighhnwnkxluccz",
          "sboaeuuuhpsjujpz",
          "uysllzwmzcsweunu",
          "sfcciovhmwqehacv",
          "jrwemlawxsvnwrxv",
          "gqfadgvnztixxbmv",
          "zakviitdfvxsgkow",
          "zedpyrfkmhzqxmaz",
          "vbnagxwgmwirhnjt",
          "nmhahirmbvqxhxgg",
          "dlrvgwmumnwcjixm",
          "uzrhbfduaqijosql",
          "uzqtsirvtxcfqnbp",
          "xebooruxiuwbpzdc",
          "zcqptmhakcmihiry",
          "ifrzhyqsimoeljaa",
          "yglorajvvrsviget",
          "oihtzffwsrwsjnfu",
          "xsonelzsqbpcodxe",
          "xrxxucncrqtcgixl",
          "vgaanttvdscmqmjr",
          "ujgldnoigollndkj",
          "vxumxjoeywcphfoo",
          "mcloznejvtelpcan",
          "twhtulgwsricneea",
          "beagnicqcxahqkeq",
          "cufklbvsirnawzmv",
          "dqxenajfgcimjgnw",
          "jcefoutonncubdss",
          "zvdpnzgvkjkoophv",
          "tksyxmdgogmokuxv",
          "phprbhssfhrtbeue",
          "tzsnmmekuhggblhv",
          "qachmbxcslsazphb",
          "uotpflqyvprslxjc",
          "ukqbsscpgbfatdhs",
          "vokpwtikxckeemdi",
          "snpaaoiipfuxmvol",
          "myfrksrutuknkcnq",
          "aawqanlavsjfqrne",
          "ypgcfauffeqpeerz",
          "blcuqlgntjavsyhs",
          "gctieesvmkeoozqx",
          "kqxycgbergacgcei",
          "joosvbazdbslkqgx",
          "tupmlwnkgjcgcmuv",
          "jkguypwgxebmtnkx",
          "qcykqtxlqnbcqfct",
          "tjvewbsfsiqtqttp",
          "szduoosmrfqduakm",
          "sbrarddcurfhmmqk",
          "tcnfpudadgannoey",
          "ttcbkakfxnfsllyq",
          "ueujqvpwszzhovbj",
          "tsvmlrkmftqbjvub",
          "xgikerzyofvqsmnt",
          "huoicgalccftwyvz",
          "ztwsplndgicacmuu",
          "oeexhaebfkkjfpff",
          "nolayrxwnjwzgtoo",
          "ssnqyyteovyaxylf",
          "ugwrafmvdavbsrzl",
          "dqqtizjjhjmqdqqb",
          "nbxjozrynlospbso",
          "kqubvdyyovhfxtpc",
          "drptidaltxzxopwv",
          "ekztjicqomhuclqr",
          "hcoxxbfccserxklx",
          "xsmqbeukcqahbfgl",
          "jkhjcfudwqurdoex",
          "rqklbykswxeuovdn",
          "godkpvbnbdeseoct",
          "cqewccykrcmvawlo",
          "lxvjgyjdszxtcryf",
          "kmlnlefquqpparsa",
          "timtcrwibllgvgxy",
          "uxfxpraspeoqtmbg",
          "fjzqkqcjerkjykkk",
          "mjpgppxzelxrbcnt",
          "ygqjgwzgeierkcpj",
          "kguahfjnmerrbtpp",
          "suajnmrxuunoyngf",
          "gsbeyysssgzgkkuo",
          "dnvcqpxxzahdhbvy",
          "kbqauyzezmwspqvv",
          "xoetbcowyxwukawr",
          "ptbudvgjgycmmsdq",
          "cpruzckbhhcyorgf",
          "gkxcvooedomgcagl",
          "iwxvflrheripbuvw",
          "giyhzprslgbwsaeu",
          "xxppvuhwmnezefxy",
          "mpmchhrcazhsvjgc",
          "kowgdytyvjhvcmta",
          "xkqlmdeookbxzzhv",
          "ywnimisaozuyjomi",
          "lxhecyqzfsucxgqm",
          "gmzbnaysqjpkzqbt",
          "xabkvgvnbqzrmnyc",
          "loomciwexxewgiut",
          "cnlvybtdupkcwczn",
          "innngarflvbnwntw",
          "bwpieeluivljdtai",
          "dluodrxtjdtvbxug",
          "ciuxczxwhwbxdkdf",
          "pfvqxmrnkptcrhet",
          "noxmlxlzirrxdriv",
          "fvsyahnxhitfllgt",
          "gcmwblighdilwauf",
          "gyhebbdhtmqwwxnp",
          "wiyyghhcxezudyxg",
          "yhcelpjnbxpsmoez",
          "gvordmjbkxszftsl",
          "zrfduayrhhofpqtt",
          "qqmkwgdqaimwcbxo",
          "mpnamiwsqkvamhfa",
          "vdetuihriafhetdl",
          "wrzuftzqwoiwsmfc",
          "vdwfxzfzbybhsmay",
          "zojbyremtnxajomo",
          "flpmjcetsinyjimc",
          "bikffjqejohkyhat",
          "qzgaezfhutbcnkuf",
          "pvrjjyumueakzstw",
          "ltdxvujhaocpnmzf",
          "qewzxgvvhqhkfcxe",
          "xzwnliotgalpusga",
          "meratbpknllwoefn",
          "rclsneerlfasdcpi",
          "ezjnsjxvhnocwwix",
          "cmmuslxsfluvfyof",
          "ukztcjpqrpetqrnx",
          "njujuhbmnqusynwf",
          "gwptulznqgygeegy",
          "mymdahqxtsywqpdn",
          "dqgtaigmpivatpeu",
          "tgfhgapnsxiewemd",
          "squxtuwvjnzbhzsc",
          "ieqgavmmxulqlvvl",
          "vqdlslwzvwucentl",
          "mpwepwxyokmciojj",
          "qbkipjmisqllqwzy",
          "ijxmcnthqquddvhc",
          "skgvahbwdkddoxha",
          "bdmklueoovgkajff",
          "fszxbpjtsihsmnqv",
          "xcvdausiwfrjukgn",
          "jcpjlgfslytgmbjq",
          "qoflnrycwjlbfmow",
          "uhqwwluaswbuqqjc",
          "agowcnternxraavr",
          "vjxfnjqgvugwjhia",
          "cgrdxjyaxssrszjz",
          "nwfvqtdnlrvhdbuc",
          "lhyhsxrxdftbsavk",
          "kkxluqnhrmwkfqnh",
          "dcjzdpoxqvgnjpmi",
          "fgxxyxcbjkodwcln",
          "hvziklxqbjbvncjy",
          "vnefzhazthgsjuax",
          "zbprczwzmlxgqykc",
          "pbrroilhklrifbwq",
          "gdzfmtghobzpihgc",
          "elvboiqxkxwhtgzg",
          "jiyhnfvmyyrpnzyx",
          "moayoogjmiizcbez",
          "owkgoejsxqlzahbz",
          "szlkmablxrjoubla",
          "yxovdmyzjzoutcek",
          "edlxghhjgpmvhabz",
          "rbxibrjokiihgfjb",
          "abipwhwqnzenjxfn",
          "lqalilfrsznnxarm",
          "ldkzuxzespcgajev",
          "qxksnnsrnebfkwqs",
          "kzhhwebpekxgvfsl",
          "tpzzxliudfwqpopv",
          "jcxkvyjnzflnlzvh",
          "jedhlhdmkdprvyex",
          "goropquvqaoaajrk",
          "vxqfscklywhurrjp",
          "uzfgpmnazksmudrw",
          "celpzeaubkxaxxbx",
          "ajdmkzcduerbdsww",
          "ejlwzigdhipvpndt",
          "selnccftdsqbiurb",
          "grnnfnsjjydskrht",
          "cwshqcgmaazzefkx",
          "tdldeeccsirqwpcj",
          "uxpkyjrybttfrluy",
          "zqswdfwtkyehitft",
          "dmqhptvycdmkaxbw",
          "fdbwfjqkichwdebq",
          "xjsnlswprucbsehn",
          "utvgeykupnwzepks",
          "zayyxxzvekzuooyq",
          "lxjkslpwiofoynao",
          "etegzqakpcvyhkaj",
          "kwxjejihbgmtnagf",
          "vjarzxzevsdnftcl",
          "bkwszkqrqybfgpyn",
          "wotupxkyxwcienzd",
          "ldnocwfyeejbmmcy",
          "zwutaiivgrxnrwat",
          "gtbzqhsuzzdfhzfv",
          "wkzwidzltxinpgen",
          "kilbdkfbpczjrqek",
          "fydlanmzkobgcfsj",
          "skwelgffvlzgmbro",
          "kbixxyjwgxmbhcsa",
          "wycspyzpbmhbnmda",
          "lwtlsafdbhymtibi",
          "ruyuflpnypnsgkbq",
          "vomuvsgbhqzjwhgb",
          "dlbnpwopifytzerl",
          "uwqsodousnydlsud",
          "qjkwsppqbsgsvjwa",
          "jlhzkuikphkxcigk",
          "qahlidfcpdaofkwm",
          "aaykjdjgdzrrdvxz",
          "trcsvrxdekscyvyq",
          "degvuccboupdnasm",
          "hvjwbevmcmjpnknw",
          "nhqkbmwihkfvhjxx",
          "gxgjyxrnnugizdvf",
          "udlfdefgndowttah",
          "qpjdblaqrqyuoaqk",
          "disoykeofihapsal",
          "smcawzwicovvejgm",
          "cfuyjykoohewxzeg",
          "aloltvlyufzyxfvg",
          "enmicxqiumbpozpk",
          "bpuzzsqfyvebjzjg",
          "ldejndeewhhlcvgc",
          "sghyfposeljrkedw",
          "khzmqnkqbaqvnakh",
          "ayeiibefzqqbyksg",
          "suycgjdrxxvxgmha",
          "lvpcmycoagwxqpag",
          "xzdakcdqrnwhtpdb",
          "ykzumnthkadrzjdb",
          "vrubhbzjguaxfmlc",
          "uskrsfpueljrtxkg",
          "pvyfdiggxtjoyhqf",
          "tlspgqlrhuzholye",
          "cedgzkylsgxnlcjg",
          "qgnqfinpenszbzig",
          "nnzwevftfeodipkn",
          "nfxbfvlwvmxfproe",
          "ajvhjkzguyeszaqp",
          "optzzqvbwwriedfo",
          "eivjhovgfnfctgjy",
          "szluwlsqbkcnchxg",
          "kumhekfclnypkavw",
          "cwxtybsrimchiwdv",
          "ceswaufhjtmqcndn",
          "owkiszjuntmwilff",
          "dvmnbbkcvcgwnaen",
          "lwclhevnunilhrmm",
          "lctcvcvytpesgryp",
          "yweystgylcxxranw",
          "bfmdeosllvjkezwq",
          "ufxhmwifrakfhfmb",
          "xndokrsndaodfknp",
          "fwqrokhhbukfpssj",
          "grpzbvvgujnswyyg",
          "itvlnddnkkmyemme",
          "blmjcblhzfqwhgew",
          "zczpxdcxdciitjcu",
          "djxdgbpuyerxgrmx",
          "fliymzbupomtmyry",
          "qnesuhpxsptzihzg",
          "evuqnfndofizyoqn",
          "rrsrcesavzhbjqwk",
          "qmahqrjhkxvkwboe",
          "bpqxbrvavqshzebb",
          "dkgrgmlhhtnvzmps",
          "exutskjkecvotaxd",
          "ruposftqgswlcyou",
          "updzeguaxbccwpoe",
          "dychjlsxfaurgode",
          "gforiqpfasfwlkfl",
          "bvkytcvosbaunupg",
          "tafluhgrtixdlhpv",
          "luxhsezouvtbkbpn",
          "fozvmjndontqoxpg",
          "gkniccewzkphqzrp",
          "yljpdxzmshdpmyhl",
          "mjwrreshlbmzkwmc",
          "xiesnbkcyzrpzlyq",
          "lybpmhaivmaqtmsq",
          "pfwcfdvpkuyucnkn",
          "nhembilpmgrfjifn",
          "owrozlxfshxrcgvh",
          "mbnozlcufjgvpcdb",
          "wffzvseexopfwwjy",
          "ozpyjjijxdpztngv",
          "adhoqfsfdpetomvs",
          "mshhupropfijhilz",
          "ckxqqcnqrqxijmmf",
          "erouvyhobhzcycuk",
          "fbvdqkwltwgykywc",
          "fvflhdedljqrcqle",
          "hungxfwbkelospfy",
          "wykcypxicfqltavz",
          "xewlloxrajhpbuwy",
          "ktpoqrjuewxmkjqr",
          "ytornvfpgbsoizqr",
          "rzjssfxzzoddvgdc",
          "htppstzpipwjtuia",
          "pticuqiimwdrkpdy",
          "tmikjfqekaorgssv",
          "lqohoawdpvdisdiw",
          "sgknghheolfpzuid",
          "heicadwqfavetjwx",
          "hayciibjzwapccnb",
          "infvsqmvfzjpyfae",
          "gvsbsfrfcvftmytm",
          "zzjxvhegwmgqodzk",
          "hruelqcyvmwzsqkp",
          "mdiqmxwkzvnpeaop",
          "kbnrpawcssaxrpmb",
          "dlemjwpmokwptnai",
          "uudulyvocjutaxtj",
          "lxchmlyoaiocynox",
          "cedczcxvthqqkwvn",
          "gdtzpvajphaxanpi",
          "tbpblaaxsajjlyok",
          "qdmbicmyqrqalixj",
          "oijipbtrzkghftpt",
          "ospbwzzmmxeovscc",
          "eootycnsxmeekotz",
          "qdhfzxrzisivuhbx",
          "jxlbmlxexeucwbue",
          "ughzfvxgeziewvdi",
          "kpnwdujiylvsiuhp",
          "ajktbllxjzfdtwpy",
          "tcyogsbbufjzekla",
          "cyftaexytlgvmcbd",
          "ybsenzutfrjternf",
          "itmcxdqtvddvmanj",
          "dtdrfrtruyhvbztx",
          "swacqepcxnosmcll",
          "ggzcspiycgszcunf",
          "bgqrpfiflzijywyu",
          "cwrigmmyfzesuezf",
          "avrwlknteymnpjpk",
          "vxvmxuncsxygbrzd",
          "qzrkqxhgbqfyswsj",
          "qyqvfzuwfpyztbla",
          "hqixaqcgdcbagrmw",
          "xsfzlqjhqbcpswcz",
          "lwhjrctubjkbhzmu",
          "tsfyxgkwdidzgzpg",
          "dohuwjuguzyvqaqg",
          "vwjjtxhpebfhzzck",
          "hrlyreijarvikmlk",
          "dqmsefrpxrwielmk",
          "ismjlsoibleinjdp",
          "anwpfxivfvhnobvz",
          "obtymepcippfwigb",
          "ggqsqgrasnpkxano",
          "cictcfpmfdmknnye",
          "nhmkqmpmstaunzqh",
          "vfprhybczhnkefdf",
          "ttwsxzxrhwuzystf",
          "ezaffjpqpacrufvd",
          "efyukbppkfgttvvw",
          "rtqyfobkpliuutfx",
          "ouhkmefnnchsggpl",
          "lwwzmxipnntydwir",
          "lqsgdewyevczcvwf",
          "eyrukxfjgrcdrqeo",
          "ubixvbvqnnjdksca",
          "ufqiiuoxasjwxqbf",
          "wqsapwecaqwzorqn",
          "vbjxuynqachujrmt",
          "ioqpncqqlflrjzkj",
          "wxcohilpavlwlnze",
          "gbkevbmczkqhkmoc",
          "fupocenmkiiluzpe",
          "yrfmcopbrlmfinuq",
          "jskghzhjrpywrbfn",
          "bfmvfelwblrzqfyr",
          "wrvfnbtdqgpsnzic",
          "hikofhdgvhuwkixj",
          "zeqmrfiqiusygxdd",
          "atsglyxkfbaztzlj",
          "jtedxzwqoodxzcaq",
          "tegzsblugaczvdmy",
          "wniogbpezwqrinyt",
          "txcfordzmkkiicwu",
          "xaaujpnniyiuhfql",
          "uczhoudymbvnhter",
          "txgvnaysouvjtkrb",
          "qwqwzvbefvgugtzi",
          "ogdxwqtrpclsxeyw",
          "mbjevmuapzxqjnwg",
          "xieosvyuphbcyzul",
          "zfesqldixdegnidi",
          "fijtohsiakkeuuct",
          "esiuazjovwvdlgjy",
          "zaiwfnldcznzgrfe",
          "dvshwarqhxfcgwfd",
          "sncpkctrqcditirm",
          "tsufyplsxyqgndsw",
          "zrclcvscjwdbabii",
          "sxmsrnbwrnvfjcvp",
          "obkqpwjualnnwgrt",
          "mdqyvrtwekmeflye",
          "vtmylwmvnssatjlh",
          "qukbrubjquwstnyf",
          "azxtekfvyycfmnpt",
          "ngpgrthcqiirdsux",
          "iydbustazndekvfq",
          "wcjrtzzkemciejsz",
          "yrnbnvvghdwvpayv",
          "jhafhnhmasllifix",
          "brjgjnnpueqkyaxo",
          "iexbeucevqnjjbcz",
          "qppmxxfbqiiallmp",
          "jynbrbzntxrssxzh",
          "xrmvlihddtxlbzvw",
          "ubmafwgdsmbkfmwe",
          "ovhdtvldyrrurawo",
          "tdvzvrkldmrkqeth",
          "ktrfapbareyzyyyq",
          "pbwbzedhenqmpfqt",
          "admgymnmeilfhmji",
          "fhliexbdvrlrpjvx",
          "yohngmkmrueenrvs",
          "mtcsefxrgtfdqous",
          "baqjsealekltnrgg",
          "obzgnvzzatnjoryi",
          "wlttiymytfacsrli",
          "kgezpfvpmpmdicts",
          "yobesdjweimafxnq",
          "knrylcwjpefiqlma",
          "rhxboadaoyvvgflk",
          "hotinomqpajebeov",
          "tzyaldqhudfiajin",
          "okzpgwvslpvgceva",
          "vylopbnfewdzeury",
          "ujfqhxynqnqeldes",
          "zukemjnabmcizdzn",
          "xcpcxksgiefkqznu",
          "mxmhlvlmychxzork",
          "uudtrowerqhfztjo",
          "pijaubxodtxcsqjp",
          "ytckjafhdfppmrhv",
          "eyaqhofitsegmcwi",
          "mkbpzddzmalsleud",
          "ibjlpnapcnsmgugu",
          "ljwfegchielwaghb",
          "dlwcludeemsmffyb",
          "unlqqlfvajjczyks",
          "odjkyxbmtxqhkflm",
          "btjxvrgfduskmpts",
          "pmxjblqhvpwflkwt",
          "xqascjfdlnlxubce",
          "nggwrmvazdxdjyfh",
          "gdultxlilvdnuwso",
          "lhgeydlzsntbaqzj",
          "nzgfjmknhxdezggp",
          "zuqrdemwihnexkpw",
          "yvuoearellwavkzs",
          "okeuihmplbxhxceo",
          "qbohnomeacnwdafj",
          "dzjyqrdmawtdcqbx",
          "lzsfpyidvnkaxnvs",
          "fkltkgzmjnzqzlqv",
          "fzgvfpmdmggikezp",
          "jixkbeuswaznqplh",
          "payritakwxpyzwqq",
          "ifalilovsdszxmjm",
          "zhzmkwjsrgvudmmw",
          "zycfmwxhaaaxdwpb",
          "yhzuhoixugafkonm",
          "cxvltpchlhlatjkb",
          "bowuhkfextvyabch",
          "tcyceqtrfusfmkpy",
          "bqcnaxkvbmfieysy",
          "frdityocokfyohoa",
          "qzkbvcycbyxrgbqk",
          "kdsbtuikoaulynsu",
          "bvfbihgnteuiuaov",
          "qozlaoxmwusgalpz",
          "hixbnwflcimyepla",
          "rsphcdnwdddxhdvb",
          "hhidavhckwcwznhf",
          "vwerelrvyumnkbwk",
          "uevoqlbbbmmhkdbi",
          "gicokqmbjnafngon",
          "yqztzexmqeyeirmv",
          "hjhvhzfpslejsnej",
          "vpvtqlxqaiejzrqo",
          "xnwekpoxnvwckfcp",
          "mmfquhvxcmjcvmhz",
          "xbdjgmfolqdfvftr",
          "sqqvhmadjqegpsps",
          "dzbwjjmruyqxyvms",
          "yhotwssicqxqetep",
          "efhjvgwyjfjqsdna",
          "zzubfikjmmfsxhbn",
          "hgyoclvrybybkocm",
          "mvvztpapgrcwgrdt",
          "gtvhxebtkefavzhg",
          "flnipmkwonjnaqsp",
          "znppxsjvuytcambw",
          "nugjzznlbtmumwrp",
          "luwiodhzrjjobjlw",
          "pfkfojczxwevqesz",
          "vuqhkgrnmheydqku",
          "hjhlpxkdgqzdlnkc",
          "esvszhlxzbxeecme",
          "vzinjyeuiebqjmep",
          "degdppvcniqrzruc",
          "tneakanblaxyevhf",
          "zghfsejpgrfrqfdp",
          "whfzavgfbojmgezm",
          "mqsiquclpholncqd",
          "wnrwtzbbxbvnmbqd",
          "akqknybjyxwbdpot",
          "iditakunbaxfjcmc",
          "jbvhqxmbarxynmfk",
          "iadwyxxyvkcpyeus",
          "exfftzvkfnajarkm",
          "kglgveumqmtwrqsf",
          "uhhrakuolcaxvsbh",
          "frvooqzltrzlbhxb",
          "cllupxtcyclounsg",
          "vnsxpowqjjomnmac",
          "gykwyopsdhbsalvd",
          "fouvkndsdstwjqpj",
          "fnfpmchfyyqmdtfm",
          "gfbcqaotflsogaet",
          "jghfkxkawqeujuhj",
          "gvaasolsbmnbjhah",
          "nrwphouoeazzmbmx",
          "tuudpbartgtwkoms",
          "rgfytoxurocumuxu",
          "afmufyguudlwbcix",
          "vafxeruawxlvrttn",
          "qxnyigoiwisibpko",
          "feioipyfbkxhcsyq",
          "ekwqttgkaobektch",
          "ccxwaznvwtdltwlt",
          "nkktflvfoasvkvht",
          "ablxjgbyowxrfxed",
          "uhnrmazhzouxvsqd",
          "aewtczgiyochvagl",
          "kzzakxocsxhkvslf",
          "oqbjvmfvjonftdxi",
          "njcwousmigzpursi",
          "mtubnuteguketfck",
          "spqqpwucqcaspwkb",
          "kxmtwjjyzuqqgmjw",
          "aoytjdcfreqvurza",
          "wmmjbitjeevklkzj",
          "uaweumzfugnsyqmx",
          "pgkgdfabkhkbviht",
          "wylaluxuyuqkytus",
          "hwsgwbkydspkbben",
          "dxpafctvukcmaqao",
          "vtgypuzvlawmkolb",
          "jdsmqjpfexexznya",
          "qwshkzmlvlerxsov",
          "caovvakxarqpgymh",
          "bxzfdlphpiwyjeys",
          "qwedbcvlquqfoycc",
          "ktytfazsvecrjvzl",
          "lpwtmtiwkgbwhufg",
          "buuihjqtdgilqzjc",
          "lhamctzhosdtmdix",
          "ntjpzidotcatossl",
          "ixyvsrnksxeiqbve",
          "reolzfmikorzxstf",
          "wrpeamdcqpawnqag",
          "bxksiwcqwmxjcbci",
          "ulrbzlswbgzvmpas",
          "ureljkoqqvqbpdvx",
          "asbtrxjnhqdpazot",
          "clcqzivttlcdfpnv",
          "bxrkvmsmoqvefhra",
          "gzpmemdiurffxomf",
          "mxytuavlfghapjvu",
          "dxoirhatawazqmey",
          "hjejiuqyfrvtxagi",
          "muixzziwtwouzapq",
          "ndepxuvlaiqzdnan",
          "jancrvhjhcbxreda",
          "vuvbtxegkdifkviv",
          "qidpxyunryowizua",
          "trwedbipujnvnhpr",
          "lcokgbxbqigkqzcw",
          "ryjiidsxttvdcpwu",
          "egsfpimnisvvfkne",
          "nfrqxttuhpuqvwti",
          "rytmtyltypttvqjs"
         ],
         "xaxis": "x",
         "y": [
          16724,
          9296,
          8536,
          7476,
          6212,
          5796,
          5640,
          5508,
          4604,
          3816,
          3800,
          3748,
          3728,
          3692,
          3560,
          3180,
          3164,
          3048,
          2884,
          2532,
          2472,
          2288,
          2268,
          2264,
          2196,
          2172,
          2160,
          1956,
          1932,
          1648,
          1628,
          1588,
          1556,
          1540,
          1524,
          1436,
          1428,
          1428,
          1400,
          1384,
          1356,
          1296,
          1244,
          1212,
          1192,
          1184,
          1164,
          1108,
          1040,
          1004,
          964,
          948,
          948,
          920,
          876,
          872,
          860,
          848,
          844,
          820,
          816,
          776,
          736,
          620,
          620,
          560,
          528,
          520,
          512,
          508,
          500,
          496,
          484,
          484,
          472,
          472,
          472,
          468,
          468,
          460,
          460,
          460,
          424,
          420,
          372,
          368,
          360,
          352,
          352,
          348,
          344,
          332,
          324,
          320,
          316,
          312,
          312,
          312,
          304,
          300,
          296,
          288,
          284,
          268,
          264,
          256,
          252,
          252,
          252,
          252,
          252,
          240,
          240,
          240,
          236,
          236,
          232,
          232,
          228,
          228,
          228,
          220,
          216,
          212,
          212,
          212,
          212,
          208,
          208,
          208,
          204,
          200,
          200,
          200,
          200,
          196,
          192,
          192,
          192,
          188,
          188,
          188,
          188,
          188,
          184,
          184,
          180,
          176,
          176,
          172,
          172,
          172,
          172,
          172,
          168,
          168,
          164,
          160,
          160,
          160,
          160,
          160,
          156,
          152,
          152,
          148,
          148,
          148,
          148,
          144,
          144,
          144,
          140,
          140,
          140,
          140,
          140,
          140,
          136,
          136,
          136,
          136,
          136,
          136,
          128,
          128,
          128,
          124,
          124,
          124,
          124,
          124,
          124,
          124,
          124,
          120,
          120,
          116,
          116,
          116,
          116,
          116,
          116,
          112,
          112,
          112,
          112,
          112,
          108,
          108,
          108,
          108,
          108,
          108,
          108,
          108,
          104,
          104,
          104,
          104,
          104,
          100,
          100,
          100,
          100,
          100,
          100,
          96,
          96,
          92,
          92,
          92,
          92,
          92,
          88,
          88,
          88,
          88,
          88,
          88,
          88,
          88,
          88,
          88,
          84,
          84,
          84,
          84,
          84,
          80,
          80,
          80,
          80,
          76,
          76,
          76,
          76,
          76,
          76,
          76,
          72,
          72,
          72,
          72,
          72,
          72,
          72,
          72,
          72,
          68,
          68,
          68,
          68,
          68,
          68,
          68,
          68,
          64,
          64,
          64,
          64,
          64,
          64,
          64,
          60,
          60,
          60,
          60,
          60,
          60,
          60,
          60,
          60,
          56,
          56,
          56,
          56,
          56,
          56,
          56,
          56,
          56,
          52,
          52,
          52,
          52,
          52,
          52,
          52,
          52,
          52,
          52,
          52,
          52,
          52,
          52,
          52,
          48,
          48,
          48,
          48,
          48,
          48,
          48,
          48,
          44,
          44,
          44,
          44,
          44,
          44,
          44,
          44,
          44,
          44,
          44,
          44,
          44,
          44,
          44,
          40,
          40,
          40,
          40,
          40,
          40,
          40,
          40,
          40,
          40,
          40,
          40,
          40,
          40,
          40,
          40,
          40,
          40,
          36,
          36,
          36,
          36,
          36,
          36,
          36,
          36,
          36,
          36,
          36,
          36,
          36,
          36,
          36,
          36,
          36,
          36,
          36,
          36,
          36,
          36,
          36,
          36,
          32,
          32,
          32,
          32,
          32,
          32,
          32,
          32,
          32,
          32,
          32,
          32,
          32,
          32,
          32,
          32,
          32,
          32,
          32,
          32,
          32,
          32,
          32,
          28,
          28,
          28,
          28,
          28,
          28,
          28,
          28,
          28,
          28,
          28,
          28,
          28,
          28,
          28,
          28,
          28,
          28,
          28,
          28,
          28,
          28,
          28,
          28,
          28,
          24,
          24,
          24,
          24,
          24,
          24,
          24,
          24,
          24,
          24,
          24,
          24,
          24,
          24,
          24,
          24,
          24,
          24,
          24,
          24,
          24,
          24,
          24,
          24,
          24,
          24,
          24,
          24,
          20,
          20,
          20,
          20,
          20,
          20,
          20,
          20,
          20,
          20,
          20,
          20,
          20,
          20,
          20,
          20,
          20,
          20,
          20,
          20,
          20,
          20,
          20,
          20,
          20,
          20,
          20,
          20,
          20,
          20,
          20,
          20,
          20,
          20,
          20,
          20,
          16,
          16,
          16,
          16,
          16,
          16,
          16,
          16,
          16,
          16,
          16,
          16,
          16,
          16,
          16,
          16,
          16,
          16,
          16,
          16,
          16,
          16,
          16,
          16,
          16,
          16,
          16,
          16,
          16,
          16,
          16,
          16,
          16,
          16,
          16,
          16,
          16,
          16,
          16,
          16,
          16,
          16,
          16,
          12,
          12,
          12,
          12,
          12,
          12,
          12,
          12,
          12,
          12,
          12,
          12,
          12,
          12,
          12,
          12,
          12,
          12,
          12,
          12,
          12,
          12,
          12,
          12,
          12,
          12,
          12,
          12,
          12,
          12,
          12,
          12,
          12,
          12,
          12,
          12,
          12,
          12,
          12,
          12,
          12,
          12,
          12,
          12,
          12,
          12,
          12,
          12,
          12,
          12,
          12,
          12,
          12,
          12,
          12,
          12,
          12,
          12,
          12,
          12,
          12,
          8,
          8,
          8,
          8,
          8,
          8,
          8,
          8,
          8,
          8,
          8,
          8,
          8,
          8,
          8,
          8,
          8,
          8,
          8,
          8,
          8,
          8,
          8,
          8,
          8,
          8,
          8,
          8,
          8,
          8,
          8,
          8,
          8,
          8,
          8,
          8,
          8,
          8,
          8,
          8,
          8,
          8,
          8,
          8,
          8,
          8,
          8,
          8,
          8,
          8,
          8,
          8,
          8,
          8,
          8,
          8,
          8,
          8,
          8,
          8,
          8,
          8,
          8,
          8,
          8,
          8,
          8,
          8,
          8,
          8,
          8,
          8,
          8,
          8,
          8,
          8,
          8,
          8,
          8,
          8,
          8,
          8,
          8,
          8,
          8,
          8,
          8,
          8,
          8,
          8,
          8,
          8,
          8,
          4,
          4,
          4,
          4,
          4,
          4,
          4,
          4,
          4,
          4,
          4,
          4,
          4,
          4,
          4,
          4,
          4,
          4,
          4,
          4,
          4,
          4,
          4,
          4,
          4,
          4,
          4,
          4,
          4,
          4,
          4,
          4,
          4,
          4,
          4,
          4,
          4,
          4,
          4,
          4,
          4,
          4,
          4,
          4,
          4,
          4,
          4,
          4,
          4,
          4,
          4,
          4,
          4,
          4,
          4,
          4,
          4,
          4,
          4,
          4,
          4,
          4,
          4,
          4,
          4,
          4,
          4,
          4,
          4,
          4,
          4,
          4,
          4,
          4,
          4,
          4,
          4,
          4,
          4,
          4,
          4,
          4,
          4,
          4,
          4,
          4,
          4,
          4,
          4,
          4,
          4,
          4,
          4,
          4,
          4,
          4,
          4,
          4,
          4,
          4,
          4,
          4,
          4,
          4,
          4,
          4,
          4,
          4,
          4,
          4,
          4,
          4,
          4,
          4,
          4,
          4,
          4,
          4,
          4,
          4,
          4,
          4,
          4,
          4,
          4,
          4,
          4,
          4,
          4,
          4,
          4,
          4,
          4,
          4,
          4,
          4,
          4,
          4,
          4,
          4,
          4,
          4,
          4,
          4,
          4,
          4,
          4,
          4,
          4,
          4,
          4,
          4,
          4,
          4,
          4,
          4,
          4,
          4,
          4,
          4,
          4,
          4,
          4,
          4,
          4,
          4,
          4,
          4,
          4,
          4,
          4,
          4,
          4,
          4,
          4,
          4,
          4,
          4,
          4,
          4,
          4,
          4,
          4,
          4,
          4,
          4,
          4,
          4,
          4,
          4,
          4,
          4,
          4,
          4,
          4,
          4,
          4,
          4,
          4,
          4,
          4,
          4,
          4,
          4,
          4,
          4,
          4,
          4,
          4
         ],
         "yaxis": "y"
        }
       ],
       "layout": {
        "barmode": "relative",
        "legend": {
         "title": {
          "text": "variable"
         },
         "tracegroupgap": 0
        },
        "margin": {
         "t": 60
        },
        "template": {
         "data": {
          "bar": [
           {
            "error_x": {
             "color": "#2a3f5f"
            },
            "error_y": {
             "color": "#2a3f5f"
            },
            "marker": {
             "line": {
              "color": "#E5ECF6",
              "width": 0.5
             }
            },
            "type": "bar"
           }
          ],
          "barpolar": [
           {
            "marker": {
             "line": {
              "color": "#E5ECF6",
              "width": 0.5
             }
            },
            "type": "barpolar"
           }
          ],
          "carpet": [
           {
            "aaxis": {
             "endlinecolor": "#2a3f5f",
             "gridcolor": "white",
             "linecolor": "white",
             "minorgridcolor": "white",
             "startlinecolor": "#2a3f5f"
            },
            "baxis": {
             "endlinecolor": "#2a3f5f",
             "gridcolor": "white",
             "linecolor": "white",
             "minorgridcolor": "white",
             "startlinecolor": "#2a3f5f"
            },
            "type": "carpet"
           }
          ],
          "choropleth": [
           {
            "colorbar": {
             "outlinewidth": 0,
             "ticks": ""
            },
            "type": "choropleth"
           }
          ],
          "contour": [
           {
            "colorbar": {
             "outlinewidth": 0,
             "ticks": ""
            },
            "colorscale": [
             [
              0,
              "#0d0887"
             ],
             [
              0.1111111111111111,
              "#46039f"
             ],
             [
              0.2222222222222222,
              "#7201a8"
             ],
             [
              0.3333333333333333,
              "#9c179e"
             ],
             [
              0.4444444444444444,
              "#bd3786"
             ],
             [
              0.5555555555555556,
              "#d8576b"
             ],
             [
              0.6666666666666666,
              "#ed7953"
             ],
             [
              0.7777777777777778,
              "#fb9f3a"
             ],
             [
              0.8888888888888888,
              "#fdca26"
             ],
             [
              1,
              "#f0f921"
             ]
            ],
            "type": "contour"
           }
          ],
          "contourcarpet": [
           {
            "colorbar": {
             "outlinewidth": 0,
             "ticks": ""
            },
            "type": "contourcarpet"
           }
          ],
          "heatmap": [
           {
            "colorbar": {
             "outlinewidth": 0,
             "ticks": ""
            },
            "colorscale": [
             [
              0,
              "#0d0887"
             ],
             [
              0.1111111111111111,
              "#46039f"
             ],
             [
              0.2222222222222222,
              "#7201a8"
             ],
             [
              0.3333333333333333,
              "#9c179e"
             ],
             [
              0.4444444444444444,
              "#bd3786"
             ],
             [
              0.5555555555555556,
              "#d8576b"
             ],
             [
              0.6666666666666666,
              "#ed7953"
             ],
             [
              0.7777777777777778,
              "#fb9f3a"
             ],
             [
              0.8888888888888888,
              "#fdca26"
             ],
             [
              1,
              "#f0f921"
             ]
            ],
            "type": "heatmap"
           }
          ],
          "heatmapgl": [
           {
            "colorbar": {
             "outlinewidth": 0,
             "ticks": ""
            },
            "colorscale": [
             [
              0,
              "#0d0887"
             ],
             [
              0.1111111111111111,
              "#46039f"
             ],
             [
              0.2222222222222222,
              "#7201a8"
             ],
             [
              0.3333333333333333,
              "#9c179e"
             ],
             [
              0.4444444444444444,
              "#bd3786"
             ],
             [
              0.5555555555555556,
              "#d8576b"
             ],
             [
              0.6666666666666666,
              "#ed7953"
             ],
             [
              0.7777777777777778,
              "#fb9f3a"
             ],
             [
              0.8888888888888888,
              "#fdca26"
             ],
             [
              1,
              "#f0f921"
             ]
            ],
            "type": "heatmapgl"
           }
          ],
          "histogram": [
           {
            "marker": {
             "colorbar": {
              "outlinewidth": 0,
              "ticks": ""
             }
            },
            "type": "histogram"
           }
          ],
          "histogram2d": [
           {
            "colorbar": {
             "outlinewidth": 0,
             "ticks": ""
            },
            "colorscale": [
             [
              0,
              "#0d0887"
             ],
             [
              0.1111111111111111,
              "#46039f"
             ],
             [
              0.2222222222222222,
              "#7201a8"
             ],
             [
              0.3333333333333333,
              "#9c179e"
             ],
             [
              0.4444444444444444,
              "#bd3786"
             ],
             [
              0.5555555555555556,
              "#d8576b"
             ],
             [
              0.6666666666666666,
              "#ed7953"
             ],
             [
              0.7777777777777778,
              "#fb9f3a"
             ],
             [
              0.8888888888888888,
              "#fdca26"
             ],
             [
              1,
              "#f0f921"
             ]
            ],
            "type": "histogram2d"
           }
          ],
          "histogram2dcontour": [
           {
            "colorbar": {
             "outlinewidth": 0,
             "ticks": ""
            },
            "colorscale": [
             [
              0,
              "#0d0887"
             ],
             [
              0.1111111111111111,
              "#46039f"
             ],
             [
              0.2222222222222222,
              "#7201a8"
             ],
             [
              0.3333333333333333,
              "#9c179e"
             ],
             [
              0.4444444444444444,
              "#bd3786"
             ],
             [
              0.5555555555555556,
              "#d8576b"
             ],
             [
              0.6666666666666666,
              "#ed7953"
             ],
             [
              0.7777777777777778,
              "#fb9f3a"
             ],
             [
              0.8888888888888888,
              "#fdca26"
             ],
             [
              1,
              "#f0f921"
             ]
            ],
            "type": "histogram2dcontour"
           }
          ],
          "mesh3d": [
           {
            "colorbar": {
             "outlinewidth": 0,
             "ticks": ""
            },
            "type": "mesh3d"
           }
          ],
          "parcoords": [
           {
            "line": {
             "colorbar": {
              "outlinewidth": 0,
              "ticks": ""
             }
            },
            "type": "parcoords"
           }
          ],
          "pie": [
           {
            "automargin": true,
            "type": "pie"
           }
          ],
          "scatter": [
           {
            "marker": {
             "colorbar": {
              "outlinewidth": 0,
              "ticks": ""
             }
            },
            "type": "scatter"
           }
          ],
          "scatter3d": [
           {
            "line": {
             "colorbar": {
              "outlinewidth": 0,
              "ticks": ""
             }
            },
            "marker": {
             "colorbar": {
              "outlinewidth": 0,
              "ticks": ""
             }
            },
            "type": "scatter3d"
           }
          ],
          "scattercarpet": [
           {
            "marker": {
             "colorbar": {
              "outlinewidth": 0,
              "ticks": ""
             }
            },
            "type": "scattercarpet"
           }
          ],
          "scattergeo": [
           {
            "marker": {
             "colorbar": {
              "outlinewidth": 0,
              "ticks": ""
             }
            },
            "type": "scattergeo"
           }
          ],
          "scattergl": [
           {
            "marker": {
             "colorbar": {
              "outlinewidth": 0,
              "ticks": ""
             }
            },
            "type": "scattergl"
           }
          ],
          "scattermapbox": [
           {
            "marker": {
             "colorbar": {
              "outlinewidth": 0,
              "ticks": ""
             }
            },
            "type": "scattermapbox"
           }
          ],
          "scatterpolar": [
           {
            "marker": {
             "colorbar": {
              "outlinewidth": 0,
              "ticks": ""
             }
            },
            "type": "scatterpolar"
           }
          ],
          "scatterpolargl": [
           {
            "marker": {
             "colorbar": {
              "outlinewidth": 0,
              "ticks": ""
             }
            },
            "type": "scatterpolargl"
           }
          ],
          "scatterternary": [
           {
            "marker": {
             "colorbar": {
              "outlinewidth": 0,
              "ticks": ""
             }
            },
            "type": "scatterternary"
           }
          ],
          "surface": [
           {
            "colorbar": {
             "outlinewidth": 0,
             "ticks": ""
            },
            "colorscale": [
             [
              0,
              "#0d0887"
             ],
             [
              0.1111111111111111,
              "#46039f"
             ],
             [
              0.2222222222222222,
              "#7201a8"
             ],
             [
              0.3333333333333333,
              "#9c179e"
             ],
             [
              0.4444444444444444,
              "#bd3786"
             ],
             [
              0.5555555555555556,
              "#d8576b"
             ],
             [
              0.6666666666666666,
              "#ed7953"
             ],
             [
              0.7777777777777778,
              "#fb9f3a"
             ],
             [
              0.8888888888888888,
              "#fdca26"
             ],
             [
              1,
              "#f0f921"
             ]
            ],
            "type": "surface"
           }
          ],
          "table": [
           {
            "cells": {
             "fill": {
              "color": "#EBF0F8"
             },
             "line": {
              "color": "white"
             }
            },
            "header": {
             "fill": {
              "color": "#C8D4E3"
             },
             "line": {
              "color": "white"
             }
            },
            "type": "table"
           }
          ]
         },
         "layout": {
          "annotationdefaults": {
           "arrowcolor": "#2a3f5f",
           "arrowhead": 0,
           "arrowwidth": 1
          },
          "autotypenumbers": "strict",
          "coloraxis": {
           "colorbar": {
            "outlinewidth": 0,
            "ticks": ""
           }
          },
          "colorscale": {
           "diverging": [
            [
             0,
             "#8e0152"
            ],
            [
             0.1,
             "#c51b7d"
            ],
            [
             0.2,
             "#de77ae"
            ],
            [
             0.3,
             "#f1b6da"
            ],
            [
             0.4,
             "#fde0ef"
            ],
            [
             0.5,
             "#f7f7f7"
            ],
            [
             0.6,
             "#e6f5d0"
            ],
            [
             0.7,
             "#b8e186"
            ],
            [
             0.8,
             "#7fbc41"
            ],
            [
             0.9,
             "#4d9221"
            ],
            [
             1,
             "#276419"
            ]
           ],
           "sequential": [
            [
             0,
             "#0d0887"
            ],
            [
             0.1111111111111111,
             "#46039f"
            ],
            [
             0.2222222222222222,
             "#7201a8"
            ],
            [
             0.3333333333333333,
             "#9c179e"
            ],
            [
             0.4444444444444444,
             "#bd3786"
            ],
            [
             0.5555555555555556,
             "#d8576b"
            ],
            [
             0.6666666666666666,
             "#ed7953"
            ],
            [
             0.7777777777777778,
             "#fb9f3a"
            ],
            [
             0.8888888888888888,
             "#fdca26"
            ],
            [
             1,
             "#f0f921"
            ]
           ],
           "sequentialminus": [
            [
             0,
             "#0d0887"
            ],
            [
             0.1111111111111111,
             "#46039f"
            ],
            [
             0.2222222222222222,
             "#7201a8"
            ],
            [
             0.3333333333333333,
             "#9c179e"
            ],
            [
             0.4444444444444444,
             "#bd3786"
            ],
            [
             0.5555555555555556,
             "#d8576b"
            ],
            [
             0.6666666666666666,
             "#ed7953"
            ],
            [
             0.7777777777777778,
             "#fb9f3a"
            ],
            [
             0.8888888888888888,
             "#fdca26"
            ],
            [
             1,
             "#f0f921"
            ]
           ]
          },
          "colorway": [
           "#636efa",
           "#EF553B",
           "#00cc96",
           "#ab63fa",
           "#FFA15A",
           "#19d3f3",
           "#FF6692",
           "#B6E880",
           "#FF97FF",
           "#FECB52"
          ],
          "font": {
           "color": "#2a3f5f"
          },
          "geo": {
           "bgcolor": "white",
           "lakecolor": "white",
           "landcolor": "#E5ECF6",
           "showlakes": true,
           "showland": true,
           "subunitcolor": "white"
          },
          "hoverlabel": {
           "align": "left"
          },
          "hovermode": "closest",
          "mapbox": {
           "style": "light"
          },
          "paper_bgcolor": "white",
          "plot_bgcolor": "#E5ECF6",
          "polar": {
           "angularaxis": {
            "gridcolor": "white",
            "linecolor": "white",
            "ticks": ""
           },
           "bgcolor": "#E5ECF6",
           "radialaxis": {
            "gridcolor": "white",
            "linecolor": "white",
            "ticks": ""
           }
          },
          "scene": {
           "xaxis": {
            "backgroundcolor": "#E5ECF6",
            "gridcolor": "white",
            "gridwidth": 2,
            "linecolor": "white",
            "showbackground": true,
            "ticks": "",
            "zerolinecolor": "white"
           },
           "yaxis": {
            "backgroundcolor": "#E5ECF6",
            "gridcolor": "white",
            "gridwidth": 2,
            "linecolor": "white",
            "showbackground": true,
            "ticks": "",
            "zerolinecolor": "white"
           },
           "zaxis": {
            "backgroundcolor": "#E5ECF6",
            "gridcolor": "white",
            "gridwidth": 2,
            "linecolor": "white",
            "showbackground": true,
            "ticks": "",
            "zerolinecolor": "white"
           }
          },
          "shapedefaults": {
           "line": {
            "color": "#2a3f5f"
           }
          },
          "ternary": {
           "aaxis": {
            "gridcolor": "white",
            "linecolor": "white",
            "ticks": ""
           },
           "baxis": {
            "gridcolor": "white",
            "linecolor": "white",
            "ticks": ""
           },
           "bgcolor": "#E5ECF6",
           "caxis": {
            "gridcolor": "white",
            "linecolor": "white",
            "ticks": ""
           }
          },
          "title": {
           "x": 0.05
          },
          "xaxis": {
           "automargin": true,
           "gridcolor": "white",
           "linecolor": "white",
           "ticks": "",
           "title": {
            "standoff": 15
           },
           "zerolinecolor": "white",
           "zerolinewidth": 2
          },
          "yaxis": {
           "automargin": true,
           "gridcolor": "white",
           "linecolor": "white",
           "ticks": "",
           "title": {
            "standoff": 15
           },
           "zerolinecolor": "white",
           "zerolinewidth": 2
          }
         }
        },
        "xaxis": {
         "anchor": "y",
         "domain": [
          0,
          1
         ],
         "title": {
          "text": "index"
         }
        },
        "yaxis": {
         "anchor": "x",
         "domain": [
          0,
          1
         ],
         "title": {
          "text": "value"
         }
        }
       }
      },
      "text/html": [
       "<div>                            <div id=\"739bc9fb-caba-43aa-9ce2-d5f5160553cb\" class=\"plotly-graph-div\" style=\"height:525px; width:100%;\"></div>            <script type=\"text/javascript\">                require([\"plotly\"], function(Plotly) {                    window.PLOTLYENV=window.PLOTLYENV || {};                                    if (document.getElementById(\"739bc9fb-caba-43aa-9ce2-d5f5160553cb\")) {                    Plotly.newPlot(                        \"739bc9fb-caba-43aa-9ce2-d5f5160553cb\",                        [{\"alignmentgroup\": \"True\", \"hovertemplate\": \"variable=vh_make_model<br>index=%{x}<br>value=%{y}<extra></extra>\", \"legendgroup\": \"vh_make_model\", \"marker\": {\"color\": \"#636efa\"}, \"name\": \"vh_make_model\", \"offsetgroup\": \"vh_make_model\", \"orientation\": \"v\", \"showlegend\": true, \"textposition\": \"auto\", \"type\": \"bar\", \"x\": [\"rthsjeyjgdlmkygk\", \"johsjccpkithubii\", \"biqzvbfzjivqmrro\", \"swjkmyqytzxjwgag\", \"tdgkjlphosocwbgu\", \"lqkdgbosdzrtitgx\", \"hselphnqlvecmmyx\", \"svmjzfcsvgxiwwjt\", \"jjycmklnkdivnypu\", \"iwhqpdfuhrsxyqxe\", \"kzwthrslljkmbqur\", \"zqruwnlzuefcpqjm\", \"ponwkmeaxagundzq\", \"xjaddkudsebowzen\", \"aparvvfowrjncdhp\", \"prtnwsypyfnshpqx\", \"kvcddisqpkysmvvo\", \"iulvirmzdntweaee\", \"xkzehzohmfrsmolg\", \"zoypfizhpbtpjwpv\", \"uzmldekmvczimsrj\", \"ubttjiaeeuwzcclq\", \"xaklvfxsplowrglp\", \"nilvygybpajtnxnr\", \"jhdjdpthkztnjvmb\", \"rcxmbwwsxkkkyyjs\", \"ettwalwfkzvwdasa\", \"yfalryaixpzfoihd\", \"quslbttvcitxzeiy\", \"dtpbahjtnmyuxqno\", \"kbgblyclstrmicux\", \"dllcylnkzeegtsgr\", \"pjbnwqhnqczouirt\", \"gjbalugsikirqoam\", \"jgkpiuuctpywtrlh\", \"gfhjqtkgvomiygvx\", \"nsymgnybdjqxudvj\", \"fadjogsnmecatcfb\", \"xzdsapxqliboezbc\", \"hkazsxqvbtmawovu\", \"wpsyqubfrhdspxkx\", \"jrwdpzrmxqlzzepk\", \"jjjvjaxpzvlbryfd\", \"ngombkqqomblyxwv\", \"bsiyfrkwdyptmwji\", \"kpciudedjlrqsfte\", \"zspzyfdefowgwddf\", \"nhwgapjtnadqqaul\", \"yzxgnwgpnrdprtbh\", \"guiimarisyyjqnfg\", \"yvlkrzgjhwrlyihc\", \"wyqgeeclrqbihfpk\", \"dweqmfoluivgiayj\", \"nhoebceeiacnmvym\", \"dyzvyrmcdyybbddd\", \"gujwvdfcmmqcwxfi\", \"dpcnodgqfivkhxvn\", \"zkreetxvsoihwkgo\", \"xpxsjmglcvcsxwdy\", \"ammbrasbxojlitmt\", \"hpohizpkyzvwunni\", \"rrlvhbnzrdtphqnl\", \"pyykjiriqrhjduly\", \"epbwnmcyogpybxlm\", \"saempmkfulqhwfqk\", \"xyuwuxlpirkzkqdb\", \"ehapkksqqcbofeid\", \"nkueyjctyasmotny\", \"htedybhazfjiueyj\", \"uwwrbkmjbjyxutfq\", \"rwrevaiebpmviwqz\", \"bvuzvpriwqlnbjxt\", \"wehkqzwvbeonajcu\", \"onzjhhtppsfaiacz\", \"dwsasdexwmpsmowl\", \"asmpttrlkodaejic\", \"jiyzqszfywhdfsil\", \"dlrodwgixwmoquny\", \"synvsxhrexuyxpre\", \"clmcokjtplrbzvuh\", \"uhkhghxuorryhlis\", \"zagpnfpbwgeyeufr\", \"dbtkrhmbfxpkqbau\", \"rabwrzdzwjjdhbmx\", \"eslneidrjqwzpqhd\", \"fuwhdjmdexrstmmo\", \"xjnjmxyqemqqiejp\", \"wxzfbqtarfurwcfw\", \"qxtqrwxfvuenelml\", \"toqaaqswchaiyhsk\", \"qvwenzdmnwecdiql\", \"uahuglbjdtacoqjt\", \"sguprofjftozaujc\", \"snsnxmucuccvqfvz\", \"doohwubeqhbkevhr\", \"iqepotyqjqeebzix\", \"qpcebxmotqhildhx\", \"gjxmrfgnorpfspbb\", \"hwldevoubgzgbhgs\", \"nwaavqeweeqaryzv\", \"abcepdrvvynjsufa\", \"dgwtezteqyzzylho\", \"aewtdnpoiopumymt\", \"rgrpzewhrznrqrna\", \"gsooyxmnwsucrksh\", \"wsfgxnwhxftjhpxw\", \"aywlgifrijfokyzu\", \"srgqbkjrwdbikmzq\", \"jlxizhsfukrheysf\", \"ewkcexkqpsyfnugi\", \"gapclpflkdsbeorm\", \"mbytpqiuixyvpaab\", \"aifsqdniwqmcuqpv\", \"rguedwefqmzdxowu\", \"oryfrzxilushvigq\", \"qbztetcodwhfmoyg\", \"owxrlgxbigikfgtm\", \"nyrtstlobluggnkw\", \"gjpgirzuabhfpkjd\", \"ldxjynecsqlswvbq\", \"anqyvxqouldudiww\", \"dgwbxitzfzbegnoc\", \"fklewvbxuecmupxn\", \"ixbrfaoerogqomah\", \"wgruytvmfzalzrtb\", \"mizxbkgdiuoehddq\", \"cgkclpnidlmetsrb\", \"olupoctwepebdqqo\", \"zxvcbwcwoqnkxxbs\", \"efiskxgaocgqqjvr\", \"pheduvdlnmrchihf\", \"mdxtphkujabwpjeu\", \"djyptluftbfkxtjd\", \"shemwbbeliuvnvvm\", \"xgvsuftfggoojbdp\", \"otrziwxmbpndmyaa\", \"coufviypetbrtevy\", \"jepialiqqsttgcid\", \"ajtardhciglimsdi\", \"zydfvjqmmwhyfuyy\", \"pyholyswkkqjmxlj\", \"kjhuznifzeghfdra\", \"dpklliwcxycpfriu\", \"pselomoxubpkknqo\", \"abacekzzrkhtgpcp\", \"hcfpedolsygjsofb\", \"jmycebfjwrkqwsxi\", \"rulqevsymrlwrsrz\", \"byvoguptigfevpyy\", \"usjukvawgoqplrph\", \"vnxfpyxuciadydrl\", \"tceovgpqjjopitor\", \"lqqciehjjdtelpwa\", \"arfzuuojdtlgxehv\", \"ohgtowaarzphsifb\", \"esilvarzflhfmjhh\", \"kcfhiwouwwfjqtta\", \"ambmbeydwsdljdcc\", \"ujwlwswdwvbpacnf\", \"usmpkujeknoxdqrc\", \"jakvzvdollijyhwm\", \"lwrjcljtxkokvnes\", \"cazrxylvhylncoze\", \"llkwlxfjdmrqmdgq\", \"hywzsmogbhnfcaxk\", \"xdeuhuabvdhjipnp\", \"sutdaojcvfqmjnwg\", \"cxxzogxxkmkjwqui\", \"hhrmdevbfqiebnum\", \"nofmcfnaiuzlqgrk\", \"xqydufxhniyjunrl\", \"lfzbrhthlxhnmhva\", \"uclvvrkbezlvaulu\", \"yybjogamsfqljfpu\", \"eyrwkwxecpzxzscp\", \"rwtwnvhjqabvovnz\", \"gzebcnjcmqioqcjb\", \"tdozuksvtvtqcykp\", \"isyektlfmcpmotpl\", \"eokuiduvnrtzavmr\", \"yttvzqeuddvehiqu\", \"qdsjznqzjxlekjtp\", \"szvfwsizhxrbklhz\", \"kalfshwbcuoobdwe\", \"dwhlbcevejvegsob\", \"kzqcxkrdytalrphb\", \"alrfnehgsdtsunhm\", \"nruhduwvuytxnfvh\", \"ggaokfjtqxyctvok\", \"qdvjpkftaveygusd\", \"tlhipnhcbdhvhgyw\", \"obvxygchobqafuzw\", \"rxyndewyvbophaku\", \"uureltetaotxxdji\", \"wyopladghryqlrlb\", \"vpzzxdehhwlzsgrp\", \"smynsodmtrrubpqq\", \"fuddhlszptfmosir\", \"yzdbjmwwtofxmpaz\", \"ygsnfanduarpqvrn\", \"ysonsqntnqnqagnn\", \"gjblfwqtnckjletn\", \"lmqoiaqyftqublmk\", \"ofrkezlcbbluncri\", \"ctachoeiozcpkmst\", \"ptaxsjwbissrpvdm\", \"ivhhwynrahlruefk\", \"svcvmlpsqtzbrmnz\", \"xjsozzwcppavldee\", \"csxjshhnfbtgjcgm\", \"zfylmujpvzgqqfxo\", \"urbnjdherequimyo\", \"wyoxchtoecahbyjm\", \"wtxtgodhmneofvzz\", \"ejeggxbwhufjtjhd\", \"aysnuezuqgjioyyf\", \"xoueplwxwxrzasti\", \"pdljbgzzhxrhnqmu\", \"iemmvtjtejhlteqa\", \"yqrgxthbbzmruvwy\", \"fpfzaadmykntrupr\", \"aceqpjprqgzhffuw\", \"qfvolfbvalczrcko\", \"nfmbusxwwqhsaquy\", \"ufpwnqycocwwbgqi\", \"kfurwythfncqbrxs\", \"dsqmtbudvjtnnjwq\", \"gspurupoewenqznk\", \"vikmjrynreazqubj\", \"zzlzzujtugbfpsvv\", \"sdottmimvqvfhzlk\", \"jkarjtlhihuxqzfm\", \"nxwedpnhirijkodc\", \"gjchrdhbeixppooh\", \"ojribuhtopqgkqpp\", \"whcqrtwarljaqocm\", \"mcadxmmocjhzzbtt\", \"bnvgzfegimthyhyo\", \"swxgkelaxkoffszz\", \"ogrmvnhwyeydwcxi\", \"iigklaveqvybkbid\", \"ngksfbgkdeufmhfy\", \"nrmzpcqkbzgmsdeo\", \"ejbxcyhffvcouoxd\", \"qwcrrrebwyeauczj\", \"dhxftxnxtxlgqcqb\", \"ehtbxdjhvcwdapsg\", \"cmjjolnwfprpzntz\", \"ohxrgpugowiyinhv\", \"kwuuuvwdrjkyqyfv\", \"xiwnirovwicymtif\", \"kjdumkaiaeblbxtt\", \"wqqxbrsnrtnuxjjl\", \"wchxrbrhstsmhdsk\", \"gpclrtlzecazeeev\", \"sdvssyrvwfwmdccl\", \"exkqtrkthhgvjqdl\", \"ebdcmhmtqnfkaalo\", \"urullqqbaabxllxl\", \"xhczitnzxmxxebeq\", \"qnixeczkijjyiprb\", \"cbmmnlpqoyyursux\", \"spbjeokdemicpdey\", \"anrwlguztftzfdng\", \"wcyahxrmwqvhmadq\", \"nzxlhibmhrtafeav\", \"uamadghmregezetz\", \"cuxaapvakeemmbaa\", \"rjhfsrwtoqfqvuqu\", \"tyktnjdtbrucursh\", \"vpvsuuudxglarezp\", \"dhjmmmtnpcnalzna\", \"gguphuccgeqyojbl\", \"drpwkafcvcypyrmw\", \"ybmkbrazyartpatx\", \"nsgbpbjvswwlhvmm\", \"eudwptcohxaazhpt\", \"jeckddxjsdolnuhe\", \"ybbdbpunwekygnto\", \"tkqxtjbbrzagooya\", \"arcsdpohuzvikyaw\", \"jsudrcgsrfddwixw\", \"clsrzyechukbaeat\", \"ucggoqoneixjlxxy\", \"cqdmtwkacajclcml\", \"gxpuiivthwcmpcmc\", \"iljhlfeengkciosq\", \"xbhnetrbyfixuzmj\", \"fvrvkxucfyuyfpbk\", \"hjyumbyuzbeubtbb\", \"xuioboiuzasnmuva\", \"unmxysjyilftwsvy\", \"zsuewlbquazyrgvl\", \"iklmkdrwatltidff\", \"kcjttmlajpvbntkn\", \"ylboorftnzombypn\", \"aivacsqryguqpdib\", \"tduddcyerrjazjsh\", \"nzanewsbtbnpgrom\", \"pqpqthiapbycbhor\", \"adgfkcvmsaxxghoc\", \"cgighhnwnkxluccz\", \"sboaeuuuhpsjujpz\", \"uysllzwmzcsweunu\", \"sfcciovhmwqehacv\", \"jrwemlawxsvnwrxv\", \"gqfadgvnztixxbmv\", \"zakviitdfvxsgkow\", \"zedpyrfkmhzqxmaz\", \"vbnagxwgmwirhnjt\", \"nmhahirmbvqxhxgg\", \"dlrvgwmumnwcjixm\", \"uzrhbfduaqijosql\", \"uzqtsirvtxcfqnbp\", \"xebooruxiuwbpzdc\", \"zcqptmhakcmihiry\", \"ifrzhyqsimoeljaa\", \"yglorajvvrsviget\", \"oihtzffwsrwsjnfu\", \"xsonelzsqbpcodxe\", \"xrxxucncrqtcgixl\", \"vgaanttvdscmqmjr\", \"ujgldnoigollndkj\", \"vxumxjoeywcphfoo\", \"mcloznejvtelpcan\", \"twhtulgwsricneea\", \"beagnicqcxahqkeq\", \"cufklbvsirnawzmv\", \"dqxenajfgcimjgnw\", \"jcefoutonncubdss\", \"zvdpnzgvkjkoophv\", \"tksyxmdgogmokuxv\", \"phprbhssfhrtbeue\", \"tzsnmmekuhggblhv\", \"qachmbxcslsazphb\", \"uotpflqyvprslxjc\", \"ukqbsscpgbfatdhs\", \"vokpwtikxckeemdi\", \"snpaaoiipfuxmvol\", \"myfrksrutuknkcnq\", \"aawqanlavsjfqrne\", \"ypgcfauffeqpeerz\", \"blcuqlgntjavsyhs\", \"gctieesvmkeoozqx\", \"kqxycgbergacgcei\", \"joosvbazdbslkqgx\", \"tupmlwnkgjcgcmuv\", \"jkguypwgxebmtnkx\", \"qcykqtxlqnbcqfct\", \"tjvewbsfsiqtqttp\", \"szduoosmrfqduakm\", \"sbrarddcurfhmmqk\", \"tcnfpudadgannoey\", \"ttcbkakfxnfsllyq\", \"ueujqvpwszzhovbj\", \"tsvmlrkmftqbjvub\", \"xgikerzyofvqsmnt\", \"huoicgalccftwyvz\", \"ztwsplndgicacmuu\", \"oeexhaebfkkjfpff\", \"nolayrxwnjwzgtoo\", \"ssnqyyteovyaxylf\", \"ugwrafmvdavbsrzl\", \"dqqtizjjhjmqdqqb\", \"nbxjozrynlospbso\", \"kqubvdyyovhfxtpc\", \"drptidaltxzxopwv\", \"ekztjicqomhuclqr\", \"hcoxxbfccserxklx\", \"xsmqbeukcqahbfgl\", \"jkhjcfudwqurdoex\", \"rqklbykswxeuovdn\", \"godkpvbnbdeseoct\", \"cqewccykrcmvawlo\", \"lxvjgyjdszxtcryf\", \"kmlnlefquqpparsa\", \"timtcrwibllgvgxy\", \"uxfxpraspeoqtmbg\", \"fjzqkqcjerkjykkk\", \"mjpgppxzelxrbcnt\", \"ygqjgwzgeierkcpj\", \"kguahfjnmerrbtpp\", \"suajnmrxuunoyngf\", \"gsbeyysssgzgkkuo\", \"dnvcqpxxzahdhbvy\", \"kbqauyzezmwspqvv\", \"xoetbcowyxwukawr\", \"ptbudvgjgycmmsdq\", \"cpruzckbhhcyorgf\", \"gkxcvooedomgcagl\", \"iwxvflrheripbuvw\", \"giyhzprslgbwsaeu\", \"xxppvuhwmnezefxy\", \"mpmchhrcazhsvjgc\", \"kowgdytyvjhvcmta\", \"xkqlmdeookbxzzhv\", \"ywnimisaozuyjomi\", \"lxhecyqzfsucxgqm\", \"gmzbnaysqjpkzqbt\", \"xabkvgvnbqzrmnyc\", \"loomciwexxewgiut\", \"cnlvybtdupkcwczn\", \"innngarflvbnwntw\", \"bwpieeluivljdtai\", \"dluodrxtjdtvbxug\", \"ciuxczxwhwbxdkdf\", \"pfvqxmrnkptcrhet\", \"noxmlxlzirrxdriv\", \"fvsyahnxhitfllgt\", \"gcmwblighdilwauf\", \"gyhebbdhtmqwwxnp\", \"wiyyghhcxezudyxg\", \"yhcelpjnbxpsmoez\", \"gvordmjbkxszftsl\", \"zrfduayrhhofpqtt\", \"qqmkwgdqaimwcbxo\", \"mpnamiwsqkvamhfa\", \"vdetuihriafhetdl\", \"wrzuftzqwoiwsmfc\", \"vdwfxzfzbybhsmay\", \"zojbyremtnxajomo\", \"flpmjcetsinyjimc\", \"bikffjqejohkyhat\", \"qzgaezfhutbcnkuf\", \"pvrjjyumueakzstw\", \"ltdxvujhaocpnmzf\", \"qewzxgvvhqhkfcxe\", \"xzwnliotgalpusga\", \"meratbpknllwoefn\", \"rclsneerlfasdcpi\", \"ezjnsjxvhnocwwix\", \"cmmuslxsfluvfyof\", \"ukztcjpqrpetqrnx\", \"njujuhbmnqusynwf\", \"gwptulznqgygeegy\", \"mymdahqxtsywqpdn\", \"dqgtaigmpivatpeu\", \"tgfhgapnsxiewemd\", \"squxtuwvjnzbhzsc\", \"ieqgavmmxulqlvvl\", \"vqdlslwzvwucentl\", \"mpwepwxyokmciojj\", \"qbkipjmisqllqwzy\", \"ijxmcnthqquddvhc\", \"skgvahbwdkddoxha\", \"bdmklueoovgkajff\", \"fszxbpjtsihsmnqv\", \"xcvdausiwfrjukgn\", \"jcpjlgfslytgmbjq\", \"qoflnrycwjlbfmow\", \"uhqwwluaswbuqqjc\", \"agowcnternxraavr\", \"vjxfnjqgvugwjhia\", \"cgrdxjyaxssrszjz\", \"nwfvqtdnlrvhdbuc\", \"lhyhsxrxdftbsavk\", \"kkxluqnhrmwkfqnh\", \"dcjzdpoxqvgnjpmi\", \"fgxxyxcbjkodwcln\", \"hvziklxqbjbvncjy\", \"vnefzhazthgsjuax\", \"zbprczwzmlxgqykc\", \"pbrroilhklrifbwq\", \"gdzfmtghobzpihgc\", \"elvboiqxkxwhtgzg\", \"jiyhnfvmyyrpnzyx\", \"moayoogjmiizcbez\", \"owkgoejsxqlzahbz\", \"szlkmablxrjoubla\", \"yxovdmyzjzoutcek\", \"edlxghhjgpmvhabz\", \"rbxibrjokiihgfjb\", \"abipwhwqnzenjxfn\", \"lqalilfrsznnxarm\", \"ldkzuxzespcgajev\", \"qxksnnsrnebfkwqs\", \"kzhhwebpekxgvfsl\", \"tpzzxliudfwqpopv\", \"jcxkvyjnzflnlzvh\", \"jedhlhdmkdprvyex\", \"goropquvqaoaajrk\", \"vxqfscklywhurrjp\", \"uzfgpmnazksmudrw\", \"celpzeaubkxaxxbx\", \"ajdmkzcduerbdsww\", \"ejlwzigdhipvpndt\", \"selnccftdsqbiurb\", \"grnnfnsjjydskrht\", \"cwshqcgmaazzefkx\", \"tdldeeccsirqwpcj\", \"uxpkyjrybttfrluy\", \"zqswdfwtkyehitft\", \"dmqhptvycdmkaxbw\", \"fdbwfjqkichwdebq\", \"xjsnlswprucbsehn\", \"utvgeykupnwzepks\", \"zayyxxzvekzuooyq\", \"lxjkslpwiofoynao\", \"etegzqakpcvyhkaj\", \"kwxjejihbgmtnagf\", \"vjarzxzevsdnftcl\", \"bkwszkqrqybfgpyn\", \"wotupxkyxwcienzd\", \"ldnocwfyeejbmmcy\", \"zwutaiivgrxnrwat\", \"gtbzqhsuzzdfhzfv\", \"wkzwidzltxinpgen\", \"kilbdkfbpczjrqek\", \"fydlanmzkobgcfsj\", \"skwelgffvlzgmbro\", \"kbixxyjwgxmbhcsa\", \"wycspyzpbmhbnmda\", \"lwtlsafdbhymtibi\", \"ruyuflpnypnsgkbq\", \"vomuvsgbhqzjwhgb\", \"dlbnpwopifytzerl\", \"uwqsodousnydlsud\", \"qjkwsppqbsgsvjwa\", \"jlhzkuikphkxcigk\", \"qahlidfcpdaofkwm\", \"aaykjdjgdzrrdvxz\", \"trcsvrxdekscyvyq\", \"degvuccboupdnasm\", \"hvjwbevmcmjpnknw\", \"nhqkbmwihkfvhjxx\", \"gxgjyxrnnugizdvf\", \"udlfdefgndowttah\", \"qpjdblaqrqyuoaqk\", \"disoykeofihapsal\", \"smcawzwicovvejgm\", \"cfuyjykoohewxzeg\", \"aloltvlyufzyxfvg\", \"enmicxqiumbpozpk\", \"bpuzzsqfyvebjzjg\", \"ldejndeewhhlcvgc\", \"sghyfposeljrkedw\", \"khzmqnkqbaqvnakh\", \"ayeiibefzqqbyksg\", \"suycgjdrxxvxgmha\", \"lvpcmycoagwxqpag\", \"xzdakcdqrnwhtpdb\", \"ykzumnthkadrzjdb\", \"vrubhbzjguaxfmlc\", \"uskrsfpueljrtxkg\", \"pvyfdiggxtjoyhqf\", \"tlspgqlrhuzholye\", \"cedgzkylsgxnlcjg\", \"qgnqfinpenszbzig\", \"nnzwevftfeodipkn\", \"nfxbfvlwvmxfproe\", \"ajvhjkzguyeszaqp\", \"optzzqvbwwriedfo\", \"eivjhovgfnfctgjy\", \"szluwlsqbkcnchxg\", \"kumhekfclnypkavw\", \"cwxtybsrimchiwdv\", \"ceswaufhjtmqcndn\", \"owkiszjuntmwilff\", \"dvmnbbkcvcgwnaen\", \"lwclhevnunilhrmm\", \"lctcvcvytpesgryp\", \"yweystgylcxxranw\", \"bfmdeosllvjkezwq\", \"ufxhmwifrakfhfmb\", \"xndokrsndaodfknp\", \"fwqrokhhbukfpssj\", \"grpzbvvgujnswyyg\", \"itvlnddnkkmyemme\", \"blmjcblhzfqwhgew\", \"zczpxdcxdciitjcu\", \"djxdgbpuyerxgrmx\", \"fliymzbupomtmyry\", \"qnesuhpxsptzihzg\", \"evuqnfndofizyoqn\", \"rrsrcesavzhbjqwk\", \"qmahqrjhkxvkwboe\", \"bpqxbrvavqshzebb\", \"dkgrgmlhhtnvzmps\", \"exutskjkecvotaxd\", \"ruposftqgswlcyou\", \"updzeguaxbccwpoe\", \"dychjlsxfaurgode\", \"gforiqpfasfwlkfl\", \"bvkytcvosbaunupg\", \"tafluhgrtixdlhpv\", \"luxhsezouvtbkbpn\", \"fozvmjndontqoxpg\", \"gkniccewzkphqzrp\", \"yljpdxzmshdpmyhl\", \"mjwrreshlbmzkwmc\", \"xiesnbkcyzrpzlyq\", \"lybpmhaivmaqtmsq\", \"pfwcfdvpkuyucnkn\", \"nhembilpmgrfjifn\", \"owrozlxfshxrcgvh\", \"mbnozlcufjgvpcdb\", \"wffzvseexopfwwjy\", \"ozpyjjijxdpztngv\", \"adhoqfsfdpetomvs\", \"mshhupropfijhilz\", \"ckxqqcnqrqxijmmf\", \"erouvyhobhzcycuk\", \"fbvdqkwltwgykywc\", \"fvflhdedljqrcqle\", \"hungxfwbkelospfy\", \"wykcypxicfqltavz\", \"xewlloxrajhpbuwy\", \"ktpoqrjuewxmkjqr\", \"ytornvfpgbsoizqr\", \"rzjssfxzzoddvgdc\", \"htppstzpipwjtuia\", \"pticuqiimwdrkpdy\", \"tmikjfqekaorgssv\", \"lqohoawdpvdisdiw\", \"sgknghheolfpzuid\", \"heicadwqfavetjwx\", \"hayciibjzwapccnb\", \"infvsqmvfzjpyfae\", \"gvsbsfrfcvftmytm\", \"zzjxvhegwmgqodzk\", \"hruelqcyvmwzsqkp\", \"mdiqmxwkzvnpeaop\", \"kbnrpawcssaxrpmb\", \"dlemjwpmokwptnai\", \"uudulyvocjutaxtj\", \"lxchmlyoaiocynox\", \"cedczcxvthqqkwvn\", \"gdtzpvajphaxanpi\", \"tbpblaaxsajjlyok\", \"qdmbicmyqrqalixj\", \"oijipbtrzkghftpt\", \"ospbwzzmmxeovscc\", \"eootycnsxmeekotz\", \"qdhfzxrzisivuhbx\", \"jxlbmlxexeucwbue\", \"ughzfvxgeziewvdi\", \"kpnwdujiylvsiuhp\", \"ajktbllxjzfdtwpy\", \"tcyogsbbufjzekla\", \"cyftaexytlgvmcbd\", \"ybsenzutfrjternf\", \"itmcxdqtvddvmanj\", \"dtdrfrtruyhvbztx\", \"swacqepcxnosmcll\", \"ggzcspiycgszcunf\", \"bgqrpfiflzijywyu\", \"cwrigmmyfzesuezf\", \"avrwlknteymnpjpk\", \"vxvmxuncsxygbrzd\", \"qzrkqxhgbqfyswsj\", \"qyqvfzuwfpyztbla\", \"hqixaqcgdcbagrmw\", \"xsfzlqjhqbcpswcz\", \"lwhjrctubjkbhzmu\", \"tsfyxgkwdidzgzpg\", \"dohuwjuguzyvqaqg\", \"vwjjtxhpebfhzzck\", \"hrlyreijarvikmlk\", \"dqmsefrpxrwielmk\", \"ismjlsoibleinjdp\", \"anwpfxivfvhnobvz\", \"obtymepcippfwigb\", \"ggqsqgrasnpkxano\", \"cictcfpmfdmknnye\", \"nhmkqmpmstaunzqh\", \"vfprhybczhnkefdf\", \"ttwsxzxrhwuzystf\", \"ezaffjpqpacrufvd\", \"efyukbppkfgttvvw\", \"rtqyfobkpliuutfx\", \"ouhkmefnnchsggpl\", \"lwwzmxipnntydwir\", \"lqsgdewyevczcvwf\", \"eyrukxfjgrcdrqeo\", \"ubixvbvqnnjdksca\", \"ufqiiuoxasjwxqbf\", \"wqsapwecaqwzorqn\", \"vbjxuynqachujrmt\", \"ioqpncqqlflrjzkj\", \"wxcohilpavlwlnze\", \"gbkevbmczkqhkmoc\", \"fupocenmkiiluzpe\", \"yrfmcopbrlmfinuq\", \"jskghzhjrpywrbfn\", \"bfmvfelwblrzqfyr\", \"wrvfnbtdqgpsnzic\", \"hikofhdgvhuwkixj\", \"zeqmrfiqiusygxdd\", \"atsglyxkfbaztzlj\", \"jtedxzwqoodxzcaq\", \"tegzsblugaczvdmy\", \"wniogbpezwqrinyt\", \"txcfordzmkkiicwu\", \"xaaujpnniyiuhfql\", \"uczhoudymbvnhter\", \"txgvnaysouvjtkrb\", \"qwqwzvbefvgugtzi\", \"ogdxwqtrpclsxeyw\", \"mbjevmuapzxqjnwg\", \"xieosvyuphbcyzul\", \"zfesqldixdegnidi\", \"fijtohsiakkeuuct\", \"esiuazjovwvdlgjy\", \"zaiwfnldcznzgrfe\", \"dvshwarqhxfcgwfd\", \"sncpkctrqcditirm\", \"tsufyplsxyqgndsw\", \"zrclcvscjwdbabii\", \"sxmsrnbwrnvfjcvp\", \"obkqpwjualnnwgrt\", \"mdqyvrtwekmeflye\", \"vtmylwmvnssatjlh\", \"qukbrubjquwstnyf\", \"azxtekfvyycfmnpt\", \"ngpgrthcqiirdsux\", \"iydbustazndekvfq\", \"wcjrtzzkemciejsz\", \"yrnbnvvghdwvpayv\", \"jhafhnhmasllifix\", \"brjgjnnpueqkyaxo\", \"iexbeucevqnjjbcz\", \"qppmxxfbqiiallmp\", \"jynbrbzntxrssxzh\", \"xrmvlihddtxlbzvw\", \"ubmafwgdsmbkfmwe\", \"ovhdtvldyrrurawo\", \"tdvzvrkldmrkqeth\", \"ktrfapbareyzyyyq\", \"pbwbzedhenqmpfqt\", \"admgymnmeilfhmji\", \"fhliexbdvrlrpjvx\", \"yohngmkmrueenrvs\", \"mtcsefxrgtfdqous\", \"baqjsealekltnrgg\", \"obzgnvzzatnjoryi\", \"wlttiymytfacsrli\", \"kgezpfvpmpmdicts\", \"yobesdjweimafxnq\", \"knrylcwjpefiqlma\", \"rhxboadaoyvvgflk\", \"hotinomqpajebeov\", \"tzyaldqhudfiajin\", \"okzpgwvslpvgceva\", \"vylopbnfewdzeury\", \"ujfqhxynqnqeldes\", \"zukemjnabmcizdzn\", \"xcpcxksgiefkqznu\", \"mxmhlvlmychxzork\", \"uudtrowerqhfztjo\", \"pijaubxodtxcsqjp\", \"ytckjafhdfppmrhv\", \"eyaqhofitsegmcwi\", \"mkbpzddzmalsleud\", \"ibjlpnapcnsmgugu\", \"ljwfegchielwaghb\", \"dlwcludeemsmffyb\", \"unlqqlfvajjczyks\", \"odjkyxbmtxqhkflm\", \"btjxvrgfduskmpts\", \"pmxjblqhvpwflkwt\", \"xqascjfdlnlxubce\", \"nggwrmvazdxdjyfh\", \"gdultxlilvdnuwso\", \"lhgeydlzsntbaqzj\", \"nzgfjmknhxdezggp\", \"zuqrdemwihnexkpw\", \"yvuoearellwavkzs\", \"okeuihmplbxhxceo\", \"qbohnomeacnwdafj\", \"dzjyqrdmawtdcqbx\", \"lzsfpyidvnkaxnvs\", \"fkltkgzmjnzqzlqv\", \"fzgvfpmdmggikezp\", \"jixkbeuswaznqplh\", \"payritakwxpyzwqq\", \"ifalilovsdszxmjm\", \"zhzmkwjsrgvudmmw\", \"zycfmwxhaaaxdwpb\", \"yhzuhoixugafkonm\", \"cxvltpchlhlatjkb\", \"bowuhkfextvyabch\", \"tcyceqtrfusfmkpy\", \"bqcnaxkvbmfieysy\", \"frdityocokfyohoa\", \"qzkbvcycbyxrgbqk\", \"kdsbtuikoaulynsu\", \"bvfbihgnteuiuaov\", \"qozlaoxmwusgalpz\", \"hixbnwflcimyepla\", \"rsphcdnwdddxhdvb\", \"hhidavhckwcwznhf\", \"vwerelrvyumnkbwk\", \"uevoqlbbbmmhkdbi\", \"gicokqmbjnafngon\", \"yqztzexmqeyeirmv\", \"hjhvhzfpslejsnej\", \"vpvtqlxqaiejzrqo\", \"xnwekpoxnvwckfcp\", \"mmfquhvxcmjcvmhz\", \"xbdjgmfolqdfvftr\", \"sqqvhmadjqegpsps\", \"dzbwjjmruyqxyvms\", \"yhotwssicqxqetep\", \"efhjvgwyjfjqsdna\", \"zzubfikjmmfsxhbn\", \"hgyoclvrybybkocm\", \"mvvztpapgrcwgrdt\", \"gtvhxebtkefavzhg\", \"flnipmkwonjnaqsp\", \"znppxsjvuytcambw\", \"nugjzznlbtmumwrp\", \"luwiodhzrjjobjlw\", \"pfkfojczxwevqesz\", \"vuqhkgrnmheydqku\", \"hjhlpxkdgqzdlnkc\", \"esvszhlxzbxeecme\", \"vzinjyeuiebqjmep\", \"degdppvcniqrzruc\", \"tneakanblaxyevhf\", \"zghfsejpgrfrqfdp\", \"whfzavgfbojmgezm\", \"mqsiquclpholncqd\", \"wnrwtzbbxbvnmbqd\", \"akqknybjyxwbdpot\", \"iditakunbaxfjcmc\", \"jbvhqxmbarxynmfk\", \"iadwyxxyvkcpyeus\", \"exfftzvkfnajarkm\", \"kglgveumqmtwrqsf\", \"uhhrakuolcaxvsbh\", \"frvooqzltrzlbhxb\", \"cllupxtcyclounsg\", \"vnsxpowqjjomnmac\", \"gykwyopsdhbsalvd\", \"fouvkndsdstwjqpj\", \"fnfpmchfyyqmdtfm\", \"gfbcqaotflsogaet\", \"jghfkxkawqeujuhj\", \"gvaasolsbmnbjhah\", \"nrwphouoeazzmbmx\", \"tuudpbartgtwkoms\", \"rgfytoxurocumuxu\", \"afmufyguudlwbcix\", \"vafxeruawxlvrttn\", \"qxnyigoiwisibpko\", \"feioipyfbkxhcsyq\", \"ekwqttgkaobektch\", \"ccxwaznvwtdltwlt\", \"nkktflvfoasvkvht\", \"ablxjgbyowxrfxed\", \"uhnrmazhzouxvsqd\", \"aewtczgiyochvagl\", \"kzzakxocsxhkvslf\", \"oqbjvmfvjonftdxi\", \"njcwousmigzpursi\", \"mtubnuteguketfck\", \"spqqpwucqcaspwkb\", \"kxmtwjjyzuqqgmjw\", \"aoytjdcfreqvurza\", \"wmmjbitjeevklkzj\", \"uaweumzfugnsyqmx\", \"pgkgdfabkhkbviht\", \"wylaluxuyuqkytus\", \"hwsgwbkydspkbben\", \"dxpafctvukcmaqao\", \"vtgypuzvlawmkolb\", \"jdsmqjpfexexznya\", \"qwshkzmlvlerxsov\", \"caovvakxarqpgymh\", \"bxzfdlphpiwyjeys\", \"qwedbcvlquqfoycc\", \"ktytfazsvecrjvzl\", \"lpwtmtiwkgbwhufg\", \"buuihjqtdgilqzjc\", \"lhamctzhosdtmdix\", \"ntjpzidotcatossl\", \"ixyvsrnksxeiqbve\", \"reolzfmikorzxstf\", \"wrpeamdcqpawnqag\", \"bxksiwcqwmxjcbci\", \"ulrbzlswbgzvmpas\", \"ureljkoqqvqbpdvx\", \"asbtrxjnhqdpazot\", \"clcqzivttlcdfpnv\", \"bxrkvmsmoqvefhra\", \"gzpmemdiurffxomf\", \"mxytuavlfghapjvu\", \"dxoirhatawazqmey\", \"hjejiuqyfrvtxagi\", \"muixzziwtwouzapq\", \"ndepxuvlaiqzdnan\", \"jancrvhjhcbxreda\", \"vuvbtxegkdifkviv\", \"qidpxyunryowizua\", \"trwedbipujnvnhpr\", \"lcokgbxbqigkqzcw\", \"ryjiidsxttvdcpwu\", \"egsfpimnisvvfkne\", \"nfrqxttuhpuqvwti\", \"rytmtyltypttvqjs\"], \"xaxis\": \"x\", \"y\": [16724, 9296, 8536, 7476, 6212, 5796, 5640, 5508, 4604, 3816, 3800, 3748, 3728, 3692, 3560, 3180, 3164, 3048, 2884, 2532, 2472, 2288, 2268, 2264, 2196, 2172, 2160, 1956, 1932, 1648, 1628, 1588, 1556, 1540, 1524, 1436, 1428, 1428, 1400, 1384, 1356, 1296, 1244, 1212, 1192, 1184, 1164, 1108, 1040, 1004, 964, 948, 948, 920, 876, 872, 860, 848, 844, 820, 816, 776, 736, 620, 620, 560, 528, 520, 512, 508, 500, 496, 484, 484, 472, 472, 472, 468, 468, 460, 460, 460, 424, 420, 372, 368, 360, 352, 352, 348, 344, 332, 324, 320, 316, 312, 312, 312, 304, 300, 296, 288, 284, 268, 264, 256, 252, 252, 252, 252, 252, 240, 240, 240, 236, 236, 232, 232, 228, 228, 228, 220, 216, 212, 212, 212, 212, 208, 208, 208, 204, 200, 200, 200, 200, 196, 192, 192, 192, 188, 188, 188, 188, 188, 184, 184, 180, 176, 176, 172, 172, 172, 172, 172, 168, 168, 164, 160, 160, 160, 160, 160, 156, 152, 152, 148, 148, 148, 148, 144, 144, 144, 140, 140, 140, 140, 140, 140, 136, 136, 136, 136, 136, 136, 128, 128, 128, 124, 124, 124, 124, 124, 124, 124, 124, 120, 120, 116, 116, 116, 116, 116, 116, 112, 112, 112, 112, 112, 108, 108, 108, 108, 108, 108, 108, 108, 104, 104, 104, 104, 104, 100, 100, 100, 100, 100, 100, 96, 96, 92, 92, 92, 92, 92, 88, 88, 88, 88, 88, 88, 88, 88, 88, 88, 84, 84, 84, 84, 84, 80, 80, 80, 80, 76, 76, 76, 76, 76, 76, 76, 72, 72, 72, 72, 72, 72, 72, 72, 72, 68, 68, 68, 68, 68, 68, 68, 68, 64, 64, 64, 64, 64, 64, 64, 60, 60, 60, 60, 60, 60, 60, 60, 60, 56, 56, 56, 56, 56, 56, 56, 56, 56, 52, 52, 52, 52, 52, 52, 52, 52, 52, 52, 52, 52, 52, 52, 52, 48, 48, 48, 48, 48, 48, 48, 48, 44, 44, 44, 44, 44, 44, 44, 44, 44, 44, 44, 44, 44, 44, 44, 40, 40, 40, 40, 40, 40, 40, 40, 40, 40, 40, 40, 40, 40, 40, 40, 40, 40, 36, 36, 36, 36, 36, 36, 36, 36, 36, 36, 36, 36, 36, 36, 36, 36, 36, 36, 36, 36, 36, 36, 36, 36, 32, 32, 32, 32, 32, 32, 32, 32, 32, 32, 32, 32, 32, 32, 32, 32, 32, 32, 32, 32, 32, 32, 32, 28, 28, 28, 28, 28, 28, 28, 28, 28, 28, 28, 28, 28, 28, 28, 28, 28, 28, 28, 28, 28, 28, 28, 28, 28, 24, 24, 24, 24, 24, 24, 24, 24, 24, 24, 24, 24, 24, 24, 24, 24, 24, 24, 24, 24, 24, 24, 24, 24, 24, 24, 24, 24, 20, 20, 20, 20, 20, 20, 20, 20, 20, 20, 20, 20, 20, 20, 20, 20, 20, 20, 20, 20, 20, 20, 20, 20, 20, 20, 20, 20, 20, 20, 20, 20, 20, 20, 20, 20, 16, 16, 16, 16, 16, 16, 16, 16, 16, 16, 16, 16, 16, 16, 16, 16, 16, 16, 16, 16, 16, 16, 16, 16, 16, 16, 16, 16, 16, 16, 16, 16, 16, 16, 16, 16, 16, 16, 16, 16, 16, 16, 16, 12, 12, 12, 12, 12, 12, 12, 12, 12, 12, 12, 12, 12, 12, 12, 12, 12, 12, 12, 12, 12, 12, 12, 12, 12, 12, 12, 12, 12, 12, 12, 12, 12, 12, 12, 12, 12, 12, 12, 12, 12, 12, 12, 12, 12, 12, 12, 12, 12, 12, 12, 12, 12, 12, 12, 12, 12, 12, 12, 12, 12, 8, 8, 8, 8, 8, 8, 8, 8, 8, 8, 8, 8, 8, 8, 8, 8, 8, 8, 8, 8, 8, 8, 8, 8, 8, 8, 8, 8, 8, 8, 8, 8, 8, 8, 8, 8, 8, 8, 8, 8, 8, 8, 8, 8, 8, 8, 8, 8, 8, 8, 8, 8, 8, 8, 8, 8, 8, 8, 8, 8, 8, 8, 8, 8, 8, 8, 8, 8, 8, 8, 8, 8, 8, 8, 8, 8, 8, 8, 8, 8, 8, 8, 8, 8, 8, 8, 8, 8, 8, 8, 8, 8, 8, 4, 4, 4, 4, 4, 4, 4, 4, 4, 4, 4, 4, 4, 4, 4, 4, 4, 4, 4, 4, 4, 4, 4, 4, 4, 4, 4, 4, 4, 4, 4, 4, 4, 4, 4, 4, 4, 4, 4, 4, 4, 4, 4, 4, 4, 4, 4, 4, 4, 4, 4, 4, 4, 4, 4, 4, 4, 4, 4, 4, 4, 4, 4, 4, 4, 4, 4, 4, 4, 4, 4, 4, 4, 4, 4, 4, 4, 4, 4, 4, 4, 4, 4, 4, 4, 4, 4, 4, 4, 4, 4, 4, 4, 4, 4, 4, 4, 4, 4, 4, 4, 4, 4, 4, 4, 4, 4, 4, 4, 4, 4, 4, 4, 4, 4, 4, 4, 4, 4, 4, 4, 4, 4, 4, 4, 4, 4, 4, 4, 4, 4, 4, 4, 4, 4, 4, 4, 4, 4, 4, 4, 4, 4, 4, 4, 4, 4, 4, 4, 4, 4, 4, 4, 4, 4, 4, 4, 4, 4, 4, 4, 4, 4, 4, 4, 4, 4, 4, 4, 4, 4, 4, 4, 4, 4, 4, 4, 4, 4, 4, 4, 4, 4, 4, 4, 4, 4, 4, 4, 4, 4, 4, 4, 4, 4, 4, 4, 4, 4, 4, 4, 4, 4, 4, 4, 4, 4, 4, 4], \"yaxis\": \"y\"}],                        {\"barmode\": \"relative\", \"legend\": {\"title\": {\"text\": \"variable\"}, \"tracegroupgap\": 0}, \"margin\": {\"t\": 60}, \"template\": {\"data\": {\"bar\": [{\"error_x\": {\"color\": \"#2a3f5f\"}, \"error_y\": {\"color\": \"#2a3f5f\"}, \"marker\": {\"line\": {\"color\": \"#E5ECF6\", \"width\": 0.5}}, \"type\": \"bar\"}], \"barpolar\": [{\"marker\": {\"line\": {\"color\": \"#E5ECF6\", \"width\": 0.5}}, \"type\": \"barpolar\"}], \"carpet\": [{\"aaxis\": {\"endlinecolor\": \"#2a3f5f\", \"gridcolor\": \"white\", \"linecolor\": \"white\", \"minorgridcolor\": \"white\", \"startlinecolor\": \"#2a3f5f\"}, \"baxis\": {\"endlinecolor\": \"#2a3f5f\", \"gridcolor\": \"white\", \"linecolor\": \"white\", \"minorgridcolor\": \"white\", \"startlinecolor\": \"#2a3f5f\"}, \"type\": \"carpet\"}], \"choropleth\": [{\"colorbar\": {\"outlinewidth\": 0, \"ticks\": \"\"}, \"type\": \"choropleth\"}], \"contour\": [{\"colorbar\": {\"outlinewidth\": 0, \"ticks\": \"\"}, \"colorscale\": [[0.0, \"#0d0887\"], [0.1111111111111111, \"#46039f\"], [0.2222222222222222, \"#7201a8\"], [0.3333333333333333, \"#9c179e\"], [0.4444444444444444, \"#bd3786\"], [0.5555555555555556, \"#d8576b\"], [0.6666666666666666, \"#ed7953\"], [0.7777777777777778, \"#fb9f3a\"], [0.8888888888888888, \"#fdca26\"], [1.0, \"#f0f921\"]], \"type\": \"contour\"}], \"contourcarpet\": [{\"colorbar\": {\"outlinewidth\": 0, \"ticks\": \"\"}, \"type\": \"contourcarpet\"}], \"heatmap\": [{\"colorbar\": {\"outlinewidth\": 0, \"ticks\": \"\"}, \"colorscale\": [[0.0, \"#0d0887\"], [0.1111111111111111, \"#46039f\"], [0.2222222222222222, \"#7201a8\"], [0.3333333333333333, \"#9c179e\"], [0.4444444444444444, \"#bd3786\"], [0.5555555555555556, \"#d8576b\"], [0.6666666666666666, \"#ed7953\"], [0.7777777777777778, \"#fb9f3a\"], [0.8888888888888888, \"#fdca26\"], [1.0, \"#f0f921\"]], \"type\": \"heatmap\"}], \"heatmapgl\": [{\"colorbar\": {\"outlinewidth\": 0, \"ticks\": \"\"}, \"colorscale\": [[0.0, \"#0d0887\"], [0.1111111111111111, \"#46039f\"], [0.2222222222222222, \"#7201a8\"], [0.3333333333333333, \"#9c179e\"], [0.4444444444444444, \"#bd3786\"], [0.5555555555555556, \"#d8576b\"], [0.6666666666666666, \"#ed7953\"], [0.7777777777777778, \"#fb9f3a\"], [0.8888888888888888, \"#fdca26\"], [1.0, \"#f0f921\"]], \"type\": \"heatmapgl\"}], \"histogram\": [{\"marker\": {\"colorbar\": {\"outlinewidth\": 0, \"ticks\": \"\"}}, \"type\": \"histogram\"}], \"histogram2d\": [{\"colorbar\": {\"outlinewidth\": 0, \"ticks\": \"\"}, \"colorscale\": [[0.0, \"#0d0887\"], [0.1111111111111111, \"#46039f\"], [0.2222222222222222, \"#7201a8\"], [0.3333333333333333, \"#9c179e\"], [0.4444444444444444, \"#bd3786\"], [0.5555555555555556, \"#d8576b\"], [0.6666666666666666, \"#ed7953\"], [0.7777777777777778, \"#fb9f3a\"], [0.8888888888888888, \"#fdca26\"], [1.0, \"#f0f921\"]], \"type\": \"histogram2d\"}], \"histogram2dcontour\": [{\"colorbar\": {\"outlinewidth\": 0, \"ticks\": \"\"}, \"colorscale\": [[0.0, \"#0d0887\"], [0.1111111111111111, \"#46039f\"], [0.2222222222222222, \"#7201a8\"], [0.3333333333333333, \"#9c179e\"], [0.4444444444444444, \"#bd3786\"], [0.5555555555555556, \"#d8576b\"], [0.6666666666666666, \"#ed7953\"], [0.7777777777777778, \"#fb9f3a\"], [0.8888888888888888, \"#fdca26\"], [1.0, \"#f0f921\"]], \"type\": \"histogram2dcontour\"}], \"mesh3d\": [{\"colorbar\": {\"outlinewidth\": 0, \"ticks\": \"\"}, \"type\": \"mesh3d\"}], \"parcoords\": [{\"line\": {\"colorbar\": {\"outlinewidth\": 0, \"ticks\": \"\"}}, \"type\": \"parcoords\"}], \"pie\": [{\"automargin\": true, \"type\": \"pie\"}], \"scatter\": [{\"marker\": {\"colorbar\": {\"outlinewidth\": 0, \"ticks\": \"\"}}, \"type\": \"scatter\"}], \"scatter3d\": [{\"line\": {\"colorbar\": {\"outlinewidth\": 0, \"ticks\": \"\"}}, \"marker\": {\"colorbar\": {\"outlinewidth\": 0, \"ticks\": \"\"}}, \"type\": \"scatter3d\"}], \"scattercarpet\": [{\"marker\": {\"colorbar\": {\"outlinewidth\": 0, \"ticks\": \"\"}}, \"type\": \"scattercarpet\"}], \"scattergeo\": [{\"marker\": {\"colorbar\": {\"outlinewidth\": 0, \"ticks\": \"\"}}, \"type\": \"scattergeo\"}], \"scattergl\": [{\"marker\": {\"colorbar\": {\"outlinewidth\": 0, \"ticks\": \"\"}}, \"type\": \"scattergl\"}], \"scattermapbox\": [{\"marker\": {\"colorbar\": {\"outlinewidth\": 0, \"ticks\": \"\"}}, \"type\": \"scattermapbox\"}], \"scatterpolar\": [{\"marker\": {\"colorbar\": {\"outlinewidth\": 0, \"ticks\": \"\"}}, \"type\": \"scatterpolar\"}], \"scatterpolargl\": [{\"marker\": {\"colorbar\": {\"outlinewidth\": 0, \"ticks\": \"\"}}, \"type\": \"scatterpolargl\"}], \"scatterternary\": [{\"marker\": {\"colorbar\": {\"outlinewidth\": 0, \"ticks\": \"\"}}, \"type\": \"scatterternary\"}], \"surface\": [{\"colorbar\": {\"outlinewidth\": 0, \"ticks\": \"\"}, \"colorscale\": [[0.0, \"#0d0887\"], [0.1111111111111111, \"#46039f\"], [0.2222222222222222, \"#7201a8\"], [0.3333333333333333, \"#9c179e\"], [0.4444444444444444, \"#bd3786\"], [0.5555555555555556, \"#d8576b\"], [0.6666666666666666, \"#ed7953\"], [0.7777777777777778, \"#fb9f3a\"], [0.8888888888888888, \"#fdca26\"], [1.0, \"#f0f921\"]], \"type\": \"surface\"}], \"table\": [{\"cells\": {\"fill\": {\"color\": \"#EBF0F8\"}, \"line\": {\"color\": \"white\"}}, \"header\": {\"fill\": {\"color\": \"#C8D4E3\"}, \"line\": {\"color\": \"white\"}}, \"type\": \"table\"}]}, \"layout\": {\"annotationdefaults\": {\"arrowcolor\": \"#2a3f5f\", \"arrowhead\": 0, \"arrowwidth\": 1}, \"autotypenumbers\": \"strict\", \"coloraxis\": {\"colorbar\": {\"outlinewidth\": 0, \"ticks\": \"\"}}, \"colorscale\": {\"diverging\": [[0, \"#8e0152\"], [0.1, \"#c51b7d\"], [0.2, \"#de77ae\"], [0.3, \"#f1b6da\"], [0.4, \"#fde0ef\"], [0.5, \"#f7f7f7\"], [0.6, \"#e6f5d0\"], [0.7, \"#b8e186\"], [0.8, \"#7fbc41\"], [0.9, \"#4d9221\"], [1, \"#276419\"]], \"sequential\": [[0.0, \"#0d0887\"], [0.1111111111111111, \"#46039f\"], [0.2222222222222222, \"#7201a8\"], [0.3333333333333333, \"#9c179e\"], [0.4444444444444444, \"#bd3786\"], [0.5555555555555556, \"#d8576b\"], [0.6666666666666666, \"#ed7953\"], [0.7777777777777778, \"#fb9f3a\"], [0.8888888888888888, \"#fdca26\"], [1.0, \"#f0f921\"]], \"sequentialminus\": [[0.0, \"#0d0887\"], [0.1111111111111111, \"#46039f\"], [0.2222222222222222, \"#7201a8\"], [0.3333333333333333, \"#9c179e\"], [0.4444444444444444, \"#bd3786\"], [0.5555555555555556, \"#d8576b\"], [0.6666666666666666, \"#ed7953\"], [0.7777777777777778, \"#fb9f3a\"], [0.8888888888888888, \"#fdca26\"], [1.0, \"#f0f921\"]]}, \"colorway\": [\"#636efa\", \"#EF553B\", \"#00cc96\", \"#ab63fa\", \"#FFA15A\", \"#19d3f3\", \"#FF6692\", \"#B6E880\", \"#FF97FF\", \"#FECB52\"], \"font\": {\"color\": \"#2a3f5f\"}, \"geo\": {\"bgcolor\": \"white\", \"lakecolor\": \"white\", \"landcolor\": \"#E5ECF6\", \"showlakes\": true, \"showland\": true, \"subunitcolor\": \"white\"}, \"hoverlabel\": {\"align\": \"left\"}, \"hovermode\": \"closest\", \"mapbox\": {\"style\": \"light\"}, \"paper_bgcolor\": \"white\", \"plot_bgcolor\": \"#E5ECF6\", \"polar\": {\"angularaxis\": {\"gridcolor\": \"white\", \"linecolor\": \"white\", \"ticks\": \"\"}, \"bgcolor\": \"#E5ECF6\", \"radialaxis\": {\"gridcolor\": \"white\", \"linecolor\": \"white\", \"ticks\": \"\"}}, \"scene\": {\"xaxis\": {\"backgroundcolor\": \"#E5ECF6\", \"gridcolor\": \"white\", \"gridwidth\": 2, \"linecolor\": \"white\", \"showbackground\": true, \"ticks\": \"\", \"zerolinecolor\": \"white\"}, \"yaxis\": {\"backgroundcolor\": \"#E5ECF6\", \"gridcolor\": \"white\", \"gridwidth\": 2, \"linecolor\": \"white\", \"showbackground\": true, \"ticks\": \"\", \"zerolinecolor\": \"white\"}, \"zaxis\": {\"backgroundcolor\": \"#E5ECF6\", \"gridcolor\": \"white\", \"gridwidth\": 2, \"linecolor\": \"white\", \"showbackground\": true, \"ticks\": \"\", \"zerolinecolor\": \"white\"}}, \"shapedefaults\": {\"line\": {\"color\": \"#2a3f5f\"}}, \"ternary\": {\"aaxis\": {\"gridcolor\": \"white\", \"linecolor\": \"white\", \"ticks\": \"\"}, \"baxis\": {\"gridcolor\": \"white\", \"linecolor\": \"white\", \"ticks\": \"\"}, \"bgcolor\": \"#E5ECF6\", \"caxis\": {\"gridcolor\": \"white\", \"linecolor\": \"white\", \"ticks\": \"\"}}, \"title\": {\"x\": 0.05}, \"xaxis\": {\"automargin\": true, \"gridcolor\": \"white\", \"linecolor\": \"white\", \"ticks\": \"\", \"title\": {\"standoff\": 15}, \"zerolinecolor\": \"white\", \"zerolinewidth\": 2}, \"yaxis\": {\"automargin\": true, \"gridcolor\": \"white\", \"linecolor\": \"white\", \"ticks\": \"\", \"title\": {\"standoff\": 15}, \"zerolinecolor\": \"white\", \"zerolinewidth\": 2}}}, \"xaxis\": {\"anchor\": \"y\", \"domain\": [0.0, 1.0], \"title\": {\"text\": \"index\"}}, \"yaxis\": {\"anchor\": \"x\", \"domain\": [0.0, 1.0], \"title\": {\"text\": \"value\"}}},                        {\"responsive\": true}                    ).then(function(){\n",
       "                            \n",
       "var gd = document.getElementById('739bc9fb-caba-43aa-9ce2-d5f5160553cb');\n",
       "var x = new MutationObserver(function (mutations, observer) {{\n",
       "        var display = window.getComputedStyle(gd).display;\n",
       "        if (!display || display === 'none') {{\n",
       "            console.log([gd, 'removed!']);\n",
       "            Plotly.purge(gd);\n",
       "            observer.disconnect();\n",
       "        }}\n",
       "}});\n",
       "\n",
       "// Listen for the removal of the full notebook cells\n",
       "var notebookContainer = gd.closest('#notebook-container');\n",
       "if (notebookContainer) {{\n",
       "    x.observe(notebookContainer, {childList: true});\n",
       "}}\n",
       "\n",
       "// Listen for the clearing of the current output cell\n",
       "var outputEl = gd.closest('.output');\n",
       "if (outputEl) {{\n",
       "    x.observe(outputEl, {childList: true});\n",
       "}}\n",
       "\n",
       "                        })                };                });            </script>        </div>"
      ]
     },
     "metadata": {},
     "output_type": "display_data"
    }
   ],
   "source": [
    "px.bar(df['vh_make_model'].value_counts())"
   ]
  },
  {
   "cell_type": "code",
   "execution_count": 103,
   "metadata": {},
   "outputs": [],
   "source": [
    "filtro =  df['vh_make_model'].value_counts()\n",
    "\n",
    "modelos = filtro[filtro>=200]\n",
    "\n",
    "df_modelos = df[df['vh_make_model'].isin(modelos.index)]"
   ]
  },
  {
   "cell_type": "code",
   "execution_count": 104,
   "metadata": {},
   "outputs": [
    {
     "name": "stderr",
     "output_type": "stream",
     "text": [
      "<ipython-input-104-e2923f529d52>:2: UserWarning:\n",
      "\n",
      "Boolean Series key will be reindexed to match DataFrame index.\n",
      "\n"
     ]
    }
   ],
   "source": [
    "contagem_veiculos = df_modelos.groupby('vh_make_model')['id_policy'].count()\n",
    "contagem_claim_veiculos = df_modelos[ df['claim_amount'] > 0 ].groupby('vh_make_model')['id_policy'].count()\n",
    "prob_claim_veiculos = (contagem_claim_veiculos / contagem_veiculos).fillna(0)"
   ]
  },
  {
   "cell_type": "code",
   "execution_count": 105,
   "metadata": {},
   "outputs": [
    {
     "data": {
      "application/vnd.plotly.v1+json": {
       "config": {
        "plotlyServerURL": "https://plot.ly"
       },
       "data": [
        {
         "alignmentgroup": "True",
         "hovertemplate": "variable=id_policy<br>vh_make_model=%{x}<br>value=%{y}<extra></extra>",
         "legendgroup": "id_policy",
         "marker": {
          "color": "#636efa"
         },
         "name": "id_policy",
         "offsetgroup": "id_policy",
         "orientation": "v",
         "showlegend": true,
         "textposition": "auto",
         "type": "bar",
         "x": [
          "abcepdrvvynjsufa",
          "aewtdnpoiopumymt",
          "aifsqdniwqmcuqpv",
          "ammbrasbxojlitmt",
          "anqyvxqouldudiww",
          "aparvvfowrjncdhp",
          "asmpttrlkodaejic",
          "aywlgifrijfokyzu",
          "biqzvbfzjivqmrro",
          "bsiyfrkwdyptmwji",
          "bvuzvpriwqlnbjxt",
          "cgkclpnidlmetsrb",
          "clmcokjtplrbzvuh",
          "dbtkrhmbfxpkqbau",
          "dgwbxitzfzbegnoc",
          "dgwtezteqyzzylho",
          "djyptluftbfkxtjd",
          "dllcylnkzeegtsgr",
          "dlrodwgixwmoquny",
          "doohwubeqhbkevhr",
          "dpcnodgqfivkhxvn",
          "dtpbahjtnmyuxqno",
          "dweqmfoluivgiayj",
          "dwsasdexwmpsmowl",
          "dyzvyrmcdyybbddd",
          "efiskxgaocgqqjvr",
          "ehapkksqqcbofeid",
          "epbwnmcyogpybxlm",
          "eslneidrjqwzpqhd",
          "ettwalwfkzvwdasa",
          "ewkcexkqpsyfnugi",
          "fadjogsnmecatcfb",
          "fklewvbxuecmupxn",
          "fuwhdjmdexrstmmo",
          "gapclpflkdsbeorm",
          "gfhjqtkgvomiygvx",
          "gjbalugsikirqoam",
          "gjpgirzuabhfpkjd",
          "gjxmrfgnorpfspbb",
          "gsooyxmnwsucrksh",
          "guiimarisyyjqnfg",
          "gujwvdfcmmqcwxfi",
          "hkazsxqvbtmawovu",
          "hpohizpkyzvwunni",
          "hselphnqlvecmmyx",
          "htedybhazfjiueyj",
          "hwldevoubgzgbhgs",
          "iqepotyqjqeebzix",
          "iulvirmzdntweaee",
          "iwhqpdfuhrsxyqxe",
          "ixbrfaoerogqomah",
          "jgkpiuuctpywtrlh",
          "jhdjdpthkztnjvmb",
          "jiyzqszfywhdfsil",
          "jjjvjaxpzvlbryfd",
          "jjycmklnkdivnypu",
          "jlxizhsfukrheysf",
          "johsjccpkithubii",
          "jrwdpzrmxqlzzepk",
          "kbgblyclstrmicux",
          "kpciudedjlrqsfte",
          "kvcddisqpkysmvvo",
          "kzwthrslljkmbqur",
          "ldxjynecsqlswvbq",
          "lqkdgbosdzrtitgx",
          "mbytpqiuixyvpaab",
          "mdxtphkujabwpjeu",
          "mizxbkgdiuoehddq",
          "ngombkqqomblyxwv",
          "nhoebceeiacnmvym",
          "nhwgapjtnadqqaul",
          "nilvygybpajtnxnr",
          "nkueyjctyasmotny",
          "nsymgnybdjqxudvj",
          "nwaavqeweeqaryzv",
          "nyrtstlobluggnkw",
          "olupoctwepebdqqo",
          "onzjhhtppsfaiacz",
          "oryfrzxilushvigq",
          "owxrlgxbigikfgtm",
          "pheduvdlnmrchihf",
          "pjbnwqhnqczouirt",
          "ponwkmeaxagundzq",
          "prtnwsypyfnshpqx",
          "pyykjiriqrhjduly",
          "qbztetcodwhfmoyg",
          "qpcebxmotqhildhx",
          "quslbttvcitxzeiy",
          "qvwenzdmnwecdiql",
          "qxtqrwxfvuenelml",
          "rabwrzdzwjjdhbmx",
          "rcxmbwwsxkkkyyjs",
          "rgrpzewhrznrqrna",
          "rguedwefqmzdxowu",
          "rrlvhbnzrdtphqnl",
          "rthsjeyjgdlmkygk",
          "rwrevaiebpmviwqz",
          "saempmkfulqhwfqk",
          "sguprofjftozaujc",
          "shemwbbeliuvnvvm",
          "snsnxmucuccvqfvz",
          "srgqbkjrwdbikmzq",
          "svmjzfcsvgxiwwjt",
          "swjkmyqytzxjwgag",
          "synvsxhrexuyxpre",
          "tdgkjlphosocwbgu",
          "toqaaqswchaiyhsk",
          "uahuglbjdtacoqjt",
          "ubttjiaeeuwzcclq",
          "uhkhghxuorryhlis",
          "uwwrbkmjbjyxutfq",
          "uzmldekmvczimsrj",
          "wehkqzwvbeonajcu",
          "wgruytvmfzalzrtb",
          "wpsyqubfrhdspxkx",
          "wsfgxnwhxftjhpxw",
          "wxzfbqtarfurwcfw",
          "wyqgeeclrqbihfpk",
          "xaklvfxsplowrglp",
          "xgvsuftfggoojbdp",
          "xjaddkudsebowzen",
          "xjnjmxyqemqqiejp",
          "xkzehzohmfrsmolg",
          "xpxsjmglcvcsxwdy",
          "xyuwuxlpirkzkqdb",
          "xzdsapxqliboezbc",
          "yfalryaixpzfoihd",
          "yvlkrzgjhwrlyihc",
          "yzxgnwgpnrdprtbh",
          "zagpnfpbwgeyeufr",
          "zkreetxvsoihwkgo",
          "zoypfizhpbtpjwpv",
          "zqruwnlzuefcpqjm",
          "zspzyfdefowgwddf",
          "zxvcbwcwoqnkxxbs"
         ],
         "xaxis": "x",
         "y": [
          0.14189189189189189,
          0.20422535211267606,
          0.13333333333333333,
          0.12317073170731707,
          0.12280701754385964,
          0.0800561797752809,
          0.163135593220339,
          0.09126984126984126,
          0.0789597000937207,
          0.13171140939597314,
          0.10080645161290322,
          0.03773584905660377,
          0.08695652173913043,
          0.08962264150943396,
          0.1590909090909091,
          0.09722222222222222,
          0.115,
          0.04722921914357683,
          0.16452991452991453,
          0.11392405063291139,
          0.0686046511627907,
          0.09890776699029126,
          0.14029535864978904,
          0.04025423728813559,
          0.14383561643835616,
          0.1346153846153846,
          0.14583333333333334,
          0.024193548387096774,
          0.0913978494623656,
          0.11666666666666667,
          0.14682539682539683,
          0.09523809523809523,
          0.06018518518518518,
          0.11956521739130435,
          0.05952380952380952,
          0.1288300835654596,
          0.07532467532467532,
          0.13157894736842105,
          0.07371794871794872,
          0.08712121212121213,
          0.14641434262948208,
          0.10550458715596331,
          0.11921965317919075,
          0.03553921568627451,
          0.12854609929078015,
          0.103515625,
          0.046052631578947366,
          0.08333333333333333,
          0.08169291338582677,
          0.11556603773584906,
          0.13679245283018868,
          0.02952755905511811,
          0.07650273224043716,
          0.11016949152542373,
          0.13585209003215434,
          0.1301042571676803,
          0.10714285714285714,
          0.09896729776247848,
          0.12962962962962962,
          0.13943488943488944,
          0.11317567567567567,
          0.0986093552465234,
          0.08447368421052631,
          0.02631578947368421,
          0.13043478260869565,
          0.10416666666666667,
          0.185,
          0.14150943396226415,
          0.10148514851485149,
          0.10543478260869565,
          0.04332129963898917,
          0.13250883392226148,
          0.11730769230769231,
          0.1484593837535014,
          0.12,
          0.05172413793103448,
          0.11057692307692307,
          0.14669421487603307,
          0.15254237288135594,
          0.07758620689655173,
          0.12745098039215685,
          0.03920308483290488,
          0.10568669527896996,
          0.04779874213836478,
          0.08831521739130435,
          0.1016949152542373,
          0.11858974358974358,
          0.14026915113871635,
          0.10465116279069768,
          0.19318181818181818,
          0.13095238095238096,
          0.12292817679558012,
          0.12686567164179105,
          0.13333333333333333,
          0.1481958762886598,
          0.09638842382205214,
          0.104,
          0.10967741935483871,
          0.15123456790123457,
          0.025,
          0.125,
          0.0873015873015873,
          0.11020334059549745,
          0.12921348314606743,
          0.19658119658119658,
          0.11220218931101095,
          0.11781609195402298,
          0.12048192771084337,
          0.1145104895104895,
          0.11521739130434783,
          0.08464566929133858,
          0.09344660194174757,
          0.15495867768595042,
          0.1320754716981132,
          0.0752212389380531,
          0.125,
          0.15056818181818182,
          0.012658227848101266,
          0.12081128747795414,
          0.145,
          0.10130010834236186,
          0.12777777777777777,
          0.12343966712898752,
          0.10308056872037914,
          0.060714285714285714,
          0.10928571428571429,
          0.1441717791411043,
          0.17219917012448133,
          0.06057692307692308,
          0.1,
          0.12971698113207547,
          0.0631911532385466,
          0.059498399146211314,
          0.13917525773195877,
          0.038461538461538464
         ],
         "yaxis": "y"
        }
       ],
       "layout": {
        "barmode": "relative",
        "legend": {
         "title": {
          "text": "variable"
         },
         "tracegroupgap": 0
        },
        "margin": {
         "t": 60
        },
        "template": {
         "data": {
          "bar": [
           {
            "error_x": {
             "color": "#2a3f5f"
            },
            "error_y": {
             "color": "#2a3f5f"
            },
            "marker": {
             "line": {
              "color": "#E5ECF6",
              "width": 0.5
             }
            },
            "type": "bar"
           }
          ],
          "barpolar": [
           {
            "marker": {
             "line": {
              "color": "#E5ECF6",
              "width": 0.5
             }
            },
            "type": "barpolar"
           }
          ],
          "carpet": [
           {
            "aaxis": {
             "endlinecolor": "#2a3f5f",
             "gridcolor": "white",
             "linecolor": "white",
             "minorgridcolor": "white",
             "startlinecolor": "#2a3f5f"
            },
            "baxis": {
             "endlinecolor": "#2a3f5f",
             "gridcolor": "white",
             "linecolor": "white",
             "minorgridcolor": "white",
             "startlinecolor": "#2a3f5f"
            },
            "type": "carpet"
           }
          ],
          "choropleth": [
           {
            "colorbar": {
             "outlinewidth": 0,
             "ticks": ""
            },
            "type": "choropleth"
           }
          ],
          "contour": [
           {
            "colorbar": {
             "outlinewidth": 0,
             "ticks": ""
            },
            "colorscale": [
             [
              0,
              "#0d0887"
             ],
             [
              0.1111111111111111,
              "#46039f"
             ],
             [
              0.2222222222222222,
              "#7201a8"
             ],
             [
              0.3333333333333333,
              "#9c179e"
             ],
             [
              0.4444444444444444,
              "#bd3786"
             ],
             [
              0.5555555555555556,
              "#d8576b"
             ],
             [
              0.6666666666666666,
              "#ed7953"
             ],
             [
              0.7777777777777778,
              "#fb9f3a"
             ],
             [
              0.8888888888888888,
              "#fdca26"
             ],
             [
              1,
              "#f0f921"
             ]
            ],
            "type": "contour"
           }
          ],
          "contourcarpet": [
           {
            "colorbar": {
             "outlinewidth": 0,
             "ticks": ""
            },
            "type": "contourcarpet"
           }
          ],
          "heatmap": [
           {
            "colorbar": {
             "outlinewidth": 0,
             "ticks": ""
            },
            "colorscale": [
             [
              0,
              "#0d0887"
             ],
             [
              0.1111111111111111,
              "#46039f"
             ],
             [
              0.2222222222222222,
              "#7201a8"
             ],
             [
              0.3333333333333333,
              "#9c179e"
             ],
             [
              0.4444444444444444,
              "#bd3786"
             ],
             [
              0.5555555555555556,
              "#d8576b"
             ],
             [
              0.6666666666666666,
              "#ed7953"
             ],
             [
              0.7777777777777778,
              "#fb9f3a"
             ],
             [
              0.8888888888888888,
              "#fdca26"
             ],
             [
              1,
              "#f0f921"
             ]
            ],
            "type": "heatmap"
           }
          ],
          "heatmapgl": [
           {
            "colorbar": {
             "outlinewidth": 0,
             "ticks": ""
            },
            "colorscale": [
             [
              0,
              "#0d0887"
             ],
             [
              0.1111111111111111,
              "#46039f"
             ],
             [
              0.2222222222222222,
              "#7201a8"
             ],
             [
              0.3333333333333333,
              "#9c179e"
             ],
             [
              0.4444444444444444,
              "#bd3786"
             ],
             [
              0.5555555555555556,
              "#d8576b"
             ],
             [
              0.6666666666666666,
              "#ed7953"
             ],
             [
              0.7777777777777778,
              "#fb9f3a"
             ],
             [
              0.8888888888888888,
              "#fdca26"
             ],
             [
              1,
              "#f0f921"
             ]
            ],
            "type": "heatmapgl"
           }
          ],
          "histogram": [
           {
            "marker": {
             "colorbar": {
              "outlinewidth": 0,
              "ticks": ""
             }
            },
            "type": "histogram"
           }
          ],
          "histogram2d": [
           {
            "colorbar": {
             "outlinewidth": 0,
             "ticks": ""
            },
            "colorscale": [
             [
              0,
              "#0d0887"
             ],
             [
              0.1111111111111111,
              "#46039f"
             ],
             [
              0.2222222222222222,
              "#7201a8"
             ],
             [
              0.3333333333333333,
              "#9c179e"
             ],
             [
              0.4444444444444444,
              "#bd3786"
             ],
             [
              0.5555555555555556,
              "#d8576b"
             ],
             [
              0.6666666666666666,
              "#ed7953"
             ],
             [
              0.7777777777777778,
              "#fb9f3a"
             ],
             [
              0.8888888888888888,
              "#fdca26"
             ],
             [
              1,
              "#f0f921"
             ]
            ],
            "type": "histogram2d"
           }
          ],
          "histogram2dcontour": [
           {
            "colorbar": {
             "outlinewidth": 0,
             "ticks": ""
            },
            "colorscale": [
             [
              0,
              "#0d0887"
             ],
             [
              0.1111111111111111,
              "#46039f"
             ],
             [
              0.2222222222222222,
              "#7201a8"
             ],
             [
              0.3333333333333333,
              "#9c179e"
             ],
             [
              0.4444444444444444,
              "#bd3786"
             ],
             [
              0.5555555555555556,
              "#d8576b"
             ],
             [
              0.6666666666666666,
              "#ed7953"
             ],
             [
              0.7777777777777778,
              "#fb9f3a"
             ],
             [
              0.8888888888888888,
              "#fdca26"
             ],
             [
              1,
              "#f0f921"
             ]
            ],
            "type": "histogram2dcontour"
           }
          ],
          "mesh3d": [
           {
            "colorbar": {
             "outlinewidth": 0,
             "ticks": ""
            },
            "type": "mesh3d"
           }
          ],
          "parcoords": [
           {
            "line": {
             "colorbar": {
              "outlinewidth": 0,
              "ticks": ""
             }
            },
            "type": "parcoords"
           }
          ],
          "pie": [
           {
            "automargin": true,
            "type": "pie"
           }
          ],
          "scatter": [
           {
            "marker": {
             "colorbar": {
              "outlinewidth": 0,
              "ticks": ""
             }
            },
            "type": "scatter"
           }
          ],
          "scatter3d": [
           {
            "line": {
             "colorbar": {
              "outlinewidth": 0,
              "ticks": ""
             }
            },
            "marker": {
             "colorbar": {
              "outlinewidth": 0,
              "ticks": ""
             }
            },
            "type": "scatter3d"
           }
          ],
          "scattercarpet": [
           {
            "marker": {
             "colorbar": {
              "outlinewidth": 0,
              "ticks": ""
             }
            },
            "type": "scattercarpet"
           }
          ],
          "scattergeo": [
           {
            "marker": {
             "colorbar": {
              "outlinewidth": 0,
              "ticks": ""
             }
            },
            "type": "scattergeo"
           }
          ],
          "scattergl": [
           {
            "marker": {
             "colorbar": {
              "outlinewidth": 0,
              "ticks": ""
             }
            },
            "type": "scattergl"
           }
          ],
          "scattermapbox": [
           {
            "marker": {
             "colorbar": {
              "outlinewidth": 0,
              "ticks": ""
             }
            },
            "type": "scattermapbox"
           }
          ],
          "scatterpolar": [
           {
            "marker": {
             "colorbar": {
              "outlinewidth": 0,
              "ticks": ""
             }
            },
            "type": "scatterpolar"
           }
          ],
          "scatterpolargl": [
           {
            "marker": {
             "colorbar": {
              "outlinewidth": 0,
              "ticks": ""
             }
            },
            "type": "scatterpolargl"
           }
          ],
          "scatterternary": [
           {
            "marker": {
             "colorbar": {
              "outlinewidth": 0,
              "ticks": ""
             }
            },
            "type": "scatterternary"
           }
          ],
          "surface": [
           {
            "colorbar": {
             "outlinewidth": 0,
             "ticks": ""
            },
            "colorscale": [
             [
              0,
              "#0d0887"
             ],
             [
              0.1111111111111111,
              "#46039f"
             ],
             [
              0.2222222222222222,
              "#7201a8"
             ],
             [
              0.3333333333333333,
              "#9c179e"
             ],
             [
              0.4444444444444444,
              "#bd3786"
             ],
             [
              0.5555555555555556,
              "#d8576b"
             ],
             [
              0.6666666666666666,
              "#ed7953"
             ],
             [
              0.7777777777777778,
              "#fb9f3a"
             ],
             [
              0.8888888888888888,
              "#fdca26"
             ],
             [
              1,
              "#f0f921"
             ]
            ],
            "type": "surface"
           }
          ],
          "table": [
           {
            "cells": {
             "fill": {
              "color": "#EBF0F8"
             },
             "line": {
              "color": "white"
             }
            },
            "header": {
             "fill": {
              "color": "#C8D4E3"
             },
             "line": {
              "color": "white"
             }
            },
            "type": "table"
           }
          ]
         },
         "layout": {
          "annotationdefaults": {
           "arrowcolor": "#2a3f5f",
           "arrowhead": 0,
           "arrowwidth": 1
          },
          "autotypenumbers": "strict",
          "coloraxis": {
           "colorbar": {
            "outlinewidth": 0,
            "ticks": ""
           }
          },
          "colorscale": {
           "diverging": [
            [
             0,
             "#8e0152"
            ],
            [
             0.1,
             "#c51b7d"
            ],
            [
             0.2,
             "#de77ae"
            ],
            [
             0.3,
             "#f1b6da"
            ],
            [
             0.4,
             "#fde0ef"
            ],
            [
             0.5,
             "#f7f7f7"
            ],
            [
             0.6,
             "#e6f5d0"
            ],
            [
             0.7,
             "#b8e186"
            ],
            [
             0.8,
             "#7fbc41"
            ],
            [
             0.9,
             "#4d9221"
            ],
            [
             1,
             "#276419"
            ]
           ],
           "sequential": [
            [
             0,
             "#0d0887"
            ],
            [
             0.1111111111111111,
             "#46039f"
            ],
            [
             0.2222222222222222,
             "#7201a8"
            ],
            [
             0.3333333333333333,
             "#9c179e"
            ],
            [
             0.4444444444444444,
             "#bd3786"
            ],
            [
             0.5555555555555556,
             "#d8576b"
            ],
            [
             0.6666666666666666,
             "#ed7953"
            ],
            [
             0.7777777777777778,
             "#fb9f3a"
            ],
            [
             0.8888888888888888,
             "#fdca26"
            ],
            [
             1,
             "#f0f921"
            ]
           ],
           "sequentialminus": [
            [
             0,
             "#0d0887"
            ],
            [
             0.1111111111111111,
             "#46039f"
            ],
            [
             0.2222222222222222,
             "#7201a8"
            ],
            [
             0.3333333333333333,
             "#9c179e"
            ],
            [
             0.4444444444444444,
             "#bd3786"
            ],
            [
             0.5555555555555556,
             "#d8576b"
            ],
            [
             0.6666666666666666,
             "#ed7953"
            ],
            [
             0.7777777777777778,
             "#fb9f3a"
            ],
            [
             0.8888888888888888,
             "#fdca26"
            ],
            [
             1,
             "#f0f921"
            ]
           ]
          },
          "colorway": [
           "#636efa",
           "#EF553B",
           "#00cc96",
           "#ab63fa",
           "#FFA15A",
           "#19d3f3",
           "#FF6692",
           "#B6E880",
           "#FF97FF",
           "#FECB52"
          ],
          "font": {
           "color": "#2a3f5f"
          },
          "geo": {
           "bgcolor": "white",
           "lakecolor": "white",
           "landcolor": "#E5ECF6",
           "showlakes": true,
           "showland": true,
           "subunitcolor": "white"
          },
          "hoverlabel": {
           "align": "left"
          },
          "hovermode": "closest",
          "mapbox": {
           "style": "light"
          },
          "paper_bgcolor": "white",
          "plot_bgcolor": "#E5ECF6",
          "polar": {
           "angularaxis": {
            "gridcolor": "white",
            "linecolor": "white",
            "ticks": ""
           },
           "bgcolor": "#E5ECF6",
           "radialaxis": {
            "gridcolor": "white",
            "linecolor": "white",
            "ticks": ""
           }
          },
          "scene": {
           "xaxis": {
            "backgroundcolor": "#E5ECF6",
            "gridcolor": "white",
            "gridwidth": 2,
            "linecolor": "white",
            "showbackground": true,
            "ticks": "",
            "zerolinecolor": "white"
           },
           "yaxis": {
            "backgroundcolor": "#E5ECF6",
            "gridcolor": "white",
            "gridwidth": 2,
            "linecolor": "white",
            "showbackground": true,
            "ticks": "",
            "zerolinecolor": "white"
           },
           "zaxis": {
            "backgroundcolor": "#E5ECF6",
            "gridcolor": "white",
            "gridwidth": 2,
            "linecolor": "white",
            "showbackground": true,
            "ticks": "",
            "zerolinecolor": "white"
           }
          },
          "shapedefaults": {
           "line": {
            "color": "#2a3f5f"
           }
          },
          "ternary": {
           "aaxis": {
            "gridcolor": "white",
            "linecolor": "white",
            "ticks": ""
           },
           "baxis": {
            "gridcolor": "white",
            "linecolor": "white",
            "ticks": ""
           },
           "bgcolor": "#E5ECF6",
           "caxis": {
            "gridcolor": "white",
            "linecolor": "white",
            "ticks": ""
           }
          },
          "title": {
           "x": 0.05
          },
          "xaxis": {
           "automargin": true,
           "gridcolor": "white",
           "linecolor": "white",
           "ticks": "",
           "title": {
            "standoff": 15
           },
           "zerolinecolor": "white",
           "zerolinewidth": 2
          },
          "yaxis": {
           "automargin": true,
           "gridcolor": "white",
           "linecolor": "white",
           "ticks": "",
           "title": {
            "standoff": 15
           },
           "zerolinecolor": "white",
           "zerolinewidth": 2
          }
         }
        },
        "xaxis": {
         "anchor": "y",
         "domain": [
          0,
          1
         ],
         "title": {
          "text": "vh_make_model"
         }
        },
        "yaxis": {
         "anchor": "x",
         "domain": [
          0,
          1
         ],
         "title": {
          "text": "value"
         }
        }
       }
      },
      "text/html": [
       "<div>                            <div id=\"420752aa-c5eb-4a84-810a-a74967a38836\" class=\"plotly-graph-div\" style=\"height:525px; width:100%;\"></div>            <script type=\"text/javascript\">                require([\"plotly\"], function(Plotly) {                    window.PLOTLYENV=window.PLOTLYENV || {};                                    if (document.getElementById(\"420752aa-c5eb-4a84-810a-a74967a38836\")) {                    Plotly.newPlot(                        \"420752aa-c5eb-4a84-810a-a74967a38836\",                        [{\"alignmentgroup\": \"True\", \"hovertemplate\": \"variable=id_policy<br>vh_make_model=%{x}<br>value=%{y}<extra></extra>\", \"legendgroup\": \"id_policy\", \"marker\": {\"color\": \"#636efa\"}, \"name\": \"id_policy\", \"offsetgroup\": \"id_policy\", \"orientation\": \"v\", \"showlegend\": true, \"textposition\": \"auto\", \"type\": \"bar\", \"x\": [\"abcepdrvvynjsufa\", \"aewtdnpoiopumymt\", \"aifsqdniwqmcuqpv\", \"ammbrasbxojlitmt\", \"anqyvxqouldudiww\", \"aparvvfowrjncdhp\", \"asmpttrlkodaejic\", \"aywlgifrijfokyzu\", \"biqzvbfzjivqmrro\", \"bsiyfrkwdyptmwji\", \"bvuzvpriwqlnbjxt\", \"cgkclpnidlmetsrb\", \"clmcokjtplrbzvuh\", \"dbtkrhmbfxpkqbau\", \"dgwbxitzfzbegnoc\", \"dgwtezteqyzzylho\", \"djyptluftbfkxtjd\", \"dllcylnkzeegtsgr\", \"dlrodwgixwmoquny\", \"doohwubeqhbkevhr\", \"dpcnodgqfivkhxvn\", \"dtpbahjtnmyuxqno\", \"dweqmfoluivgiayj\", \"dwsasdexwmpsmowl\", \"dyzvyrmcdyybbddd\", \"efiskxgaocgqqjvr\", \"ehapkksqqcbofeid\", \"epbwnmcyogpybxlm\", \"eslneidrjqwzpqhd\", \"ettwalwfkzvwdasa\", \"ewkcexkqpsyfnugi\", \"fadjogsnmecatcfb\", \"fklewvbxuecmupxn\", \"fuwhdjmdexrstmmo\", \"gapclpflkdsbeorm\", \"gfhjqtkgvomiygvx\", \"gjbalugsikirqoam\", \"gjpgirzuabhfpkjd\", \"gjxmrfgnorpfspbb\", \"gsooyxmnwsucrksh\", \"guiimarisyyjqnfg\", \"gujwvdfcmmqcwxfi\", \"hkazsxqvbtmawovu\", \"hpohizpkyzvwunni\", \"hselphnqlvecmmyx\", \"htedybhazfjiueyj\", \"hwldevoubgzgbhgs\", \"iqepotyqjqeebzix\", \"iulvirmzdntweaee\", \"iwhqpdfuhrsxyqxe\", \"ixbrfaoerogqomah\", \"jgkpiuuctpywtrlh\", \"jhdjdpthkztnjvmb\", \"jiyzqszfywhdfsil\", \"jjjvjaxpzvlbryfd\", \"jjycmklnkdivnypu\", \"jlxizhsfukrheysf\", \"johsjccpkithubii\", \"jrwdpzrmxqlzzepk\", \"kbgblyclstrmicux\", \"kpciudedjlrqsfte\", \"kvcddisqpkysmvvo\", \"kzwthrslljkmbqur\", \"ldxjynecsqlswvbq\", \"lqkdgbosdzrtitgx\", \"mbytpqiuixyvpaab\", \"mdxtphkujabwpjeu\", \"mizxbkgdiuoehddq\", \"ngombkqqomblyxwv\", \"nhoebceeiacnmvym\", \"nhwgapjtnadqqaul\", \"nilvygybpajtnxnr\", \"nkueyjctyasmotny\", \"nsymgnybdjqxudvj\", \"nwaavqeweeqaryzv\", \"nyrtstlobluggnkw\", \"olupoctwepebdqqo\", \"onzjhhtppsfaiacz\", \"oryfrzxilushvigq\", \"owxrlgxbigikfgtm\", \"pheduvdlnmrchihf\", \"pjbnwqhnqczouirt\", \"ponwkmeaxagundzq\", \"prtnwsypyfnshpqx\", \"pyykjiriqrhjduly\", \"qbztetcodwhfmoyg\", \"qpcebxmotqhildhx\", \"quslbttvcitxzeiy\", \"qvwenzdmnwecdiql\", \"qxtqrwxfvuenelml\", \"rabwrzdzwjjdhbmx\", \"rcxmbwwsxkkkyyjs\", \"rgrpzewhrznrqrna\", \"rguedwefqmzdxowu\", \"rrlvhbnzrdtphqnl\", \"rthsjeyjgdlmkygk\", \"rwrevaiebpmviwqz\", \"saempmkfulqhwfqk\", \"sguprofjftozaujc\", \"shemwbbeliuvnvvm\", \"snsnxmucuccvqfvz\", \"srgqbkjrwdbikmzq\", \"svmjzfcsvgxiwwjt\", \"swjkmyqytzxjwgag\", \"synvsxhrexuyxpre\", \"tdgkjlphosocwbgu\", \"toqaaqswchaiyhsk\", \"uahuglbjdtacoqjt\", \"ubttjiaeeuwzcclq\", \"uhkhghxuorryhlis\", \"uwwrbkmjbjyxutfq\", \"uzmldekmvczimsrj\", \"wehkqzwvbeonajcu\", \"wgruytvmfzalzrtb\", \"wpsyqubfrhdspxkx\", \"wsfgxnwhxftjhpxw\", \"wxzfbqtarfurwcfw\", \"wyqgeeclrqbihfpk\", \"xaklvfxsplowrglp\", \"xgvsuftfggoojbdp\", \"xjaddkudsebowzen\", \"xjnjmxyqemqqiejp\", \"xkzehzohmfrsmolg\", \"xpxsjmglcvcsxwdy\", \"xyuwuxlpirkzkqdb\", \"xzdsapxqliboezbc\", \"yfalryaixpzfoihd\", \"yvlkrzgjhwrlyihc\", \"yzxgnwgpnrdprtbh\", \"zagpnfpbwgeyeufr\", \"zkreetxvsoihwkgo\", \"zoypfizhpbtpjwpv\", \"zqruwnlzuefcpqjm\", \"zspzyfdefowgwddf\", \"zxvcbwcwoqnkxxbs\"], \"xaxis\": \"x\", \"y\": [0.14189189189189189, 0.20422535211267606, 0.13333333333333333, 0.12317073170731707, 0.12280701754385964, 0.0800561797752809, 0.163135593220339, 0.09126984126984126, 0.0789597000937207, 0.13171140939597314, 0.10080645161290322, 0.03773584905660377, 0.08695652173913043, 0.08962264150943396, 0.1590909090909091, 0.09722222222222222, 0.115, 0.04722921914357683, 0.16452991452991453, 0.11392405063291139, 0.0686046511627907, 0.09890776699029126, 0.14029535864978904, 0.04025423728813559, 0.14383561643835616, 0.1346153846153846, 0.14583333333333334, 0.024193548387096774, 0.0913978494623656, 0.11666666666666667, 0.14682539682539683, 0.09523809523809523, 0.06018518518518518, 0.11956521739130435, 0.05952380952380952, 0.1288300835654596, 0.07532467532467532, 0.13157894736842105, 0.07371794871794872, 0.08712121212121213, 0.14641434262948208, 0.10550458715596331, 0.11921965317919075, 0.03553921568627451, 0.12854609929078015, 0.103515625, 0.046052631578947366, 0.08333333333333333, 0.08169291338582677, 0.11556603773584906, 0.13679245283018868, 0.02952755905511811, 0.07650273224043716, 0.11016949152542373, 0.13585209003215434, 0.1301042571676803, 0.10714285714285714, 0.09896729776247848, 0.12962962962962962, 0.13943488943488944, 0.11317567567567567, 0.0986093552465234, 0.08447368421052631, 0.02631578947368421, 0.13043478260869565, 0.10416666666666667, 0.185, 0.14150943396226415, 0.10148514851485149, 0.10543478260869565, 0.04332129963898917, 0.13250883392226148, 0.11730769230769231, 0.1484593837535014, 0.12, 0.05172413793103448, 0.11057692307692307, 0.14669421487603307, 0.15254237288135594, 0.07758620689655173, 0.12745098039215685, 0.03920308483290488, 0.10568669527896996, 0.04779874213836478, 0.08831521739130435, 0.1016949152542373, 0.11858974358974358, 0.14026915113871635, 0.10465116279069768, 0.19318181818181818, 0.13095238095238096, 0.12292817679558012, 0.12686567164179105, 0.13333333333333333, 0.1481958762886598, 0.09638842382205214, 0.104, 0.10967741935483871, 0.15123456790123457, 0.025, 0.125, 0.0873015873015873, 0.11020334059549745, 0.12921348314606743, 0.19658119658119658, 0.11220218931101095, 0.11781609195402298, 0.12048192771084337, 0.1145104895104895, 0.11521739130434783, 0.08464566929133858, 0.09344660194174757, 0.15495867768595042, 0.1320754716981132, 0.0752212389380531, 0.125, 0.15056818181818182, 0.012658227848101266, 0.12081128747795414, 0.145, 0.10130010834236186, 0.12777777777777777, 0.12343966712898752, 0.10308056872037914, 0.060714285714285714, 0.10928571428571429, 0.1441717791411043, 0.17219917012448133, 0.06057692307692308, 0.1, 0.12971698113207547, 0.0631911532385466, 0.059498399146211314, 0.13917525773195877, 0.038461538461538464], \"yaxis\": \"y\"}],                        {\"barmode\": \"relative\", \"legend\": {\"title\": {\"text\": \"variable\"}, \"tracegroupgap\": 0}, \"margin\": {\"t\": 60}, \"template\": {\"data\": {\"bar\": [{\"error_x\": {\"color\": \"#2a3f5f\"}, \"error_y\": {\"color\": \"#2a3f5f\"}, \"marker\": {\"line\": {\"color\": \"#E5ECF6\", \"width\": 0.5}}, \"type\": \"bar\"}], \"barpolar\": [{\"marker\": {\"line\": {\"color\": \"#E5ECF6\", \"width\": 0.5}}, \"type\": \"barpolar\"}], \"carpet\": [{\"aaxis\": {\"endlinecolor\": \"#2a3f5f\", \"gridcolor\": \"white\", \"linecolor\": \"white\", \"minorgridcolor\": \"white\", \"startlinecolor\": \"#2a3f5f\"}, \"baxis\": {\"endlinecolor\": \"#2a3f5f\", \"gridcolor\": \"white\", \"linecolor\": \"white\", \"minorgridcolor\": \"white\", \"startlinecolor\": \"#2a3f5f\"}, \"type\": \"carpet\"}], \"choropleth\": [{\"colorbar\": {\"outlinewidth\": 0, \"ticks\": \"\"}, \"type\": \"choropleth\"}], \"contour\": [{\"colorbar\": {\"outlinewidth\": 0, \"ticks\": \"\"}, \"colorscale\": [[0.0, \"#0d0887\"], [0.1111111111111111, \"#46039f\"], [0.2222222222222222, \"#7201a8\"], [0.3333333333333333, \"#9c179e\"], [0.4444444444444444, \"#bd3786\"], [0.5555555555555556, \"#d8576b\"], [0.6666666666666666, \"#ed7953\"], [0.7777777777777778, \"#fb9f3a\"], [0.8888888888888888, \"#fdca26\"], [1.0, \"#f0f921\"]], \"type\": \"contour\"}], \"contourcarpet\": [{\"colorbar\": {\"outlinewidth\": 0, \"ticks\": \"\"}, \"type\": \"contourcarpet\"}], \"heatmap\": [{\"colorbar\": {\"outlinewidth\": 0, \"ticks\": \"\"}, \"colorscale\": [[0.0, \"#0d0887\"], [0.1111111111111111, \"#46039f\"], [0.2222222222222222, \"#7201a8\"], [0.3333333333333333, \"#9c179e\"], [0.4444444444444444, \"#bd3786\"], [0.5555555555555556, \"#d8576b\"], [0.6666666666666666, \"#ed7953\"], [0.7777777777777778, \"#fb9f3a\"], [0.8888888888888888, \"#fdca26\"], [1.0, \"#f0f921\"]], \"type\": \"heatmap\"}], \"heatmapgl\": [{\"colorbar\": {\"outlinewidth\": 0, \"ticks\": \"\"}, \"colorscale\": [[0.0, \"#0d0887\"], [0.1111111111111111, \"#46039f\"], [0.2222222222222222, \"#7201a8\"], [0.3333333333333333, \"#9c179e\"], [0.4444444444444444, \"#bd3786\"], [0.5555555555555556, \"#d8576b\"], [0.6666666666666666, \"#ed7953\"], [0.7777777777777778, \"#fb9f3a\"], [0.8888888888888888, \"#fdca26\"], [1.0, \"#f0f921\"]], \"type\": \"heatmapgl\"}], \"histogram\": [{\"marker\": {\"colorbar\": {\"outlinewidth\": 0, \"ticks\": \"\"}}, \"type\": \"histogram\"}], \"histogram2d\": [{\"colorbar\": {\"outlinewidth\": 0, \"ticks\": \"\"}, \"colorscale\": [[0.0, \"#0d0887\"], [0.1111111111111111, \"#46039f\"], [0.2222222222222222, \"#7201a8\"], [0.3333333333333333, \"#9c179e\"], [0.4444444444444444, \"#bd3786\"], [0.5555555555555556, \"#d8576b\"], [0.6666666666666666, \"#ed7953\"], [0.7777777777777778, \"#fb9f3a\"], [0.8888888888888888, \"#fdca26\"], [1.0, \"#f0f921\"]], \"type\": \"histogram2d\"}], \"histogram2dcontour\": [{\"colorbar\": {\"outlinewidth\": 0, \"ticks\": \"\"}, \"colorscale\": [[0.0, \"#0d0887\"], [0.1111111111111111, \"#46039f\"], [0.2222222222222222, \"#7201a8\"], [0.3333333333333333, \"#9c179e\"], [0.4444444444444444, \"#bd3786\"], [0.5555555555555556, \"#d8576b\"], [0.6666666666666666, \"#ed7953\"], [0.7777777777777778, \"#fb9f3a\"], [0.8888888888888888, \"#fdca26\"], [1.0, \"#f0f921\"]], \"type\": \"histogram2dcontour\"}], \"mesh3d\": [{\"colorbar\": {\"outlinewidth\": 0, \"ticks\": \"\"}, \"type\": \"mesh3d\"}], \"parcoords\": [{\"line\": {\"colorbar\": {\"outlinewidth\": 0, \"ticks\": \"\"}}, \"type\": \"parcoords\"}], \"pie\": [{\"automargin\": true, \"type\": \"pie\"}], \"scatter\": [{\"marker\": {\"colorbar\": {\"outlinewidth\": 0, \"ticks\": \"\"}}, \"type\": \"scatter\"}], \"scatter3d\": [{\"line\": {\"colorbar\": {\"outlinewidth\": 0, \"ticks\": \"\"}}, \"marker\": {\"colorbar\": {\"outlinewidth\": 0, \"ticks\": \"\"}}, \"type\": \"scatter3d\"}], \"scattercarpet\": [{\"marker\": {\"colorbar\": {\"outlinewidth\": 0, \"ticks\": \"\"}}, \"type\": \"scattercarpet\"}], \"scattergeo\": [{\"marker\": {\"colorbar\": {\"outlinewidth\": 0, \"ticks\": \"\"}}, \"type\": \"scattergeo\"}], \"scattergl\": [{\"marker\": {\"colorbar\": {\"outlinewidth\": 0, \"ticks\": \"\"}}, \"type\": \"scattergl\"}], \"scattermapbox\": [{\"marker\": {\"colorbar\": {\"outlinewidth\": 0, \"ticks\": \"\"}}, \"type\": \"scattermapbox\"}], \"scatterpolar\": [{\"marker\": {\"colorbar\": {\"outlinewidth\": 0, \"ticks\": \"\"}}, \"type\": \"scatterpolar\"}], \"scatterpolargl\": [{\"marker\": {\"colorbar\": {\"outlinewidth\": 0, \"ticks\": \"\"}}, \"type\": \"scatterpolargl\"}], \"scatterternary\": [{\"marker\": {\"colorbar\": {\"outlinewidth\": 0, \"ticks\": \"\"}}, \"type\": \"scatterternary\"}], \"surface\": [{\"colorbar\": {\"outlinewidth\": 0, \"ticks\": \"\"}, \"colorscale\": [[0.0, \"#0d0887\"], [0.1111111111111111, \"#46039f\"], [0.2222222222222222, \"#7201a8\"], [0.3333333333333333, \"#9c179e\"], [0.4444444444444444, \"#bd3786\"], [0.5555555555555556, \"#d8576b\"], [0.6666666666666666, \"#ed7953\"], [0.7777777777777778, \"#fb9f3a\"], [0.8888888888888888, \"#fdca26\"], [1.0, \"#f0f921\"]], \"type\": \"surface\"}], \"table\": [{\"cells\": {\"fill\": {\"color\": \"#EBF0F8\"}, \"line\": {\"color\": \"white\"}}, \"header\": {\"fill\": {\"color\": \"#C8D4E3\"}, \"line\": {\"color\": \"white\"}}, \"type\": \"table\"}]}, \"layout\": {\"annotationdefaults\": {\"arrowcolor\": \"#2a3f5f\", \"arrowhead\": 0, \"arrowwidth\": 1}, \"autotypenumbers\": \"strict\", \"coloraxis\": {\"colorbar\": {\"outlinewidth\": 0, \"ticks\": \"\"}}, \"colorscale\": {\"diverging\": [[0, \"#8e0152\"], [0.1, \"#c51b7d\"], [0.2, \"#de77ae\"], [0.3, \"#f1b6da\"], [0.4, \"#fde0ef\"], [0.5, \"#f7f7f7\"], [0.6, \"#e6f5d0\"], [0.7, \"#b8e186\"], [0.8, \"#7fbc41\"], [0.9, \"#4d9221\"], [1, \"#276419\"]], \"sequential\": [[0.0, \"#0d0887\"], [0.1111111111111111, \"#46039f\"], [0.2222222222222222, \"#7201a8\"], [0.3333333333333333, \"#9c179e\"], [0.4444444444444444, \"#bd3786\"], [0.5555555555555556, \"#d8576b\"], [0.6666666666666666, \"#ed7953\"], [0.7777777777777778, \"#fb9f3a\"], [0.8888888888888888, \"#fdca26\"], [1.0, \"#f0f921\"]], \"sequentialminus\": [[0.0, \"#0d0887\"], [0.1111111111111111, \"#46039f\"], [0.2222222222222222, \"#7201a8\"], [0.3333333333333333, \"#9c179e\"], [0.4444444444444444, \"#bd3786\"], [0.5555555555555556, \"#d8576b\"], [0.6666666666666666, \"#ed7953\"], [0.7777777777777778, \"#fb9f3a\"], [0.8888888888888888, \"#fdca26\"], [1.0, \"#f0f921\"]]}, \"colorway\": [\"#636efa\", \"#EF553B\", \"#00cc96\", \"#ab63fa\", \"#FFA15A\", \"#19d3f3\", \"#FF6692\", \"#B6E880\", \"#FF97FF\", \"#FECB52\"], \"font\": {\"color\": \"#2a3f5f\"}, \"geo\": {\"bgcolor\": \"white\", \"lakecolor\": \"white\", \"landcolor\": \"#E5ECF6\", \"showlakes\": true, \"showland\": true, \"subunitcolor\": \"white\"}, \"hoverlabel\": {\"align\": \"left\"}, \"hovermode\": \"closest\", \"mapbox\": {\"style\": \"light\"}, \"paper_bgcolor\": \"white\", \"plot_bgcolor\": \"#E5ECF6\", \"polar\": {\"angularaxis\": {\"gridcolor\": \"white\", \"linecolor\": \"white\", \"ticks\": \"\"}, \"bgcolor\": \"#E5ECF6\", \"radialaxis\": {\"gridcolor\": \"white\", \"linecolor\": \"white\", \"ticks\": \"\"}}, \"scene\": {\"xaxis\": {\"backgroundcolor\": \"#E5ECF6\", \"gridcolor\": \"white\", \"gridwidth\": 2, \"linecolor\": \"white\", \"showbackground\": true, \"ticks\": \"\", \"zerolinecolor\": \"white\"}, \"yaxis\": {\"backgroundcolor\": \"#E5ECF6\", \"gridcolor\": \"white\", \"gridwidth\": 2, \"linecolor\": \"white\", \"showbackground\": true, \"ticks\": \"\", \"zerolinecolor\": \"white\"}, \"zaxis\": {\"backgroundcolor\": \"#E5ECF6\", \"gridcolor\": \"white\", \"gridwidth\": 2, \"linecolor\": \"white\", \"showbackground\": true, \"ticks\": \"\", \"zerolinecolor\": \"white\"}}, \"shapedefaults\": {\"line\": {\"color\": \"#2a3f5f\"}}, \"ternary\": {\"aaxis\": {\"gridcolor\": \"white\", \"linecolor\": \"white\", \"ticks\": \"\"}, \"baxis\": {\"gridcolor\": \"white\", \"linecolor\": \"white\", \"ticks\": \"\"}, \"bgcolor\": \"#E5ECF6\", \"caxis\": {\"gridcolor\": \"white\", \"linecolor\": \"white\", \"ticks\": \"\"}}, \"title\": {\"x\": 0.05}, \"xaxis\": {\"automargin\": true, \"gridcolor\": \"white\", \"linecolor\": \"white\", \"ticks\": \"\", \"title\": {\"standoff\": 15}, \"zerolinecolor\": \"white\", \"zerolinewidth\": 2}, \"yaxis\": {\"automargin\": true, \"gridcolor\": \"white\", \"linecolor\": \"white\", \"ticks\": \"\", \"title\": {\"standoff\": 15}, \"zerolinecolor\": \"white\", \"zerolinewidth\": 2}}}, \"xaxis\": {\"anchor\": \"y\", \"domain\": [0.0, 1.0], \"title\": {\"text\": \"vh_make_model\"}}, \"yaxis\": {\"anchor\": \"x\", \"domain\": [0.0, 1.0], \"title\": {\"text\": \"value\"}}},                        {\"responsive\": true}                    ).then(function(){\n",
       "                            \n",
       "var gd = document.getElementById('420752aa-c5eb-4a84-810a-a74967a38836');\n",
       "var x = new MutationObserver(function (mutations, observer) {{\n",
       "        var display = window.getComputedStyle(gd).display;\n",
       "        if (!display || display === 'none') {{\n",
       "            console.log([gd, 'removed!']);\n",
       "            Plotly.purge(gd);\n",
       "            observer.disconnect();\n",
       "        }}\n",
       "}});\n",
       "\n",
       "// Listen for the removal of the full notebook cells\n",
       "var notebookContainer = gd.closest('#notebook-container');\n",
       "if (notebookContainer) {{\n",
       "    x.observe(notebookContainer, {childList: true});\n",
       "}}\n",
       "\n",
       "// Listen for the clearing of the current output cell\n",
       "var outputEl = gd.closest('.output');\n",
       "if (outputEl) {{\n",
       "    x.observe(outputEl, {childList: true});\n",
       "}}\n",
       "\n",
       "                        })                };                });            </script>        </div>"
      ]
     },
     "metadata": {},
     "output_type": "display_data"
    }
   ],
   "source": [
    "px.bar(prob_claim_veiculos)"
   ]
  },
  {
   "cell_type": "code",
   "execution_count": 106,
   "metadata": {},
   "outputs": [
    {
     "name": "stdout",
     "output_type": "stream",
     "text": [
      "A mediana de aparições é 0.11317567567567567\n",
      "A média de aparições é 0.10805146395112311\n"
     ]
    }
   ],
   "source": [
    "print('A mediana de aparições é',prob_claim_veiculos.median())\n",
    "print('A média de aparições é',prob_claim_veiculos.mean())"
   ]
  },
  {
   "cell_type": "code",
   "execution_count": 107,
   "metadata": {},
   "outputs": [
    {
     "data": {
      "text/plain": [
       "vh_make_model\n",
       "aewtdnpoiopumymt    0.204225\n",
       "synvsxhrexuyxpre    0.196581\n",
       "qxtqrwxfvuenelml    0.193182\n",
       "mdxtphkujabwpjeu    0.185000\n",
       "yvlkrzgjhwrlyihc    0.172199\n",
       "dlrodwgixwmoquny    0.164530\n",
       "asmpttrlkodaejic    0.163136\n",
       "dgwbxitzfzbegnoc    0.159091\n",
       "wehkqzwvbeonajcu    0.154959\n",
       "oryfrzxilushvigq    0.152542\n",
       "sguprofjftozaujc    0.151235\n",
       "wxzfbqtarfurwcfw    0.150568\n",
       "nsymgnybdjqxudvj    0.148459\n",
       "rrlvhbnzrdtphqnl    0.148196\n",
       "ewkcexkqpsyfnugi    0.146825\n",
       "onzjhhtppsfaiacz    0.146694\n",
       "guiimarisyyjqnfg    0.146414\n",
       "ehapkksqqcbofeid    0.145833\n",
       "xgvsuftfggoojbdp    0.145000\n",
       "yfalryaixpzfoihd    0.144172\n",
       "dyzvyrmcdyybbddd    0.143836\n",
       "abcepdrvvynjsufa    0.141892\n",
       "mizxbkgdiuoehddq    0.141509\n",
       "dweqmfoluivgiayj    0.140295\n",
       "quslbttvcitxzeiy    0.140269\n",
       "kbgblyclstrmicux    0.139435\n",
       "zspzyfdefowgwddf    0.139175\n",
       "ixbrfaoerogqomah    0.136792\n",
       "jjjvjaxpzvlbryfd    0.135852\n",
       "efiskxgaocgqqjvr    0.134615\n",
       "aifsqdniwqmcuqpv    0.133333\n",
       "rguedwefqmzdxowu    0.133333\n",
       "nilvygybpajtnxnr    0.132509\n",
       "wgruytvmfzalzrtb    0.132075\n",
       "bsiyfrkwdyptmwji    0.131711\n",
       "gjpgirzuabhfpkjd    0.131579\n",
       "rabwrzdzwjjdhbmx    0.130952\n",
       "lqkdgbosdzrtitgx    0.130435\n",
       "jjycmklnkdivnypu    0.130104\n",
       "zkreetxvsoihwkgo    0.129717\n",
       "jrwdpzrmxqlzzepk    0.129630\n",
       "swjkmyqytzxjwgag    0.129213\n",
       "gfhjqtkgvomiygvx    0.128830\n",
       "hselphnqlvecmmyx    0.128546\n",
       "xjnjmxyqemqqiejp    0.127778\n",
       "pheduvdlnmrchihf    0.127451\n",
       "rgrpzewhrznrqrna    0.126866\n",
       "wsfgxnwhxftjhpxw    0.125000\n",
       "snsnxmucuccvqfvz    0.125000\n",
       "xkzehzohmfrsmolg    0.123440\n",
       "ammbrasbxojlitmt    0.123171\n",
       "rcxmbwwsxkkkyyjs    0.122928\n",
       "anqyvxqouldudiww    0.122807\n",
       "xaklvfxsplowrglp    0.120811\n",
       "uahuglbjdtacoqjt    0.120482\n",
       "Name: id_policy, dtype: float64"
      ]
     },
     "execution_count": 107,
     "metadata": {},
     "output_type": "execute_result"
    }
   ],
   "source": [
    "prob_claim_veiculos[prob_claim_veiculos>0.12].sort_values(ascending = False)"
   ]
  },
  {
   "cell_type": "code",
   "execution_count": 108,
   "metadata": {},
   "outputs": [
    {
     "data": {
      "text/plain": [
       "vh_make_model\n",
       "johsjccpkithubii    0.098967\n",
       "dtpbahjtnmyuxqno    0.098908\n",
       "kvcddisqpkysmvvo    0.098609\n",
       "dgwtezteqyzzylho    0.097222\n",
       "rthsjeyjgdlmkygk    0.096388\n",
       "fadjogsnmecatcfb    0.095238\n",
       "uzmldekmvczimsrj    0.093447\n",
       "eslneidrjqwzpqhd    0.091398\n",
       "aywlgifrijfokyzu    0.091270\n",
       "dbtkrhmbfxpkqbau    0.089623\n",
       "pyykjiriqrhjduly    0.088315\n",
       "srgqbkjrwdbikmzq    0.087302\n",
       "gsooyxmnwsucrksh    0.087121\n",
       "clmcokjtplrbzvuh    0.086957\n",
       "uwwrbkmjbjyxutfq    0.084646\n",
       "kzwthrslljkmbqur    0.084474\n",
       "iqepotyqjqeebzix    0.083333\n",
       "iulvirmzdntweaee    0.081693\n",
       "aparvvfowrjncdhp    0.080056\n",
       "biqzvbfzjivqmrro    0.078960\n",
       "owxrlgxbigikfgtm    0.077586\n",
       "jhdjdpthkztnjvmb    0.076503\n",
       "gjbalugsikirqoam    0.075325\n",
       "wpsyqubfrhdspxkx    0.075221\n",
       "gjxmrfgnorpfspbb    0.073718\n",
       "dpcnodgqfivkhxvn    0.068605\n",
       "zoypfizhpbtpjwpv    0.063191\n",
       "xyuwuxlpirkzkqdb    0.060714\n",
       "yzxgnwgpnrdprtbh    0.060577\n",
       "fklewvbxuecmupxn    0.060185\n",
       "gapclpflkdsbeorm    0.059524\n",
       "zqruwnlzuefcpqjm    0.059498\n",
       "nyrtstlobluggnkw    0.051724\n",
       "prtnwsypyfnshpqx    0.047799\n",
       "dllcylnkzeegtsgr    0.047229\n",
       "hwldevoubgzgbhgs    0.046053\n",
       "nhwgapjtnadqqaul    0.043321\n",
       "dwsasdexwmpsmowl    0.040254\n",
       "pjbnwqhnqczouirt    0.039203\n",
       "zxvcbwcwoqnkxxbs    0.038462\n",
       "cgkclpnidlmetsrb    0.037736\n",
       "hpohizpkyzvwunni    0.035539\n",
       "jgkpiuuctpywtrlh    0.029528\n",
       "ldxjynecsqlswvbq    0.026316\n",
       "shemwbbeliuvnvvm    0.025000\n",
       "epbwnmcyogpybxlm    0.024194\n",
       "wyqgeeclrqbihfpk    0.012658\n",
       "Name: id_policy, dtype: float64"
      ]
     },
     "execution_count": 108,
     "metadata": {},
     "output_type": "execute_result"
    }
   ],
   "source": [
    "prob_claim_veiculos[prob_claim_veiculos<0.10].sort_values(ascending = False)"
   ]
  },
  {
   "cell_type": "markdown",
   "metadata": {},
   "source": [
    "#### Média de claim por veículo"
   ]
  },
  {
   "cell_type": "code",
   "execution_count": 109,
   "metadata": {},
   "outputs": [],
   "source": [
    "filtro =  df['vh_make_model'].value_counts()\n",
    "\n",
    "modelos = filtro[filtro >= 200]\n",
    "\n",
    "df_modelos = df[df['vh_make_model'].isin(modelos.index)]"
   ]
  },
  {
   "cell_type": "code",
   "execution_count": 120,
   "metadata": {},
   "outputs": [],
   "source": [
    "media_claim_veiculos = df_modelos.groupby('vh_make_model')['claim_amount'].mean()"
   ]
  },
  {
   "cell_type": "code",
   "execution_count": 121,
   "metadata": {},
   "outputs": [
    {
     "name": "stdout",
     "output_type": "stream",
     "text": [
      "A media de claim por veículo é  122.55685591873251\n"
     ]
    }
   ],
   "source": [
    "print('A media de claim por veículo é ',media_claim_veiculos.mean())"
   ]
  },
  {
   "cell_type": "code",
   "execution_count": 124,
   "metadata": {},
   "outputs": [
    {
     "data": {
      "text/plain": [
       "122.55685591873251"
      ]
     },
     "execution_count": 124,
     "metadata": {},
     "output_type": "execute_result"
    }
   ],
   "source": [
    "media_claim_veiculos.mean()"
   ]
  },
  {
   "cell_type": "code",
   "execution_count": 126,
   "metadata": {},
   "outputs": [
    {
     "data": {
      "text/plain": [
       "vh_make_model\n",
       "dweqmfoluivgiayj    310.289177\n",
       "qxtqrwxfvuenelml    308.882273\n",
       "zspzyfdefowgwddf    273.191624\n",
       "aewtdnpoiopumymt    248.817324\n",
       "sguprofjftozaujc    247.403889\n",
       "                       ...    \n",
       "toqaaqswchaiyhsk    128.879080\n",
       "aifsqdniwqmcuqpv    128.873083\n",
       "gujwvdfcmmqcwxfi    127.800894\n",
       "dgwtezteqyzzylho    126.052500\n",
       "johsjccpkithubii    123.995600\n",
       "Name: claim_amount, Length: 66, dtype: float64"
      ]
     },
     "execution_count": 126,
     "metadata": {},
     "output_type": "execute_result"
    }
   ],
   "source": [
    "media_claim_veiculos[media_claim_veiculos>media_claim_veiculos.mean()].sort_values(ascending = False)"
   ]
  },
  {
   "cell_type": "code",
   "execution_count": 125,
   "metadata": {},
   "outputs": [
    {
     "data": {
      "text/plain": [
       "vh_make_model\n",
       "wyqgeeclrqbihfpk      8.934093\n",
       "epbwnmcyogpybxlm     16.097548\n",
       "ldxjynecsqlswvbq     19.509035\n",
       "jgkpiuuctpywtrlh     21.416417\n",
       "zxvcbwcwoqnkxxbs     21.733558\n",
       "                       ...    \n",
       "fadjogsnmecatcfb    119.256310\n",
       "htedybhazfjiueyj    119.802754\n",
       "uahuglbjdtacoqjt    121.104759\n",
       "ammbrasbxojlitmt    121.576220\n",
       "ubttjiaeeuwzcclq    122.008479\n",
       "Name: claim_amount, Length: 69, dtype: float64"
      ]
     },
     "execution_count": 125,
     "metadata": {},
     "output_type": "execute_result"
    }
   ],
   "source": [
    "media_claim_veiculos[media_claim_veiculos<media_claim_veiculos.mean()].sort_values()"
   ]
  },
  {
   "cell_type": "markdown",
   "metadata": {},
   "source": [
    "#### Porcentagem de claim de cada veículo"
   ]
  },
  {
   "cell_type": "code",
   "execution_count": 127,
   "metadata": {},
   "outputs": [
    {
     "data": {
      "application/vnd.plotly.v1+json": {
       "config": {
        "plotlyServerURL": "https://plot.ly"
       },
       "data": [
        {
         "alignmentgroup": "True",
         "hovertemplate": "variable=claim_amount<br>vh_make_model=%{x}<br>value=%{y}<extra></extra>",
         "legendgroup": "claim_amount",
         "marker": {
          "color": "#636efa"
         },
         "name": "claim_amount",
         "offsetgroup": "claim_amount",
         "orientation": "v",
         "showlegend": true,
         "textposition": "auto",
         "type": "bar",
         "x": [
          "abcepdrvvynjsufa",
          "aewtdnpoiopumymt",
          "aifsqdniwqmcuqpv",
          "ammbrasbxojlitmt",
          "anqyvxqouldudiww",
          "aparvvfowrjncdhp",
          "asmpttrlkodaejic",
          "aywlgifrijfokyzu",
          "biqzvbfzjivqmrro",
          "bsiyfrkwdyptmwji",
          "bvuzvpriwqlnbjxt",
          "cgkclpnidlmetsrb",
          "clmcokjtplrbzvuh",
          "dbtkrhmbfxpkqbau",
          "dgwbxitzfzbegnoc",
          "dgwtezteqyzzylho",
          "djyptluftbfkxtjd",
          "dllcylnkzeegtsgr",
          "dlrodwgixwmoquny",
          "doohwubeqhbkevhr",
          "dpcnodgqfivkhxvn",
          "dtpbahjtnmyuxqno",
          "dweqmfoluivgiayj",
          "dwsasdexwmpsmowl",
          "dyzvyrmcdyybbddd",
          "efiskxgaocgqqjvr",
          "ehapkksqqcbofeid",
          "epbwnmcyogpybxlm",
          "eslneidrjqwzpqhd",
          "ettwalwfkzvwdasa",
          "ewkcexkqpsyfnugi",
          "fadjogsnmecatcfb",
          "fklewvbxuecmupxn",
          "fuwhdjmdexrstmmo",
          "gapclpflkdsbeorm",
          "gfhjqtkgvomiygvx",
          "gjbalugsikirqoam",
          "gjpgirzuabhfpkjd",
          "gjxmrfgnorpfspbb",
          "gsooyxmnwsucrksh",
          "guiimarisyyjqnfg",
          "gujwvdfcmmqcwxfi",
          "hkazsxqvbtmawovu",
          "hpohizpkyzvwunni",
          "hselphnqlvecmmyx",
          "htedybhazfjiueyj",
          "hwldevoubgzgbhgs",
          "iqepotyqjqeebzix",
          "iulvirmzdntweaee",
          "iwhqpdfuhrsxyqxe",
          "ixbrfaoerogqomah",
          "jgkpiuuctpywtrlh",
          "jhdjdpthkztnjvmb",
          "jiyzqszfywhdfsil",
          "jjjvjaxpzvlbryfd",
          "jjycmklnkdivnypu",
          "jlxizhsfukrheysf",
          "johsjccpkithubii",
          "jrwdpzrmxqlzzepk",
          "kbgblyclstrmicux",
          "kpciudedjlrqsfte",
          "kvcddisqpkysmvvo",
          "kzwthrslljkmbqur",
          "ldxjynecsqlswvbq",
          "lqkdgbosdzrtitgx",
          "mbytpqiuixyvpaab",
          "mdxtphkujabwpjeu",
          "mizxbkgdiuoehddq",
          "ngombkqqomblyxwv",
          "nhoebceeiacnmvym",
          "nhwgapjtnadqqaul",
          "nilvygybpajtnxnr",
          "nkueyjctyasmotny",
          "nsymgnybdjqxudvj",
          "nwaavqeweeqaryzv",
          "nyrtstlobluggnkw",
          "olupoctwepebdqqo",
          "onzjhhtppsfaiacz",
          "oryfrzxilushvigq",
          "owxrlgxbigikfgtm",
          "pheduvdlnmrchihf",
          "pjbnwqhnqczouirt",
          "ponwkmeaxagundzq",
          "prtnwsypyfnshpqx",
          "pyykjiriqrhjduly",
          "qbztetcodwhfmoyg",
          "qpcebxmotqhildhx",
          "quslbttvcitxzeiy",
          "qvwenzdmnwecdiql",
          "qxtqrwxfvuenelml",
          "rabwrzdzwjjdhbmx",
          "rcxmbwwsxkkkyyjs",
          "rgrpzewhrznrqrna",
          "rguedwefqmzdxowu",
          "rrlvhbnzrdtphqnl",
          "rthsjeyjgdlmkygk",
          "rwrevaiebpmviwqz",
          "saempmkfulqhwfqk",
          "sguprofjftozaujc",
          "shemwbbeliuvnvvm",
          "snsnxmucuccvqfvz",
          "srgqbkjrwdbikmzq",
          "svmjzfcsvgxiwwjt",
          "swjkmyqytzxjwgag",
          "synvsxhrexuyxpre",
          "tdgkjlphosocwbgu",
          "toqaaqswchaiyhsk",
          "uahuglbjdtacoqjt",
          "ubttjiaeeuwzcclq",
          "uhkhghxuorryhlis",
          "uwwrbkmjbjyxutfq",
          "uzmldekmvczimsrj",
          "wehkqzwvbeonajcu",
          "wgruytvmfzalzrtb",
          "wpsyqubfrhdspxkx",
          "wsfgxnwhxftjhpxw",
          "wxzfbqtarfurwcfw",
          "wyqgeeclrqbihfpk",
          "xaklvfxsplowrglp",
          "xgvsuftfggoojbdp",
          "xjaddkudsebowzen",
          "xjnjmxyqemqqiejp",
          "xkzehzohmfrsmolg",
          "xpxsjmglcvcsxwdy",
          "xyuwuxlpirkzkqdb",
          "xzdsapxqliboezbc",
          "yfalryaixpzfoihd",
          "yvlkrzgjhwrlyihc",
          "yzxgnwgpnrdprtbh",
          "zagpnfpbwgeyeufr",
          "zkreetxvsoihwkgo",
          "zoypfizhpbtpjwpv",
          "zqruwnlzuefcpqjm",
          "zspzyfdefowgwddf",
          "zxvcbwcwoqnkxxbs"
         ],
         "xaxis": "x",
         "y": [
          0.0018040069129914445,
          0.0032117725586979463,
          0.0014057862437846888,
          0.004531148704717401,
          0.0015670772753315198,
          0.010388673502411287,
          0.004086636392264988,
          0.0010262860352795806,
          0.04212916144409277,
          0.00905227268181424,
          0.003813565284428973,
          0.00030772177702392416,
          0.001824433159092074,
          0.0017375612766304996,
          0.001467301783097202,
          0.0016500221698242138,
          0.0013130016082574707,
          0.0027255587247010027,
          0.004782238224690116,
          0.002233507132200322,
          0.002093694543183282,
          0.006656780022972598,
          0.013369673249725522,
          0.0009716100000128673,
          0.006810962024563261,
          0.0012802967070666448,
          0.0033431803026315924,
          0.00045362528800519547,
          0.001879613248717293,
          0.009903366875357159,
          0.0015177276720100964,
          0.007740257365673959,
          0.00037773260940661543,
          0.0022628381871303838,
          0.0010043067199787584,
          0.008808893511830437,
          0.005217650742452138,
          0.0017853559927017456,
          0.0008558797556174846,
          0.001299879832486456,
          0.007301733255361598,
          0.00506519543383529,
          0.008517525548939408,
          0.0009509969492762178,
          0.034287306900098916,
          0.002787934656169198,
          0.0009339113700241142,
          0.0009970404286988408,
          0.011543650205921045,
          0.015003929744587152,
          0.0013391869821999622,
          0.0014834660655191065,
          0.009137324696240245,
          0.0020591297768571943,
          0.008590393901386956,
          0.033410448665697645,
          0.001514089299476429,
          0.05238997830870473,
          0.010890711188970335,
          0.014136971246869977,
          0.006138246259869278,
          0.015428817116470102,
          0.014819244500338228,
          0.00020216988547288198,
          0.036306170051362656,
          0.0010778554776334132,
          0.0017573784759859566,
          0.001397814094597865,
          0.0056786391328989844,
          0.0064560613959007175,
          0.001561373143501723,
          0.016166760878547168,
          0.003060506709284171,
          0.011062585998508297,
          0.0016257730191163791,
          0.0008314283468487527,
          0.0008980789683455723,
          0.00438823861303741,
          0.002346727558590594,
          0.0010714904846338533,
          0.0009411113024795577,
          0.0017689889977064478,
          0.019395112235063745,
          0.00473420079894579,
          0.002885589847607819,
          0.0006819369142209142,
          0.0014084260523637697,
          0.015424933761700876,
          0.0017602409956882722,
          0.004941758021038481,
          0.0025685819257699836,
          0.014424448582791844,
          0.0020627858753782214,
          0.002233790293485578,
          0.005714472443602519,
          0.07731543588446779,
          0.0020493777567344752,
          0.003935156012952912,
          0.0036433203567030996,
          0.00025326436226797805,
          0.002282038158515732,
          0.0010148900434573897,
          0.029616563317850203,
          0.04897943379995702,
          0.004929418461273768,
          0.03689233936454253,
          0.002038484910245797,
          0.0018274483949931794,
          0.012687961773702813,
          0.0031238003014825936,
          0.0017602405411757762,
          0.01096642115354536,
          0.0035355045384074957,
          0.0019172955162561763,
          0.005689953766984322,
          0.0016993858630330256,
          0.0029162930757645074,
          0.0003849502678494183,
          0.01200356231077642,
          0.00130073613402967,
          0.01683267849983255,
          0.002242039695295204,
          0.015393665574511169,
          0.004452745753601214,
          0.0016056708404256805,
          0.007248592563307712,
          0.01729798884960763,
          0.008270421194535114,
          0.0024114055958530454,
          0.00277446881443841,
          0.0064196117662520666,
          0.005757026630590296,
          0.007617949416430702,
          0.014453272401775923,
          0.0002054660100967615
         ],
         "yaxis": "y"
        }
       ],
       "layout": {
        "barmode": "relative",
        "legend": {
         "title": {
          "text": "variable"
         },
         "tracegroupgap": 0
        },
        "margin": {
         "t": 60
        },
        "template": {
         "data": {
          "bar": [
           {
            "error_x": {
             "color": "#2a3f5f"
            },
            "error_y": {
             "color": "#2a3f5f"
            },
            "marker": {
             "line": {
              "color": "#E5ECF6",
              "width": 0.5
             }
            },
            "type": "bar"
           }
          ],
          "barpolar": [
           {
            "marker": {
             "line": {
              "color": "#E5ECF6",
              "width": 0.5
             }
            },
            "type": "barpolar"
           }
          ],
          "carpet": [
           {
            "aaxis": {
             "endlinecolor": "#2a3f5f",
             "gridcolor": "white",
             "linecolor": "white",
             "minorgridcolor": "white",
             "startlinecolor": "#2a3f5f"
            },
            "baxis": {
             "endlinecolor": "#2a3f5f",
             "gridcolor": "white",
             "linecolor": "white",
             "minorgridcolor": "white",
             "startlinecolor": "#2a3f5f"
            },
            "type": "carpet"
           }
          ],
          "choropleth": [
           {
            "colorbar": {
             "outlinewidth": 0,
             "ticks": ""
            },
            "type": "choropleth"
           }
          ],
          "contour": [
           {
            "colorbar": {
             "outlinewidth": 0,
             "ticks": ""
            },
            "colorscale": [
             [
              0,
              "#0d0887"
             ],
             [
              0.1111111111111111,
              "#46039f"
             ],
             [
              0.2222222222222222,
              "#7201a8"
             ],
             [
              0.3333333333333333,
              "#9c179e"
             ],
             [
              0.4444444444444444,
              "#bd3786"
             ],
             [
              0.5555555555555556,
              "#d8576b"
             ],
             [
              0.6666666666666666,
              "#ed7953"
             ],
             [
              0.7777777777777778,
              "#fb9f3a"
             ],
             [
              0.8888888888888888,
              "#fdca26"
             ],
             [
              1,
              "#f0f921"
             ]
            ],
            "type": "contour"
           }
          ],
          "contourcarpet": [
           {
            "colorbar": {
             "outlinewidth": 0,
             "ticks": ""
            },
            "type": "contourcarpet"
           }
          ],
          "heatmap": [
           {
            "colorbar": {
             "outlinewidth": 0,
             "ticks": ""
            },
            "colorscale": [
             [
              0,
              "#0d0887"
             ],
             [
              0.1111111111111111,
              "#46039f"
             ],
             [
              0.2222222222222222,
              "#7201a8"
             ],
             [
              0.3333333333333333,
              "#9c179e"
             ],
             [
              0.4444444444444444,
              "#bd3786"
             ],
             [
              0.5555555555555556,
              "#d8576b"
             ],
             [
              0.6666666666666666,
              "#ed7953"
             ],
             [
              0.7777777777777778,
              "#fb9f3a"
             ],
             [
              0.8888888888888888,
              "#fdca26"
             ],
             [
              1,
              "#f0f921"
             ]
            ],
            "type": "heatmap"
           }
          ],
          "heatmapgl": [
           {
            "colorbar": {
             "outlinewidth": 0,
             "ticks": ""
            },
            "colorscale": [
             [
              0,
              "#0d0887"
             ],
             [
              0.1111111111111111,
              "#46039f"
             ],
             [
              0.2222222222222222,
              "#7201a8"
             ],
             [
              0.3333333333333333,
              "#9c179e"
             ],
             [
              0.4444444444444444,
              "#bd3786"
             ],
             [
              0.5555555555555556,
              "#d8576b"
             ],
             [
              0.6666666666666666,
              "#ed7953"
             ],
             [
              0.7777777777777778,
              "#fb9f3a"
             ],
             [
              0.8888888888888888,
              "#fdca26"
             ],
             [
              1,
              "#f0f921"
             ]
            ],
            "type": "heatmapgl"
           }
          ],
          "histogram": [
           {
            "marker": {
             "colorbar": {
              "outlinewidth": 0,
              "ticks": ""
             }
            },
            "type": "histogram"
           }
          ],
          "histogram2d": [
           {
            "colorbar": {
             "outlinewidth": 0,
             "ticks": ""
            },
            "colorscale": [
             [
              0,
              "#0d0887"
             ],
             [
              0.1111111111111111,
              "#46039f"
             ],
             [
              0.2222222222222222,
              "#7201a8"
             ],
             [
              0.3333333333333333,
              "#9c179e"
             ],
             [
              0.4444444444444444,
              "#bd3786"
             ],
             [
              0.5555555555555556,
              "#d8576b"
             ],
             [
              0.6666666666666666,
              "#ed7953"
             ],
             [
              0.7777777777777778,
              "#fb9f3a"
             ],
             [
              0.8888888888888888,
              "#fdca26"
             ],
             [
              1,
              "#f0f921"
             ]
            ],
            "type": "histogram2d"
           }
          ],
          "histogram2dcontour": [
           {
            "colorbar": {
             "outlinewidth": 0,
             "ticks": ""
            },
            "colorscale": [
             [
              0,
              "#0d0887"
             ],
             [
              0.1111111111111111,
              "#46039f"
             ],
             [
              0.2222222222222222,
              "#7201a8"
             ],
             [
              0.3333333333333333,
              "#9c179e"
             ],
             [
              0.4444444444444444,
              "#bd3786"
             ],
             [
              0.5555555555555556,
              "#d8576b"
             ],
             [
              0.6666666666666666,
              "#ed7953"
             ],
             [
              0.7777777777777778,
              "#fb9f3a"
             ],
             [
              0.8888888888888888,
              "#fdca26"
             ],
             [
              1,
              "#f0f921"
             ]
            ],
            "type": "histogram2dcontour"
           }
          ],
          "mesh3d": [
           {
            "colorbar": {
             "outlinewidth": 0,
             "ticks": ""
            },
            "type": "mesh3d"
           }
          ],
          "parcoords": [
           {
            "line": {
             "colorbar": {
              "outlinewidth": 0,
              "ticks": ""
             }
            },
            "type": "parcoords"
           }
          ],
          "pie": [
           {
            "automargin": true,
            "type": "pie"
           }
          ],
          "scatter": [
           {
            "marker": {
             "colorbar": {
              "outlinewidth": 0,
              "ticks": ""
             }
            },
            "type": "scatter"
           }
          ],
          "scatter3d": [
           {
            "line": {
             "colorbar": {
              "outlinewidth": 0,
              "ticks": ""
             }
            },
            "marker": {
             "colorbar": {
              "outlinewidth": 0,
              "ticks": ""
             }
            },
            "type": "scatter3d"
           }
          ],
          "scattercarpet": [
           {
            "marker": {
             "colorbar": {
              "outlinewidth": 0,
              "ticks": ""
             }
            },
            "type": "scattercarpet"
           }
          ],
          "scattergeo": [
           {
            "marker": {
             "colorbar": {
              "outlinewidth": 0,
              "ticks": ""
             }
            },
            "type": "scattergeo"
           }
          ],
          "scattergl": [
           {
            "marker": {
             "colorbar": {
              "outlinewidth": 0,
              "ticks": ""
             }
            },
            "type": "scattergl"
           }
          ],
          "scattermapbox": [
           {
            "marker": {
             "colorbar": {
              "outlinewidth": 0,
              "ticks": ""
             }
            },
            "type": "scattermapbox"
           }
          ],
          "scatterpolar": [
           {
            "marker": {
             "colorbar": {
              "outlinewidth": 0,
              "ticks": ""
             }
            },
            "type": "scatterpolar"
           }
          ],
          "scatterpolargl": [
           {
            "marker": {
             "colorbar": {
              "outlinewidth": 0,
              "ticks": ""
             }
            },
            "type": "scatterpolargl"
           }
          ],
          "scatterternary": [
           {
            "marker": {
             "colorbar": {
              "outlinewidth": 0,
              "ticks": ""
             }
            },
            "type": "scatterternary"
           }
          ],
          "surface": [
           {
            "colorbar": {
             "outlinewidth": 0,
             "ticks": ""
            },
            "colorscale": [
             [
              0,
              "#0d0887"
             ],
             [
              0.1111111111111111,
              "#46039f"
             ],
             [
              0.2222222222222222,
              "#7201a8"
             ],
             [
              0.3333333333333333,
              "#9c179e"
             ],
             [
              0.4444444444444444,
              "#bd3786"
             ],
             [
              0.5555555555555556,
              "#d8576b"
             ],
             [
              0.6666666666666666,
              "#ed7953"
             ],
             [
              0.7777777777777778,
              "#fb9f3a"
             ],
             [
              0.8888888888888888,
              "#fdca26"
             ],
             [
              1,
              "#f0f921"
             ]
            ],
            "type": "surface"
           }
          ],
          "table": [
           {
            "cells": {
             "fill": {
              "color": "#EBF0F8"
             },
             "line": {
              "color": "white"
             }
            },
            "header": {
             "fill": {
              "color": "#C8D4E3"
             },
             "line": {
              "color": "white"
             }
            },
            "type": "table"
           }
          ]
         },
         "layout": {
          "annotationdefaults": {
           "arrowcolor": "#2a3f5f",
           "arrowhead": 0,
           "arrowwidth": 1
          },
          "autotypenumbers": "strict",
          "coloraxis": {
           "colorbar": {
            "outlinewidth": 0,
            "ticks": ""
           }
          },
          "colorscale": {
           "diverging": [
            [
             0,
             "#8e0152"
            ],
            [
             0.1,
             "#c51b7d"
            ],
            [
             0.2,
             "#de77ae"
            ],
            [
             0.3,
             "#f1b6da"
            ],
            [
             0.4,
             "#fde0ef"
            ],
            [
             0.5,
             "#f7f7f7"
            ],
            [
             0.6,
             "#e6f5d0"
            ],
            [
             0.7,
             "#b8e186"
            ],
            [
             0.8,
             "#7fbc41"
            ],
            [
             0.9,
             "#4d9221"
            ],
            [
             1,
             "#276419"
            ]
           ],
           "sequential": [
            [
             0,
             "#0d0887"
            ],
            [
             0.1111111111111111,
             "#46039f"
            ],
            [
             0.2222222222222222,
             "#7201a8"
            ],
            [
             0.3333333333333333,
             "#9c179e"
            ],
            [
             0.4444444444444444,
             "#bd3786"
            ],
            [
             0.5555555555555556,
             "#d8576b"
            ],
            [
             0.6666666666666666,
             "#ed7953"
            ],
            [
             0.7777777777777778,
             "#fb9f3a"
            ],
            [
             0.8888888888888888,
             "#fdca26"
            ],
            [
             1,
             "#f0f921"
            ]
           ],
           "sequentialminus": [
            [
             0,
             "#0d0887"
            ],
            [
             0.1111111111111111,
             "#46039f"
            ],
            [
             0.2222222222222222,
             "#7201a8"
            ],
            [
             0.3333333333333333,
             "#9c179e"
            ],
            [
             0.4444444444444444,
             "#bd3786"
            ],
            [
             0.5555555555555556,
             "#d8576b"
            ],
            [
             0.6666666666666666,
             "#ed7953"
            ],
            [
             0.7777777777777778,
             "#fb9f3a"
            ],
            [
             0.8888888888888888,
             "#fdca26"
            ],
            [
             1,
             "#f0f921"
            ]
           ]
          },
          "colorway": [
           "#636efa",
           "#EF553B",
           "#00cc96",
           "#ab63fa",
           "#FFA15A",
           "#19d3f3",
           "#FF6692",
           "#B6E880",
           "#FF97FF",
           "#FECB52"
          ],
          "font": {
           "color": "#2a3f5f"
          },
          "geo": {
           "bgcolor": "white",
           "lakecolor": "white",
           "landcolor": "#E5ECF6",
           "showlakes": true,
           "showland": true,
           "subunitcolor": "white"
          },
          "hoverlabel": {
           "align": "left"
          },
          "hovermode": "closest",
          "mapbox": {
           "style": "light"
          },
          "paper_bgcolor": "white",
          "plot_bgcolor": "#E5ECF6",
          "polar": {
           "angularaxis": {
            "gridcolor": "white",
            "linecolor": "white",
            "ticks": ""
           },
           "bgcolor": "#E5ECF6",
           "radialaxis": {
            "gridcolor": "white",
            "linecolor": "white",
            "ticks": ""
           }
          },
          "scene": {
           "xaxis": {
            "backgroundcolor": "#E5ECF6",
            "gridcolor": "white",
            "gridwidth": 2,
            "linecolor": "white",
            "showbackground": true,
            "ticks": "",
            "zerolinecolor": "white"
           },
           "yaxis": {
            "backgroundcolor": "#E5ECF6",
            "gridcolor": "white",
            "gridwidth": 2,
            "linecolor": "white",
            "showbackground": true,
            "ticks": "",
            "zerolinecolor": "white"
           },
           "zaxis": {
            "backgroundcolor": "#E5ECF6",
            "gridcolor": "white",
            "gridwidth": 2,
            "linecolor": "white",
            "showbackground": true,
            "ticks": "",
            "zerolinecolor": "white"
           }
          },
          "shapedefaults": {
           "line": {
            "color": "#2a3f5f"
           }
          },
          "ternary": {
           "aaxis": {
            "gridcolor": "white",
            "linecolor": "white",
            "ticks": ""
           },
           "baxis": {
            "gridcolor": "white",
            "linecolor": "white",
            "ticks": ""
           },
           "bgcolor": "#E5ECF6",
           "caxis": {
            "gridcolor": "white",
            "linecolor": "white",
            "ticks": ""
           }
          },
          "title": {
           "x": 0.05
          },
          "xaxis": {
           "automargin": true,
           "gridcolor": "white",
           "linecolor": "white",
           "ticks": "",
           "title": {
            "standoff": 15
           },
           "zerolinecolor": "white",
           "zerolinewidth": 2
          },
          "yaxis": {
           "automargin": true,
           "gridcolor": "white",
           "linecolor": "white",
           "ticks": "",
           "title": {
            "standoff": 15
           },
           "zerolinecolor": "white",
           "zerolinewidth": 2
          }
         }
        },
        "xaxis": {
         "anchor": "y",
         "domain": [
          0,
          1
         ],
         "title": {
          "text": "vh_make_model"
         }
        },
        "yaxis": {
         "anchor": "x",
         "domain": [
          0,
          1
         ],
         "title": {
          "text": "value"
         }
        }
       }
      },
      "text/html": [
       "<div>                            <div id=\"84001eb7-2b1f-4308-8ced-75c10edc6ec9\" class=\"plotly-graph-div\" style=\"height:525px; width:100%;\"></div>            <script type=\"text/javascript\">                require([\"plotly\"], function(Plotly) {                    window.PLOTLYENV=window.PLOTLYENV || {};                                    if (document.getElementById(\"84001eb7-2b1f-4308-8ced-75c10edc6ec9\")) {                    Plotly.newPlot(                        \"84001eb7-2b1f-4308-8ced-75c10edc6ec9\",                        [{\"alignmentgroup\": \"True\", \"hovertemplate\": \"variable=claim_amount<br>vh_make_model=%{x}<br>value=%{y}<extra></extra>\", \"legendgroup\": \"claim_amount\", \"marker\": {\"color\": \"#636efa\"}, \"name\": \"claim_amount\", \"offsetgroup\": \"claim_amount\", \"orientation\": \"v\", \"showlegend\": true, \"textposition\": \"auto\", \"type\": \"bar\", \"x\": [\"abcepdrvvynjsufa\", \"aewtdnpoiopumymt\", \"aifsqdniwqmcuqpv\", \"ammbrasbxojlitmt\", \"anqyvxqouldudiww\", \"aparvvfowrjncdhp\", \"asmpttrlkodaejic\", \"aywlgifrijfokyzu\", \"biqzvbfzjivqmrro\", \"bsiyfrkwdyptmwji\", \"bvuzvpriwqlnbjxt\", \"cgkclpnidlmetsrb\", \"clmcokjtplrbzvuh\", \"dbtkrhmbfxpkqbau\", \"dgwbxitzfzbegnoc\", \"dgwtezteqyzzylho\", \"djyptluftbfkxtjd\", \"dllcylnkzeegtsgr\", \"dlrodwgixwmoquny\", \"doohwubeqhbkevhr\", \"dpcnodgqfivkhxvn\", \"dtpbahjtnmyuxqno\", \"dweqmfoluivgiayj\", \"dwsasdexwmpsmowl\", \"dyzvyrmcdyybbddd\", \"efiskxgaocgqqjvr\", \"ehapkksqqcbofeid\", \"epbwnmcyogpybxlm\", \"eslneidrjqwzpqhd\", \"ettwalwfkzvwdasa\", \"ewkcexkqpsyfnugi\", \"fadjogsnmecatcfb\", \"fklewvbxuecmupxn\", \"fuwhdjmdexrstmmo\", \"gapclpflkdsbeorm\", \"gfhjqtkgvomiygvx\", \"gjbalugsikirqoam\", \"gjpgirzuabhfpkjd\", \"gjxmrfgnorpfspbb\", \"gsooyxmnwsucrksh\", \"guiimarisyyjqnfg\", \"gujwvdfcmmqcwxfi\", \"hkazsxqvbtmawovu\", \"hpohizpkyzvwunni\", \"hselphnqlvecmmyx\", \"htedybhazfjiueyj\", \"hwldevoubgzgbhgs\", \"iqepotyqjqeebzix\", \"iulvirmzdntweaee\", \"iwhqpdfuhrsxyqxe\", \"ixbrfaoerogqomah\", \"jgkpiuuctpywtrlh\", \"jhdjdpthkztnjvmb\", \"jiyzqszfywhdfsil\", \"jjjvjaxpzvlbryfd\", \"jjycmklnkdivnypu\", \"jlxizhsfukrheysf\", \"johsjccpkithubii\", \"jrwdpzrmxqlzzepk\", \"kbgblyclstrmicux\", \"kpciudedjlrqsfte\", \"kvcddisqpkysmvvo\", \"kzwthrslljkmbqur\", \"ldxjynecsqlswvbq\", \"lqkdgbosdzrtitgx\", \"mbytpqiuixyvpaab\", \"mdxtphkujabwpjeu\", \"mizxbkgdiuoehddq\", \"ngombkqqomblyxwv\", \"nhoebceeiacnmvym\", \"nhwgapjtnadqqaul\", \"nilvygybpajtnxnr\", \"nkueyjctyasmotny\", \"nsymgnybdjqxudvj\", \"nwaavqeweeqaryzv\", \"nyrtstlobluggnkw\", \"olupoctwepebdqqo\", \"onzjhhtppsfaiacz\", \"oryfrzxilushvigq\", \"owxrlgxbigikfgtm\", \"pheduvdlnmrchihf\", \"pjbnwqhnqczouirt\", \"ponwkmeaxagundzq\", \"prtnwsypyfnshpqx\", \"pyykjiriqrhjduly\", \"qbztetcodwhfmoyg\", \"qpcebxmotqhildhx\", \"quslbttvcitxzeiy\", \"qvwenzdmnwecdiql\", \"qxtqrwxfvuenelml\", \"rabwrzdzwjjdhbmx\", \"rcxmbwwsxkkkyyjs\", \"rgrpzewhrznrqrna\", \"rguedwefqmzdxowu\", \"rrlvhbnzrdtphqnl\", \"rthsjeyjgdlmkygk\", \"rwrevaiebpmviwqz\", \"saempmkfulqhwfqk\", \"sguprofjftozaujc\", \"shemwbbeliuvnvvm\", \"snsnxmucuccvqfvz\", \"srgqbkjrwdbikmzq\", \"svmjzfcsvgxiwwjt\", \"swjkmyqytzxjwgag\", \"synvsxhrexuyxpre\", \"tdgkjlphosocwbgu\", \"toqaaqswchaiyhsk\", \"uahuglbjdtacoqjt\", \"ubttjiaeeuwzcclq\", \"uhkhghxuorryhlis\", \"uwwrbkmjbjyxutfq\", \"uzmldekmvczimsrj\", \"wehkqzwvbeonajcu\", \"wgruytvmfzalzrtb\", \"wpsyqubfrhdspxkx\", \"wsfgxnwhxftjhpxw\", \"wxzfbqtarfurwcfw\", \"wyqgeeclrqbihfpk\", \"xaklvfxsplowrglp\", \"xgvsuftfggoojbdp\", \"xjaddkudsebowzen\", \"xjnjmxyqemqqiejp\", \"xkzehzohmfrsmolg\", \"xpxsjmglcvcsxwdy\", \"xyuwuxlpirkzkqdb\", \"xzdsapxqliboezbc\", \"yfalryaixpzfoihd\", \"yvlkrzgjhwrlyihc\", \"yzxgnwgpnrdprtbh\", \"zagpnfpbwgeyeufr\", \"zkreetxvsoihwkgo\", \"zoypfizhpbtpjwpv\", \"zqruwnlzuefcpqjm\", \"zspzyfdefowgwddf\", \"zxvcbwcwoqnkxxbs\"], \"xaxis\": \"x\", \"y\": [0.0018040069129914445, 0.0032117725586979463, 0.0014057862437846888, 0.004531148704717401, 0.0015670772753315198, 0.010388673502411287, 0.004086636392264988, 0.0010262860352795806, 0.04212916144409277, 0.00905227268181424, 0.003813565284428973, 0.00030772177702392416, 0.001824433159092074, 0.0017375612766304996, 0.001467301783097202, 0.0016500221698242138, 0.0013130016082574707, 0.0027255587247010027, 0.004782238224690116, 0.002233507132200322, 0.002093694543183282, 0.006656780022972598, 0.013369673249725522, 0.0009716100000128673, 0.006810962024563261, 0.0012802967070666448, 0.0033431803026315924, 0.00045362528800519547, 0.001879613248717293, 0.009903366875357159, 0.0015177276720100964, 0.007740257365673959, 0.00037773260940661543, 0.0022628381871303838, 0.0010043067199787584, 0.008808893511830437, 0.005217650742452138, 0.0017853559927017456, 0.0008558797556174846, 0.001299879832486456, 0.007301733255361598, 0.00506519543383529, 0.008517525548939408, 0.0009509969492762178, 0.034287306900098916, 0.002787934656169198, 0.0009339113700241142, 0.0009970404286988408, 0.011543650205921045, 0.015003929744587152, 0.0013391869821999622, 0.0014834660655191065, 0.009137324696240245, 0.0020591297768571943, 0.008590393901386956, 0.033410448665697645, 0.001514089299476429, 0.05238997830870473, 0.010890711188970335, 0.014136971246869977, 0.006138246259869278, 0.015428817116470102, 0.014819244500338228, 0.00020216988547288198, 0.036306170051362656, 0.0010778554776334132, 0.0017573784759859566, 0.001397814094597865, 0.0056786391328989844, 0.0064560613959007175, 0.001561373143501723, 0.016166760878547168, 0.003060506709284171, 0.011062585998508297, 0.0016257730191163791, 0.0008314283468487527, 0.0008980789683455723, 0.00438823861303741, 0.002346727558590594, 0.0010714904846338533, 0.0009411113024795577, 0.0017689889977064478, 0.019395112235063745, 0.00473420079894579, 0.002885589847607819, 0.0006819369142209142, 0.0014084260523637697, 0.015424933761700876, 0.0017602409956882722, 0.004941758021038481, 0.0025685819257699836, 0.014424448582791844, 0.0020627858753782214, 0.002233790293485578, 0.005714472443602519, 0.07731543588446779, 0.0020493777567344752, 0.003935156012952912, 0.0036433203567030996, 0.00025326436226797805, 0.002282038158515732, 0.0010148900434573897, 0.029616563317850203, 0.04897943379995702, 0.004929418461273768, 0.03689233936454253, 0.002038484910245797, 0.0018274483949931794, 0.012687961773702813, 0.0031238003014825936, 0.0017602405411757762, 0.01096642115354536, 0.0035355045384074957, 0.0019172955162561763, 0.005689953766984322, 0.0016993858630330256, 0.0029162930757645074, 0.0003849502678494183, 0.01200356231077642, 0.00130073613402967, 0.01683267849983255, 0.002242039695295204, 0.015393665574511169, 0.004452745753601214, 0.0016056708404256805, 0.007248592563307712, 0.01729798884960763, 0.008270421194535114, 0.0024114055958530454, 0.00277446881443841, 0.0064196117662520666, 0.005757026630590296, 0.007617949416430702, 0.014453272401775923, 0.0002054660100967615], \"yaxis\": \"y\"}],                        {\"barmode\": \"relative\", \"legend\": {\"title\": {\"text\": \"variable\"}, \"tracegroupgap\": 0}, \"margin\": {\"t\": 60}, \"template\": {\"data\": {\"bar\": [{\"error_x\": {\"color\": \"#2a3f5f\"}, \"error_y\": {\"color\": \"#2a3f5f\"}, \"marker\": {\"line\": {\"color\": \"#E5ECF6\", \"width\": 0.5}}, \"type\": \"bar\"}], \"barpolar\": [{\"marker\": {\"line\": {\"color\": \"#E5ECF6\", \"width\": 0.5}}, \"type\": \"barpolar\"}], \"carpet\": [{\"aaxis\": {\"endlinecolor\": \"#2a3f5f\", \"gridcolor\": \"white\", \"linecolor\": \"white\", \"minorgridcolor\": \"white\", \"startlinecolor\": \"#2a3f5f\"}, \"baxis\": {\"endlinecolor\": \"#2a3f5f\", \"gridcolor\": \"white\", \"linecolor\": \"white\", \"minorgridcolor\": \"white\", \"startlinecolor\": \"#2a3f5f\"}, \"type\": \"carpet\"}], \"choropleth\": [{\"colorbar\": {\"outlinewidth\": 0, \"ticks\": \"\"}, \"type\": \"choropleth\"}], \"contour\": [{\"colorbar\": {\"outlinewidth\": 0, \"ticks\": \"\"}, \"colorscale\": [[0.0, \"#0d0887\"], [0.1111111111111111, \"#46039f\"], [0.2222222222222222, \"#7201a8\"], [0.3333333333333333, \"#9c179e\"], [0.4444444444444444, \"#bd3786\"], [0.5555555555555556, \"#d8576b\"], [0.6666666666666666, \"#ed7953\"], [0.7777777777777778, \"#fb9f3a\"], [0.8888888888888888, \"#fdca26\"], [1.0, \"#f0f921\"]], \"type\": \"contour\"}], \"contourcarpet\": [{\"colorbar\": {\"outlinewidth\": 0, \"ticks\": \"\"}, \"type\": \"contourcarpet\"}], \"heatmap\": [{\"colorbar\": {\"outlinewidth\": 0, \"ticks\": \"\"}, \"colorscale\": [[0.0, \"#0d0887\"], [0.1111111111111111, \"#46039f\"], [0.2222222222222222, \"#7201a8\"], [0.3333333333333333, \"#9c179e\"], [0.4444444444444444, \"#bd3786\"], [0.5555555555555556, \"#d8576b\"], [0.6666666666666666, \"#ed7953\"], [0.7777777777777778, \"#fb9f3a\"], [0.8888888888888888, \"#fdca26\"], [1.0, \"#f0f921\"]], \"type\": \"heatmap\"}], \"heatmapgl\": [{\"colorbar\": {\"outlinewidth\": 0, \"ticks\": \"\"}, \"colorscale\": [[0.0, \"#0d0887\"], [0.1111111111111111, \"#46039f\"], [0.2222222222222222, \"#7201a8\"], [0.3333333333333333, \"#9c179e\"], [0.4444444444444444, \"#bd3786\"], [0.5555555555555556, \"#d8576b\"], [0.6666666666666666, \"#ed7953\"], [0.7777777777777778, \"#fb9f3a\"], [0.8888888888888888, \"#fdca26\"], [1.0, \"#f0f921\"]], \"type\": \"heatmapgl\"}], \"histogram\": [{\"marker\": {\"colorbar\": {\"outlinewidth\": 0, \"ticks\": \"\"}}, \"type\": \"histogram\"}], \"histogram2d\": [{\"colorbar\": {\"outlinewidth\": 0, \"ticks\": \"\"}, \"colorscale\": [[0.0, \"#0d0887\"], [0.1111111111111111, \"#46039f\"], [0.2222222222222222, \"#7201a8\"], [0.3333333333333333, \"#9c179e\"], [0.4444444444444444, \"#bd3786\"], [0.5555555555555556, \"#d8576b\"], [0.6666666666666666, \"#ed7953\"], [0.7777777777777778, \"#fb9f3a\"], [0.8888888888888888, \"#fdca26\"], [1.0, \"#f0f921\"]], \"type\": \"histogram2d\"}], \"histogram2dcontour\": [{\"colorbar\": {\"outlinewidth\": 0, \"ticks\": \"\"}, \"colorscale\": [[0.0, \"#0d0887\"], [0.1111111111111111, \"#46039f\"], [0.2222222222222222, \"#7201a8\"], [0.3333333333333333, \"#9c179e\"], [0.4444444444444444, \"#bd3786\"], [0.5555555555555556, \"#d8576b\"], [0.6666666666666666, \"#ed7953\"], [0.7777777777777778, \"#fb9f3a\"], [0.8888888888888888, \"#fdca26\"], [1.0, \"#f0f921\"]], \"type\": \"histogram2dcontour\"}], \"mesh3d\": [{\"colorbar\": {\"outlinewidth\": 0, \"ticks\": \"\"}, \"type\": \"mesh3d\"}], \"parcoords\": [{\"line\": {\"colorbar\": {\"outlinewidth\": 0, \"ticks\": \"\"}}, \"type\": \"parcoords\"}], \"pie\": [{\"automargin\": true, \"type\": \"pie\"}], \"scatter\": [{\"marker\": {\"colorbar\": {\"outlinewidth\": 0, \"ticks\": \"\"}}, \"type\": \"scatter\"}], \"scatter3d\": [{\"line\": {\"colorbar\": {\"outlinewidth\": 0, \"ticks\": \"\"}}, \"marker\": {\"colorbar\": {\"outlinewidth\": 0, \"ticks\": \"\"}}, \"type\": \"scatter3d\"}], \"scattercarpet\": [{\"marker\": {\"colorbar\": {\"outlinewidth\": 0, \"ticks\": \"\"}}, \"type\": \"scattercarpet\"}], \"scattergeo\": [{\"marker\": {\"colorbar\": {\"outlinewidth\": 0, \"ticks\": \"\"}}, \"type\": \"scattergeo\"}], \"scattergl\": [{\"marker\": {\"colorbar\": {\"outlinewidth\": 0, \"ticks\": \"\"}}, \"type\": \"scattergl\"}], \"scattermapbox\": [{\"marker\": {\"colorbar\": {\"outlinewidth\": 0, \"ticks\": \"\"}}, \"type\": \"scattermapbox\"}], \"scatterpolar\": [{\"marker\": {\"colorbar\": {\"outlinewidth\": 0, \"ticks\": \"\"}}, \"type\": \"scatterpolar\"}], \"scatterpolargl\": [{\"marker\": {\"colorbar\": {\"outlinewidth\": 0, \"ticks\": \"\"}}, \"type\": \"scatterpolargl\"}], \"scatterternary\": [{\"marker\": {\"colorbar\": {\"outlinewidth\": 0, \"ticks\": \"\"}}, \"type\": \"scatterternary\"}], \"surface\": [{\"colorbar\": {\"outlinewidth\": 0, \"ticks\": \"\"}, \"colorscale\": [[0.0, \"#0d0887\"], [0.1111111111111111, \"#46039f\"], [0.2222222222222222, \"#7201a8\"], [0.3333333333333333, \"#9c179e\"], [0.4444444444444444, \"#bd3786\"], [0.5555555555555556, \"#d8576b\"], [0.6666666666666666, \"#ed7953\"], [0.7777777777777778, \"#fb9f3a\"], [0.8888888888888888, \"#fdca26\"], [1.0, \"#f0f921\"]], \"type\": \"surface\"}], \"table\": [{\"cells\": {\"fill\": {\"color\": \"#EBF0F8\"}, \"line\": {\"color\": \"white\"}}, \"header\": {\"fill\": {\"color\": \"#C8D4E3\"}, \"line\": {\"color\": \"white\"}}, \"type\": \"table\"}]}, \"layout\": {\"annotationdefaults\": {\"arrowcolor\": \"#2a3f5f\", \"arrowhead\": 0, \"arrowwidth\": 1}, \"autotypenumbers\": \"strict\", \"coloraxis\": {\"colorbar\": {\"outlinewidth\": 0, \"ticks\": \"\"}}, \"colorscale\": {\"diverging\": [[0, \"#8e0152\"], [0.1, \"#c51b7d\"], [0.2, \"#de77ae\"], [0.3, \"#f1b6da\"], [0.4, \"#fde0ef\"], [0.5, \"#f7f7f7\"], [0.6, \"#e6f5d0\"], [0.7, \"#b8e186\"], [0.8, \"#7fbc41\"], [0.9, \"#4d9221\"], [1, \"#276419\"]], \"sequential\": [[0.0, \"#0d0887\"], [0.1111111111111111, \"#46039f\"], [0.2222222222222222, \"#7201a8\"], [0.3333333333333333, \"#9c179e\"], [0.4444444444444444, \"#bd3786\"], [0.5555555555555556, \"#d8576b\"], [0.6666666666666666, \"#ed7953\"], [0.7777777777777778, \"#fb9f3a\"], [0.8888888888888888, \"#fdca26\"], [1.0, \"#f0f921\"]], \"sequentialminus\": [[0.0, \"#0d0887\"], [0.1111111111111111, \"#46039f\"], [0.2222222222222222, \"#7201a8\"], [0.3333333333333333, \"#9c179e\"], [0.4444444444444444, \"#bd3786\"], [0.5555555555555556, \"#d8576b\"], [0.6666666666666666, \"#ed7953\"], [0.7777777777777778, \"#fb9f3a\"], [0.8888888888888888, \"#fdca26\"], [1.0, \"#f0f921\"]]}, \"colorway\": [\"#636efa\", \"#EF553B\", \"#00cc96\", \"#ab63fa\", \"#FFA15A\", \"#19d3f3\", \"#FF6692\", \"#B6E880\", \"#FF97FF\", \"#FECB52\"], \"font\": {\"color\": \"#2a3f5f\"}, \"geo\": {\"bgcolor\": \"white\", \"lakecolor\": \"white\", \"landcolor\": \"#E5ECF6\", \"showlakes\": true, \"showland\": true, \"subunitcolor\": \"white\"}, \"hoverlabel\": {\"align\": \"left\"}, \"hovermode\": \"closest\", \"mapbox\": {\"style\": \"light\"}, \"paper_bgcolor\": \"white\", \"plot_bgcolor\": \"#E5ECF6\", \"polar\": {\"angularaxis\": {\"gridcolor\": \"white\", \"linecolor\": \"white\", \"ticks\": \"\"}, \"bgcolor\": \"#E5ECF6\", \"radialaxis\": {\"gridcolor\": \"white\", \"linecolor\": \"white\", \"ticks\": \"\"}}, \"scene\": {\"xaxis\": {\"backgroundcolor\": \"#E5ECF6\", \"gridcolor\": \"white\", \"gridwidth\": 2, \"linecolor\": \"white\", \"showbackground\": true, \"ticks\": \"\", \"zerolinecolor\": \"white\"}, \"yaxis\": {\"backgroundcolor\": \"#E5ECF6\", \"gridcolor\": \"white\", \"gridwidth\": 2, \"linecolor\": \"white\", \"showbackground\": true, \"ticks\": \"\", \"zerolinecolor\": \"white\"}, \"zaxis\": {\"backgroundcolor\": \"#E5ECF6\", \"gridcolor\": \"white\", \"gridwidth\": 2, \"linecolor\": \"white\", \"showbackground\": true, \"ticks\": \"\", \"zerolinecolor\": \"white\"}}, \"shapedefaults\": {\"line\": {\"color\": \"#2a3f5f\"}}, \"ternary\": {\"aaxis\": {\"gridcolor\": \"white\", \"linecolor\": \"white\", \"ticks\": \"\"}, \"baxis\": {\"gridcolor\": \"white\", \"linecolor\": \"white\", \"ticks\": \"\"}, \"bgcolor\": \"#E5ECF6\", \"caxis\": {\"gridcolor\": \"white\", \"linecolor\": \"white\", \"ticks\": \"\"}}, \"title\": {\"x\": 0.05}, \"xaxis\": {\"automargin\": true, \"gridcolor\": \"white\", \"linecolor\": \"white\", \"ticks\": \"\", \"title\": {\"standoff\": 15}, \"zerolinecolor\": \"white\", \"zerolinewidth\": 2}, \"yaxis\": {\"automargin\": true, \"gridcolor\": \"white\", \"linecolor\": \"white\", \"ticks\": \"\", \"title\": {\"standoff\": 15}, \"zerolinecolor\": \"white\", \"zerolinewidth\": 2}}}, \"xaxis\": {\"anchor\": \"y\", \"domain\": [0.0, 1.0], \"title\": {\"text\": \"vh_make_model\"}}, \"yaxis\": {\"anchor\": \"x\", \"domain\": [0.0, 1.0], \"title\": {\"text\": \"value\"}}},                        {\"responsive\": true}                    ).then(function(){\n",
       "                            \n",
       "var gd = document.getElementById('84001eb7-2b1f-4308-8ced-75c10edc6ec9');\n",
       "var x = new MutationObserver(function (mutations, observer) {{\n",
       "        var display = window.getComputedStyle(gd).display;\n",
       "        if (!display || display === 'none') {{\n",
       "            console.log([gd, 'removed!']);\n",
       "            Plotly.purge(gd);\n",
       "            observer.disconnect();\n",
       "        }}\n",
       "}});\n",
       "\n",
       "// Listen for the removal of the full notebook cells\n",
       "var notebookContainer = gd.closest('#notebook-container');\n",
       "if (notebookContainer) {{\n",
       "    x.observe(notebookContainer, {childList: true});\n",
       "}}\n",
       "\n",
       "// Listen for the clearing of the current output cell\n",
       "var outputEl = gd.closest('.output');\n",
       "if (outputEl) {{\n",
       "    x.observe(outputEl, {childList: true});\n",
       "}}\n",
       "\n",
       "                        })                };                });            </script>        </div>"
      ]
     },
     "metadata": {},
     "output_type": "display_data"
    }
   ],
   "source": [
    "df_cars_info = df_modelos.groupby('vh_make_model')['claim_amount'].sum()/df_modelos['claim_amount'].sum()\n",
    "fig = px.bar(df_cars_info)\n",
    "fig.show()"
   ]
  },
  {
   "cell_type": "code",
   "execution_count": 129,
   "metadata": {},
   "outputs": [
    {
     "data": {
      "text/plain": [
       "vh_make_model\n",
       "rthsjeyjgdlmkygk    0.077315\n",
       "johsjccpkithubii    0.052390\n",
       "swjkmyqytzxjwgag    0.048979\n",
       "biqzvbfzjivqmrro    0.042129\n",
       "tdgkjlphosocwbgu    0.036892\n",
       "lqkdgbosdzrtitgx    0.036306\n",
       "hselphnqlvecmmyx    0.034287\n",
       "jjycmklnkdivnypu    0.033410\n",
       "svmjzfcsvgxiwwjt    0.029617\n",
       "ponwkmeaxagundzq    0.019395\n",
       "yfalryaixpzfoihd    0.017298\n",
       "xjaddkudsebowzen    0.016833\n",
       "nilvygybpajtnxnr    0.016167\n",
       "kvcddisqpkysmvvo    0.015429\n",
       "quslbttvcitxzeiy    0.015425\n",
       "xkzehzohmfrsmolg    0.015394\n",
       "iwhqpdfuhrsxyqxe    0.015004\n",
       "kzwthrslljkmbqur    0.014819\n",
       "zspzyfdefowgwddf    0.014453\n",
       "rcxmbwwsxkkkyyjs    0.014424\n",
       "kbgblyclstrmicux    0.014137\n",
       "dweqmfoluivgiayj    0.013370\n",
       "ubttjiaeeuwzcclq    0.012688\n",
       "xaklvfxsplowrglp    0.012004\n",
       "iulvirmzdntweaee    0.011544\n",
       "nsymgnybdjqxudvj    0.011063\n",
       "uzmldekmvczimsrj    0.010966\n",
       "jrwdpzrmxqlzzepk    0.010891\n",
       "aparvvfowrjncdhp    0.010389\n",
       "Name: claim_amount, dtype: float64"
      ]
     },
     "execution_count": 129,
     "metadata": {},
     "output_type": "execute_result"
    }
   ],
   "source": [
    "df_cars_info[df_cars_info>0.01].sort_values(ascending= False)"
   ]
  },
  {
   "cell_type": "markdown",
   "metadata": {},
   "source": [
    "#### Análises dado que claim é maior que 0"
   ]
  },
  {
   "cell_type": "code",
   "execution_count": 116,
   "metadata": {},
   "outputs": [
    {
     "data": {
      "application/vnd.plotly.v1+json": {
       "config": {
        "plotlyServerURL": "https://plot.ly"
       },
       "data": [
        {
         "alignmentgroup": "True",
         "hovertemplate": "variable=vh_make_model<br>index=%{x}<br>value=%{y}<extra></extra>",
         "legendgroup": "vh_make_model",
         "marker": {
          "color": "#636efa"
         },
         "name": "vh_make_model",
         "offsetgroup": "vh_make_model",
         "orientation": "v",
         "showlegend": true,
         "textposition": "auto",
         "type": "bar",
         "x": [
          "rthsjeyjgdlmkygk",
          "johsjccpkithubii",
          "biqzvbfzjivqmrro",
          "swjkmyqytzxjwgag",
          "tdgkjlphosocwbgu",
          "lqkdgbosdzrtitgx",
          "hselphnqlvecmmyx",
          "svmjzfcsvgxiwwjt",
          "jjycmklnkdivnypu",
          "iwhqpdfuhrsxyqxe",
          "kzwthrslljkmbqur",
          "zqruwnlzuefcpqjm",
          "ponwkmeaxagundzq",
          "xjaddkudsebowzen",
          "aparvvfowrjncdhp",
          "prtnwsypyfnshpqx",
          "kvcddisqpkysmvvo",
          "iulvirmzdntweaee",
          "xkzehzohmfrsmolg",
          "zoypfizhpbtpjwpv",
          "uzmldekmvczimsrj",
          "ubttjiaeeuwzcclq",
          "xaklvfxsplowrglp",
          "nilvygybpajtnxnr",
          "jhdjdpthkztnjvmb",
          "rcxmbwwsxkkkyyjs",
          "ettwalwfkzvwdasa",
          "yfalryaixpzfoihd",
          "quslbttvcitxzeiy",
          "dtpbahjtnmyuxqno",
          "kbgblyclstrmicux",
          "dllcylnkzeegtsgr",
          "pjbnwqhnqczouirt",
          "gjbalugsikirqoam",
          "jgkpiuuctpywtrlh",
          "gfhjqtkgvomiygvx",
          "nsymgnybdjqxudvj",
          "fadjogsnmecatcfb",
          "xzdsapxqliboezbc",
          "hkazsxqvbtmawovu",
          "wpsyqubfrhdspxkx",
          "jrwdpzrmxqlzzepk",
          "jjjvjaxpzvlbryfd",
          "ngombkqqomblyxwv",
          "bsiyfrkwdyptmwji",
          "kpciudedjlrqsfte",
          "zspzyfdefowgwddf",
          "nhwgapjtnadqqaul",
          "yzxgnwgpnrdprtbh",
          "guiimarisyyjqnfg",
          "yvlkrzgjhwrlyihc",
          "wyqgeeclrqbihfpk",
          "dweqmfoluivgiayj",
          "nhoebceeiacnmvym",
          "dyzvyrmcdyybbddd",
          "gujwvdfcmmqcwxfi",
          "dpcnodgqfivkhxvn",
          "zkreetxvsoihwkgo",
          "xpxsjmglcvcsxwdy",
          "ammbrasbxojlitmt",
          "hpohizpkyzvwunni",
          "rrlvhbnzrdtphqnl",
          "pyykjiriqrhjduly",
          "epbwnmcyogpybxlm",
          "saempmkfulqhwfqk",
          "xyuwuxlpirkzkqdb",
          "ehapkksqqcbofeid",
          "nkueyjctyasmotny",
          "htedybhazfjiueyj",
          "uwwrbkmjbjyxutfq",
          "rwrevaiebpmviwqz",
          "bvuzvpriwqlnbjxt",
          "wehkqzwvbeonajcu",
          "onzjhhtppsfaiacz",
          "dwsasdexwmpsmowl",
          "asmpttrlkodaejic",
          "jiyzqszfywhdfsil",
          "dlrodwgixwmoquny",
          "synvsxhrexuyxpre",
          "clmcokjtplrbzvuh",
          "uhkhghxuorryhlis",
          "zagpnfpbwgeyeufr",
          "dbtkrhmbfxpkqbau",
          "rabwrzdzwjjdhbmx",
          "eslneidrjqwzpqhd",
          "fuwhdjmdexrstmmo",
          "xjnjmxyqemqqiejp",
          "wxzfbqtarfurwcfw",
          "qxtqrwxfvuenelml",
          "toqaaqswchaiyhsk",
          "qvwenzdmnwecdiql",
          "uahuglbjdtacoqjt",
          "sguprofjftozaujc",
          "snsnxmucuccvqfvz",
          "doohwubeqhbkevhr",
          "iqepotyqjqeebzix",
          "qpcebxmotqhildhx",
          "gjxmrfgnorpfspbb",
          "hwldevoubgzgbhgs",
          "nwaavqeweeqaryzv",
          "abcepdrvvynjsufa",
          "dgwtezteqyzzylho",
          "aewtdnpoiopumymt",
          "rgrpzewhrznrqrna",
          "gsooyxmnwsucrksh",
          "wsfgxnwhxftjhpxw",
          "aywlgifrijfokyzu",
          "srgqbkjrwdbikmzq",
          "jlxizhsfukrheysf",
          "ewkcexkqpsyfnugi",
          "gapclpflkdsbeorm",
          "mbytpqiuixyvpaab",
          "aifsqdniwqmcuqpv",
          "rguedwefqmzdxowu",
          "oryfrzxilushvigq",
          "qbztetcodwhfmoyg",
          "owxrlgxbigikfgtm",
          "nyrtstlobluggnkw",
          "gjpgirzuabhfpkjd",
          "ldxjynecsqlswvbq",
          "anqyvxqouldudiww",
          "dgwbxitzfzbegnoc",
          "fklewvbxuecmupxn",
          "ixbrfaoerogqomah",
          "wgruytvmfzalzrtb",
          "mizxbkgdiuoehddq",
          "cgkclpnidlmetsrb",
          "olupoctwepebdqqo",
          "zxvcbwcwoqnkxxbs",
          "efiskxgaocgqqjvr",
          "pheduvdlnmrchihf",
          "mdxtphkujabwpjeu",
          "djyptluftbfkxtjd",
          "shemwbbeliuvnvvm",
          "xgvsuftfggoojbdp",
          "otrziwxmbpndmyaa",
          "coufviypetbrtevy",
          "jepialiqqsttgcid",
          "ajtardhciglimsdi",
          "zydfvjqmmwhyfuyy",
          "pyholyswkkqjmxlj",
          "kjhuznifzeghfdra",
          "dpklliwcxycpfriu",
          "pselomoxubpkknqo",
          "abacekzzrkhtgpcp",
          "hcfpedolsygjsofb",
          "jmycebfjwrkqwsxi",
          "rulqevsymrlwrsrz",
          "byvoguptigfevpyy",
          "usjukvawgoqplrph",
          "vnxfpyxuciadydrl",
          "tceovgpqjjopitor",
          "lqqciehjjdtelpwa",
          "arfzuuojdtlgxehv",
          "ohgtowaarzphsifb",
          "esilvarzflhfmjhh",
          "kcfhiwouwwfjqtta",
          "ambmbeydwsdljdcc",
          "ujwlwswdwvbpacnf",
          "usmpkujeknoxdqrc",
          "jakvzvdollijyhwm",
          "lwrjcljtxkokvnes",
          "cazrxylvhylncoze",
          "llkwlxfjdmrqmdgq",
          "hywzsmogbhnfcaxk",
          "xdeuhuabvdhjipnp",
          "sutdaojcvfqmjnwg",
          "cxxzogxxkmkjwqui",
          "hhrmdevbfqiebnum",
          "nofmcfnaiuzlqgrk",
          "xqydufxhniyjunrl",
          "lfzbrhthlxhnmhva",
          "uclvvrkbezlvaulu",
          "yybjogamsfqljfpu",
          "eyrwkwxecpzxzscp",
          "rwtwnvhjqabvovnz",
          "gzebcnjcmqioqcjb",
          "tdozuksvtvtqcykp",
          "isyektlfmcpmotpl",
          "eokuiduvnrtzavmr",
          "yttvzqeuddvehiqu",
          "qdsjznqzjxlekjtp",
          "szvfwsizhxrbklhz",
          "kalfshwbcuoobdwe",
          "dwhlbcevejvegsob",
          "kzqcxkrdytalrphb",
          "alrfnehgsdtsunhm",
          "nruhduwvuytxnfvh",
          "ggaokfjtqxyctvok",
          "qdvjpkftaveygusd",
          "tlhipnhcbdhvhgyw",
          "obvxygchobqafuzw",
          "rxyndewyvbophaku",
          "uureltetaotxxdji",
          "wyopladghryqlrlb",
          "vpzzxdehhwlzsgrp",
          "smynsodmtrrubpqq",
          "fuddhlszptfmosir",
          "yzdbjmwwtofxmpaz",
          "ygsnfanduarpqvrn",
          "ysonsqntnqnqagnn",
          "gjblfwqtnckjletn",
          "lmqoiaqyftqublmk",
          "ofrkezlcbbluncri",
          "ctachoeiozcpkmst",
          "ptaxsjwbissrpvdm",
          "ivhhwynrahlruefk",
          "svcvmlpsqtzbrmnz",
          "xjsozzwcppavldee",
          "csxjshhnfbtgjcgm",
          "zfylmujpvzgqqfxo",
          "urbnjdherequimyo",
          "wyoxchtoecahbyjm",
          "wtxtgodhmneofvzz",
          "ejeggxbwhufjtjhd",
          "aysnuezuqgjioyyf",
          "xoueplwxwxrzasti",
          "pdljbgzzhxrhnqmu",
          "iemmvtjtejhlteqa",
          "yqrgxthbbzmruvwy",
          "fpfzaadmykntrupr",
          "aceqpjprqgzhffuw",
          "qfvolfbvalczrcko",
          "nfmbusxwwqhsaquy",
          "ufpwnqycocwwbgqi",
          "kfurwythfncqbrxs",
          "dsqmtbudvjtnnjwq",
          "gspurupoewenqznk",
          "vikmjrynreazqubj",
          "zzlzzujtugbfpsvv",
          "sdottmimvqvfhzlk",
          "jkarjtlhihuxqzfm",
          "nxwedpnhirijkodc",
          "gjchrdhbeixppooh",
          "ojribuhtopqgkqpp",
          "whcqrtwarljaqocm",
          "mcadxmmocjhzzbtt",
          "bnvgzfegimthyhyo",
          "swxgkelaxkoffszz",
          "ogrmvnhwyeydwcxi",
          "iigklaveqvybkbid",
          "ngksfbgkdeufmhfy",
          "nrmzpcqkbzgmsdeo",
          "ejbxcyhffvcouoxd",
          "qwcrrrebwyeauczj",
          "dhxftxnxtxlgqcqb",
          "ehtbxdjhvcwdapsg",
          "cmjjolnwfprpzntz",
          "ohxrgpugowiyinhv",
          "kwuuuvwdrjkyqyfv",
          "xiwnirovwicymtif",
          "kjdumkaiaeblbxtt",
          "wqqxbrsnrtnuxjjl",
          "wchxrbrhstsmhdsk",
          "gpclrtlzecazeeev",
          "sdvssyrvwfwmdccl",
          "exkqtrkthhgvjqdl",
          "ebdcmhmtqnfkaalo",
          "urullqqbaabxllxl",
          "xhczitnzxmxxebeq",
          "qnixeczkijjyiprb",
          "cbmmnlpqoyyursux",
          "spbjeokdemicpdey",
          "anrwlguztftzfdng",
          "wcyahxrmwqvhmadq",
          "nzxlhibmhrtafeav",
          "uamadghmregezetz",
          "cuxaapvakeemmbaa",
          "rjhfsrwtoqfqvuqu",
          "tyktnjdtbrucursh",
          "vpvsuuudxglarezp",
          "dhjmmmtnpcnalzna",
          "gguphuccgeqyojbl",
          "drpwkafcvcypyrmw",
          "ybmkbrazyartpatx",
          "nsgbpbjvswwlhvmm",
          "eudwptcohxaazhpt",
          "jeckddxjsdolnuhe",
          "ybbdbpunwekygnto",
          "tkqxtjbbrzagooya",
          "arcsdpohuzvikyaw",
          "jsudrcgsrfddwixw",
          "clsrzyechukbaeat",
          "ucggoqoneixjlxxy",
          "cqdmtwkacajclcml",
          "gxpuiivthwcmpcmc",
          "iljhlfeengkciosq",
          "xbhnetrbyfixuzmj",
          "fvrvkxucfyuyfpbk",
          "hjyumbyuzbeubtbb",
          "xuioboiuzasnmuva",
          "unmxysjyilftwsvy",
          "zsuewlbquazyrgvl",
          "iklmkdrwatltidff",
          "kcjttmlajpvbntkn",
          "ylboorftnzombypn",
          "aivacsqryguqpdib",
          "tduddcyerrjazjsh",
          "nzanewsbtbnpgrom",
          "pqpqthiapbycbhor",
          "adgfkcvmsaxxghoc",
          "cgighhnwnkxluccz",
          "sboaeuuuhpsjujpz",
          "uysllzwmzcsweunu",
          "sfcciovhmwqehacv",
          "jrwemlawxsvnwrxv",
          "gqfadgvnztixxbmv",
          "zakviitdfvxsgkow",
          "zedpyrfkmhzqxmaz",
          "vbnagxwgmwirhnjt",
          "nmhahirmbvqxhxgg",
          "dlrvgwmumnwcjixm",
          "uzrhbfduaqijosql",
          "uzqtsirvtxcfqnbp",
          "xebooruxiuwbpzdc",
          "zcqptmhakcmihiry",
          "ifrzhyqsimoeljaa",
          "yglorajvvrsviget",
          "oihtzffwsrwsjnfu",
          "xsonelzsqbpcodxe",
          "xrxxucncrqtcgixl",
          "vgaanttvdscmqmjr",
          "ujgldnoigollndkj",
          "vxumxjoeywcphfoo",
          "mcloznejvtelpcan",
          "twhtulgwsricneea",
          "beagnicqcxahqkeq",
          "cufklbvsirnawzmv",
          "dqxenajfgcimjgnw",
          "jcefoutonncubdss",
          "zvdpnzgvkjkoophv",
          "tksyxmdgogmokuxv",
          "phprbhssfhrtbeue",
          "tzsnmmekuhggblhv",
          "qachmbxcslsazphb",
          "uotpflqyvprslxjc",
          "ukqbsscpgbfatdhs",
          "vokpwtikxckeemdi",
          "snpaaoiipfuxmvol",
          "myfrksrutuknkcnq",
          "aawqanlavsjfqrne",
          "ypgcfauffeqpeerz",
          "blcuqlgntjavsyhs",
          "gctieesvmkeoozqx",
          "kqxycgbergacgcei",
          "joosvbazdbslkqgx",
          "tupmlwnkgjcgcmuv",
          "jkguypwgxebmtnkx",
          "qcykqtxlqnbcqfct",
          "tjvewbsfsiqtqttp",
          "szduoosmrfqduakm",
          "sbrarddcurfhmmqk",
          "tcnfpudadgannoey",
          "ttcbkakfxnfsllyq",
          "ueujqvpwszzhovbj",
          "tsvmlrkmftqbjvub",
          "xgikerzyofvqsmnt",
          "huoicgalccftwyvz",
          "ztwsplndgicacmuu",
          "oeexhaebfkkjfpff",
          "nolayrxwnjwzgtoo",
          "ssnqyyteovyaxylf",
          "ugwrafmvdavbsrzl",
          "dqqtizjjhjmqdqqb",
          "nbxjozrynlospbso",
          "kqubvdyyovhfxtpc",
          "drptidaltxzxopwv",
          "ekztjicqomhuclqr",
          "hcoxxbfccserxklx",
          "xsmqbeukcqahbfgl",
          "jkhjcfudwqurdoex",
          "rqklbykswxeuovdn",
          "godkpvbnbdeseoct",
          "cqewccykrcmvawlo",
          "lxvjgyjdszxtcryf",
          "kmlnlefquqpparsa",
          "timtcrwibllgvgxy",
          "uxfxpraspeoqtmbg",
          "fjzqkqcjerkjykkk",
          "mjpgppxzelxrbcnt",
          "ygqjgwzgeierkcpj",
          "kguahfjnmerrbtpp",
          "suajnmrxuunoyngf",
          "gsbeyysssgzgkkuo",
          "dnvcqpxxzahdhbvy",
          "kbqauyzezmwspqvv",
          "xoetbcowyxwukawr",
          "ptbudvgjgycmmsdq",
          "cpruzckbhhcyorgf",
          "gkxcvooedomgcagl",
          "iwxvflrheripbuvw",
          "giyhzprslgbwsaeu",
          "xxppvuhwmnezefxy",
          "mpmchhrcazhsvjgc",
          "kowgdytyvjhvcmta",
          "xkqlmdeookbxzzhv",
          "ywnimisaozuyjomi",
          "lxhecyqzfsucxgqm",
          "gmzbnaysqjpkzqbt",
          "xabkvgvnbqzrmnyc",
          "loomciwexxewgiut",
          "cnlvybtdupkcwczn",
          "innngarflvbnwntw",
          "bwpieeluivljdtai",
          "dluodrxtjdtvbxug",
          "ciuxczxwhwbxdkdf",
          "pfvqxmrnkptcrhet",
          "noxmlxlzirrxdriv",
          "fvsyahnxhitfllgt",
          "gcmwblighdilwauf",
          "gyhebbdhtmqwwxnp",
          "wiyyghhcxezudyxg",
          "yhcelpjnbxpsmoez",
          "gvordmjbkxszftsl",
          "zrfduayrhhofpqtt",
          "qqmkwgdqaimwcbxo",
          "mpnamiwsqkvamhfa",
          "vdetuihriafhetdl",
          "wrzuftzqwoiwsmfc",
          "vdwfxzfzbybhsmay",
          "zojbyremtnxajomo",
          "flpmjcetsinyjimc",
          "bikffjqejohkyhat",
          "qzgaezfhutbcnkuf",
          "pvrjjyumueakzstw",
          "ltdxvujhaocpnmzf",
          "qewzxgvvhqhkfcxe",
          "xzwnliotgalpusga",
          "meratbpknllwoefn",
          "rclsneerlfasdcpi",
          "ezjnsjxvhnocwwix",
          "cmmuslxsfluvfyof",
          "ukztcjpqrpetqrnx",
          "njujuhbmnqusynwf",
          "gwptulznqgygeegy",
          "mymdahqxtsywqpdn",
          "dqgtaigmpivatpeu",
          "tgfhgapnsxiewemd",
          "squxtuwvjnzbhzsc",
          "ieqgavmmxulqlvvl",
          "vqdlslwzvwucentl",
          "mpwepwxyokmciojj",
          "qbkipjmisqllqwzy",
          "ijxmcnthqquddvhc",
          "skgvahbwdkddoxha",
          "bdmklueoovgkajff",
          "fszxbpjtsihsmnqv",
          "xcvdausiwfrjukgn",
          "jcpjlgfslytgmbjq",
          "qoflnrycwjlbfmow",
          "uhqwwluaswbuqqjc",
          "agowcnternxraavr",
          "vjxfnjqgvugwjhia",
          "cgrdxjyaxssrszjz",
          "nwfvqtdnlrvhdbuc",
          "lhyhsxrxdftbsavk",
          "kkxluqnhrmwkfqnh",
          "dcjzdpoxqvgnjpmi",
          "fgxxyxcbjkodwcln",
          "hvziklxqbjbvncjy",
          "vnefzhazthgsjuax",
          "zbprczwzmlxgqykc",
          "pbrroilhklrifbwq",
          "gdzfmtghobzpihgc",
          "elvboiqxkxwhtgzg",
          "jiyhnfvmyyrpnzyx",
          "moayoogjmiizcbez",
          "owkgoejsxqlzahbz",
          "szlkmablxrjoubla",
          "yxovdmyzjzoutcek",
          "edlxghhjgpmvhabz",
          "rbxibrjokiihgfjb",
          "abipwhwqnzenjxfn",
          "lqalilfrsznnxarm",
          "ldkzuxzespcgajev",
          "qxksnnsrnebfkwqs",
          "kzhhwebpekxgvfsl",
          "tpzzxliudfwqpopv",
          "jcxkvyjnzflnlzvh",
          "jedhlhdmkdprvyex",
          "goropquvqaoaajrk",
          "vxqfscklywhurrjp",
          "uzfgpmnazksmudrw",
          "celpzeaubkxaxxbx",
          "ajdmkzcduerbdsww",
          "ejlwzigdhipvpndt",
          "selnccftdsqbiurb",
          "grnnfnsjjydskrht",
          "cwshqcgmaazzefkx",
          "tdldeeccsirqwpcj",
          "uxpkyjrybttfrluy",
          "zqswdfwtkyehitft",
          "dmqhptvycdmkaxbw",
          "fdbwfjqkichwdebq",
          "xjsnlswprucbsehn",
          "utvgeykupnwzepks",
          "zayyxxzvekzuooyq",
          "lxjkslpwiofoynao",
          "etegzqakpcvyhkaj",
          "kwxjejihbgmtnagf",
          "vjarzxzevsdnftcl",
          "bkwszkqrqybfgpyn",
          "wotupxkyxwcienzd",
          "ldnocwfyeejbmmcy",
          "zwutaiivgrxnrwat",
          "gtbzqhsuzzdfhzfv",
          "wkzwidzltxinpgen",
          "kilbdkfbpczjrqek",
          "fydlanmzkobgcfsj",
          "skwelgffvlzgmbro",
          "kbixxyjwgxmbhcsa",
          "wycspyzpbmhbnmda",
          "lwtlsafdbhymtibi",
          "ruyuflpnypnsgkbq",
          "vomuvsgbhqzjwhgb",
          "dlbnpwopifytzerl",
          "uwqsodousnydlsud",
          "qjkwsppqbsgsvjwa",
          "jlhzkuikphkxcigk",
          "qahlidfcpdaofkwm",
          "aaykjdjgdzrrdvxz",
          "trcsvrxdekscyvyq",
          "degvuccboupdnasm",
          "hvjwbevmcmjpnknw",
          "nhqkbmwihkfvhjxx",
          "gxgjyxrnnugizdvf",
          "udlfdefgndowttah",
          "qpjdblaqrqyuoaqk",
          "disoykeofihapsal",
          "smcawzwicovvejgm",
          "cfuyjykoohewxzeg",
          "aloltvlyufzyxfvg",
          "enmicxqiumbpozpk",
          "bpuzzsqfyvebjzjg",
          "ldejndeewhhlcvgc",
          "sghyfposeljrkedw",
          "khzmqnkqbaqvnakh",
          "ayeiibefzqqbyksg",
          "suycgjdrxxvxgmha",
          "lvpcmycoagwxqpag",
          "xzdakcdqrnwhtpdb",
          "ykzumnthkadrzjdb",
          "vrubhbzjguaxfmlc",
          "uskrsfpueljrtxkg",
          "pvyfdiggxtjoyhqf",
          "tlspgqlrhuzholye",
          "cedgzkylsgxnlcjg",
          "qgnqfinpenszbzig",
          "nnzwevftfeodipkn",
          "nfxbfvlwvmxfproe",
          "ajvhjkzguyeszaqp",
          "optzzqvbwwriedfo",
          "eivjhovgfnfctgjy",
          "szluwlsqbkcnchxg",
          "kumhekfclnypkavw",
          "cwxtybsrimchiwdv",
          "ceswaufhjtmqcndn",
          "owkiszjuntmwilff",
          "dvmnbbkcvcgwnaen",
          "lwclhevnunilhrmm",
          "lctcvcvytpesgryp",
          "yweystgylcxxranw",
          "bfmdeosllvjkezwq",
          "ufxhmwifrakfhfmb",
          "xndokrsndaodfknp",
          "fwqrokhhbukfpssj",
          "grpzbvvgujnswyyg",
          "itvlnddnkkmyemme",
          "blmjcblhzfqwhgew",
          "zczpxdcxdciitjcu",
          "djxdgbpuyerxgrmx",
          "fliymzbupomtmyry",
          "qnesuhpxsptzihzg",
          "evuqnfndofizyoqn",
          "rrsrcesavzhbjqwk",
          "qmahqrjhkxvkwboe",
          "bpqxbrvavqshzebb",
          "dkgrgmlhhtnvzmps",
          "exutskjkecvotaxd",
          "ruposftqgswlcyou",
          "updzeguaxbccwpoe",
          "dychjlsxfaurgode",
          "gforiqpfasfwlkfl",
          "bvkytcvosbaunupg",
          "tafluhgrtixdlhpv",
          "luxhsezouvtbkbpn",
          "fozvmjndontqoxpg",
          "gkniccewzkphqzrp",
          "yljpdxzmshdpmyhl",
          "mjwrreshlbmzkwmc",
          "xiesnbkcyzrpzlyq",
          "lybpmhaivmaqtmsq",
          "pfwcfdvpkuyucnkn",
          "nhembilpmgrfjifn",
          "owrozlxfshxrcgvh",
          "mbnozlcufjgvpcdb",
          "wffzvseexopfwwjy",
          "ozpyjjijxdpztngv",
          "adhoqfsfdpetomvs",
          "mshhupropfijhilz",
          "ckxqqcnqrqxijmmf",
          "erouvyhobhzcycuk",
          "fbvdqkwltwgykywc",
          "fvflhdedljqrcqle",
          "hungxfwbkelospfy",
          "wykcypxicfqltavz",
          "xewlloxrajhpbuwy",
          "ktpoqrjuewxmkjqr",
          "ytornvfpgbsoizqr",
          "rzjssfxzzoddvgdc",
          "htppstzpipwjtuia",
          "pticuqiimwdrkpdy",
          "tmikjfqekaorgssv",
          "lqohoawdpvdisdiw",
          "sgknghheolfpzuid",
          "heicadwqfavetjwx",
          "hayciibjzwapccnb",
          "infvsqmvfzjpyfae",
          "gvsbsfrfcvftmytm",
          "zzjxvhegwmgqodzk",
          "hruelqcyvmwzsqkp",
          "mdiqmxwkzvnpeaop",
          "kbnrpawcssaxrpmb",
          "dlemjwpmokwptnai",
          "uudulyvocjutaxtj",
          "lxchmlyoaiocynox",
          "cedczcxvthqqkwvn",
          "gdtzpvajphaxanpi",
          "tbpblaaxsajjlyok",
          "qdmbicmyqrqalixj",
          "oijipbtrzkghftpt",
          "ospbwzzmmxeovscc",
          "eootycnsxmeekotz",
          "qdhfzxrzisivuhbx",
          "jxlbmlxexeucwbue",
          "ughzfvxgeziewvdi",
          "kpnwdujiylvsiuhp",
          "ajktbllxjzfdtwpy",
          "tcyogsbbufjzekla",
          "cyftaexytlgvmcbd",
          "ybsenzutfrjternf",
          "itmcxdqtvddvmanj",
          "dtdrfrtruyhvbztx",
          "swacqepcxnosmcll",
          "ggzcspiycgszcunf",
          "bgqrpfiflzijywyu",
          "cwrigmmyfzesuezf",
          "avrwlknteymnpjpk",
          "vxvmxuncsxygbrzd",
          "qzrkqxhgbqfyswsj",
          "qyqvfzuwfpyztbla",
          "hqixaqcgdcbagrmw",
          "xsfzlqjhqbcpswcz",
          "lwhjrctubjkbhzmu",
          "tsfyxgkwdidzgzpg",
          "dohuwjuguzyvqaqg",
          "vwjjtxhpebfhzzck",
          "hrlyreijarvikmlk",
          "dqmsefrpxrwielmk",
          "ismjlsoibleinjdp",
          "anwpfxivfvhnobvz",
          "obtymepcippfwigb",
          "ggqsqgrasnpkxano",
          "cictcfpmfdmknnye",
          "nhmkqmpmstaunzqh",
          "vfprhybczhnkefdf",
          "ttwsxzxrhwuzystf",
          "ezaffjpqpacrufvd",
          "efyukbppkfgttvvw",
          "rtqyfobkpliuutfx",
          "ouhkmefnnchsggpl",
          "lwwzmxipnntydwir",
          "lqsgdewyevczcvwf",
          "eyrukxfjgrcdrqeo",
          "ubixvbvqnnjdksca",
          "ufqiiuoxasjwxqbf",
          "wqsapwecaqwzorqn",
          "vbjxuynqachujrmt",
          "ioqpncqqlflrjzkj",
          "wxcohilpavlwlnze",
          "gbkevbmczkqhkmoc",
          "fupocenmkiiluzpe",
          "yrfmcopbrlmfinuq",
          "jskghzhjrpywrbfn",
          "bfmvfelwblrzqfyr",
          "wrvfnbtdqgpsnzic",
          "hikofhdgvhuwkixj",
          "zeqmrfiqiusygxdd",
          "atsglyxkfbaztzlj",
          "jtedxzwqoodxzcaq",
          "tegzsblugaczvdmy",
          "wniogbpezwqrinyt",
          "txcfordzmkkiicwu",
          "xaaujpnniyiuhfql",
          "uczhoudymbvnhter",
          "txgvnaysouvjtkrb",
          "qwqwzvbefvgugtzi",
          "ogdxwqtrpclsxeyw",
          "mbjevmuapzxqjnwg",
          "xieosvyuphbcyzul",
          "zfesqldixdegnidi",
          "fijtohsiakkeuuct",
          "esiuazjovwvdlgjy",
          "zaiwfnldcznzgrfe",
          "dvshwarqhxfcgwfd",
          "sncpkctrqcditirm",
          "tsufyplsxyqgndsw",
          "zrclcvscjwdbabii",
          "sxmsrnbwrnvfjcvp",
          "obkqpwjualnnwgrt",
          "mdqyvrtwekmeflye",
          "vtmylwmvnssatjlh",
          "qukbrubjquwstnyf",
          "azxtekfvyycfmnpt",
          "ngpgrthcqiirdsux",
          "iydbustazndekvfq",
          "wcjrtzzkemciejsz",
          "yrnbnvvghdwvpayv",
          "jhafhnhmasllifix",
          "brjgjnnpueqkyaxo",
          "iexbeucevqnjjbcz",
          "qppmxxfbqiiallmp",
          "jynbrbzntxrssxzh",
          "xrmvlihddtxlbzvw",
          "ubmafwgdsmbkfmwe",
          "ovhdtvldyrrurawo",
          "tdvzvrkldmrkqeth",
          "ktrfapbareyzyyyq",
          "pbwbzedhenqmpfqt",
          "admgymnmeilfhmji",
          "fhliexbdvrlrpjvx",
          "yohngmkmrueenrvs",
          "mtcsefxrgtfdqous",
          "baqjsealekltnrgg",
          "obzgnvzzatnjoryi",
          "wlttiymytfacsrli",
          "kgezpfvpmpmdicts",
          "yobesdjweimafxnq",
          "knrylcwjpefiqlma",
          "rhxboadaoyvvgflk",
          "hotinomqpajebeov",
          "tzyaldqhudfiajin",
          "okzpgwvslpvgceva",
          "vylopbnfewdzeury",
          "ujfqhxynqnqeldes",
          "zukemjnabmcizdzn",
          "xcpcxksgiefkqznu",
          "mxmhlvlmychxzork",
          "uudtrowerqhfztjo",
          "pijaubxodtxcsqjp",
          "ytckjafhdfppmrhv",
          "eyaqhofitsegmcwi",
          "mkbpzddzmalsleud",
          "ibjlpnapcnsmgugu",
          "ljwfegchielwaghb",
          "dlwcludeemsmffyb",
          "unlqqlfvajjczyks",
          "odjkyxbmtxqhkflm",
          "btjxvrgfduskmpts",
          "pmxjblqhvpwflkwt",
          "xqascjfdlnlxubce",
          "nggwrmvazdxdjyfh",
          "gdultxlilvdnuwso",
          "lhgeydlzsntbaqzj",
          "nzgfjmknhxdezggp",
          "zuqrdemwihnexkpw",
          "yvuoearellwavkzs",
          "okeuihmplbxhxceo",
          "qbohnomeacnwdafj",
          "dzjyqrdmawtdcqbx",
          "lzsfpyidvnkaxnvs",
          "fkltkgzmjnzqzlqv",
          "fzgvfpmdmggikezp",
          "jixkbeuswaznqplh",
          "payritakwxpyzwqq",
          "ifalilovsdszxmjm",
          "zhzmkwjsrgvudmmw",
          "zycfmwxhaaaxdwpb",
          "yhzuhoixugafkonm",
          "cxvltpchlhlatjkb",
          "bowuhkfextvyabch",
          "tcyceqtrfusfmkpy",
          "bqcnaxkvbmfieysy",
          "frdityocokfyohoa",
          "qzkbvcycbyxrgbqk",
          "kdsbtuikoaulynsu",
          "bvfbihgnteuiuaov",
          "qozlaoxmwusgalpz",
          "hixbnwflcimyepla",
          "rsphcdnwdddxhdvb",
          "hhidavhckwcwznhf",
          "vwerelrvyumnkbwk",
          "uevoqlbbbmmhkdbi",
          "gicokqmbjnafngon",
          "yqztzexmqeyeirmv",
          "hjhvhzfpslejsnej",
          "vpvtqlxqaiejzrqo",
          "xnwekpoxnvwckfcp",
          "mmfquhvxcmjcvmhz",
          "xbdjgmfolqdfvftr",
          "sqqvhmadjqegpsps",
          "dzbwjjmruyqxyvms",
          "yhotwssicqxqetep",
          "efhjvgwyjfjqsdna",
          "zzubfikjmmfsxhbn",
          "hgyoclvrybybkocm",
          "mvvztpapgrcwgrdt",
          "gtvhxebtkefavzhg",
          "flnipmkwonjnaqsp",
          "znppxsjvuytcambw",
          "nugjzznlbtmumwrp",
          "luwiodhzrjjobjlw",
          "pfkfojczxwevqesz",
          "vuqhkgrnmheydqku",
          "hjhlpxkdgqzdlnkc",
          "esvszhlxzbxeecme",
          "vzinjyeuiebqjmep",
          "degdppvcniqrzruc",
          "tneakanblaxyevhf",
          "zghfsejpgrfrqfdp",
          "whfzavgfbojmgezm",
          "mqsiquclpholncqd",
          "wnrwtzbbxbvnmbqd",
          "akqknybjyxwbdpot",
          "iditakunbaxfjcmc",
          "jbvhqxmbarxynmfk",
          "iadwyxxyvkcpyeus",
          "exfftzvkfnajarkm",
          "kglgveumqmtwrqsf",
          "uhhrakuolcaxvsbh",
          "frvooqzltrzlbhxb",
          "cllupxtcyclounsg",
          "vnsxpowqjjomnmac",
          "gykwyopsdhbsalvd",
          "fouvkndsdstwjqpj",
          "fnfpmchfyyqmdtfm",
          "gfbcqaotflsogaet",
          "jghfkxkawqeujuhj",
          "gvaasolsbmnbjhah",
          "nrwphouoeazzmbmx",
          "tuudpbartgtwkoms",
          "rgfytoxurocumuxu",
          "afmufyguudlwbcix",
          "vafxeruawxlvrttn",
          "qxnyigoiwisibpko",
          "feioipyfbkxhcsyq",
          "ekwqttgkaobektch",
          "ccxwaznvwtdltwlt",
          "nkktflvfoasvkvht",
          "ablxjgbyowxrfxed",
          "uhnrmazhzouxvsqd",
          "aewtczgiyochvagl",
          "kzzakxocsxhkvslf",
          "oqbjvmfvjonftdxi",
          "njcwousmigzpursi",
          "mtubnuteguketfck",
          "spqqpwucqcaspwkb",
          "kxmtwjjyzuqqgmjw",
          "aoytjdcfreqvurza",
          "wmmjbitjeevklkzj",
          "uaweumzfugnsyqmx",
          "pgkgdfabkhkbviht",
          "wylaluxuyuqkytus",
          "hwsgwbkydspkbben",
          "dxpafctvukcmaqao",
          "vtgypuzvlawmkolb",
          "jdsmqjpfexexznya",
          "qwshkzmlvlerxsov",
          "caovvakxarqpgymh",
          "bxzfdlphpiwyjeys",
          "qwedbcvlquqfoycc",
          "ktytfazsvecrjvzl",
          "lpwtmtiwkgbwhufg",
          "buuihjqtdgilqzjc",
          "lhamctzhosdtmdix",
          "ntjpzidotcatossl",
          "ixyvsrnksxeiqbve",
          "reolzfmikorzxstf",
          "wrpeamdcqpawnqag",
          "bxksiwcqwmxjcbci",
          "ulrbzlswbgzvmpas",
          "ureljkoqqvqbpdvx",
          "asbtrxjnhqdpazot",
          "clcqzivttlcdfpnv",
          "bxrkvmsmoqvefhra",
          "gzpmemdiurffxomf",
          "mxytuavlfghapjvu",
          "dxoirhatawazqmey",
          "hjejiuqyfrvtxagi",
          "muixzziwtwouzapq",
          "ndepxuvlaiqzdnan",
          "jancrvhjhcbxreda",
          "vuvbtxegkdifkviv",
          "qidpxyunryowizua",
          "trwedbipujnvnhpr",
          "lcokgbxbqigkqzcw",
          "ryjiidsxttvdcpwu",
          "egsfpimnisvvfkne",
          "nfrqxttuhpuqvwti",
          "rytmtyltypttvqjs"
         ],
         "xaxis": "x",
         "y": [
          16724,
          9296,
          8536,
          7476,
          6212,
          5796,
          5640,
          5508,
          4604,
          3816,
          3800,
          3748,
          3728,
          3692,
          3560,
          3180,
          3164,
          3048,
          2884,
          2532,
          2472,
          2288,
          2268,
          2264,
          2196,
          2172,
          2160,
          1956,
          1932,
          1648,
          1628,
          1588,
          1556,
          1540,
          1524,
          1436,
          1428,
          1428,
          1400,
          1384,
          1356,
          1296,
          1244,
          1212,
          1192,
          1184,
          1164,
          1108,
          1040,
          1004,
          964,
          948,
          948,
          920,
          876,
          872,
          860,
          848,
          844,
          820,
          816,
          776,
          736,
          620,
          620,
          560,
          528,
          520,
          512,
          508,
          500,
          496,
          484,
          484,
          472,
          472,
          472,
          468,
          468,
          460,
          460,
          460,
          424,
          420,
          372,
          368,
          360,
          352,
          352,
          348,
          344,
          332,
          324,
          320,
          316,
          312,
          312,
          312,
          304,
          300,
          296,
          288,
          284,
          268,
          264,
          256,
          252,
          252,
          252,
          252,
          252,
          240,
          240,
          240,
          236,
          236,
          232,
          232,
          228,
          228,
          228,
          220,
          216,
          212,
          212,
          212,
          212,
          208,
          208,
          208,
          204,
          200,
          200,
          200,
          200,
          196,
          192,
          192,
          192,
          188,
          188,
          188,
          188,
          188,
          184,
          184,
          180,
          176,
          176,
          172,
          172,
          172,
          172,
          172,
          168,
          168,
          164,
          160,
          160,
          160,
          160,
          160,
          156,
          152,
          152,
          148,
          148,
          148,
          148,
          144,
          144,
          144,
          140,
          140,
          140,
          140,
          140,
          140,
          136,
          136,
          136,
          136,
          136,
          136,
          128,
          128,
          128,
          124,
          124,
          124,
          124,
          124,
          124,
          124,
          124,
          120,
          120,
          116,
          116,
          116,
          116,
          116,
          116,
          112,
          112,
          112,
          112,
          112,
          108,
          108,
          108,
          108,
          108,
          108,
          108,
          108,
          104,
          104,
          104,
          104,
          104,
          100,
          100,
          100,
          100,
          100,
          100,
          96,
          96,
          92,
          92,
          92,
          92,
          92,
          88,
          88,
          88,
          88,
          88,
          88,
          88,
          88,
          88,
          88,
          84,
          84,
          84,
          84,
          84,
          80,
          80,
          80,
          80,
          76,
          76,
          76,
          76,
          76,
          76,
          76,
          72,
          72,
          72,
          72,
          72,
          72,
          72,
          72,
          72,
          68,
          68,
          68,
          68,
          68,
          68,
          68,
          68,
          64,
          64,
          64,
          64,
          64,
          64,
          64,
          60,
          60,
          60,
          60,
          60,
          60,
          60,
          60,
          60,
          56,
          56,
          56,
          56,
          56,
          56,
          56,
          56,
          56,
          52,
          52,
          52,
          52,
          52,
          52,
          52,
          52,
          52,
          52,
          52,
          52,
          52,
          52,
          52,
          48,
          48,
          48,
          48,
          48,
          48,
          48,
          48,
          44,
          44,
          44,
          44,
          44,
          44,
          44,
          44,
          44,
          44,
          44,
          44,
          44,
          44,
          44,
          40,
          40,
          40,
          40,
          40,
          40,
          40,
          40,
          40,
          40,
          40,
          40,
          40,
          40,
          40,
          40,
          40,
          40,
          36,
          36,
          36,
          36,
          36,
          36,
          36,
          36,
          36,
          36,
          36,
          36,
          36,
          36,
          36,
          36,
          36,
          36,
          36,
          36,
          36,
          36,
          36,
          36,
          32,
          32,
          32,
          32,
          32,
          32,
          32,
          32,
          32,
          32,
          32,
          32,
          32,
          32,
          32,
          32,
          32,
          32,
          32,
          32,
          32,
          32,
          32,
          28,
          28,
          28,
          28,
          28,
          28,
          28,
          28,
          28,
          28,
          28,
          28,
          28,
          28,
          28,
          28,
          28,
          28,
          28,
          28,
          28,
          28,
          28,
          28,
          28,
          24,
          24,
          24,
          24,
          24,
          24,
          24,
          24,
          24,
          24,
          24,
          24,
          24,
          24,
          24,
          24,
          24,
          24,
          24,
          24,
          24,
          24,
          24,
          24,
          24,
          24,
          24,
          24,
          20,
          20,
          20,
          20,
          20,
          20,
          20,
          20,
          20,
          20,
          20,
          20,
          20,
          20,
          20,
          20,
          20,
          20,
          20,
          20,
          20,
          20,
          20,
          20,
          20,
          20,
          20,
          20,
          20,
          20,
          20,
          20,
          20,
          20,
          20,
          20,
          16,
          16,
          16,
          16,
          16,
          16,
          16,
          16,
          16,
          16,
          16,
          16,
          16,
          16,
          16,
          16,
          16,
          16,
          16,
          16,
          16,
          16,
          16,
          16,
          16,
          16,
          16,
          16,
          16,
          16,
          16,
          16,
          16,
          16,
          16,
          16,
          16,
          16,
          16,
          16,
          16,
          16,
          16,
          12,
          12,
          12,
          12,
          12,
          12,
          12,
          12,
          12,
          12,
          12,
          12,
          12,
          12,
          12,
          12,
          12,
          12,
          12,
          12,
          12,
          12,
          12,
          12,
          12,
          12,
          12,
          12,
          12,
          12,
          12,
          12,
          12,
          12,
          12,
          12,
          12,
          12,
          12,
          12,
          12,
          12,
          12,
          12,
          12,
          12,
          12,
          12,
          12,
          12,
          12,
          12,
          12,
          12,
          12,
          12,
          12,
          12,
          12,
          12,
          12,
          8,
          8,
          8,
          8,
          8,
          8,
          8,
          8,
          8,
          8,
          8,
          8,
          8,
          8,
          8,
          8,
          8,
          8,
          8,
          8,
          8,
          8,
          8,
          8,
          8,
          8,
          8,
          8,
          8,
          8,
          8,
          8,
          8,
          8,
          8,
          8,
          8,
          8,
          8,
          8,
          8,
          8,
          8,
          8,
          8,
          8,
          8,
          8,
          8,
          8,
          8,
          8,
          8,
          8,
          8,
          8,
          8,
          8,
          8,
          8,
          8,
          8,
          8,
          8,
          8,
          8,
          8,
          8,
          8,
          8,
          8,
          8,
          8,
          8,
          8,
          8,
          8,
          8,
          8,
          8,
          8,
          8,
          8,
          8,
          8,
          8,
          8,
          8,
          8,
          8,
          8,
          8,
          8,
          4,
          4,
          4,
          4,
          4,
          4,
          4,
          4,
          4,
          4,
          4,
          4,
          4,
          4,
          4,
          4,
          4,
          4,
          4,
          4,
          4,
          4,
          4,
          4,
          4,
          4,
          4,
          4,
          4,
          4,
          4,
          4,
          4,
          4,
          4,
          4,
          4,
          4,
          4,
          4,
          4,
          4,
          4,
          4,
          4,
          4,
          4,
          4,
          4,
          4,
          4,
          4,
          4,
          4,
          4,
          4,
          4,
          4,
          4,
          4,
          4,
          4,
          4,
          4,
          4,
          4,
          4,
          4,
          4,
          4,
          4,
          4,
          4,
          4,
          4,
          4,
          4,
          4,
          4,
          4,
          4,
          4,
          4,
          4,
          4,
          4,
          4,
          4,
          4,
          4,
          4,
          4,
          4,
          4,
          4,
          4,
          4,
          4,
          4,
          4,
          4,
          4,
          4,
          4,
          4,
          4,
          4,
          4,
          4,
          4,
          4,
          4,
          4,
          4,
          4,
          4,
          4,
          4,
          4,
          4,
          4,
          4,
          4,
          4,
          4,
          4,
          4,
          4,
          4,
          4,
          4,
          4,
          4,
          4,
          4,
          4,
          4,
          4,
          4,
          4,
          4,
          4,
          4,
          4,
          4,
          4,
          4,
          4,
          4,
          4,
          4,
          4,
          4,
          4,
          4,
          4,
          4,
          4,
          4,
          4,
          4,
          4,
          4,
          4,
          4,
          4,
          4,
          4,
          4,
          4,
          4,
          4,
          4,
          4,
          4,
          4,
          4,
          4,
          4,
          4,
          4,
          4,
          4,
          4,
          4,
          4,
          4,
          4,
          4,
          4,
          4,
          4,
          4,
          4,
          4,
          4,
          4,
          4,
          4,
          4,
          4,
          4,
          4,
          4,
          4,
          4,
          4,
          4,
          4
         ],
         "yaxis": "y"
        }
       ],
       "layout": {
        "barmode": "relative",
        "legend": {
         "title": {
          "text": "variable"
         },
         "tracegroupgap": 0
        },
        "margin": {
         "t": 60
        },
        "template": {
         "data": {
          "bar": [
           {
            "error_x": {
             "color": "#2a3f5f"
            },
            "error_y": {
             "color": "#2a3f5f"
            },
            "marker": {
             "line": {
              "color": "#E5ECF6",
              "width": 0.5
             }
            },
            "type": "bar"
           }
          ],
          "barpolar": [
           {
            "marker": {
             "line": {
              "color": "#E5ECF6",
              "width": 0.5
             }
            },
            "type": "barpolar"
           }
          ],
          "carpet": [
           {
            "aaxis": {
             "endlinecolor": "#2a3f5f",
             "gridcolor": "white",
             "linecolor": "white",
             "minorgridcolor": "white",
             "startlinecolor": "#2a3f5f"
            },
            "baxis": {
             "endlinecolor": "#2a3f5f",
             "gridcolor": "white",
             "linecolor": "white",
             "minorgridcolor": "white",
             "startlinecolor": "#2a3f5f"
            },
            "type": "carpet"
           }
          ],
          "choropleth": [
           {
            "colorbar": {
             "outlinewidth": 0,
             "ticks": ""
            },
            "type": "choropleth"
           }
          ],
          "contour": [
           {
            "colorbar": {
             "outlinewidth": 0,
             "ticks": ""
            },
            "colorscale": [
             [
              0,
              "#0d0887"
             ],
             [
              0.1111111111111111,
              "#46039f"
             ],
             [
              0.2222222222222222,
              "#7201a8"
             ],
             [
              0.3333333333333333,
              "#9c179e"
             ],
             [
              0.4444444444444444,
              "#bd3786"
             ],
             [
              0.5555555555555556,
              "#d8576b"
             ],
             [
              0.6666666666666666,
              "#ed7953"
             ],
             [
              0.7777777777777778,
              "#fb9f3a"
             ],
             [
              0.8888888888888888,
              "#fdca26"
             ],
             [
              1,
              "#f0f921"
             ]
            ],
            "type": "contour"
           }
          ],
          "contourcarpet": [
           {
            "colorbar": {
             "outlinewidth": 0,
             "ticks": ""
            },
            "type": "contourcarpet"
           }
          ],
          "heatmap": [
           {
            "colorbar": {
             "outlinewidth": 0,
             "ticks": ""
            },
            "colorscale": [
             [
              0,
              "#0d0887"
             ],
             [
              0.1111111111111111,
              "#46039f"
             ],
             [
              0.2222222222222222,
              "#7201a8"
             ],
             [
              0.3333333333333333,
              "#9c179e"
             ],
             [
              0.4444444444444444,
              "#bd3786"
             ],
             [
              0.5555555555555556,
              "#d8576b"
             ],
             [
              0.6666666666666666,
              "#ed7953"
             ],
             [
              0.7777777777777778,
              "#fb9f3a"
             ],
             [
              0.8888888888888888,
              "#fdca26"
             ],
             [
              1,
              "#f0f921"
             ]
            ],
            "type": "heatmap"
           }
          ],
          "heatmapgl": [
           {
            "colorbar": {
             "outlinewidth": 0,
             "ticks": ""
            },
            "colorscale": [
             [
              0,
              "#0d0887"
             ],
             [
              0.1111111111111111,
              "#46039f"
             ],
             [
              0.2222222222222222,
              "#7201a8"
             ],
             [
              0.3333333333333333,
              "#9c179e"
             ],
             [
              0.4444444444444444,
              "#bd3786"
             ],
             [
              0.5555555555555556,
              "#d8576b"
             ],
             [
              0.6666666666666666,
              "#ed7953"
             ],
             [
              0.7777777777777778,
              "#fb9f3a"
             ],
             [
              0.8888888888888888,
              "#fdca26"
             ],
             [
              1,
              "#f0f921"
             ]
            ],
            "type": "heatmapgl"
           }
          ],
          "histogram": [
           {
            "marker": {
             "colorbar": {
              "outlinewidth": 0,
              "ticks": ""
             }
            },
            "type": "histogram"
           }
          ],
          "histogram2d": [
           {
            "colorbar": {
             "outlinewidth": 0,
             "ticks": ""
            },
            "colorscale": [
             [
              0,
              "#0d0887"
             ],
             [
              0.1111111111111111,
              "#46039f"
             ],
             [
              0.2222222222222222,
              "#7201a8"
             ],
             [
              0.3333333333333333,
              "#9c179e"
             ],
             [
              0.4444444444444444,
              "#bd3786"
             ],
             [
              0.5555555555555556,
              "#d8576b"
             ],
             [
              0.6666666666666666,
              "#ed7953"
             ],
             [
              0.7777777777777778,
              "#fb9f3a"
             ],
             [
              0.8888888888888888,
              "#fdca26"
             ],
             [
              1,
              "#f0f921"
             ]
            ],
            "type": "histogram2d"
           }
          ],
          "histogram2dcontour": [
           {
            "colorbar": {
             "outlinewidth": 0,
             "ticks": ""
            },
            "colorscale": [
             [
              0,
              "#0d0887"
             ],
             [
              0.1111111111111111,
              "#46039f"
             ],
             [
              0.2222222222222222,
              "#7201a8"
             ],
             [
              0.3333333333333333,
              "#9c179e"
             ],
             [
              0.4444444444444444,
              "#bd3786"
             ],
             [
              0.5555555555555556,
              "#d8576b"
             ],
             [
              0.6666666666666666,
              "#ed7953"
             ],
             [
              0.7777777777777778,
              "#fb9f3a"
             ],
             [
              0.8888888888888888,
              "#fdca26"
             ],
             [
              1,
              "#f0f921"
             ]
            ],
            "type": "histogram2dcontour"
           }
          ],
          "mesh3d": [
           {
            "colorbar": {
             "outlinewidth": 0,
             "ticks": ""
            },
            "type": "mesh3d"
           }
          ],
          "parcoords": [
           {
            "line": {
             "colorbar": {
              "outlinewidth": 0,
              "ticks": ""
             }
            },
            "type": "parcoords"
           }
          ],
          "pie": [
           {
            "automargin": true,
            "type": "pie"
           }
          ],
          "scatter": [
           {
            "marker": {
             "colorbar": {
              "outlinewidth": 0,
              "ticks": ""
             }
            },
            "type": "scatter"
           }
          ],
          "scatter3d": [
           {
            "line": {
             "colorbar": {
              "outlinewidth": 0,
              "ticks": ""
             }
            },
            "marker": {
             "colorbar": {
              "outlinewidth": 0,
              "ticks": ""
             }
            },
            "type": "scatter3d"
           }
          ],
          "scattercarpet": [
           {
            "marker": {
             "colorbar": {
              "outlinewidth": 0,
              "ticks": ""
             }
            },
            "type": "scattercarpet"
           }
          ],
          "scattergeo": [
           {
            "marker": {
             "colorbar": {
              "outlinewidth": 0,
              "ticks": ""
             }
            },
            "type": "scattergeo"
           }
          ],
          "scattergl": [
           {
            "marker": {
             "colorbar": {
              "outlinewidth": 0,
              "ticks": ""
             }
            },
            "type": "scattergl"
           }
          ],
          "scattermapbox": [
           {
            "marker": {
             "colorbar": {
              "outlinewidth": 0,
              "ticks": ""
             }
            },
            "type": "scattermapbox"
           }
          ],
          "scatterpolar": [
           {
            "marker": {
             "colorbar": {
              "outlinewidth": 0,
              "ticks": ""
             }
            },
            "type": "scatterpolar"
           }
          ],
          "scatterpolargl": [
           {
            "marker": {
             "colorbar": {
              "outlinewidth": 0,
              "ticks": ""
             }
            },
            "type": "scatterpolargl"
           }
          ],
          "scatterternary": [
           {
            "marker": {
             "colorbar": {
              "outlinewidth": 0,
              "ticks": ""
             }
            },
            "type": "scatterternary"
           }
          ],
          "surface": [
           {
            "colorbar": {
             "outlinewidth": 0,
             "ticks": ""
            },
            "colorscale": [
             [
              0,
              "#0d0887"
             ],
             [
              0.1111111111111111,
              "#46039f"
             ],
             [
              0.2222222222222222,
              "#7201a8"
             ],
             [
              0.3333333333333333,
              "#9c179e"
             ],
             [
              0.4444444444444444,
              "#bd3786"
             ],
             [
              0.5555555555555556,
              "#d8576b"
             ],
             [
              0.6666666666666666,
              "#ed7953"
             ],
             [
              0.7777777777777778,
              "#fb9f3a"
             ],
             [
              0.8888888888888888,
              "#fdca26"
             ],
             [
              1,
              "#f0f921"
             ]
            ],
            "type": "surface"
           }
          ],
          "table": [
           {
            "cells": {
             "fill": {
              "color": "#EBF0F8"
             },
             "line": {
              "color": "white"
             }
            },
            "header": {
             "fill": {
              "color": "#C8D4E3"
             },
             "line": {
              "color": "white"
             }
            },
            "type": "table"
           }
          ]
         },
         "layout": {
          "annotationdefaults": {
           "arrowcolor": "#2a3f5f",
           "arrowhead": 0,
           "arrowwidth": 1
          },
          "autotypenumbers": "strict",
          "coloraxis": {
           "colorbar": {
            "outlinewidth": 0,
            "ticks": ""
           }
          },
          "colorscale": {
           "diverging": [
            [
             0,
             "#8e0152"
            ],
            [
             0.1,
             "#c51b7d"
            ],
            [
             0.2,
             "#de77ae"
            ],
            [
             0.3,
             "#f1b6da"
            ],
            [
             0.4,
             "#fde0ef"
            ],
            [
             0.5,
             "#f7f7f7"
            ],
            [
             0.6,
             "#e6f5d0"
            ],
            [
             0.7,
             "#b8e186"
            ],
            [
             0.8,
             "#7fbc41"
            ],
            [
             0.9,
             "#4d9221"
            ],
            [
             1,
             "#276419"
            ]
           ],
           "sequential": [
            [
             0,
             "#0d0887"
            ],
            [
             0.1111111111111111,
             "#46039f"
            ],
            [
             0.2222222222222222,
             "#7201a8"
            ],
            [
             0.3333333333333333,
             "#9c179e"
            ],
            [
             0.4444444444444444,
             "#bd3786"
            ],
            [
             0.5555555555555556,
             "#d8576b"
            ],
            [
             0.6666666666666666,
             "#ed7953"
            ],
            [
             0.7777777777777778,
             "#fb9f3a"
            ],
            [
             0.8888888888888888,
             "#fdca26"
            ],
            [
             1,
             "#f0f921"
            ]
           ],
           "sequentialminus": [
            [
             0,
             "#0d0887"
            ],
            [
             0.1111111111111111,
             "#46039f"
            ],
            [
             0.2222222222222222,
             "#7201a8"
            ],
            [
             0.3333333333333333,
             "#9c179e"
            ],
            [
             0.4444444444444444,
             "#bd3786"
            ],
            [
             0.5555555555555556,
             "#d8576b"
            ],
            [
             0.6666666666666666,
             "#ed7953"
            ],
            [
             0.7777777777777778,
             "#fb9f3a"
            ],
            [
             0.8888888888888888,
             "#fdca26"
            ],
            [
             1,
             "#f0f921"
            ]
           ]
          },
          "colorway": [
           "#636efa",
           "#EF553B",
           "#00cc96",
           "#ab63fa",
           "#FFA15A",
           "#19d3f3",
           "#FF6692",
           "#B6E880",
           "#FF97FF",
           "#FECB52"
          ],
          "font": {
           "color": "#2a3f5f"
          },
          "geo": {
           "bgcolor": "white",
           "lakecolor": "white",
           "landcolor": "#E5ECF6",
           "showlakes": true,
           "showland": true,
           "subunitcolor": "white"
          },
          "hoverlabel": {
           "align": "left"
          },
          "hovermode": "closest",
          "mapbox": {
           "style": "light"
          },
          "paper_bgcolor": "white",
          "plot_bgcolor": "#E5ECF6",
          "polar": {
           "angularaxis": {
            "gridcolor": "white",
            "linecolor": "white",
            "ticks": ""
           },
           "bgcolor": "#E5ECF6",
           "radialaxis": {
            "gridcolor": "white",
            "linecolor": "white",
            "ticks": ""
           }
          },
          "scene": {
           "xaxis": {
            "backgroundcolor": "#E5ECF6",
            "gridcolor": "white",
            "gridwidth": 2,
            "linecolor": "white",
            "showbackground": true,
            "ticks": "",
            "zerolinecolor": "white"
           },
           "yaxis": {
            "backgroundcolor": "#E5ECF6",
            "gridcolor": "white",
            "gridwidth": 2,
            "linecolor": "white",
            "showbackground": true,
            "ticks": "",
            "zerolinecolor": "white"
           },
           "zaxis": {
            "backgroundcolor": "#E5ECF6",
            "gridcolor": "white",
            "gridwidth": 2,
            "linecolor": "white",
            "showbackground": true,
            "ticks": "",
            "zerolinecolor": "white"
           }
          },
          "shapedefaults": {
           "line": {
            "color": "#2a3f5f"
           }
          },
          "ternary": {
           "aaxis": {
            "gridcolor": "white",
            "linecolor": "white",
            "ticks": ""
           },
           "baxis": {
            "gridcolor": "white",
            "linecolor": "white",
            "ticks": ""
           },
           "bgcolor": "#E5ECF6",
           "caxis": {
            "gridcolor": "white",
            "linecolor": "white",
            "ticks": ""
           }
          },
          "title": {
           "x": 0.05
          },
          "xaxis": {
           "automargin": true,
           "gridcolor": "white",
           "linecolor": "white",
           "ticks": "",
           "title": {
            "standoff": 15
           },
           "zerolinecolor": "white",
           "zerolinewidth": 2
          },
          "yaxis": {
           "automargin": true,
           "gridcolor": "white",
           "linecolor": "white",
           "ticks": "",
           "title": {
            "standoff": 15
           },
           "zerolinecolor": "white",
           "zerolinewidth": 2
          }
         }
        },
        "xaxis": {
         "anchor": "y",
         "domain": [
          0,
          1
         ],
         "title": {
          "text": "index"
         }
        },
        "yaxis": {
         "anchor": "x",
         "domain": [
          0,
          1
         ],
         "title": {
          "text": "value"
         }
        }
       }
      },
      "text/html": [
       "<div>                            <div id=\"5250870f-24e9-40dd-bb1e-7a55d8cc238f\" class=\"plotly-graph-div\" style=\"height:525px; width:100%;\"></div>            <script type=\"text/javascript\">                require([\"plotly\"], function(Plotly) {                    window.PLOTLYENV=window.PLOTLYENV || {};                                    if (document.getElementById(\"5250870f-24e9-40dd-bb1e-7a55d8cc238f\")) {                    Plotly.newPlot(                        \"5250870f-24e9-40dd-bb1e-7a55d8cc238f\",                        [{\"alignmentgroup\": \"True\", \"hovertemplate\": \"variable=vh_make_model<br>index=%{x}<br>value=%{y}<extra></extra>\", \"legendgroup\": \"vh_make_model\", \"marker\": {\"color\": \"#636efa\"}, \"name\": \"vh_make_model\", \"offsetgroup\": \"vh_make_model\", \"orientation\": \"v\", \"showlegend\": true, \"textposition\": \"auto\", \"type\": \"bar\", \"x\": [\"rthsjeyjgdlmkygk\", \"johsjccpkithubii\", \"biqzvbfzjivqmrro\", \"swjkmyqytzxjwgag\", \"tdgkjlphosocwbgu\", \"lqkdgbosdzrtitgx\", \"hselphnqlvecmmyx\", \"svmjzfcsvgxiwwjt\", \"jjycmklnkdivnypu\", \"iwhqpdfuhrsxyqxe\", \"kzwthrslljkmbqur\", \"zqruwnlzuefcpqjm\", \"ponwkmeaxagundzq\", \"xjaddkudsebowzen\", \"aparvvfowrjncdhp\", \"prtnwsypyfnshpqx\", \"kvcddisqpkysmvvo\", \"iulvirmzdntweaee\", \"xkzehzohmfrsmolg\", \"zoypfizhpbtpjwpv\", \"uzmldekmvczimsrj\", \"ubttjiaeeuwzcclq\", \"xaklvfxsplowrglp\", \"nilvygybpajtnxnr\", \"jhdjdpthkztnjvmb\", \"rcxmbwwsxkkkyyjs\", \"ettwalwfkzvwdasa\", \"yfalryaixpzfoihd\", \"quslbttvcitxzeiy\", \"dtpbahjtnmyuxqno\", \"kbgblyclstrmicux\", \"dllcylnkzeegtsgr\", \"pjbnwqhnqczouirt\", \"gjbalugsikirqoam\", \"jgkpiuuctpywtrlh\", \"gfhjqtkgvomiygvx\", \"nsymgnybdjqxudvj\", \"fadjogsnmecatcfb\", \"xzdsapxqliboezbc\", \"hkazsxqvbtmawovu\", \"wpsyqubfrhdspxkx\", \"jrwdpzrmxqlzzepk\", \"jjjvjaxpzvlbryfd\", \"ngombkqqomblyxwv\", \"bsiyfrkwdyptmwji\", \"kpciudedjlrqsfte\", \"zspzyfdefowgwddf\", \"nhwgapjtnadqqaul\", \"yzxgnwgpnrdprtbh\", \"guiimarisyyjqnfg\", \"yvlkrzgjhwrlyihc\", \"wyqgeeclrqbihfpk\", \"dweqmfoluivgiayj\", \"nhoebceeiacnmvym\", \"dyzvyrmcdyybbddd\", \"gujwvdfcmmqcwxfi\", \"dpcnodgqfivkhxvn\", \"zkreetxvsoihwkgo\", \"xpxsjmglcvcsxwdy\", \"ammbrasbxojlitmt\", \"hpohizpkyzvwunni\", \"rrlvhbnzrdtphqnl\", \"pyykjiriqrhjduly\", \"epbwnmcyogpybxlm\", \"saempmkfulqhwfqk\", \"xyuwuxlpirkzkqdb\", \"ehapkksqqcbofeid\", \"nkueyjctyasmotny\", \"htedybhazfjiueyj\", \"uwwrbkmjbjyxutfq\", \"rwrevaiebpmviwqz\", \"bvuzvpriwqlnbjxt\", \"wehkqzwvbeonajcu\", \"onzjhhtppsfaiacz\", \"dwsasdexwmpsmowl\", \"asmpttrlkodaejic\", \"jiyzqszfywhdfsil\", \"dlrodwgixwmoquny\", \"synvsxhrexuyxpre\", \"clmcokjtplrbzvuh\", \"uhkhghxuorryhlis\", \"zagpnfpbwgeyeufr\", \"dbtkrhmbfxpkqbau\", \"rabwrzdzwjjdhbmx\", \"eslneidrjqwzpqhd\", \"fuwhdjmdexrstmmo\", \"xjnjmxyqemqqiejp\", \"wxzfbqtarfurwcfw\", \"qxtqrwxfvuenelml\", \"toqaaqswchaiyhsk\", \"qvwenzdmnwecdiql\", \"uahuglbjdtacoqjt\", \"sguprofjftozaujc\", \"snsnxmucuccvqfvz\", \"doohwubeqhbkevhr\", \"iqepotyqjqeebzix\", \"qpcebxmotqhildhx\", \"gjxmrfgnorpfspbb\", \"hwldevoubgzgbhgs\", \"nwaavqeweeqaryzv\", \"abcepdrvvynjsufa\", \"dgwtezteqyzzylho\", \"aewtdnpoiopumymt\", \"rgrpzewhrznrqrna\", \"gsooyxmnwsucrksh\", \"wsfgxnwhxftjhpxw\", \"aywlgifrijfokyzu\", \"srgqbkjrwdbikmzq\", \"jlxizhsfukrheysf\", \"ewkcexkqpsyfnugi\", \"gapclpflkdsbeorm\", \"mbytpqiuixyvpaab\", \"aifsqdniwqmcuqpv\", \"rguedwefqmzdxowu\", \"oryfrzxilushvigq\", \"qbztetcodwhfmoyg\", \"owxrlgxbigikfgtm\", \"nyrtstlobluggnkw\", \"gjpgirzuabhfpkjd\", \"ldxjynecsqlswvbq\", \"anqyvxqouldudiww\", \"dgwbxitzfzbegnoc\", \"fklewvbxuecmupxn\", \"ixbrfaoerogqomah\", \"wgruytvmfzalzrtb\", \"mizxbkgdiuoehddq\", \"cgkclpnidlmetsrb\", \"olupoctwepebdqqo\", \"zxvcbwcwoqnkxxbs\", \"efiskxgaocgqqjvr\", \"pheduvdlnmrchihf\", \"mdxtphkujabwpjeu\", \"djyptluftbfkxtjd\", \"shemwbbeliuvnvvm\", \"xgvsuftfggoojbdp\", \"otrziwxmbpndmyaa\", \"coufviypetbrtevy\", \"jepialiqqsttgcid\", \"ajtardhciglimsdi\", \"zydfvjqmmwhyfuyy\", \"pyholyswkkqjmxlj\", \"kjhuznifzeghfdra\", \"dpklliwcxycpfriu\", \"pselomoxubpkknqo\", \"abacekzzrkhtgpcp\", \"hcfpedolsygjsofb\", \"jmycebfjwrkqwsxi\", \"rulqevsymrlwrsrz\", \"byvoguptigfevpyy\", \"usjukvawgoqplrph\", \"vnxfpyxuciadydrl\", \"tceovgpqjjopitor\", \"lqqciehjjdtelpwa\", \"arfzuuojdtlgxehv\", \"ohgtowaarzphsifb\", \"esilvarzflhfmjhh\", \"kcfhiwouwwfjqtta\", \"ambmbeydwsdljdcc\", \"ujwlwswdwvbpacnf\", \"usmpkujeknoxdqrc\", \"jakvzvdollijyhwm\", \"lwrjcljtxkokvnes\", \"cazrxylvhylncoze\", \"llkwlxfjdmrqmdgq\", \"hywzsmogbhnfcaxk\", \"xdeuhuabvdhjipnp\", \"sutdaojcvfqmjnwg\", \"cxxzogxxkmkjwqui\", \"hhrmdevbfqiebnum\", \"nofmcfnaiuzlqgrk\", \"xqydufxhniyjunrl\", \"lfzbrhthlxhnmhva\", \"uclvvrkbezlvaulu\", \"yybjogamsfqljfpu\", \"eyrwkwxecpzxzscp\", \"rwtwnvhjqabvovnz\", \"gzebcnjcmqioqcjb\", \"tdozuksvtvtqcykp\", \"isyektlfmcpmotpl\", \"eokuiduvnrtzavmr\", \"yttvzqeuddvehiqu\", \"qdsjznqzjxlekjtp\", \"szvfwsizhxrbklhz\", \"kalfshwbcuoobdwe\", \"dwhlbcevejvegsob\", \"kzqcxkrdytalrphb\", \"alrfnehgsdtsunhm\", \"nruhduwvuytxnfvh\", \"ggaokfjtqxyctvok\", \"qdvjpkftaveygusd\", \"tlhipnhcbdhvhgyw\", \"obvxygchobqafuzw\", \"rxyndewyvbophaku\", \"uureltetaotxxdji\", \"wyopladghryqlrlb\", \"vpzzxdehhwlzsgrp\", \"smynsodmtrrubpqq\", \"fuddhlszptfmosir\", \"yzdbjmwwtofxmpaz\", \"ygsnfanduarpqvrn\", \"ysonsqntnqnqagnn\", \"gjblfwqtnckjletn\", \"lmqoiaqyftqublmk\", \"ofrkezlcbbluncri\", \"ctachoeiozcpkmst\", \"ptaxsjwbissrpvdm\", \"ivhhwynrahlruefk\", \"svcvmlpsqtzbrmnz\", \"xjsozzwcppavldee\", \"csxjshhnfbtgjcgm\", \"zfylmujpvzgqqfxo\", \"urbnjdherequimyo\", \"wyoxchtoecahbyjm\", \"wtxtgodhmneofvzz\", \"ejeggxbwhufjtjhd\", \"aysnuezuqgjioyyf\", \"xoueplwxwxrzasti\", \"pdljbgzzhxrhnqmu\", \"iemmvtjtejhlteqa\", \"yqrgxthbbzmruvwy\", \"fpfzaadmykntrupr\", \"aceqpjprqgzhffuw\", \"qfvolfbvalczrcko\", \"nfmbusxwwqhsaquy\", \"ufpwnqycocwwbgqi\", \"kfurwythfncqbrxs\", \"dsqmtbudvjtnnjwq\", \"gspurupoewenqznk\", \"vikmjrynreazqubj\", \"zzlzzujtugbfpsvv\", \"sdottmimvqvfhzlk\", \"jkarjtlhihuxqzfm\", \"nxwedpnhirijkodc\", \"gjchrdhbeixppooh\", \"ojribuhtopqgkqpp\", \"whcqrtwarljaqocm\", \"mcadxmmocjhzzbtt\", \"bnvgzfegimthyhyo\", \"swxgkelaxkoffszz\", \"ogrmvnhwyeydwcxi\", \"iigklaveqvybkbid\", \"ngksfbgkdeufmhfy\", \"nrmzpcqkbzgmsdeo\", \"ejbxcyhffvcouoxd\", \"qwcrrrebwyeauczj\", \"dhxftxnxtxlgqcqb\", \"ehtbxdjhvcwdapsg\", \"cmjjolnwfprpzntz\", \"ohxrgpugowiyinhv\", \"kwuuuvwdrjkyqyfv\", \"xiwnirovwicymtif\", \"kjdumkaiaeblbxtt\", \"wqqxbrsnrtnuxjjl\", \"wchxrbrhstsmhdsk\", \"gpclrtlzecazeeev\", \"sdvssyrvwfwmdccl\", \"exkqtrkthhgvjqdl\", \"ebdcmhmtqnfkaalo\", \"urullqqbaabxllxl\", \"xhczitnzxmxxebeq\", \"qnixeczkijjyiprb\", \"cbmmnlpqoyyursux\", \"spbjeokdemicpdey\", \"anrwlguztftzfdng\", \"wcyahxrmwqvhmadq\", \"nzxlhibmhrtafeav\", \"uamadghmregezetz\", \"cuxaapvakeemmbaa\", \"rjhfsrwtoqfqvuqu\", \"tyktnjdtbrucursh\", \"vpvsuuudxglarezp\", \"dhjmmmtnpcnalzna\", \"gguphuccgeqyojbl\", \"drpwkafcvcypyrmw\", \"ybmkbrazyartpatx\", \"nsgbpbjvswwlhvmm\", \"eudwptcohxaazhpt\", \"jeckddxjsdolnuhe\", \"ybbdbpunwekygnto\", \"tkqxtjbbrzagooya\", \"arcsdpohuzvikyaw\", \"jsudrcgsrfddwixw\", \"clsrzyechukbaeat\", \"ucggoqoneixjlxxy\", \"cqdmtwkacajclcml\", \"gxpuiivthwcmpcmc\", \"iljhlfeengkciosq\", \"xbhnetrbyfixuzmj\", \"fvrvkxucfyuyfpbk\", \"hjyumbyuzbeubtbb\", \"xuioboiuzasnmuva\", \"unmxysjyilftwsvy\", \"zsuewlbquazyrgvl\", \"iklmkdrwatltidff\", \"kcjttmlajpvbntkn\", \"ylboorftnzombypn\", \"aivacsqryguqpdib\", \"tduddcyerrjazjsh\", \"nzanewsbtbnpgrom\", \"pqpqthiapbycbhor\", \"adgfkcvmsaxxghoc\", \"cgighhnwnkxluccz\", \"sboaeuuuhpsjujpz\", \"uysllzwmzcsweunu\", \"sfcciovhmwqehacv\", \"jrwemlawxsvnwrxv\", \"gqfadgvnztixxbmv\", \"zakviitdfvxsgkow\", \"zedpyrfkmhzqxmaz\", \"vbnagxwgmwirhnjt\", \"nmhahirmbvqxhxgg\", \"dlrvgwmumnwcjixm\", \"uzrhbfduaqijosql\", \"uzqtsirvtxcfqnbp\", \"xebooruxiuwbpzdc\", \"zcqptmhakcmihiry\", \"ifrzhyqsimoeljaa\", \"yglorajvvrsviget\", \"oihtzffwsrwsjnfu\", \"xsonelzsqbpcodxe\", \"xrxxucncrqtcgixl\", \"vgaanttvdscmqmjr\", \"ujgldnoigollndkj\", \"vxumxjoeywcphfoo\", \"mcloznejvtelpcan\", \"twhtulgwsricneea\", \"beagnicqcxahqkeq\", \"cufklbvsirnawzmv\", \"dqxenajfgcimjgnw\", \"jcefoutonncubdss\", \"zvdpnzgvkjkoophv\", \"tksyxmdgogmokuxv\", \"phprbhssfhrtbeue\", \"tzsnmmekuhggblhv\", \"qachmbxcslsazphb\", \"uotpflqyvprslxjc\", \"ukqbsscpgbfatdhs\", \"vokpwtikxckeemdi\", \"snpaaoiipfuxmvol\", \"myfrksrutuknkcnq\", \"aawqanlavsjfqrne\", \"ypgcfauffeqpeerz\", \"blcuqlgntjavsyhs\", \"gctieesvmkeoozqx\", \"kqxycgbergacgcei\", \"joosvbazdbslkqgx\", \"tupmlwnkgjcgcmuv\", \"jkguypwgxebmtnkx\", \"qcykqtxlqnbcqfct\", \"tjvewbsfsiqtqttp\", \"szduoosmrfqduakm\", \"sbrarddcurfhmmqk\", \"tcnfpudadgannoey\", \"ttcbkakfxnfsllyq\", \"ueujqvpwszzhovbj\", \"tsvmlrkmftqbjvub\", \"xgikerzyofvqsmnt\", \"huoicgalccftwyvz\", \"ztwsplndgicacmuu\", \"oeexhaebfkkjfpff\", \"nolayrxwnjwzgtoo\", \"ssnqyyteovyaxylf\", \"ugwrafmvdavbsrzl\", \"dqqtizjjhjmqdqqb\", \"nbxjozrynlospbso\", \"kqubvdyyovhfxtpc\", \"drptidaltxzxopwv\", \"ekztjicqomhuclqr\", \"hcoxxbfccserxklx\", \"xsmqbeukcqahbfgl\", \"jkhjcfudwqurdoex\", \"rqklbykswxeuovdn\", \"godkpvbnbdeseoct\", \"cqewccykrcmvawlo\", \"lxvjgyjdszxtcryf\", \"kmlnlefquqpparsa\", \"timtcrwibllgvgxy\", \"uxfxpraspeoqtmbg\", \"fjzqkqcjerkjykkk\", \"mjpgppxzelxrbcnt\", \"ygqjgwzgeierkcpj\", \"kguahfjnmerrbtpp\", \"suajnmrxuunoyngf\", \"gsbeyysssgzgkkuo\", \"dnvcqpxxzahdhbvy\", \"kbqauyzezmwspqvv\", \"xoetbcowyxwukawr\", \"ptbudvgjgycmmsdq\", \"cpruzckbhhcyorgf\", \"gkxcvooedomgcagl\", \"iwxvflrheripbuvw\", \"giyhzprslgbwsaeu\", \"xxppvuhwmnezefxy\", \"mpmchhrcazhsvjgc\", \"kowgdytyvjhvcmta\", \"xkqlmdeookbxzzhv\", \"ywnimisaozuyjomi\", \"lxhecyqzfsucxgqm\", \"gmzbnaysqjpkzqbt\", \"xabkvgvnbqzrmnyc\", \"loomciwexxewgiut\", \"cnlvybtdupkcwczn\", \"innngarflvbnwntw\", \"bwpieeluivljdtai\", \"dluodrxtjdtvbxug\", \"ciuxczxwhwbxdkdf\", \"pfvqxmrnkptcrhet\", \"noxmlxlzirrxdriv\", \"fvsyahnxhitfllgt\", \"gcmwblighdilwauf\", \"gyhebbdhtmqwwxnp\", \"wiyyghhcxezudyxg\", \"yhcelpjnbxpsmoez\", \"gvordmjbkxszftsl\", \"zrfduayrhhofpqtt\", \"qqmkwgdqaimwcbxo\", \"mpnamiwsqkvamhfa\", \"vdetuihriafhetdl\", \"wrzuftzqwoiwsmfc\", \"vdwfxzfzbybhsmay\", \"zojbyremtnxajomo\", \"flpmjcetsinyjimc\", \"bikffjqejohkyhat\", \"qzgaezfhutbcnkuf\", \"pvrjjyumueakzstw\", \"ltdxvujhaocpnmzf\", \"qewzxgvvhqhkfcxe\", \"xzwnliotgalpusga\", \"meratbpknllwoefn\", \"rclsneerlfasdcpi\", \"ezjnsjxvhnocwwix\", \"cmmuslxsfluvfyof\", \"ukztcjpqrpetqrnx\", \"njujuhbmnqusynwf\", \"gwptulznqgygeegy\", \"mymdahqxtsywqpdn\", \"dqgtaigmpivatpeu\", \"tgfhgapnsxiewemd\", \"squxtuwvjnzbhzsc\", \"ieqgavmmxulqlvvl\", \"vqdlslwzvwucentl\", \"mpwepwxyokmciojj\", \"qbkipjmisqllqwzy\", \"ijxmcnthqquddvhc\", \"skgvahbwdkddoxha\", \"bdmklueoovgkajff\", \"fszxbpjtsihsmnqv\", \"xcvdausiwfrjukgn\", \"jcpjlgfslytgmbjq\", \"qoflnrycwjlbfmow\", \"uhqwwluaswbuqqjc\", \"agowcnternxraavr\", \"vjxfnjqgvugwjhia\", \"cgrdxjyaxssrszjz\", \"nwfvqtdnlrvhdbuc\", \"lhyhsxrxdftbsavk\", \"kkxluqnhrmwkfqnh\", \"dcjzdpoxqvgnjpmi\", \"fgxxyxcbjkodwcln\", \"hvziklxqbjbvncjy\", \"vnefzhazthgsjuax\", \"zbprczwzmlxgqykc\", \"pbrroilhklrifbwq\", \"gdzfmtghobzpihgc\", \"elvboiqxkxwhtgzg\", \"jiyhnfvmyyrpnzyx\", \"moayoogjmiizcbez\", \"owkgoejsxqlzahbz\", \"szlkmablxrjoubla\", \"yxovdmyzjzoutcek\", \"edlxghhjgpmvhabz\", \"rbxibrjokiihgfjb\", \"abipwhwqnzenjxfn\", \"lqalilfrsznnxarm\", \"ldkzuxzespcgajev\", \"qxksnnsrnebfkwqs\", \"kzhhwebpekxgvfsl\", \"tpzzxliudfwqpopv\", \"jcxkvyjnzflnlzvh\", \"jedhlhdmkdprvyex\", \"goropquvqaoaajrk\", \"vxqfscklywhurrjp\", \"uzfgpmnazksmudrw\", \"celpzeaubkxaxxbx\", \"ajdmkzcduerbdsww\", \"ejlwzigdhipvpndt\", \"selnccftdsqbiurb\", \"grnnfnsjjydskrht\", \"cwshqcgmaazzefkx\", \"tdldeeccsirqwpcj\", \"uxpkyjrybttfrluy\", \"zqswdfwtkyehitft\", \"dmqhptvycdmkaxbw\", \"fdbwfjqkichwdebq\", \"xjsnlswprucbsehn\", \"utvgeykupnwzepks\", \"zayyxxzvekzuooyq\", \"lxjkslpwiofoynao\", \"etegzqakpcvyhkaj\", \"kwxjejihbgmtnagf\", \"vjarzxzevsdnftcl\", \"bkwszkqrqybfgpyn\", \"wotupxkyxwcienzd\", \"ldnocwfyeejbmmcy\", \"zwutaiivgrxnrwat\", \"gtbzqhsuzzdfhzfv\", \"wkzwidzltxinpgen\", \"kilbdkfbpczjrqek\", \"fydlanmzkobgcfsj\", \"skwelgffvlzgmbro\", \"kbixxyjwgxmbhcsa\", \"wycspyzpbmhbnmda\", \"lwtlsafdbhymtibi\", \"ruyuflpnypnsgkbq\", \"vomuvsgbhqzjwhgb\", \"dlbnpwopifytzerl\", \"uwqsodousnydlsud\", \"qjkwsppqbsgsvjwa\", \"jlhzkuikphkxcigk\", \"qahlidfcpdaofkwm\", \"aaykjdjgdzrrdvxz\", \"trcsvrxdekscyvyq\", \"degvuccboupdnasm\", \"hvjwbevmcmjpnknw\", \"nhqkbmwihkfvhjxx\", \"gxgjyxrnnugizdvf\", \"udlfdefgndowttah\", \"qpjdblaqrqyuoaqk\", \"disoykeofihapsal\", \"smcawzwicovvejgm\", \"cfuyjykoohewxzeg\", \"aloltvlyufzyxfvg\", \"enmicxqiumbpozpk\", \"bpuzzsqfyvebjzjg\", \"ldejndeewhhlcvgc\", \"sghyfposeljrkedw\", \"khzmqnkqbaqvnakh\", \"ayeiibefzqqbyksg\", \"suycgjdrxxvxgmha\", \"lvpcmycoagwxqpag\", \"xzdakcdqrnwhtpdb\", \"ykzumnthkadrzjdb\", \"vrubhbzjguaxfmlc\", \"uskrsfpueljrtxkg\", \"pvyfdiggxtjoyhqf\", \"tlspgqlrhuzholye\", \"cedgzkylsgxnlcjg\", \"qgnqfinpenszbzig\", \"nnzwevftfeodipkn\", \"nfxbfvlwvmxfproe\", \"ajvhjkzguyeszaqp\", \"optzzqvbwwriedfo\", \"eivjhovgfnfctgjy\", \"szluwlsqbkcnchxg\", \"kumhekfclnypkavw\", \"cwxtybsrimchiwdv\", \"ceswaufhjtmqcndn\", \"owkiszjuntmwilff\", \"dvmnbbkcvcgwnaen\", \"lwclhevnunilhrmm\", \"lctcvcvytpesgryp\", \"yweystgylcxxranw\", \"bfmdeosllvjkezwq\", \"ufxhmwifrakfhfmb\", \"xndokrsndaodfknp\", \"fwqrokhhbukfpssj\", \"grpzbvvgujnswyyg\", \"itvlnddnkkmyemme\", \"blmjcblhzfqwhgew\", \"zczpxdcxdciitjcu\", \"djxdgbpuyerxgrmx\", \"fliymzbupomtmyry\", \"qnesuhpxsptzihzg\", \"evuqnfndofizyoqn\", \"rrsrcesavzhbjqwk\", \"qmahqrjhkxvkwboe\", \"bpqxbrvavqshzebb\", \"dkgrgmlhhtnvzmps\", \"exutskjkecvotaxd\", \"ruposftqgswlcyou\", \"updzeguaxbccwpoe\", \"dychjlsxfaurgode\", \"gforiqpfasfwlkfl\", \"bvkytcvosbaunupg\", \"tafluhgrtixdlhpv\", \"luxhsezouvtbkbpn\", \"fozvmjndontqoxpg\", \"gkniccewzkphqzrp\", \"yljpdxzmshdpmyhl\", \"mjwrreshlbmzkwmc\", \"xiesnbkcyzrpzlyq\", \"lybpmhaivmaqtmsq\", \"pfwcfdvpkuyucnkn\", \"nhembilpmgrfjifn\", \"owrozlxfshxrcgvh\", \"mbnozlcufjgvpcdb\", \"wffzvseexopfwwjy\", \"ozpyjjijxdpztngv\", \"adhoqfsfdpetomvs\", \"mshhupropfijhilz\", \"ckxqqcnqrqxijmmf\", \"erouvyhobhzcycuk\", \"fbvdqkwltwgykywc\", \"fvflhdedljqrcqle\", \"hungxfwbkelospfy\", \"wykcypxicfqltavz\", \"xewlloxrajhpbuwy\", \"ktpoqrjuewxmkjqr\", \"ytornvfpgbsoizqr\", \"rzjssfxzzoddvgdc\", \"htppstzpipwjtuia\", \"pticuqiimwdrkpdy\", \"tmikjfqekaorgssv\", \"lqohoawdpvdisdiw\", \"sgknghheolfpzuid\", \"heicadwqfavetjwx\", \"hayciibjzwapccnb\", \"infvsqmvfzjpyfae\", \"gvsbsfrfcvftmytm\", \"zzjxvhegwmgqodzk\", \"hruelqcyvmwzsqkp\", \"mdiqmxwkzvnpeaop\", \"kbnrpawcssaxrpmb\", \"dlemjwpmokwptnai\", \"uudulyvocjutaxtj\", \"lxchmlyoaiocynox\", \"cedczcxvthqqkwvn\", \"gdtzpvajphaxanpi\", \"tbpblaaxsajjlyok\", \"qdmbicmyqrqalixj\", \"oijipbtrzkghftpt\", \"ospbwzzmmxeovscc\", \"eootycnsxmeekotz\", \"qdhfzxrzisivuhbx\", \"jxlbmlxexeucwbue\", \"ughzfvxgeziewvdi\", \"kpnwdujiylvsiuhp\", \"ajktbllxjzfdtwpy\", \"tcyogsbbufjzekla\", \"cyftaexytlgvmcbd\", \"ybsenzutfrjternf\", \"itmcxdqtvddvmanj\", \"dtdrfrtruyhvbztx\", \"swacqepcxnosmcll\", \"ggzcspiycgszcunf\", \"bgqrpfiflzijywyu\", \"cwrigmmyfzesuezf\", \"avrwlknteymnpjpk\", \"vxvmxuncsxygbrzd\", \"qzrkqxhgbqfyswsj\", \"qyqvfzuwfpyztbla\", \"hqixaqcgdcbagrmw\", \"xsfzlqjhqbcpswcz\", \"lwhjrctubjkbhzmu\", \"tsfyxgkwdidzgzpg\", \"dohuwjuguzyvqaqg\", \"vwjjtxhpebfhzzck\", \"hrlyreijarvikmlk\", \"dqmsefrpxrwielmk\", \"ismjlsoibleinjdp\", \"anwpfxivfvhnobvz\", \"obtymepcippfwigb\", \"ggqsqgrasnpkxano\", \"cictcfpmfdmknnye\", \"nhmkqmpmstaunzqh\", \"vfprhybczhnkefdf\", \"ttwsxzxrhwuzystf\", \"ezaffjpqpacrufvd\", \"efyukbppkfgttvvw\", \"rtqyfobkpliuutfx\", \"ouhkmefnnchsggpl\", \"lwwzmxipnntydwir\", \"lqsgdewyevczcvwf\", \"eyrukxfjgrcdrqeo\", \"ubixvbvqnnjdksca\", \"ufqiiuoxasjwxqbf\", \"wqsapwecaqwzorqn\", \"vbjxuynqachujrmt\", \"ioqpncqqlflrjzkj\", \"wxcohilpavlwlnze\", \"gbkevbmczkqhkmoc\", \"fupocenmkiiluzpe\", \"yrfmcopbrlmfinuq\", \"jskghzhjrpywrbfn\", \"bfmvfelwblrzqfyr\", \"wrvfnbtdqgpsnzic\", \"hikofhdgvhuwkixj\", \"zeqmrfiqiusygxdd\", \"atsglyxkfbaztzlj\", \"jtedxzwqoodxzcaq\", \"tegzsblugaczvdmy\", \"wniogbpezwqrinyt\", \"txcfordzmkkiicwu\", \"xaaujpnniyiuhfql\", \"uczhoudymbvnhter\", \"txgvnaysouvjtkrb\", \"qwqwzvbefvgugtzi\", \"ogdxwqtrpclsxeyw\", \"mbjevmuapzxqjnwg\", \"xieosvyuphbcyzul\", \"zfesqldixdegnidi\", \"fijtohsiakkeuuct\", \"esiuazjovwvdlgjy\", \"zaiwfnldcznzgrfe\", \"dvshwarqhxfcgwfd\", \"sncpkctrqcditirm\", \"tsufyplsxyqgndsw\", \"zrclcvscjwdbabii\", \"sxmsrnbwrnvfjcvp\", \"obkqpwjualnnwgrt\", \"mdqyvrtwekmeflye\", \"vtmylwmvnssatjlh\", \"qukbrubjquwstnyf\", \"azxtekfvyycfmnpt\", \"ngpgrthcqiirdsux\", \"iydbustazndekvfq\", \"wcjrtzzkemciejsz\", \"yrnbnvvghdwvpayv\", \"jhafhnhmasllifix\", \"brjgjnnpueqkyaxo\", \"iexbeucevqnjjbcz\", \"qppmxxfbqiiallmp\", \"jynbrbzntxrssxzh\", \"xrmvlihddtxlbzvw\", \"ubmafwgdsmbkfmwe\", \"ovhdtvldyrrurawo\", \"tdvzvrkldmrkqeth\", \"ktrfapbareyzyyyq\", \"pbwbzedhenqmpfqt\", \"admgymnmeilfhmji\", \"fhliexbdvrlrpjvx\", \"yohngmkmrueenrvs\", \"mtcsefxrgtfdqous\", \"baqjsealekltnrgg\", \"obzgnvzzatnjoryi\", \"wlttiymytfacsrli\", \"kgezpfvpmpmdicts\", \"yobesdjweimafxnq\", \"knrylcwjpefiqlma\", \"rhxboadaoyvvgflk\", \"hotinomqpajebeov\", \"tzyaldqhudfiajin\", \"okzpgwvslpvgceva\", \"vylopbnfewdzeury\", \"ujfqhxynqnqeldes\", \"zukemjnabmcizdzn\", \"xcpcxksgiefkqznu\", \"mxmhlvlmychxzork\", \"uudtrowerqhfztjo\", \"pijaubxodtxcsqjp\", \"ytckjafhdfppmrhv\", \"eyaqhofitsegmcwi\", \"mkbpzddzmalsleud\", \"ibjlpnapcnsmgugu\", \"ljwfegchielwaghb\", \"dlwcludeemsmffyb\", \"unlqqlfvajjczyks\", \"odjkyxbmtxqhkflm\", \"btjxvrgfduskmpts\", \"pmxjblqhvpwflkwt\", \"xqascjfdlnlxubce\", \"nggwrmvazdxdjyfh\", \"gdultxlilvdnuwso\", \"lhgeydlzsntbaqzj\", \"nzgfjmknhxdezggp\", \"zuqrdemwihnexkpw\", \"yvuoearellwavkzs\", \"okeuihmplbxhxceo\", \"qbohnomeacnwdafj\", \"dzjyqrdmawtdcqbx\", \"lzsfpyidvnkaxnvs\", \"fkltkgzmjnzqzlqv\", \"fzgvfpmdmggikezp\", \"jixkbeuswaznqplh\", \"payritakwxpyzwqq\", \"ifalilovsdszxmjm\", \"zhzmkwjsrgvudmmw\", \"zycfmwxhaaaxdwpb\", \"yhzuhoixugafkonm\", \"cxvltpchlhlatjkb\", \"bowuhkfextvyabch\", \"tcyceqtrfusfmkpy\", \"bqcnaxkvbmfieysy\", \"frdityocokfyohoa\", \"qzkbvcycbyxrgbqk\", \"kdsbtuikoaulynsu\", \"bvfbihgnteuiuaov\", \"qozlaoxmwusgalpz\", \"hixbnwflcimyepla\", \"rsphcdnwdddxhdvb\", \"hhidavhckwcwznhf\", \"vwerelrvyumnkbwk\", \"uevoqlbbbmmhkdbi\", \"gicokqmbjnafngon\", \"yqztzexmqeyeirmv\", \"hjhvhzfpslejsnej\", \"vpvtqlxqaiejzrqo\", \"xnwekpoxnvwckfcp\", \"mmfquhvxcmjcvmhz\", \"xbdjgmfolqdfvftr\", \"sqqvhmadjqegpsps\", \"dzbwjjmruyqxyvms\", \"yhotwssicqxqetep\", \"efhjvgwyjfjqsdna\", \"zzubfikjmmfsxhbn\", \"hgyoclvrybybkocm\", \"mvvztpapgrcwgrdt\", \"gtvhxebtkefavzhg\", \"flnipmkwonjnaqsp\", \"znppxsjvuytcambw\", \"nugjzznlbtmumwrp\", \"luwiodhzrjjobjlw\", \"pfkfojczxwevqesz\", \"vuqhkgrnmheydqku\", \"hjhlpxkdgqzdlnkc\", \"esvszhlxzbxeecme\", \"vzinjyeuiebqjmep\", \"degdppvcniqrzruc\", \"tneakanblaxyevhf\", \"zghfsejpgrfrqfdp\", \"whfzavgfbojmgezm\", \"mqsiquclpholncqd\", \"wnrwtzbbxbvnmbqd\", \"akqknybjyxwbdpot\", \"iditakunbaxfjcmc\", \"jbvhqxmbarxynmfk\", \"iadwyxxyvkcpyeus\", \"exfftzvkfnajarkm\", \"kglgveumqmtwrqsf\", \"uhhrakuolcaxvsbh\", \"frvooqzltrzlbhxb\", \"cllupxtcyclounsg\", \"vnsxpowqjjomnmac\", \"gykwyopsdhbsalvd\", \"fouvkndsdstwjqpj\", \"fnfpmchfyyqmdtfm\", \"gfbcqaotflsogaet\", \"jghfkxkawqeujuhj\", \"gvaasolsbmnbjhah\", \"nrwphouoeazzmbmx\", \"tuudpbartgtwkoms\", \"rgfytoxurocumuxu\", \"afmufyguudlwbcix\", \"vafxeruawxlvrttn\", \"qxnyigoiwisibpko\", \"feioipyfbkxhcsyq\", \"ekwqttgkaobektch\", \"ccxwaznvwtdltwlt\", \"nkktflvfoasvkvht\", \"ablxjgbyowxrfxed\", \"uhnrmazhzouxvsqd\", \"aewtczgiyochvagl\", \"kzzakxocsxhkvslf\", \"oqbjvmfvjonftdxi\", \"njcwousmigzpursi\", \"mtubnuteguketfck\", \"spqqpwucqcaspwkb\", \"kxmtwjjyzuqqgmjw\", \"aoytjdcfreqvurza\", \"wmmjbitjeevklkzj\", \"uaweumzfugnsyqmx\", \"pgkgdfabkhkbviht\", \"wylaluxuyuqkytus\", \"hwsgwbkydspkbben\", \"dxpafctvukcmaqao\", \"vtgypuzvlawmkolb\", \"jdsmqjpfexexznya\", \"qwshkzmlvlerxsov\", \"caovvakxarqpgymh\", \"bxzfdlphpiwyjeys\", \"qwedbcvlquqfoycc\", \"ktytfazsvecrjvzl\", \"lpwtmtiwkgbwhufg\", \"buuihjqtdgilqzjc\", \"lhamctzhosdtmdix\", \"ntjpzidotcatossl\", \"ixyvsrnksxeiqbve\", \"reolzfmikorzxstf\", \"wrpeamdcqpawnqag\", \"bxksiwcqwmxjcbci\", \"ulrbzlswbgzvmpas\", \"ureljkoqqvqbpdvx\", \"asbtrxjnhqdpazot\", \"clcqzivttlcdfpnv\", \"bxrkvmsmoqvefhra\", \"gzpmemdiurffxomf\", \"mxytuavlfghapjvu\", \"dxoirhatawazqmey\", \"hjejiuqyfrvtxagi\", \"muixzziwtwouzapq\", \"ndepxuvlaiqzdnan\", \"jancrvhjhcbxreda\", \"vuvbtxegkdifkviv\", \"qidpxyunryowizua\", \"trwedbipujnvnhpr\", \"lcokgbxbqigkqzcw\", \"ryjiidsxttvdcpwu\", \"egsfpimnisvvfkne\", \"nfrqxttuhpuqvwti\", \"rytmtyltypttvqjs\"], \"xaxis\": \"x\", \"y\": [16724, 9296, 8536, 7476, 6212, 5796, 5640, 5508, 4604, 3816, 3800, 3748, 3728, 3692, 3560, 3180, 3164, 3048, 2884, 2532, 2472, 2288, 2268, 2264, 2196, 2172, 2160, 1956, 1932, 1648, 1628, 1588, 1556, 1540, 1524, 1436, 1428, 1428, 1400, 1384, 1356, 1296, 1244, 1212, 1192, 1184, 1164, 1108, 1040, 1004, 964, 948, 948, 920, 876, 872, 860, 848, 844, 820, 816, 776, 736, 620, 620, 560, 528, 520, 512, 508, 500, 496, 484, 484, 472, 472, 472, 468, 468, 460, 460, 460, 424, 420, 372, 368, 360, 352, 352, 348, 344, 332, 324, 320, 316, 312, 312, 312, 304, 300, 296, 288, 284, 268, 264, 256, 252, 252, 252, 252, 252, 240, 240, 240, 236, 236, 232, 232, 228, 228, 228, 220, 216, 212, 212, 212, 212, 208, 208, 208, 204, 200, 200, 200, 200, 196, 192, 192, 192, 188, 188, 188, 188, 188, 184, 184, 180, 176, 176, 172, 172, 172, 172, 172, 168, 168, 164, 160, 160, 160, 160, 160, 156, 152, 152, 148, 148, 148, 148, 144, 144, 144, 140, 140, 140, 140, 140, 140, 136, 136, 136, 136, 136, 136, 128, 128, 128, 124, 124, 124, 124, 124, 124, 124, 124, 120, 120, 116, 116, 116, 116, 116, 116, 112, 112, 112, 112, 112, 108, 108, 108, 108, 108, 108, 108, 108, 104, 104, 104, 104, 104, 100, 100, 100, 100, 100, 100, 96, 96, 92, 92, 92, 92, 92, 88, 88, 88, 88, 88, 88, 88, 88, 88, 88, 84, 84, 84, 84, 84, 80, 80, 80, 80, 76, 76, 76, 76, 76, 76, 76, 72, 72, 72, 72, 72, 72, 72, 72, 72, 68, 68, 68, 68, 68, 68, 68, 68, 64, 64, 64, 64, 64, 64, 64, 60, 60, 60, 60, 60, 60, 60, 60, 60, 56, 56, 56, 56, 56, 56, 56, 56, 56, 52, 52, 52, 52, 52, 52, 52, 52, 52, 52, 52, 52, 52, 52, 52, 48, 48, 48, 48, 48, 48, 48, 48, 44, 44, 44, 44, 44, 44, 44, 44, 44, 44, 44, 44, 44, 44, 44, 40, 40, 40, 40, 40, 40, 40, 40, 40, 40, 40, 40, 40, 40, 40, 40, 40, 40, 36, 36, 36, 36, 36, 36, 36, 36, 36, 36, 36, 36, 36, 36, 36, 36, 36, 36, 36, 36, 36, 36, 36, 36, 32, 32, 32, 32, 32, 32, 32, 32, 32, 32, 32, 32, 32, 32, 32, 32, 32, 32, 32, 32, 32, 32, 32, 28, 28, 28, 28, 28, 28, 28, 28, 28, 28, 28, 28, 28, 28, 28, 28, 28, 28, 28, 28, 28, 28, 28, 28, 28, 24, 24, 24, 24, 24, 24, 24, 24, 24, 24, 24, 24, 24, 24, 24, 24, 24, 24, 24, 24, 24, 24, 24, 24, 24, 24, 24, 24, 20, 20, 20, 20, 20, 20, 20, 20, 20, 20, 20, 20, 20, 20, 20, 20, 20, 20, 20, 20, 20, 20, 20, 20, 20, 20, 20, 20, 20, 20, 20, 20, 20, 20, 20, 20, 16, 16, 16, 16, 16, 16, 16, 16, 16, 16, 16, 16, 16, 16, 16, 16, 16, 16, 16, 16, 16, 16, 16, 16, 16, 16, 16, 16, 16, 16, 16, 16, 16, 16, 16, 16, 16, 16, 16, 16, 16, 16, 16, 12, 12, 12, 12, 12, 12, 12, 12, 12, 12, 12, 12, 12, 12, 12, 12, 12, 12, 12, 12, 12, 12, 12, 12, 12, 12, 12, 12, 12, 12, 12, 12, 12, 12, 12, 12, 12, 12, 12, 12, 12, 12, 12, 12, 12, 12, 12, 12, 12, 12, 12, 12, 12, 12, 12, 12, 12, 12, 12, 12, 12, 8, 8, 8, 8, 8, 8, 8, 8, 8, 8, 8, 8, 8, 8, 8, 8, 8, 8, 8, 8, 8, 8, 8, 8, 8, 8, 8, 8, 8, 8, 8, 8, 8, 8, 8, 8, 8, 8, 8, 8, 8, 8, 8, 8, 8, 8, 8, 8, 8, 8, 8, 8, 8, 8, 8, 8, 8, 8, 8, 8, 8, 8, 8, 8, 8, 8, 8, 8, 8, 8, 8, 8, 8, 8, 8, 8, 8, 8, 8, 8, 8, 8, 8, 8, 8, 8, 8, 8, 8, 8, 8, 8, 8, 4, 4, 4, 4, 4, 4, 4, 4, 4, 4, 4, 4, 4, 4, 4, 4, 4, 4, 4, 4, 4, 4, 4, 4, 4, 4, 4, 4, 4, 4, 4, 4, 4, 4, 4, 4, 4, 4, 4, 4, 4, 4, 4, 4, 4, 4, 4, 4, 4, 4, 4, 4, 4, 4, 4, 4, 4, 4, 4, 4, 4, 4, 4, 4, 4, 4, 4, 4, 4, 4, 4, 4, 4, 4, 4, 4, 4, 4, 4, 4, 4, 4, 4, 4, 4, 4, 4, 4, 4, 4, 4, 4, 4, 4, 4, 4, 4, 4, 4, 4, 4, 4, 4, 4, 4, 4, 4, 4, 4, 4, 4, 4, 4, 4, 4, 4, 4, 4, 4, 4, 4, 4, 4, 4, 4, 4, 4, 4, 4, 4, 4, 4, 4, 4, 4, 4, 4, 4, 4, 4, 4, 4, 4, 4, 4, 4, 4, 4, 4, 4, 4, 4, 4, 4, 4, 4, 4, 4, 4, 4, 4, 4, 4, 4, 4, 4, 4, 4, 4, 4, 4, 4, 4, 4, 4, 4, 4, 4, 4, 4, 4, 4, 4, 4, 4, 4, 4, 4, 4, 4, 4, 4, 4, 4, 4, 4, 4, 4, 4, 4, 4, 4, 4, 4, 4, 4, 4, 4, 4], \"yaxis\": \"y\"}],                        {\"barmode\": \"relative\", \"legend\": {\"title\": {\"text\": \"variable\"}, \"tracegroupgap\": 0}, \"margin\": {\"t\": 60}, \"template\": {\"data\": {\"bar\": [{\"error_x\": {\"color\": \"#2a3f5f\"}, \"error_y\": {\"color\": \"#2a3f5f\"}, \"marker\": {\"line\": {\"color\": \"#E5ECF6\", \"width\": 0.5}}, \"type\": \"bar\"}], \"barpolar\": [{\"marker\": {\"line\": {\"color\": \"#E5ECF6\", \"width\": 0.5}}, \"type\": \"barpolar\"}], \"carpet\": [{\"aaxis\": {\"endlinecolor\": \"#2a3f5f\", \"gridcolor\": \"white\", \"linecolor\": \"white\", \"minorgridcolor\": \"white\", \"startlinecolor\": \"#2a3f5f\"}, \"baxis\": {\"endlinecolor\": \"#2a3f5f\", \"gridcolor\": \"white\", \"linecolor\": \"white\", \"minorgridcolor\": \"white\", \"startlinecolor\": \"#2a3f5f\"}, \"type\": \"carpet\"}], \"choropleth\": [{\"colorbar\": {\"outlinewidth\": 0, \"ticks\": \"\"}, \"type\": \"choropleth\"}], \"contour\": [{\"colorbar\": {\"outlinewidth\": 0, \"ticks\": \"\"}, \"colorscale\": [[0.0, \"#0d0887\"], [0.1111111111111111, \"#46039f\"], [0.2222222222222222, \"#7201a8\"], [0.3333333333333333, \"#9c179e\"], [0.4444444444444444, \"#bd3786\"], [0.5555555555555556, \"#d8576b\"], [0.6666666666666666, \"#ed7953\"], [0.7777777777777778, \"#fb9f3a\"], [0.8888888888888888, \"#fdca26\"], [1.0, \"#f0f921\"]], \"type\": \"contour\"}], \"contourcarpet\": [{\"colorbar\": {\"outlinewidth\": 0, \"ticks\": \"\"}, \"type\": \"contourcarpet\"}], \"heatmap\": [{\"colorbar\": {\"outlinewidth\": 0, \"ticks\": \"\"}, \"colorscale\": [[0.0, \"#0d0887\"], [0.1111111111111111, \"#46039f\"], [0.2222222222222222, \"#7201a8\"], [0.3333333333333333, \"#9c179e\"], [0.4444444444444444, \"#bd3786\"], [0.5555555555555556, \"#d8576b\"], [0.6666666666666666, \"#ed7953\"], [0.7777777777777778, \"#fb9f3a\"], [0.8888888888888888, \"#fdca26\"], [1.0, \"#f0f921\"]], \"type\": \"heatmap\"}], \"heatmapgl\": [{\"colorbar\": {\"outlinewidth\": 0, \"ticks\": \"\"}, \"colorscale\": [[0.0, \"#0d0887\"], [0.1111111111111111, \"#46039f\"], [0.2222222222222222, \"#7201a8\"], [0.3333333333333333, \"#9c179e\"], [0.4444444444444444, \"#bd3786\"], [0.5555555555555556, \"#d8576b\"], [0.6666666666666666, \"#ed7953\"], [0.7777777777777778, \"#fb9f3a\"], [0.8888888888888888, \"#fdca26\"], [1.0, \"#f0f921\"]], \"type\": \"heatmapgl\"}], \"histogram\": [{\"marker\": {\"colorbar\": {\"outlinewidth\": 0, \"ticks\": \"\"}}, \"type\": \"histogram\"}], \"histogram2d\": [{\"colorbar\": {\"outlinewidth\": 0, \"ticks\": \"\"}, \"colorscale\": [[0.0, \"#0d0887\"], [0.1111111111111111, \"#46039f\"], [0.2222222222222222, \"#7201a8\"], [0.3333333333333333, \"#9c179e\"], [0.4444444444444444, \"#bd3786\"], [0.5555555555555556, \"#d8576b\"], [0.6666666666666666, \"#ed7953\"], [0.7777777777777778, \"#fb9f3a\"], [0.8888888888888888, \"#fdca26\"], [1.0, \"#f0f921\"]], \"type\": \"histogram2d\"}], \"histogram2dcontour\": [{\"colorbar\": {\"outlinewidth\": 0, \"ticks\": \"\"}, \"colorscale\": [[0.0, \"#0d0887\"], [0.1111111111111111, \"#46039f\"], [0.2222222222222222, \"#7201a8\"], [0.3333333333333333, \"#9c179e\"], [0.4444444444444444, \"#bd3786\"], [0.5555555555555556, \"#d8576b\"], [0.6666666666666666, \"#ed7953\"], [0.7777777777777778, \"#fb9f3a\"], [0.8888888888888888, \"#fdca26\"], [1.0, \"#f0f921\"]], \"type\": \"histogram2dcontour\"}], \"mesh3d\": [{\"colorbar\": {\"outlinewidth\": 0, \"ticks\": \"\"}, \"type\": \"mesh3d\"}], \"parcoords\": [{\"line\": {\"colorbar\": {\"outlinewidth\": 0, \"ticks\": \"\"}}, \"type\": \"parcoords\"}], \"pie\": [{\"automargin\": true, \"type\": \"pie\"}], \"scatter\": [{\"marker\": {\"colorbar\": {\"outlinewidth\": 0, \"ticks\": \"\"}}, \"type\": \"scatter\"}], \"scatter3d\": [{\"line\": {\"colorbar\": {\"outlinewidth\": 0, \"ticks\": \"\"}}, \"marker\": {\"colorbar\": {\"outlinewidth\": 0, \"ticks\": \"\"}}, \"type\": \"scatter3d\"}], \"scattercarpet\": [{\"marker\": {\"colorbar\": {\"outlinewidth\": 0, \"ticks\": \"\"}}, \"type\": \"scattercarpet\"}], \"scattergeo\": [{\"marker\": {\"colorbar\": {\"outlinewidth\": 0, \"ticks\": \"\"}}, \"type\": \"scattergeo\"}], \"scattergl\": [{\"marker\": {\"colorbar\": {\"outlinewidth\": 0, \"ticks\": \"\"}}, \"type\": \"scattergl\"}], \"scattermapbox\": [{\"marker\": {\"colorbar\": {\"outlinewidth\": 0, \"ticks\": \"\"}}, \"type\": \"scattermapbox\"}], \"scatterpolar\": [{\"marker\": {\"colorbar\": {\"outlinewidth\": 0, \"ticks\": \"\"}}, \"type\": \"scatterpolar\"}], \"scatterpolargl\": [{\"marker\": {\"colorbar\": {\"outlinewidth\": 0, \"ticks\": \"\"}}, \"type\": \"scatterpolargl\"}], \"scatterternary\": [{\"marker\": {\"colorbar\": {\"outlinewidth\": 0, \"ticks\": \"\"}}, \"type\": \"scatterternary\"}], \"surface\": [{\"colorbar\": {\"outlinewidth\": 0, \"ticks\": \"\"}, \"colorscale\": [[0.0, \"#0d0887\"], [0.1111111111111111, \"#46039f\"], [0.2222222222222222, \"#7201a8\"], [0.3333333333333333, \"#9c179e\"], [0.4444444444444444, \"#bd3786\"], [0.5555555555555556, \"#d8576b\"], [0.6666666666666666, \"#ed7953\"], [0.7777777777777778, \"#fb9f3a\"], [0.8888888888888888, \"#fdca26\"], [1.0, \"#f0f921\"]], \"type\": \"surface\"}], \"table\": [{\"cells\": {\"fill\": {\"color\": \"#EBF0F8\"}, \"line\": {\"color\": \"white\"}}, \"header\": {\"fill\": {\"color\": \"#C8D4E3\"}, \"line\": {\"color\": \"white\"}}, \"type\": \"table\"}]}, \"layout\": {\"annotationdefaults\": {\"arrowcolor\": \"#2a3f5f\", \"arrowhead\": 0, \"arrowwidth\": 1}, \"autotypenumbers\": \"strict\", \"coloraxis\": {\"colorbar\": {\"outlinewidth\": 0, \"ticks\": \"\"}}, \"colorscale\": {\"diverging\": [[0, \"#8e0152\"], [0.1, \"#c51b7d\"], [0.2, \"#de77ae\"], [0.3, \"#f1b6da\"], [0.4, \"#fde0ef\"], [0.5, \"#f7f7f7\"], [0.6, \"#e6f5d0\"], [0.7, \"#b8e186\"], [0.8, \"#7fbc41\"], [0.9, \"#4d9221\"], [1, \"#276419\"]], \"sequential\": [[0.0, \"#0d0887\"], [0.1111111111111111, \"#46039f\"], [0.2222222222222222, \"#7201a8\"], [0.3333333333333333, \"#9c179e\"], [0.4444444444444444, \"#bd3786\"], [0.5555555555555556, \"#d8576b\"], [0.6666666666666666, \"#ed7953\"], [0.7777777777777778, \"#fb9f3a\"], [0.8888888888888888, \"#fdca26\"], [1.0, \"#f0f921\"]], \"sequentialminus\": [[0.0, \"#0d0887\"], [0.1111111111111111, \"#46039f\"], [0.2222222222222222, \"#7201a8\"], [0.3333333333333333, \"#9c179e\"], [0.4444444444444444, \"#bd3786\"], [0.5555555555555556, \"#d8576b\"], [0.6666666666666666, \"#ed7953\"], [0.7777777777777778, \"#fb9f3a\"], [0.8888888888888888, \"#fdca26\"], [1.0, \"#f0f921\"]]}, \"colorway\": [\"#636efa\", \"#EF553B\", \"#00cc96\", \"#ab63fa\", \"#FFA15A\", \"#19d3f3\", \"#FF6692\", \"#B6E880\", \"#FF97FF\", \"#FECB52\"], \"font\": {\"color\": \"#2a3f5f\"}, \"geo\": {\"bgcolor\": \"white\", \"lakecolor\": \"white\", \"landcolor\": \"#E5ECF6\", \"showlakes\": true, \"showland\": true, \"subunitcolor\": \"white\"}, \"hoverlabel\": {\"align\": \"left\"}, \"hovermode\": \"closest\", \"mapbox\": {\"style\": \"light\"}, \"paper_bgcolor\": \"white\", \"plot_bgcolor\": \"#E5ECF6\", \"polar\": {\"angularaxis\": {\"gridcolor\": \"white\", \"linecolor\": \"white\", \"ticks\": \"\"}, \"bgcolor\": \"#E5ECF6\", \"radialaxis\": {\"gridcolor\": \"white\", \"linecolor\": \"white\", \"ticks\": \"\"}}, \"scene\": {\"xaxis\": {\"backgroundcolor\": \"#E5ECF6\", \"gridcolor\": \"white\", \"gridwidth\": 2, \"linecolor\": \"white\", \"showbackground\": true, \"ticks\": \"\", \"zerolinecolor\": \"white\"}, \"yaxis\": {\"backgroundcolor\": \"#E5ECF6\", \"gridcolor\": \"white\", \"gridwidth\": 2, \"linecolor\": \"white\", \"showbackground\": true, \"ticks\": \"\", \"zerolinecolor\": \"white\"}, \"zaxis\": {\"backgroundcolor\": \"#E5ECF6\", \"gridcolor\": \"white\", \"gridwidth\": 2, \"linecolor\": \"white\", \"showbackground\": true, \"ticks\": \"\", \"zerolinecolor\": \"white\"}}, \"shapedefaults\": {\"line\": {\"color\": \"#2a3f5f\"}}, \"ternary\": {\"aaxis\": {\"gridcolor\": \"white\", \"linecolor\": \"white\", \"ticks\": \"\"}, \"baxis\": {\"gridcolor\": \"white\", \"linecolor\": \"white\", \"ticks\": \"\"}, \"bgcolor\": \"#E5ECF6\", \"caxis\": {\"gridcolor\": \"white\", \"linecolor\": \"white\", \"ticks\": \"\"}}, \"title\": {\"x\": 0.05}, \"xaxis\": {\"automargin\": true, \"gridcolor\": \"white\", \"linecolor\": \"white\", \"ticks\": \"\", \"title\": {\"standoff\": 15}, \"zerolinecolor\": \"white\", \"zerolinewidth\": 2}, \"yaxis\": {\"automargin\": true, \"gridcolor\": \"white\", \"linecolor\": \"white\", \"ticks\": \"\", \"title\": {\"standoff\": 15}, \"zerolinecolor\": \"white\", \"zerolinewidth\": 2}}}, \"xaxis\": {\"anchor\": \"y\", \"domain\": [0.0, 1.0], \"title\": {\"text\": \"index\"}}, \"yaxis\": {\"anchor\": \"x\", \"domain\": [0.0, 1.0], \"title\": {\"text\": \"value\"}}},                        {\"responsive\": true}                    ).then(function(){\n",
       "                            \n",
       "var gd = document.getElementById('5250870f-24e9-40dd-bb1e-7a55d8cc238f');\n",
       "var x = new MutationObserver(function (mutations, observer) {{\n",
       "        var display = window.getComputedStyle(gd).display;\n",
       "        if (!display || display === 'none') {{\n",
       "            console.log([gd, 'removed!']);\n",
       "            Plotly.purge(gd);\n",
       "            observer.disconnect();\n",
       "        }}\n",
       "}});\n",
       "\n",
       "// Listen for the removal of the full notebook cells\n",
       "var notebookContainer = gd.closest('#notebook-container');\n",
       "if (notebookContainer) {{\n",
       "    x.observe(notebookContainer, {childList: true});\n",
       "}}\n",
       "\n",
       "// Listen for the clearing of the current output cell\n",
       "var outputEl = gd.closest('.output');\n",
       "if (outputEl) {{\n",
       "    x.observe(outputEl, {childList: true});\n",
       "}}\n",
       "\n",
       "                        })                };                });            </script>        </div>"
      ]
     },
     "metadata": {},
     "output_type": "display_data"
    }
   ],
   "source": [
    "px.bar(filtro)"
   ]
  },
  {
   "cell_type": "code",
   "execution_count": 117,
   "metadata": {},
   "outputs": [
    {
     "data": {
      "application/vnd.plotly.v1+json": {
       "config": {
        "plotlyServerURL": "https://plot.ly"
       },
       "data": [
        {
         "name": "Casos com claim maior que 0",
         "type": "bar",
         "x": [
          "abcepdrvvynjsufa",
          "aewtdnpoiopumymt",
          "ammbrasbxojlitmt",
          "aparvvfowrjncdhp",
          "asmpttrlkodaejic",
          "biqzvbfzjivqmrro",
          "bsiyfrkwdyptmwji",
          "bvuzvpriwqlnbjxt",
          "clmcokjtplrbzvuh",
          "dllcylnkzeegtsgr",
          "dlrodwgixwmoquny",
          "dpcnodgqfivkhxvn",
          "dtpbahjtnmyuxqno",
          "dweqmfoluivgiayj",
          "dyzvyrmcdyybbddd",
          "ehapkksqqcbofeid",
          "eokuiduvnrtzavmr",
          "ettwalwfkzvwdasa",
          "fadjogsnmecatcfb",
          "fuwhdjmdexrstmmo",
          "gfhjqtkgvomiygvx",
          "gjbalugsikirqoam",
          "guiimarisyyjqnfg",
          "gujwvdfcmmqcwxfi",
          "hkazsxqvbtmawovu",
          "hselphnqlvecmmyx",
          "htedybhazfjiueyj",
          "iulvirmzdntweaee",
          "iwhqpdfuhrsxyqxe",
          "jgkpiuuctpywtrlh",
          "jhdjdpthkztnjvmb",
          "jiyzqszfywhdfsil",
          "jjjvjaxpzvlbryfd",
          "jjycmklnkdivnypu",
          "johsjccpkithubii",
          "jrwdpzrmxqlzzepk",
          "kbgblyclstrmicux",
          "kpciudedjlrqsfte",
          "kvcddisqpkysmvvo",
          "kzwthrslljkmbqur",
          "lqkdgbosdzrtitgx",
          "lqqciehjjdtelpwa",
          "ngombkqqomblyxwv",
          "nhoebceeiacnmvym",
          "nhwgapjtnadqqaul",
          "nilvygybpajtnxnr",
          "nkueyjctyasmotny",
          "nsymgnybdjqxudvj",
          "onzjhhtppsfaiacz",
          "pjbnwqhnqczouirt",
          "ponwkmeaxagundzq",
          "prtnwsypyfnshpqx",
          "pyykjiriqrhjduly",
          "quslbttvcitxzeiy",
          "qxtqrwxfvuenelml",
          "rabwrzdzwjjdhbmx",
          "rcxmbwwsxkkkyyjs",
          "rrlvhbnzrdtphqnl",
          "rthsjeyjgdlmkygk",
          "rwrevaiebpmviwqz",
          "saempmkfulqhwfqk",
          "sguprofjftozaujc",
          "snsnxmucuccvqfvz",
          "svmjzfcsvgxiwwjt",
          "swjkmyqytzxjwgag",
          "synvsxhrexuyxpre",
          "tdgkjlphosocwbgu",
          "toqaaqswchaiyhsk",
          "uahuglbjdtacoqjt",
          "ubttjiaeeuwzcclq",
          "uhkhghxuorryhlis",
          "uwwrbkmjbjyxutfq",
          "uzmldekmvczimsrj",
          "wehkqzwvbeonajcu",
          "wpsyqubfrhdspxkx",
          "wxzfbqtarfurwcfw",
          "xaklvfxsplowrglp",
          "xjaddkudsebowzen",
          "xjnjmxyqemqqiejp",
          "xkzehzohmfrsmolg",
          "xpxsjmglcvcsxwdy",
          "xzdsapxqliboezbc",
          "yfalryaixpzfoihd",
          "yvlkrzgjhwrlyihc",
          "yzxgnwgpnrdprtbh",
          "zagpnfpbwgeyeufr",
          "zkreetxvsoihwkgo",
          "zoypfizhpbtpjwpv",
          "zqruwnlzuefcpqjm",
          "zspzyfdefowgwddf"
         ],
         "y": [
          42,
          58,
          101,
          285,
          77,
          674,
          157,
          50,
          40,
          75,
          77,
          59,
          163,
          133,
          126,
          77,
          44,
          252,
          136,
          44,
          185,
          116,
          147,
          92,
          165,
          725,
          53,
          249,
          441,
          45,
          168,
          52,
          169,
          599,
          920,
          168,
          227,
          134,
          312,
          321,
          756,
          43,
          123,
          97,
          48,
          300,
          61,
          212,
          71,
          61,
          394,
          152,
          65,
          271,
          68,
          55,
          267,
          115,
          1612,
          52,
          68,
          49,
          40,
          607,
          966,
          92,
          697,
          41,
          40,
          262,
          53,
          43,
          231,
          75,
          102,
          53,
          274,
          374,
          46,
          356,
          87,
          153,
          282,
          166,
          63,
          46,
          110,
          160,
          223,
          162
         ]
        },
        {
         "name": "Média de claim",
         "type": "bar",
         "x": [
          "abcepdrvvynjsufa",
          "aewtdnpoiopumymt",
          "ammbrasbxojlitmt",
          "aparvvfowrjncdhp",
          "asmpttrlkodaejic",
          "biqzvbfzjivqmrro",
          "bsiyfrkwdyptmwji",
          "bvuzvpriwqlnbjxt",
          "clmcokjtplrbzvuh",
          "dllcylnkzeegtsgr",
          "dlrodwgixwmoquny",
          "dpcnodgqfivkhxvn",
          "dtpbahjtnmyuxqno",
          "dweqmfoluivgiayj",
          "dyzvyrmcdyybbddd",
          "ehapkksqqcbofeid",
          "eokuiduvnrtzavmr",
          "ettwalwfkzvwdasa",
          "fadjogsnmecatcfb",
          "fuwhdjmdexrstmmo",
          "gfhjqtkgvomiygvx",
          "gjbalugsikirqoam",
          "guiimarisyyjqnfg",
          "gujwvdfcmmqcwxfi",
          "hkazsxqvbtmawovu",
          "hselphnqlvecmmyx",
          "htedybhazfjiueyj",
          "iulvirmzdntweaee",
          "iwhqpdfuhrsxyqxe",
          "jgkpiuuctpywtrlh",
          "jhdjdpthkztnjvmb",
          "jiyzqszfywhdfsil",
          "jjjvjaxpzvlbryfd",
          "jjycmklnkdivnypu",
          "johsjccpkithubii",
          "jrwdpzrmxqlzzepk",
          "kbgblyclstrmicux",
          "kpciudedjlrqsfte",
          "kvcddisqpkysmvvo",
          "kzwthrslljkmbqur",
          "lqkdgbosdzrtitgx",
          "lqqciehjjdtelpwa",
          "ngombkqqomblyxwv",
          "nhoebceeiacnmvym",
          "nhwgapjtnadqqaul",
          "nilvygybpajtnxnr",
          "nkueyjctyasmotny",
          "nsymgnybdjqxudvj",
          "onzjhhtppsfaiacz",
          "pjbnwqhnqczouirt",
          "ponwkmeaxagundzq",
          "prtnwsypyfnshpqx",
          "pyykjiriqrhjduly",
          "quslbttvcitxzeiy",
          "qxtqrwxfvuenelml",
          "rabwrzdzwjjdhbmx",
          "rcxmbwwsxkkkyyjs",
          "rrlvhbnzrdtphqnl",
          "rthsjeyjgdlmkygk",
          "rwrevaiebpmviwqz",
          "saempmkfulqhwfqk",
          "sguprofjftozaujc",
          "snsnxmucuccvqfvz",
          "svmjzfcsvgxiwwjt",
          "swjkmyqytzxjwgag",
          "synvsxhrexuyxpre",
          "tdgkjlphosocwbgu",
          "toqaaqswchaiyhsk",
          "uahuglbjdtacoqjt",
          "ubttjiaeeuwzcclq",
          "uhkhghxuorryhlis",
          "uwwrbkmjbjyxutfq",
          "uzmldekmvczimsrj",
          "wehkqzwvbeonajcu",
          "wpsyqubfrhdspxkx",
          "wxzfbqtarfurwcfw",
          "xaklvfxsplowrglp",
          "xjaddkudsebowzen",
          "xjnjmxyqemqqiejp",
          "xkzehzohmfrsmolg",
          "xpxsjmglcvcsxwdy",
          "xzdsapxqliboezbc",
          "yfalryaixpzfoihd",
          "yvlkrzgjhwrlyihc",
          "yzxgnwgpnrdprtbh",
          "zagpnfpbwgeyeufr",
          "zkreetxvsoihwkgo",
          "zoypfizhpbtpjwpv",
          "zqruwnlzuefcpqjm",
          "zspzyfdefowgwddf"
         ],
         "y": [
          945.024523809524,
          1218.3468965517238,
          987.0544554455442,
          801.990842105263,
          1167.6950649350645,
          1375.2355489614258,
          1268.56331210191,
          1678.0904,
          1003.5109999999999,
          799.5551999999998,
          1366.4528571428573,
          780.7562711864406,
          898.5262576687117,
          2211.685263157895,
          1189.3018253968246,
          955.2636363636366,
          1066.3643181818184,
          864.6423412698416,
          1252.1912499999999,
          1131.501136363636,
          1047.6200540540547,
          989.6262068965514,
          1092.855646258504,
          1211.3302173913048,
          1135.7524242424238,
          1040.5178620689667,
          1157.3398113207545,
          1019.9948594377508,
          748.5496371882076,
          725.3026666666668,
          1196.6411904761906,
          871.2334615384615,
          1118.3572189349113,
          1227.1839232053424,
          1252.8946739130436,
          1426.2679761904762,
          1370.2022907488983,
          1007.8448507462688,
          1088.0083012820512,
          1015.7228037383177,
          1056.6053703703699,
          1214.22,
          1015.7652032520323,
          1464.3675257731963,
          715.6812500000001,
          1185.6484333333322,
          1103.8693442622953,
          1148.087452830189,
          1359.8345070422536,
          638.0422950819673,
          1083.0543401015225,
          685.2629605263153,
          976.7320000000001,
          1252.2994464944647,
          1598.9199999999994,
          1027.5072727272727,
          1188.6175280898883,
          1093.2826956521737,
          1055.2499565756846,
          867.1073076923076,
          1273.2310294117642,
          1635.895102040817,
          1255.212,
          1073.4952883031299,
          1115.5545341614918,
          1178.8594565217388,
          1164.5485222381644,
          1093.900487804878,
          1005.1694999999997,
          1065.478625954198,
          1296.7658490566039,
          900.6534883720932,
          1044.4967965367964,
          1037.156533333333,
          1227.3339215686276,
          1210.6245283018868,
          963.8595620437957,
          990.2293582887703,
          1072.357608695652,
          951.3629213483148,
          1126.0633333333328,
          1042.356862745098,
          1349.5863475177296,
          1096.159397590361,
          842.1392063492065,
          1327.0160869565218,
          1284.015454545455,
          791.6485625000001,
          751.6010762331838,
          1962.9324074074082
         ]
        }
       ],
       "layout": {
        "template": {
         "data": {
          "bar": [
           {
            "error_x": {
             "color": "#2a3f5f"
            },
            "error_y": {
             "color": "#2a3f5f"
            },
            "marker": {
             "line": {
              "color": "#E5ECF6",
              "width": 0.5
             }
            },
            "type": "bar"
           }
          ],
          "barpolar": [
           {
            "marker": {
             "line": {
              "color": "#E5ECF6",
              "width": 0.5
             }
            },
            "type": "barpolar"
           }
          ],
          "carpet": [
           {
            "aaxis": {
             "endlinecolor": "#2a3f5f",
             "gridcolor": "white",
             "linecolor": "white",
             "minorgridcolor": "white",
             "startlinecolor": "#2a3f5f"
            },
            "baxis": {
             "endlinecolor": "#2a3f5f",
             "gridcolor": "white",
             "linecolor": "white",
             "minorgridcolor": "white",
             "startlinecolor": "#2a3f5f"
            },
            "type": "carpet"
           }
          ],
          "choropleth": [
           {
            "colorbar": {
             "outlinewidth": 0,
             "ticks": ""
            },
            "type": "choropleth"
           }
          ],
          "contour": [
           {
            "colorbar": {
             "outlinewidth": 0,
             "ticks": ""
            },
            "colorscale": [
             [
              0,
              "#0d0887"
             ],
             [
              0.1111111111111111,
              "#46039f"
             ],
             [
              0.2222222222222222,
              "#7201a8"
             ],
             [
              0.3333333333333333,
              "#9c179e"
             ],
             [
              0.4444444444444444,
              "#bd3786"
             ],
             [
              0.5555555555555556,
              "#d8576b"
             ],
             [
              0.6666666666666666,
              "#ed7953"
             ],
             [
              0.7777777777777778,
              "#fb9f3a"
             ],
             [
              0.8888888888888888,
              "#fdca26"
             ],
             [
              1,
              "#f0f921"
             ]
            ],
            "type": "contour"
           }
          ],
          "contourcarpet": [
           {
            "colorbar": {
             "outlinewidth": 0,
             "ticks": ""
            },
            "type": "contourcarpet"
           }
          ],
          "heatmap": [
           {
            "colorbar": {
             "outlinewidth": 0,
             "ticks": ""
            },
            "colorscale": [
             [
              0,
              "#0d0887"
             ],
             [
              0.1111111111111111,
              "#46039f"
             ],
             [
              0.2222222222222222,
              "#7201a8"
             ],
             [
              0.3333333333333333,
              "#9c179e"
             ],
             [
              0.4444444444444444,
              "#bd3786"
             ],
             [
              0.5555555555555556,
              "#d8576b"
             ],
             [
              0.6666666666666666,
              "#ed7953"
             ],
             [
              0.7777777777777778,
              "#fb9f3a"
             ],
             [
              0.8888888888888888,
              "#fdca26"
             ],
             [
              1,
              "#f0f921"
             ]
            ],
            "type": "heatmap"
           }
          ],
          "heatmapgl": [
           {
            "colorbar": {
             "outlinewidth": 0,
             "ticks": ""
            },
            "colorscale": [
             [
              0,
              "#0d0887"
             ],
             [
              0.1111111111111111,
              "#46039f"
             ],
             [
              0.2222222222222222,
              "#7201a8"
             ],
             [
              0.3333333333333333,
              "#9c179e"
             ],
             [
              0.4444444444444444,
              "#bd3786"
             ],
             [
              0.5555555555555556,
              "#d8576b"
             ],
             [
              0.6666666666666666,
              "#ed7953"
             ],
             [
              0.7777777777777778,
              "#fb9f3a"
             ],
             [
              0.8888888888888888,
              "#fdca26"
             ],
             [
              1,
              "#f0f921"
             ]
            ],
            "type": "heatmapgl"
           }
          ],
          "histogram": [
           {
            "marker": {
             "colorbar": {
              "outlinewidth": 0,
              "ticks": ""
             }
            },
            "type": "histogram"
           }
          ],
          "histogram2d": [
           {
            "colorbar": {
             "outlinewidth": 0,
             "ticks": ""
            },
            "colorscale": [
             [
              0,
              "#0d0887"
             ],
             [
              0.1111111111111111,
              "#46039f"
             ],
             [
              0.2222222222222222,
              "#7201a8"
             ],
             [
              0.3333333333333333,
              "#9c179e"
             ],
             [
              0.4444444444444444,
              "#bd3786"
             ],
             [
              0.5555555555555556,
              "#d8576b"
             ],
             [
              0.6666666666666666,
              "#ed7953"
             ],
             [
              0.7777777777777778,
              "#fb9f3a"
             ],
             [
              0.8888888888888888,
              "#fdca26"
             ],
             [
              1,
              "#f0f921"
             ]
            ],
            "type": "histogram2d"
           }
          ],
          "histogram2dcontour": [
           {
            "colorbar": {
             "outlinewidth": 0,
             "ticks": ""
            },
            "colorscale": [
             [
              0,
              "#0d0887"
             ],
             [
              0.1111111111111111,
              "#46039f"
             ],
             [
              0.2222222222222222,
              "#7201a8"
             ],
             [
              0.3333333333333333,
              "#9c179e"
             ],
             [
              0.4444444444444444,
              "#bd3786"
             ],
             [
              0.5555555555555556,
              "#d8576b"
             ],
             [
              0.6666666666666666,
              "#ed7953"
             ],
             [
              0.7777777777777778,
              "#fb9f3a"
             ],
             [
              0.8888888888888888,
              "#fdca26"
             ],
             [
              1,
              "#f0f921"
             ]
            ],
            "type": "histogram2dcontour"
           }
          ],
          "mesh3d": [
           {
            "colorbar": {
             "outlinewidth": 0,
             "ticks": ""
            },
            "type": "mesh3d"
           }
          ],
          "parcoords": [
           {
            "line": {
             "colorbar": {
              "outlinewidth": 0,
              "ticks": ""
             }
            },
            "type": "parcoords"
           }
          ],
          "pie": [
           {
            "automargin": true,
            "type": "pie"
           }
          ],
          "scatter": [
           {
            "marker": {
             "colorbar": {
              "outlinewidth": 0,
              "ticks": ""
             }
            },
            "type": "scatter"
           }
          ],
          "scatter3d": [
           {
            "line": {
             "colorbar": {
              "outlinewidth": 0,
              "ticks": ""
             }
            },
            "marker": {
             "colorbar": {
              "outlinewidth": 0,
              "ticks": ""
             }
            },
            "type": "scatter3d"
           }
          ],
          "scattercarpet": [
           {
            "marker": {
             "colorbar": {
              "outlinewidth": 0,
              "ticks": ""
             }
            },
            "type": "scattercarpet"
           }
          ],
          "scattergeo": [
           {
            "marker": {
             "colorbar": {
              "outlinewidth": 0,
              "ticks": ""
             }
            },
            "type": "scattergeo"
           }
          ],
          "scattergl": [
           {
            "marker": {
             "colorbar": {
              "outlinewidth": 0,
              "ticks": ""
             }
            },
            "type": "scattergl"
           }
          ],
          "scattermapbox": [
           {
            "marker": {
             "colorbar": {
              "outlinewidth": 0,
              "ticks": ""
             }
            },
            "type": "scattermapbox"
           }
          ],
          "scatterpolar": [
           {
            "marker": {
             "colorbar": {
              "outlinewidth": 0,
              "ticks": ""
             }
            },
            "type": "scatterpolar"
           }
          ],
          "scatterpolargl": [
           {
            "marker": {
             "colorbar": {
              "outlinewidth": 0,
              "ticks": ""
             }
            },
            "type": "scatterpolargl"
           }
          ],
          "scatterternary": [
           {
            "marker": {
             "colorbar": {
              "outlinewidth": 0,
              "ticks": ""
             }
            },
            "type": "scatterternary"
           }
          ],
          "surface": [
           {
            "colorbar": {
             "outlinewidth": 0,
             "ticks": ""
            },
            "colorscale": [
             [
              0,
              "#0d0887"
             ],
             [
              0.1111111111111111,
              "#46039f"
             ],
             [
              0.2222222222222222,
              "#7201a8"
             ],
             [
              0.3333333333333333,
              "#9c179e"
             ],
             [
              0.4444444444444444,
              "#bd3786"
             ],
             [
              0.5555555555555556,
              "#d8576b"
             ],
             [
              0.6666666666666666,
              "#ed7953"
             ],
             [
              0.7777777777777778,
              "#fb9f3a"
             ],
             [
              0.8888888888888888,
              "#fdca26"
             ],
             [
              1,
              "#f0f921"
             ]
            ],
            "type": "surface"
           }
          ],
          "table": [
           {
            "cells": {
             "fill": {
              "color": "#EBF0F8"
             },
             "line": {
              "color": "white"
             }
            },
            "header": {
             "fill": {
              "color": "#C8D4E3"
             },
             "line": {
              "color": "white"
             }
            },
            "type": "table"
           }
          ]
         },
         "layout": {
          "annotationdefaults": {
           "arrowcolor": "#2a3f5f",
           "arrowhead": 0,
           "arrowwidth": 1
          },
          "autotypenumbers": "strict",
          "coloraxis": {
           "colorbar": {
            "outlinewidth": 0,
            "ticks": ""
           }
          },
          "colorscale": {
           "diverging": [
            [
             0,
             "#8e0152"
            ],
            [
             0.1,
             "#c51b7d"
            ],
            [
             0.2,
             "#de77ae"
            ],
            [
             0.3,
             "#f1b6da"
            ],
            [
             0.4,
             "#fde0ef"
            ],
            [
             0.5,
             "#f7f7f7"
            ],
            [
             0.6,
             "#e6f5d0"
            ],
            [
             0.7,
             "#b8e186"
            ],
            [
             0.8,
             "#7fbc41"
            ],
            [
             0.9,
             "#4d9221"
            ],
            [
             1,
             "#276419"
            ]
           ],
           "sequential": [
            [
             0,
             "#0d0887"
            ],
            [
             0.1111111111111111,
             "#46039f"
            ],
            [
             0.2222222222222222,
             "#7201a8"
            ],
            [
             0.3333333333333333,
             "#9c179e"
            ],
            [
             0.4444444444444444,
             "#bd3786"
            ],
            [
             0.5555555555555556,
             "#d8576b"
            ],
            [
             0.6666666666666666,
             "#ed7953"
            ],
            [
             0.7777777777777778,
             "#fb9f3a"
            ],
            [
             0.8888888888888888,
             "#fdca26"
            ],
            [
             1,
             "#f0f921"
            ]
           ],
           "sequentialminus": [
            [
             0,
             "#0d0887"
            ],
            [
             0.1111111111111111,
             "#46039f"
            ],
            [
             0.2222222222222222,
             "#7201a8"
            ],
            [
             0.3333333333333333,
             "#9c179e"
            ],
            [
             0.4444444444444444,
             "#bd3786"
            ],
            [
             0.5555555555555556,
             "#d8576b"
            ],
            [
             0.6666666666666666,
             "#ed7953"
            ],
            [
             0.7777777777777778,
             "#fb9f3a"
            ],
            [
             0.8888888888888888,
             "#fdca26"
            ],
            [
             1,
             "#f0f921"
            ]
           ]
          },
          "colorway": [
           "#636efa",
           "#EF553B",
           "#00cc96",
           "#ab63fa",
           "#FFA15A",
           "#19d3f3",
           "#FF6692",
           "#B6E880",
           "#FF97FF",
           "#FECB52"
          ],
          "font": {
           "color": "#2a3f5f"
          },
          "geo": {
           "bgcolor": "white",
           "lakecolor": "white",
           "landcolor": "#E5ECF6",
           "showlakes": true,
           "showland": true,
           "subunitcolor": "white"
          },
          "hoverlabel": {
           "align": "left"
          },
          "hovermode": "closest",
          "mapbox": {
           "style": "light"
          },
          "paper_bgcolor": "white",
          "plot_bgcolor": "#E5ECF6",
          "polar": {
           "angularaxis": {
            "gridcolor": "white",
            "linecolor": "white",
            "ticks": ""
           },
           "bgcolor": "#E5ECF6",
           "radialaxis": {
            "gridcolor": "white",
            "linecolor": "white",
            "ticks": ""
           }
          },
          "scene": {
           "xaxis": {
            "backgroundcolor": "#E5ECF6",
            "gridcolor": "white",
            "gridwidth": 2,
            "linecolor": "white",
            "showbackground": true,
            "ticks": "",
            "zerolinecolor": "white"
           },
           "yaxis": {
            "backgroundcolor": "#E5ECF6",
            "gridcolor": "white",
            "gridwidth": 2,
            "linecolor": "white",
            "showbackground": true,
            "ticks": "",
            "zerolinecolor": "white"
           },
           "zaxis": {
            "backgroundcolor": "#E5ECF6",
            "gridcolor": "white",
            "gridwidth": 2,
            "linecolor": "white",
            "showbackground": true,
            "ticks": "",
            "zerolinecolor": "white"
           }
          },
          "shapedefaults": {
           "line": {
            "color": "#2a3f5f"
           }
          },
          "ternary": {
           "aaxis": {
            "gridcolor": "white",
            "linecolor": "white",
            "ticks": ""
           },
           "baxis": {
            "gridcolor": "white",
            "linecolor": "white",
            "ticks": ""
           },
           "bgcolor": "#E5ECF6",
           "caxis": {
            "gridcolor": "white",
            "linecolor": "white",
            "ticks": ""
           }
          },
          "title": {
           "x": 0.05
          },
          "xaxis": {
           "automargin": true,
           "gridcolor": "white",
           "linecolor": "white",
           "ticks": "",
           "title": {
            "standoff": 15
           },
           "zerolinecolor": "white",
           "zerolinewidth": 2
          },
          "yaxis": {
           "automargin": true,
           "gridcolor": "white",
           "linecolor": "white",
           "ticks": "",
           "title": {
            "standoff": 15
           },
           "zerolinecolor": "white",
           "zerolinewidth": 2
          }
         }
        }
       }
      },
      "text/html": [
       "<div>                            <div id=\"d301ef68-9b7d-440d-b5c3-dec327fa9b1a\" class=\"plotly-graph-div\" style=\"height:525px; width:100%;\"></div>            <script type=\"text/javascript\">                require([\"plotly\"], function(Plotly) {                    window.PLOTLYENV=window.PLOTLYENV || {};                                    if (document.getElementById(\"d301ef68-9b7d-440d-b5c3-dec327fa9b1a\")) {                    Plotly.newPlot(                        \"d301ef68-9b7d-440d-b5c3-dec327fa9b1a\",                        [{\"name\": \"Casos com claim maior que 0\", \"type\": \"bar\", \"x\": [\"abcepdrvvynjsufa\", \"aewtdnpoiopumymt\", \"ammbrasbxojlitmt\", \"aparvvfowrjncdhp\", \"asmpttrlkodaejic\", \"biqzvbfzjivqmrro\", \"bsiyfrkwdyptmwji\", \"bvuzvpriwqlnbjxt\", \"clmcokjtplrbzvuh\", \"dllcylnkzeegtsgr\", \"dlrodwgixwmoquny\", \"dpcnodgqfivkhxvn\", \"dtpbahjtnmyuxqno\", \"dweqmfoluivgiayj\", \"dyzvyrmcdyybbddd\", \"ehapkksqqcbofeid\", \"eokuiduvnrtzavmr\", \"ettwalwfkzvwdasa\", \"fadjogsnmecatcfb\", \"fuwhdjmdexrstmmo\", \"gfhjqtkgvomiygvx\", \"gjbalugsikirqoam\", \"guiimarisyyjqnfg\", \"gujwvdfcmmqcwxfi\", \"hkazsxqvbtmawovu\", \"hselphnqlvecmmyx\", \"htedybhazfjiueyj\", \"iulvirmzdntweaee\", \"iwhqpdfuhrsxyqxe\", \"jgkpiuuctpywtrlh\", \"jhdjdpthkztnjvmb\", \"jiyzqszfywhdfsil\", \"jjjvjaxpzvlbryfd\", \"jjycmklnkdivnypu\", \"johsjccpkithubii\", \"jrwdpzrmxqlzzepk\", \"kbgblyclstrmicux\", \"kpciudedjlrqsfte\", \"kvcddisqpkysmvvo\", \"kzwthrslljkmbqur\", \"lqkdgbosdzrtitgx\", \"lqqciehjjdtelpwa\", \"ngombkqqomblyxwv\", \"nhoebceeiacnmvym\", \"nhwgapjtnadqqaul\", \"nilvygybpajtnxnr\", \"nkueyjctyasmotny\", \"nsymgnybdjqxudvj\", \"onzjhhtppsfaiacz\", \"pjbnwqhnqczouirt\", \"ponwkmeaxagundzq\", \"prtnwsypyfnshpqx\", \"pyykjiriqrhjduly\", \"quslbttvcitxzeiy\", \"qxtqrwxfvuenelml\", \"rabwrzdzwjjdhbmx\", \"rcxmbwwsxkkkyyjs\", \"rrlvhbnzrdtphqnl\", \"rthsjeyjgdlmkygk\", \"rwrevaiebpmviwqz\", \"saempmkfulqhwfqk\", \"sguprofjftozaujc\", \"snsnxmucuccvqfvz\", \"svmjzfcsvgxiwwjt\", \"swjkmyqytzxjwgag\", \"synvsxhrexuyxpre\", \"tdgkjlphosocwbgu\", \"toqaaqswchaiyhsk\", \"uahuglbjdtacoqjt\", \"ubttjiaeeuwzcclq\", \"uhkhghxuorryhlis\", \"uwwrbkmjbjyxutfq\", \"uzmldekmvczimsrj\", \"wehkqzwvbeonajcu\", \"wpsyqubfrhdspxkx\", \"wxzfbqtarfurwcfw\", \"xaklvfxsplowrglp\", \"xjaddkudsebowzen\", \"xjnjmxyqemqqiejp\", \"xkzehzohmfrsmolg\", \"xpxsjmglcvcsxwdy\", \"xzdsapxqliboezbc\", \"yfalryaixpzfoihd\", \"yvlkrzgjhwrlyihc\", \"yzxgnwgpnrdprtbh\", \"zagpnfpbwgeyeufr\", \"zkreetxvsoihwkgo\", \"zoypfizhpbtpjwpv\", \"zqruwnlzuefcpqjm\", \"zspzyfdefowgwddf\"], \"y\": [42, 58, 101, 285, 77, 674, 157, 50, 40, 75, 77, 59, 163, 133, 126, 77, 44, 252, 136, 44, 185, 116, 147, 92, 165, 725, 53, 249, 441, 45, 168, 52, 169, 599, 920, 168, 227, 134, 312, 321, 756, 43, 123, 97, 48, 300, 61, 212, 71, 61, 394, 152, 65, 271, 68, 55, 267, 115, 1612, 52, 68, 49, 40, 607, 966, 92, 697, 41, 40, 262, 53, 43, 231, 75, 102, 53, 274, 374, 46, 356, 87, 153, 282, 166, 63, 46, 110, 160, 223, 162]}, {\"name\": \"M\\u00e9dia de claim\", \"type\": \"bar\", \"x\": [\"abcepdrvvynjsufa\", \"aewtdnpoiopumymt\", \"ammbrasbxojlitmt\", \"aparvvfowrjncdhp\", \"asmpttrlkodaejic\", \"biqzvbfzjivqmrro\", \"bsiyfrkwdyptmwji\", \"bvuzvpriwqlnbjxt\", \"clmcokjtplrbzvuh\", \"dllcylnkzeegtsgr\", \"dlrodwgixwmoquny\", \"dpcnodgqfivkhxvn\", \"dtpbahjtnmyuxqno\", \"dweqmfoluivgiayj\", \"dyzvyrmcdyybbddd\", \"ehapkksqqcbofeid\", \"eokuiduvnrtzavmr\", \"ettwalwfkzvwdasa\", \"fadjogsnmecatcfb\", \"fuwhdjmdexrstmmo\", \"gfhjqtkgvomiygvx\", \"gjbalugsikirqoam\", \"guiimarisyyjqnfg\", \"gujwvdfcmmqcwxfi\", \"hkazsxqvbtmawovu\", \"hselphnqlvecmmyx\", \"htedybhazfjiueyj\", \"iulvirmzdntweaee\", \"iwhqpdfuhrsxyqxe\", \"jgkpiuuctpywtrlh\", \"jhdjdpthkztnjvmb\", \"jiyzqszfywhdfsil\", \"jjjvjaxpzvlbryfd\", \"jjycmklnkdivnypu\", \"johsjccpkithubii\", \"jrwdpzrmxqlzzepk\", \"kbgblyclstrmicux\", \"kpciudedjlrqsfte\", \"kvcddisqpkysmvvo\", \"kzwthrslljkmbqur\", \"lqkdgbosdzrtitgx\", \"lqqciehjjdtelpwa\", \"ngombkqqomblyxwv\", \"nhoebceeiacnmvym\", \"nhwgapjtnadqqaul\", \"nilvygybpajtnxnr\", \"nkueyjctyasmotny\", \"nsymgnybdjqxudvj\", \"onzjhhtppsfaiacz\", \"pjbnwqhnqczouirt\", \"ponwkmeaxagundzq\", \"prtnwsypyfnshpqx\", \"pyykjiriqrhjduly\", \"quslbttvcitxzeiy\", \"qxtqrwxfvuenelml\", \"rabwrzdzwjjdhbmx\", \"rcxmbwwsxkkkyyjs\", \"rrlvhbnzrdtphqnl\", \"rthsjeyjgdlmkygk\", \"rwrevaiebpmviwqz\", \"saempmkfulqhwfqk\", \"sguprofjftozaujc\", \"snsnxmucuccvqfvz\", \"svmjzfcsvgxiwwjt\", \"swjkmyqytzxjwgag\", \"synvsxhrexuyxpre\", \"tdgkjlphosocwbgu\", \"toqaaqswchaiyhsk\", \"uahuglbjdtacoqjt\", \"ubttjiaeeuwzcclq\", \"uhkhghxuorryhlis\", \"uwwrbkmjbjyxutfq\", \"uzmldekmvczimsrj\", \"wehkqzwvbeonajcu\", \"wpsyqubfrhdspxkx\", \"wxzfbqtarfurwcfw\", \"xaklvfxsplowrglp\", \"xjaddkudsebowzen\", \"xjnjmxyqemqqiejp\", \"xkzehzohmfrsmolg\", \"xpxsjmglcvcsxwdy\", \"xzdsapxqliboezbc\", \"yfalryaixpzfoihd\", \"yvlkrzgjhwrlyihc\", \"yzxgnwgpnrdprtbh\", \"zagpnfpbwgeyeufr\", \"zkreetxvsoihwkgo\", \"zoypfizhpbtpjwpv\", \"zqruwnlzuefcpqjm\", \"zspzyfdefowgwddf\"], \"y\": [945.024523809524, 1218.3468965517238, 987.0544554455442, 801.990842105263, 1167.6950649350645, 1375.2355489614258, 1268.56331210191, 1678.0904, 1003.5109999999999, 799.5551999999998, 1366.4528571428573, 780.7562711864406, 898.5262576687117, 2211.685263157895, 1189.3018253968246, 955.2636363636366, 1066.3643181818184, 864.6423412698416, 1252.1912499999999, 1131.501136363636, 1047.6200540540547, 989.6262068965514, 1092.855646258504, 1211.3302173913048, 1135.7524242424238, 1040.5178620689667, 1157.3398113207545, 1019.9948594377508, 748.5496371882076, 725.3026666666668, 1196.6411904761906, 871.2334615384615, 1118.3572189349113, 1227.1839232053424, 1252.8946739130436, 1426.2679761904762, 1370.2022907488983, 1007.8448507462688, 1088.0083012820512, 1015.7228037383177, 1056.6053703703699, 1214.22, 1015.7652032520323, 1464.3675257731963, 715.6812500000001, 1185.6484333333322, 1103.8693442622953, 1148.087452830189, 1359.8345070422536, 638.0422950819673, 1083.0543401015225, 685.2629605263153, 976.7320000000001, 1252.2994464944647, 1598.9199999999994, 1027.5072727272727, 1188.6175280898883, 1093.2826956521737, 1055.2499565756846, 867.1073076923076, 1273.2310294117642, 1635.895102040817, 1255.212, 1073.4952883031299, 1115.5545341614918, 1178.8594565217388, 1164.5485222381644, 1093.900487804878, 1005.1694999999997, 1065.478625954198, 1296.7658490566039, 900.6534883720932, 1044.4967965367964, 1037.156533333333, 1227.3339215686276, 1210.6245283018868, 963.8595620437957, 990.2293582887703, 1072.357608695652, 951.3629213483148, 1126.0633333333328, 1042.356862745098, 1349.5863475177296, 1096.159397590361, 842.1392063492065, 1327.0160869565218, 1284.015454545455, 791.6485625000001, 751.6010762331838, 1962.9324074074082]}],                        {\"template\": {\"data\": {\"bar\": [{\"error_x\": {\"color\": \"#2a3f5f\"}, \"error_y\": {\"color\": \"#2a3f5f\"}, \"marker\": {\"line\": {\"color\": \"#E5ECF6\", \"width\": 0.5}}, \"type\": \"bar\"}], \"barpolar\": [{\"marker\": {\"line\": {\"color\": \"#E5ECF6\", \"width\": 0.5}}, \"type\": \"barpolar\"}], \"carpet\": [{\"aaxis\": {\"endlinecolor\": \"#2a3f5f\", \"gridcolor\": \"white\", \"linecolor\": \"white\", \"minorgridcolor\": \"white\", \"startlinecolor\": \"#2a3f5f\"}, \"baxis\": {\"endlinecolor\": \"#2a3f5f\", \"gridcolor\": \"white\", \"linecolor\": \"white\", \"minorgridcolor\": \"white\", \"startlinecolor\": \"#2a3f5f\"}, \"type\": \"carpet\"}], \"choropleth\": [{\"colorbar\": {\"outlinewidth\": 0, \"ticks\": \"\"}, \"type\": \"choropleth\"}], \"contour\": [{\"colorbar\": {\"outlinewidth\": 0, \"ticks\": \"\"}, \"colorscale\": [[0.0, \"#0d0887\"], [0.1111111111111111, \"#46039f\"], [0.2222222222222222, \"#7201a8\"], [0.3333333333333333, \"#9c179e\"], [0.4444444444444444, \"#bd3786\"], [0.5555555555555556, \"#d8576b\"], [0.6666666666666666, \"#ed7953\"], [0.7777777777777778, \"#fb9f3a\"], [0.8888888888888888, \"#fdca26\"], [1.0, \"#f0f921\"]], \"type\": \"contour\"}], \"contourcarpet\": [{\"colorbar\": {\"outlinewidth\": 0, \"ticks\": \"\"}, \"type\": \"contourcarpet\"}], \"heatmap\": [{\"colorbar\": {\"outlinewidth\": 0, \"ticks\": \"\"}, \"colorscale\": [[0.0, \"#0d0887\"], [0.1111111111111111, \"#46039f\"], [0.2222222222222222, \"#7201a8\"], [0.3333333333333333, \"#9c179e\"], [0.4444444444444444, \"#bd3786\"], [0.5555555555555556, \"#d8576b\"], [0.6666666666666666, \"#ed7953\"], [0.7777777777777778, \"#fb9f3a\"], [0.8888888888888888, \"#fdca26\"], [1.0, \"#f0f921\"]], \"type\": \"heatmap\"}], \"heatmapgl\": [{\"colorbar\": {\"outlinewidth\": 0, \"ticks\": \"\"}, \"colorscale\": [[0.0, \"#0d0887\"], [0.1111111111111111, \"#46039f\"], [0.2222222222222222, \"#7201a8\"], [0.3333333333333333, \"#9c179e\"], [0.4444444444444444, \"#bd3786\"], [0.5555555555555556, \"#d8576b\"], [0.6666666666666666, \"#ed7953\"], [0.7777777777777778, \"#fb9f3a\"], [0.8888888888888888, \"#fdca26\"], [1.0, \"#f0f921\"]], \"type\": \"heatmapgl\"}], \"histogram\": [{\"marker\": {\"colorbar\": {\"outlinewidth\": 0, \"ticks\": \"\"}}, \"type\": \"histogram\"}], \"histogram2d\": [{\"colorbar\": {\"outlinewidth\": 0, \"ticks\": \"\"}, \"colorscale\": [[0.0, \"#0d0887\"], [0.1111111111111111, \"#46039f\"], [0.2222222222222222, \"#7201a8\"], [0.3333333333333333, \"#9c179e\"], [0.4444444444444444, \"#bd3786\"], [0.5555555555555556, \"#d8576b\"], [0.6666666666666666, \"#ed7953\"], [0.7777777777777778, \"#fb9f3a\"], [0.8888888888888888, \"#fdca26\"], [1.0, \"#f0f921\"]], \"type\": \"histogram2d\"}], \"histogram2dcontour\": [{\"colorbar\": {\"outlinewidth\": 0, \"ticks\": \"\"}, \"colorscale\": [[0.0, \"#0d0887\"], [0.1111111111111111, \"#46039f\"], [0.2222222222222222, \"#7201a8\"], [0.3333333333333333, \"#9c179e\"], [0.4444444444444444, \"#bd3786\"], [0.5555555555555556, \"#d8576b\"], [0.6666666666666666, \"#ed7953\"], [0.7777777777777778, \"#fb9f3a\"], [0.8888888888888888, \"#fdca26\"], [1.0, \"#f0f921\"]], \"type\": \"histogram2dcontour\"}], \"mesh3d\": [{\"colorbar\": {\"outlinewidth\": 0, \"ticks\": \"\"}, \"type\": \"mesh3d\"}], \"parcoords\": [{\"line\": {\"colorbar\": {\"outlinewidth\": 0, \"ticks\": \"\"}}, \"type\": \"parcoords\"}], \"pie\": [{\"automargin\": true, \"type\": \"pie\"}], \"scatter\": [{\"marker\": {\"colorbar\": {\"outlinewidth\": 0, \"ticks\": \"\"}}, \"type\": \"scatter\"}], \"scatter3d\": [{\"line\": {\"colorbar\": {\"outlinewidth\": 0, \"ticks\": \"\"}}, \"marker\": {\"colorbar\": {\"outlinewidth\": 0, \"ticks\": \"\"}}, \"type\": \"scatter3d\"}], \"scattercarpet\": [{\"marker\": {\"colorbar\": {\"outlinewidth\": 0, \"ticks\": \"\"}}, \"type\": \"scattercarpet\"}], \"scattergeo\": [{\"marker\": {\"colorbar\": {\"outlinewidth\": 0, \"ticks\": \"\"}}, \"type\": \"scattergeo\"}], \"scattergl\": [{\"marker\": {\"colorbar\": {\"outlinewidth\": 0, \"ticks\": \"\"}}, \"type\": \"scattergl\"}], \"scattermapbox\": [{\"marker\": {\"colorbar\": {\"outlinewidth\": 0, \"ticks\": \"\"}}, \"type\": \"scattermapbox\"}], \"scatterpolar\": [{\"marker\": {\"colorbar\": {\"outlinewidth\": 0, \"ticks\": \"\"}}, \"type\": \"scatterpolar\"}], \"scatterpolargl\": [{\"marker\": {\"colorbar\": {\"outlinewidth\": 0, \"ticks\": \"\"}}, \"type\": \"scatterpolargl\"}], \"scatterternary\": [{\"marker\": {\"colorbar\": {\"outlinewidth\": 0, \"ticks\": \"\"}}, \"type\": \"scatterternary\"}], \"surface\": [{\"colorbar\": {\"outlinewidth\": 0, \"ticks\": \"\"}, \"colorscale\": [[0.0, \"#0d0887\"], [0.1111111111111111, \"#46039f\"], [0.2222222222222222, \"#7201a8\"], [0.3333333333333333, \"#9c179e\"], [0.4444444444444444, \"#bd3786\"], [0.5555555555555556, \"#d8576b\"], [0.6666666666666666, \"#ed7953\"], [0.7777777777777778, \"#fb9f3a\"], [0.8888888888888888, \"#fdca26\"], [1.0, \"#f0f921\"]], \"type\": \"surface\"}], \"table\": [{\"cells\": {\"fill\": {\"color\": \"#EBF0F8\"}, \"line\": {\"color\": \"white\"}}, \"header\": {\"fill\": {\"color\": \"#C8D4E3\"}, \"line\": {\"color\": \"white\"}}, \"type\": \"table\"}]}, \"layout\": {\"annotationdefaults\": {\"arrowcolor\": \"#2a3f5f\", \"arrowhead\": 0, \"arrowwidth\": 1}, \"autotypenumbers\": \"strict\", \"coloraxis\": {\"colorbar\": {\"outlinewidth\": 0, \"ticks\": \"\"}}, \"colorscale\": {\"diverging\": [[0, \"#8e0152\"], [0.1, \"#c51b7d\"], [0.2, \"#de77ae\"], [0.3, \"#f1b6da\"], [0.4, \"#fde0ef\"], [0.5, \"#f7f7f7\"], [0.6, \"#e6f5d0\"], [0.7, \"#b8e186\"], [0.8, \"#7fbc41\"], [0.9, \"#4d9221\"], [1, \"#276419\"]], \"sequential\": [[0.0, \"#0d0887\"], [0.1111111111111111, \"#46039f\"], [0.2222222222222222, \"#7201a8\"], [0.3333333333333333, \"#9c179e\"], [0.4444444444444444, \"#bd3786\"], [0.5555555555555556, \"#d8576b\"], [0.6666666666666666, \"#ed7953\"], [0.7777777777777778, \"#fb9f3a\"], [0.8888888888888888, \"#fdca26\"], [1.0, \"#f0f921\"]], \"sequentialminus\": [[0.0, \"#0d0887\"], [0.1111111111111111, \"#46039f\"], [0.2222222222222222, \"#7201a8\"], [0.3333333333333333, \"#9c179e\"], [0.4444444444444444, \"#bd3786\"], [0.5555555555555556, \"#d8576b\"], [0.6666666666666666, \"#ed7953\"], [0.7777777777777778, \"#fb9f3a\"], [0.8888888888888888, \"#fdca26\"], [1.0, \"#f0f921\"]]}, \"colorway\": [\"#636efa\", \"#EF553B\", \"#00cc96\", \"#ab63fa\", \"#FFA15A\", \"#19d3f3\", \"#FF6692\", \"#B6E880\", \"#FF97FF\", \"#FECB52\"], \"font\": {\"color\": \"#2a3f5f\"}, \"geo\": {\"bgcolor\": \"white\", \"lakecolor\": \"white\", \"landcolor\": \"#E5ECF6\", \"showlakes\": true, \"showland\": true, \"subunitcolor\": \"white\"}, \"hoverlabel\": {\"align\": \"left\"}, \"hovermode\": \"closest\", \"mapbox\": {\"style\": \"light\"}, \"paper_bgcolor\": \"white\", \"plot_bgcolor\": \"#E5ECF6\", \"polar\": {\"angularaxis\": {\"gridcolor\": \"white\", \"linecolor\": \"white\", \"ticks\": \"\"}, \"bgcolor\": \"#E5ECF6\", \"radialaxis\": {\"gridcolor\": \"white\", \"linecolor\": \"white\", \"ticks\": \"\"}}, \"scene\": {\"xaxis\": {\"backgroundcolor\": \"#E5ECF6\", \"gridcolor\": \"white\", \"gridwidth\": 2, \"linecolor\": \"white\", \"showbackground\": true, \"ticks\": \"\", \"zerolinecolor\": \"white\"}, \"yaxis\": {\"backgroundcolor\": \"#E5ECF6\", \"gridcolor\": \"white\", \"gridwidth\": 2, \"linecolor\": \"white\", \"showbackground\": true, \"ticks\": \"\", \"zerolinecolor\": \"white\"}, \"zaxis\": {\"backgroundcolor\": \"#E5ECF6\", \"gridcolor\": \"white\", \"gridwidth\": 2, \"linecolor\": \"white\", \"showbackground\": true, \"ticks\": \"\", \"zerolinecolor\": \"white\"}}, \"shapedefaults\": {\"line\": {\"color\": \"#2a3f5f\"}}, \"ternary\": {\"aaxis\": {\"gridcolor\": \"white\", \"linecolor\": \"white\", \"ticks\": \"\"}, \"baxis\": {\"gridcolor\": \"white\", \"linecolor\": \"white\", \"ticks\": \"\"}, \"bgcolor\": \"#E5ECF6\", \"caxis\": {\"gridcolor\": \"white\", \"linecolor\": \"white\", \"ticks\": \"\"}}, \"title\": {\"x\": 0.05}, \"xaxis\": {\"automargin\": true, \"gridcolor\": \"white\", \"linecolor\": \"white\", \"ticks\": \"\", \"title\": {\"standoff\": 15}, \"zerolinecolor\": \"white\", \"zerolinewidth\": 2}, \"yaxis\": {\"automargin\": true, \"gridcolor\": \"white\", \"linecolor\": \"white\", \"ticks\": \"\", \"title\": {\"standoff\": 15}, \"zerolinecolor\": \"white\", \"zerolinewidth\": 2}}}},                        {\"responsive\": true}                    ).then(function(){\n",
       "                            \n",
       "var gd = document.getElementById('d301ef68-9b7d-440d-b5c3-dec327fa9b1a');\n",
       "var x = new MutationObserver(function (mutations, observer) {{\n",
       "        var display = window.getComputedStyle(gd).display;\n",
       "        if (!display || display === 'none') {{\n",
       "            console.log([gd, 'removed!']);\n",
       "            Plotly.purge(gd);\n",
       "            observer.disconnect();\n",
       "        }}\n",
       "}});\n",
       "\n",
       "// Listen for the removal of the full notebook cells\n",
       "var notebookContainer = gd.closest('#notebook-container');\n",
       "if (notebookContainer) {{\n",
       "    x.observe(notebookContainer, {childList: true});\n",
       "}}\n",
       "\n",
       "// Listen for the clearing of the current output cell\n",
       "var outputEl = gd.closest('.output');\n",
       "if (outputEl) {{\n",
       "    x.observe(outputEl, {childList: true});\n",
       "}}\n",
       "\n",
       "                        })                };                });            </script>        </div>"
      ]
     },
     "metadata": {},
     "output_type": "display_data"
    }
   ],
   "source": [
    "df_w_claim = df[df['claim_amount']>0]\n",
    "\n",
    "filtro =  df_w_claim['vh_make_model'].value_counts()\n",
    "\n",
    "modelos = filtro[filtro>=40]\n",
    "\n",
    "df_modelos_w_claim = df_w_claim[df_w_claim['vh_make_model'].isin(modelos.index)]\n",
    "\n",
    "fig = go.Figure()\n",
    "fig.add_trace(go.Bar(\n",
    "    x=df_modelos_w_claim.groupby('vh_make_model')['claim_amount'].count().index,\n",
    "    y=df_modelos_w_claim.groupby('vh_make_model')['claim_amount'].count(),\n",
    "    name = 'Casos com claim maior que 0'))\n",
    "fig.add_trace(go.Bar(\n",
    "    x=df_modelos_w_claim.groupby('vh_make_model')['claim_amount'].mean().index,\n",
    "    y=df_modelos_w_claim.groupby('vh_make_model')['claim_amount'].mean(),\n",
    "    name = 'Média de claim'))\n",
    "fig.show()"
   ]
  },
  {
   "cell_type": "code",
   "execution_count": 118,
   "metadata": {},
   "outputs": [
    {
     "data": {
      "text/plain": [
       "vh_make_model\n",
       "dweqmfoluivgiayj    2211.685263\n",
       "zspzyfdefowgwddf    1962.932407\n",
       "bvuzvpriwqlnbjxt    1678.090400\n",
       "sguprofjftozaujc    1635.895102\n",
       "qxtqrwxfvuenelml    1598.920000\n",
       "nhoebceeiacnmvym    1464.367526\n",
       "jrwdpzrmxqlzzepk    1426.267976\n",
       "biqzvbfzjivqmrro    1375.235549\n",
       "kbgblyclstrmicux    1370.202291\n",
       "dlrodwgixwmoquny    1366.452857\n",
       "onzjhhtppsfaiacz    1359.834507\n",
       "yfalryaixpzfoihd    1349.586348\n",
       "zagpnfpbwgeyeufr    1327.016087\n",
       "uhkhghxuorryhlis    1296.765849\n",
       "zkreetxvsoihwkgo    1284.015455\n",
       "saempmkfulqhwfqk    1273.231029\n",
       "bsiyfrkwdyptmwji    1268.563312\n",
       "snsnxmucuccvqfvz    1255.212000\n",
       "johsjccpkithubii    1252.894674\n",
       "quslbttvcitxzeiy    1252.299446\n",
       "fadjogsnmecatcfb    1252.191250\n",
       "wpsyqubfrhdspxkx    1227.333922\n",
       "jjycmklnkdivnypu    1227.183923\n",
       "aewtdnpoiopumymt    1218.346897\n",
       "lqqciehjjdtelpwa    1214.220000\n",
       "gujwvdfcmmqcwxfi    1211.330217\n",
       "wxzfbqtarfurwcfw    1210.624528\n",
       "jhdjdpthkztnjvmb    1196.641190\n",
       "dyzvyrmcdyybbddd    1189.301825\n",
       "rcxmbwwsxkkkyyjs    1188.617528\n",
       "nilvygybpajtnxnr    1185.648433\n",
       "synvsxhrexuyxpre    1178.859457\n",
       "asmpttrlkodaejic    1167.695065\n",
       "tdgkjlphosocwbgu    1164.548522\n",
       "htedybhazfjiueyj    1157.339811\n",
       "nsymgnybdjqxudvj    1148.087453\n",
       "hkazsxqvbtmawovu    1135.752424\n",
       "fuwhdjmdexrstmmo    1131.501136\n",
       "xpxsjmglcvcsxwdy    1126.063333\n",
       "jjjvjaxpzvlbryfd    1118.357219\n",
       "Name: claim_amount, dtype: float64"
      ]
     },
     "execution_count": 118,
     "metadata": {},
     "output_type": "execute_result"
    }
   ],
   "source": [
    "media_claim_maior_0 = df_modelos_w_claim.groupby('vh_make_model')['claim_amount'].mean().sort_values(ascending= False)\n",
    "media_claim_maior_0[media_claim_maior_0>media_claim_maior_0.mean()]"
   ]
  },
  {
   "cell_type": "code",
   "execution_count": 119,
   "metadata": {},
   "outputs": [
    {
     "data": {
      "text/plain": [
       "vh_make_model\n",
       "swjkmyqytzxjwgag    1115.554534\n",
       "nkueyjctyasmotny    1103.869344\n",
       "yvlkrzgjhwrlyihc    1096.159398\n",
       "toqaaqswchaiyhsk    1093.900488\n",
       "rrlvhbnzrdtphqnl    1093.282696\n",
       "guiimarisyyjqnfg    1092.855646\n",
       "kvcddisqpkysmvvo    1088.008301\n",
       "ponwkmeaxagundzq    1083.054340\n",
       "svmjzfcsvgxiwwjt    1073.495288\n",
       "xjnjmxyqemqqiejp    1072.357609\n",
       "eokuiduvnrtzavmr    1066.364318\n",
       "ubttjiaeeuwzcclq    1065.478626\n",
       "lqkdgbosdzrtitgx    1056.605370\n",
       "rthsjeyjgdlmkygk    1055.249957\n",
       "gfhjqtkgvomiygvx    1047.620054\n",
       "uzmldekmvczimsrj    1044.496797\n",
       "xzdsapxqliboezbc    1042.356863\n",
       "hselphnqlvecmmyx    1040.517862\n",
       "wehkqzwvbeonajcu    1037.156533\n",
       "rabwrzdzwjjdhbmx    1027.507273\n",
       "iulvirmzdntweaee    1019.994859\n",
       "ngombkqqomblyxwv    1015.765203\n",
       "kzwthrslljkmbqur    1015.722804\n",
       "kpciudedjlrqsfte    1007.844851\n",
       "uahuglbjdtacoqjt    1005.169500\n",
       "clmcokjtplrbzvuh    1003.511000\n",
       "xjaddkudsebowzen     990.229358\n",
       "gjbalugsikirqoam     989.626207\n",
       "ammbrasbxojlitmt     987.054455\n",
       "pyykjiriqrhjduly     976.732000\n",
       "xaklvfxsplowrglp     963.859562\n",
       "ehapkksqqcbofeid     955.263636\n",
       "xkzehzohmfrsmolg     951.362921\n",
       "abcepdrvvynjsufa     945.024524\n",
       "uwwrbkmjbjyxutfq     900.653488\n",
       "dtpbahjtnmyuxqno     898.526258\n",
       "jiyzqszfywhdfsil     871.233462\n",
       "rwrevaiebpmviwqz     867.107308\n",
       "ettwalwfkzvwdasa     864.642341\n",
       "yzxgnwgpnrdprtbh     842.139206\n",
       "aparvvfowrjncdhp     801.990842\n",
       "dllcylnkzeegtsgr     799.555200\n",
       "zoypfizhpbtpjwpv     791.648563\n",
       "dpcnodgqfivkhxvn     780.756271\n",
       "zqruwnlzuefcpqjm     751.601076\n",
       "iwhqpdfuhrsxyqxe     748.549637\n",
       "jgkpiuuctpywtrlh     725.302667\n",
       "nhwgapjtnadqqaul     715.681250\n",
       "prtnwsypyfnshpqx     685.262961\n",
       "pjbnwqhnqczouirt     638.042295\n",
       "Name: claim_amount, dtype: float64"
      ]
     },
     "execution_count": 119,
     "metadata": {},
     "output_type": "execute_result"
    }
   ],
   "source": [
    "media_claim_maior_0[media_claim_maior_0<media_claim_maior_0.mean()]"
   ]
  },
  {
   "cell_type": "code",
   "execution_count": null,
   "metadata": {},
   "outputs": [],
   "source": []
  },
  {
   "cell_type": "code",
   "execution_count": null,
   "metadata": {},
   "outputs": [],
   "source": []
  }
 ],
 "metadata": {
  "kernelspec": {
   "display_name": "Python 3",
   "language": "python",
   "name": "python3"
  },
  "language_info": {
   "codemirror_mode": {
    "name": "ipython",
    "version": 3
   },
   "file_extension": ".py",
   "mimetype": "text/x-python",
   "name": "python",
   "nbconvert_exporter": "python",
   "pygments_lexer": "ipython3",
   "version": "3.8.3"
  }
 },
 "nbformat": 4,
 "nbformat_minor": 4
}

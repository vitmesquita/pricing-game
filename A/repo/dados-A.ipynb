{
 "cells": [
  {
   "cell_type": "markdown",
   "metadata": {},
   "source": [
    "## Import das bibliotecas"
   ]
  },
  {
   "cell_type": "code",
   "execution_count": 2,
   "metadata": {},
   "outputs": [],
   "source": [
    "import pandas as pd\n",
    "import numpy as np\n",
    "from config import *\n",
    "import matplotlib.pyplot as plt\n",
    "\n",
    "pd.set_option('display.max_columns', 500)"
   ]
  },
  {
   "cell_type": "markdown",
   "metadata": {},
   "source": [
    "## Leitura dos dados"
   ]
  },
  {
   "cell_type": "code",
   "execution_count": 3,
   "metadata": {},
   "outputs": [
    {
     "data": {
      "text/plain": [
       "(228216, 26)"
      ]
     },
     "execution_count": 3,
     "metadata": {},
     "output_type": "execute_result"
    }
   ],
   "source": [
    "df = pd.read_csv(path_arquivo_treino)\n",
    "df.shape"
   ]
  },
  {
   "cell_type": "code",
   "execution_count": 4,
   "metadata": {},
   "outputs": [
    {
     "data": {
      "text/html": [
       "<div>\n",
       "<style scoped>\n",
       "    .dataframe tbody tr th:only-of-type {\n",
       "        vertical-align: middle;\n",
       "    }\n",
       "\n",
       "    .dataframe tbody tr th {\n",
       "        vertical-align: top;\n",
       "    }\n",
       "\n",
       "    .dataframe thead th {\n",
       "        text-align: right;\n",
       "    }\n",
       "</style>\n",
       "<table border=\"1\" class=\"dataframe\">\n",
       "  <thead>\n",
       "    <tr style=\"text-align: right;\">\n",
       "      <th></th>\n",
       "      <th>id_policy</th>\n",
       "      <th>year</th>\n",
       "      <th>pol_no_claims_discount</th>\n",
       "      <th>pol_coverage</th>\n",
       "      <th>pol_duration</th>\n",
       "      <th>pol_sit_duration</th>\n",
       "      <th>pol_pay_freq</th>\n",
       "      <th>pol_payd</th>\n",
       "      <th>pol_usage</th>\n",
       "      <th>drv_sex1</th>\n",
       "      <th>drv_age1</th>\n",
       "      <th>drv_age_lic1</th>\n",
       "      <th>drv_drv2</th>\n",
       "      <th>drv_sex2</th>\n",
       "      <th>drv_age2</th>\n",
       "      <th>drv_age_lic2</th>\n",
       "      <th>vh_make_model</th>\n",
       "      <th>vh_age</th>\n",
       "      <th>vh_fuel</th>\n",
       "      <th>vh_type</th>\n",
       "      <th>vh_speed</th>\n",
       "      <th>vh_value</th>\n",
       "      <th>vh_weight</th>\n",
       "      <th>population</th>\n",
       "      <th>town_surface_area</th>\n",
       "      <th>claim_amount</th>\n",
       "    </tr>\n",
       "  </thead>\n",
       "  <tbody>\n",
       "    <tr>\n",
       "      <th>0</th>\n",
       "      <td>PL000000</td>\n",
       "      <td>1.0</td>\n",
       "      <td>0.332</td>\n",
       "      <td>Med2</td>\n",
       "      <td>5</td>\n",
       "      <td>1</td>\n",
       "      <td>Monthly</td>\n",
       "      <td>No</td>\n",
       "      <td>WorkPrivate</td>\n",
       "      <td>M</td>\n",
       "      <td>35.0</td>\n",
       "      <td>16.0</td>\n",
       "      <td>Yes</td>\n",
       "      <td>F</td>\n",
       "      <td>26.0</td>\n",
       "      <td>1.0</td>\n",
       "      <td>aparvvfowrjncdhp</td>\n",
       "      <td>8.0</td>\n",
       "      <td>Gasoline</td>\n",
       "      <td>Tourism</td>\n",
       "      <td>174.0</td>\n",
       "      <td>11040.0</td>\n",
       "      <td>1143.0</td>\n",
       "      <td>1270.0</td>\n",
       "      <td>33.1</td>\n",
       "      <td>0.0</td>\n",
       "    </tr>\n",
       "    <tr>\n",
       "      <th>1</th>\n",
       "      <td>PL042495</td>\n",
       "      <td>1.0</td>\n",
       "      <td>0.000</td>\n",
       "      <td>Med2</td>\n",
       "      <td>6</td>\n",
       "      <td>1</td>\n",
       "      <td>Monthly</td>\n",
       "      <td>No</td>\n",
       "      <td>WorkPrivate</td>\n",
       "      <td>M</td>\n",
       "      <td>60.0</td>\n",
       "      <td>41.0</td>\n",
       "      <td>No</td>\n",
       "      <td>0</td>\n",
       "      <td>NaN</td>\n",
       "      <td>NaN</td>\n",
       "      <td>aparvvfowrjncdhp</td>\n",
       "      <td>10.0</td>\n",
       "      <td>Diesel</td>\n",
       "      <td>Tourism</td>\n",
       "      <td>174.0</td>\n",
       "      <td>11040.0</td>\n",
       "      <td>1143.0</td>\n",
       "      <td>1290.0</td>\n",
       "      <td>51.3</td>\n",
       "      <td>0.0</td>\n",
       "    </tr>\n",
       "    <tr>\n",
       "      <th>2</th>\n",
       "      <td>PL042496</td>\n",
       "      <td>1.0</td>\n",
       "      <td>0.196</td>\n",
       "      <td>Med1</td>\n",
       "      <td>2</td>\n",
       "      <td>1</td>\n",
       "      <td>Yearly</td>\n",
       "      <td>Yes</td>\n",
       "      <td>Retired</td>\n",
       "      <td>M</td>\n",
       "      <td>55.0</td>\n",
       "      <td>35.0</td>\n",
       "      <td>Yes</td>\n",
       "      <td>F</td>\n",
       "      <td>57.0</td>\n",
       "      <td>38.0</td>\n",
       "      <td>iwhqpdfuhrsxyqxe</td>\n",
       "      <td>8.0</td>\n",
       "      <td>Diesel</td>\n",
       "      <td>Commercial</td>\n",
       "      <td>150.0</td>\n",
       "      <td>14159.0</td>\n",
       "      <td>1193.0</td>\n",
       "      <td>1020.0</td>\n",
       "      <td>262.8</td>\n",
       "      <td>0.0</td>\n",
       "    </tr>\n",
       "    <tr>\n",
       "      <th>3</th>\n",
       "      <td>PL042497</td>\n",
       "      <td>1.0</td>\n",
       "      <td>0.000</td>\n",
       "      <td>Med2</td>\n",
       "      <td>8</td>\n",
       "      <td>5</td>\n",
       "      <td>Yearly</td>\n",
       "      <td>No</td>\n",
       "      <td>WorkPrivate</td>\n",
       "      <td>F</td>\n",
       "      <td>54.0</td>\n",
       "      <td>31.0</td>\n",
       "      <td>No</td>\n",
       "      <td>0</td>\n",
       "      <td>NaN</td>\n",
       "      <td>NaN</td>\n",
       "      <td>kvcddisqpkysmvvo</td>\n",
       "      <td>4.0</td>\n",
       "      <td>Gasoline</td>\n",
       "      <td>Tourism</td>\n",
       "      <td>149.0</td>\n",
       "      <td>17233.0</td>\n",
       "      <td>1012.0</td>\n",
       "      <td>180.0</td>\n",
       "      <td>219.7</td>\n",
       "      <td>0.0</td>\n",
       "    </tr>\n",
       "    <tr>\n",
       "      <th>4</th>\n",
       "      <td>PL042498</td>\n",
       "      <td>1.0</td>\n",
       "      <td>0.000</td>\n",
       "      <td>Med1</td>\n",
       "      <td>2</td>\n",
       "      <td>2</td>\n",
       "      <td>Yearly</td>\n",
       "      <td>No</td>\n",
       "      <td>Retired</td>\n",
       "      <td>F</td>\n",
       "      <td>65.0</td>\n",
       "      <td>38.0</td>\n",
       "      <td>No</td>\n",
       "      <td>0</td>\n",
       "      <td>NaN</td>\n",
       "      <td>NaN</td>\n",
       "      <td>tdgkjlphosocwbgu</td>\n",
       "      <td>13.0</td>\n",
       "      <td>Gasoline</td>\n",
       "      <td>Tourism</td>\n",
       "      <td>200.0</td>\n",
       "      <td>19422.0</td>\n",
       "      <td>1315.0</td>\n",
       "      <td>30.0</td>\n",
       "      <td>70.3</td>\n",
       "      <td>0.0</td>\n",
       "    </tr>\n",
       "  </tbody>\n",
       "</table>\n",
       "</div>"
      ],
      "text/plain": [
       "  id_policy  year  pol_no_claims_discount pol_coverage  pol_duration  \\\n",
       "0  PL000000   1.0                   0.332         Med2             5   \n",
       "1  PL042495   1.0                   0.000         Med2             6   \n",
       "2  PL042496   1.0                   0.196         Med1             2   \n",
       "3  PL042497   1.0                   0.000         Med2             8   \n",
       "4  PL042498   1.0                   0.000         Med1             2   \n",
       "\n",
       "   pol_sit_duration pol_pay_freq pol_payd    pol_usage drv_sex1  drv_age1  \\\n",
       "0                 1      Monthly       No  WorkPrivate        M      35.0   \n",
       "1                 1      Monthly       No  WorkPrivate        M      60.0   \n",
       "2                 1       Yearly      Yes      Retired        M      55.0   \n",
       "3                 5       Yearly       No  WorkPrivate        F      54.0   \n",
       "4                 2       Yearly       No      Retired        F      65.0   \n",
       "\n",
       "   drv_age_lic1 drv_drv2 drv_sex2  drv_age2  drv_age_lic2     vh_make_model  \\\n",
       "0          16.0      Yes        F      26.0           1.0  aparvvfowrjncdhp   \n",
       "1          41.0       No        0       NaN           NaN  aparvvfowrjncdhp   \n",
       "2          35.0      Yes        F      57.0          38.0  iwhqpdfuhrsxyqxe   \n",
       "3          31.0       No        0       NaN           NaN  kvcddisqpkysmvvo   \n",
       "4          38.0       No        0       NaN           NaN  tdgkjlphosocwbgu   \n",
       "\n",
       "   vh_age   vh_fuel     vh_type  vh_speed  vh_value  vh_weight  population  \\\n",
       "0     8.0  Gasoline     Tourism     174.0   11040.0     1143.0      1270.0   \n",
       "1    10.0    Diesel     Tourism     174.0   11040.0     1143.0      1290.0   \n",
       "2     8.0    Diesel  Commercial     150.0   14159.0     1193.0      1020.0   \n",
       "3     4.0  Gasoline     Tourism     149.0   17233.0     1012.0       180.0   \n",
       "4    13.0  Gasoline     Tourism     200.0   19422.0     1315.0        30.0   \n",
       "\n",
       "   town_surface_area  claim_amount  \n",
       "0               33.1           0.0  \n",
       "1               51.3           0.0  \n",
       "2              262.8           0.0  \n",
       "3              219.7           0.0  \n",
       "4               70.3           0.0  "
      ]
     },
     "execution_count": 4,
     "metadata": {},
     "output_type": "execute_result"
    }
   ],
   "source": [
    "df.head()"
   ]
  },
  {
   "cell_type": "markdown",
   "metadata": {},
   "source": [
    "## Análise das colunas"
   ]
  },
  {
   "cell_type": "markdown",
   "metadata": {},
   "source": [
    "#### Id_policy"
   ]
  },
  {
   "cell_type": "code",
   "execution_count": 5,
   "metadata": {},
   "outputs": [
    {
     "data": {
      "text/plain": [
       "8    228216\n",
       "Name: id_policy, dtype: int64"
      ]
     },
     "execution_count": 5,
     "metadata": {},
     "output_type": "execute_result"
    }
   ],
   "source": [
    "df['id_policy'].str.len().value_counts()"
   ]
  },
  {
   "cell_type": "code",
   "execution_count": 6,
   "metadata": {},
   "outputs": [
    {
     "data": {
      "text/plain": [
       "PL    228216\n",
       "Name: id_policy, dtype: int64"
      ]
     },
     "execution_count": 6,
     "metadata": {},
     "output_type": "execute_result"
    }
   ],
   "source": [
    "df['id_policy'].str[:2].value_counts()"
   ]
  },
  {
   "cell_type": "code",
   "execution_count": 7,
   "metadata": {},
   "outputs": [
    {
     "data": {
      "text/plain": [
       "4    57054\n",
       "Name: id_policy, dtype: int64"
      ]
     },
     "execution_count": 7,
     "metadata": {},
     "output_type": "execute_result"
    }
   ],
   "source": [
    "df['id_policy'].value_counts().value_counts()"
   ]
  },
  {
   "cell_type": "markdown",
   "metadata": {},
   "source": [
    "#### Year"
   ]
  },
  {
   "cell_type": "code",
   "execution_count": 8,
   "metadata": {},
   "outputs": [
    {
     "data": {
      "text/plain": [
       "4.0    57054\n",
       "3.0    57054\n",
       "2.0    57054\n",
       "1.0    57054\n",
       "Name: year, dtype: int64"
      ]
     },
     "execution_count": 8,
     "metadata": {},
     "output_type": "execute_result"
    }
   ],
   "source": [
    "df['year'].value_counts()"
   ]
  },
  {
   "cell_type": "markdown",
   "metadata": {},
   "source": [
    "#### pol_no_claims_discount"
   ]
  },
  {
   "cell_type": "code",
   "execution_count": 9,
   "metadata": {},
   "outputs": [
    {
     "data": {
      "text/plain": [
       "<matplotlib.axes._subplots.AxesSubplot at 0x27b6f6eb9d0>"
      ]
     },
     "execution_count": 9,
     "metadata": {},
     "output_type": "execute_result"
    },
    {
     "data": {
      "image/png": "[encoded data removed]",
      "text/plain": [
       "<Figure size 432x288 with 1 Axes>"
      ]
     },
     "metadata": {
      "needs_background": "light"
     },
     "output_type": "display_data"
    }
   ],
   "source": [
    "df['pol_no_claims_discount'].hist()"
   ]
  },
  {
   "cell_type": "code",
   "execution_count": 10,
   "metadata": {},
   "outputs": [
    {
     "data": {
      "text/plain": [
       "147"
      ]
     },
     "execution_count": 10,
     "metadata": {},
     "output_type": "execute_result"
    }
   ],
   "source": [
    "len(df[df['pol_no_claims_discount']>0.8]['id_policy'])"
   ]
  },
  {
   "cell_type": "code",
   "execution_count": 11,
   "metadata": {},
   "outputs": [
    {
     "data": {
      "text/plain": [
       "98"
      ]
     },
     "execution_count": 11,
     "metadata": {},
     "output_type": "execute_result"
    }
   ],
   "source": [
    "df[df['pol_no_claims_discount']>0.8]['id_policy'].nunique() #numero de policy >0.8"
   ]
  },
  {
   "cell_type": "markdown",
   "metadata": {},
   "source": [
    "Alguns clientes tiveram taxa maior que 0.8 por apenas um ano"
   ]
  },
  {
   "cell_type": "markdown",
   "metadata": {},
   "source": [
    "(ideia: fazer grafico dessa taxa nos anos, para ver se tem algum ano com atividade suspeita)"
   ]
  },
  {
   "cell_type": "markdown",
   "metadata": {},
   "source": [
    "#### Pol_coverage"
   ]
  },
  {
   "cell_type": "code",
   "execution_count": 12,
   "metadata": {},
   "outputs": [
    {
     "data": {
      "text/plain": [
       "Max     146516\n",
       "Med2     40072\n",
       "Med1     21792\n",
       "Min      19836\n",
       "Name: pol_coverage, dtype: int64"
      ]
     },
     "execution_count": 12,
     "metadata": {},
     "output_type": "execute_result"
    }
   ],
   "source": [
    "df['pol_coverage'].value_counts()"
   ]
  },
  {
   "cell_type": "code",
   "execution_count": 13,
   "metadata": {},
   "outputs": [
    {
     "data": {
      "text/plain": [
       "year  pol_coverage\n",
       "1.0   Max             36629\n",
       "      Med1             5448\n",
       "      Med2            10018\n",
       "      Min              4959\n",
       "2.0   Max             36629\n",
       "      Med1             5448\n",
       "      Med2            10018\n",
       "      Min              4959\n",
       "3.0   Max             36629\n",
       "      Med1             5448\n",
       "      Med2            10018\n",
       "      Min              4959\n",
       "4.0   Max             36629\n",
       "      Med1             5448\n",
       "      Med2            10018\n",
       "      Min              4959\n",
       "Name: id_policy, dtype: int64"
      ]
     },
     "execution_count": 13,
     "metadata": {},
     "output_type": "execute_result"
    }
   ],
   "source": [
    "df.groupby(['year','pol_coverage'])['id_policy'].count()"
   ]
  },
  {
   "cell_type": "markdown",
   "metadata": {},
   "source": [
    "#### Pol_duration"
   ]
  },
  {
   "cell_type": "code",
   "execution_count": 14,
   "metadata": {},
   "outputs": [
    {
     "data": {
      "text/plain": [
       "<matplotlib.axes._subplots.AxesSubplot at 0x23a95a99730>"
      ]
     },
     "execution_count": 14,
     "metadata": {},
     "output_type": "execute_result"
    },
    {
     "data": {
      "image/png": "[encoded data removed]",
      "text/plain": [
       "<Figure size 432x288 with 1 Axes>"
      ]
     },
     "metadata": {
      "needs_background": "light"
     },
     "output_type": "display_data"
    }
   ],
   "source": [
    "df['pol_duration'].hist(bins=100)"
   ]
  },
  {
   "cell_type": "markdown",
   "metadata": {},
   "source": [
    "(grafico com cor sendo ano)"
   ]
  },
  {
   "cell_type": "markdown",
   "metadata": {},
   "source": [
    "#### Pol_sit_duration"
   ]
  },
  {
   "cell_type": "code",
   "execution_count": 15,
   "metadata": {},
   "outputs": [
    {
     "data": {
      "text/plain": [
       "<matplotlib.axes._subplots.AxesSubplot at 0x23a95c21dc0>"
      ]
     },
     "execution_count": 15,
     "metadata": {},
     "output_type": "execute_result"
    },
    {
     "data": {
      "image/png": "[encoded data removed]",
      "text/plain": [
       "<Figure size 432x288 with 1 Axes>"
      ]
     },
     "metadata": {
      "needs_background": "light"
     },
     "output_type": "display_data"
    }
   ],
   "source": [
    "df['pol_sit_duration'].hist(bins=50)"
   ]
  },
  {
   "cell_type": "markdown",
   "metadata": {},
   "source": [
    "#### pol_pay_freq"
   ]
  },
  {
   "cell_type": "code",
   "execution_count": 16,
   "metadata": {},
   "outputs": [
    {
     "data": {
      "text/plain": [
       "Yearly       84850\n",
       "Monthly      70162\n",
       "Biannual     66945\n",
       "Quarterly     6259\n",
       "Name: pol_pay_freq, dtype: int64"
      ]
     },
     "execution_count": 16,
     "metadata": {},
     "output_type": "execute_result"
    }
   ],
   "source": [
    "df['pol_pay_freq'].value_counts()"
   ]
  },
  {
   "cell_type": "markdown",
   "metadata": {},
   "source": [
    "#### pol_payd"
   ]
  },
  {
   "cell_type": "code",
   "execution_count": 17,
   "metadata": {},
   "outputs": [
    {
     "data": {
      "text/plain": [
       "No     218696\n",
       "Yes      9520\n",
       "Name: pol_payd, dtype: int64"
      ]
     },
     "execution_count": 17,
     "metadata": {},
     "output_type": "execute_result"
    }
   ],
   "source": [
    "df['pol_payd'].value_counts()"
   ]
  },
  {
   "cell_type": "markdown",
   "metadata": {},
   "source": [
    "(ideia:ver diferença de preços de quem esta no pacote e quem nao esta no pacote)"
   ]
  },
  {
   "cell_type": "markdown",
   "metadata": {},
   "source": [
    "#### pol_usage"
   ]
  },
  {
   "cell_type": "code",
   "execution_count": 18,
   "metadata": {},
   "outputs": [
    {
     "data": {
      "text/plain": [
       "WorkPrivate     149976\n",
       "Retired          61988\n",
       "Professional     16044\n",
       "AllTrips           208\n",
       "Name: pol_usage, dtype: int64"
      ]
     },
     "execution_count": 18,
     "metadata": {},
     "output_type": "execute_result"
    }
   ],
   "source": [
    "df['pol_usage'].value_counts()"
   ]
  },
  {
   "cell_type": "markdown",
   "metadata": {},
   "source": [
    "(ideia:ver cobertura de cada caso)"
   ]
  },
  {
   "cell_type": "markdown",
   "metadata": {},
   "source": [
    "#### \tdrv_sex1 e drv_sex2"
   ]
  },
  {
   "cell_type": "code",
   "execution_count": 19,
   "metadata": {},
   "outputs": [
    {
     "data": {
      "text/plain": [
       "M    137868\n",
       "F     90348\n",
       "Name: drv_sex1, dtype: int64"
      ]
     },
     "execution_count": 19,
     "metadata": {},
     "output_type": "execute_result"
    }
   ],
   "source": [
    "df['drv_sex1'].value_counts()"
   ]
  },
  {
   "cell_type": "code",
   "execution_count": 20,
   "metadata": {},
   "outputs": [
    {
     "data": {
      "text/plain": [
       "0    152896\n",
       "F     45976\n",
       "M     29344\n",
       "Name: drv_sex2, dtype: int64"
      ]
     },
     "execution_count": 20,
     "metadata": {},
     "output_type": "execute_result"
    }
   ],
   "source": [
    "df['drv_sex2'].value_counts()"
   ]
  },
  {
   "cell_type": "markdown",
   "metadata": {},
   "source": [
    "(ideia:analisar se existe relação entre o claim amount e o sexo)"
   ]
  },
  {
   "cell_type": "markdown",
   "metadata": {},
   "source": [
    "#### drv_age1 e drv_age2\n"
   ]
  },
  {
   "cell_type": "code",
   "execution_count": 21,
   "metadata": {},
   "outputs": [
    {
     "data": {
      "text/plain": [
       "<matplotlib.axes._subplots.AxesSubplot at 0x23a95cd0730>"
      ]
     },
     "execution_count": 21,
     "metadata": {},
     "output_type": "execute_result"
    },
    {
     "data": {
      "image/png": "[encoded data removed]",
      "text/plain": [
       "<Figure size 432x288 with 1 Axes>"
      ]
     },
     "metadata": {
      "needs_background": "light"
     },
     "output_type": "display_data"
    }
   ],
   "source": [
    "df['drv_age1'].hist()\n",
    "df['drv_age2'].hist()"
   ]
  },
  {
   "cell_type": "markdown",
   "metadata": {},
   "source": [
    "#### drv_drv2"
   ]
  },
  {
   "cell_type": "code",
   "execution_count": 25,
   "metadata": {},
   "outputs": [
    {
     "data": {
      "text/plain": [
       "No     152896\n",
       "Yes     75320\n",
       "Name: drv_drv2, dtype: int64"
      ]
     },
     "execution_count": 25,
     "metadata": {},
     "output_type": "execute_result"
    }
   ],
   "source": [
    "df['drv_drv2'].value_counts()"
   ]
  },
  {
   "cell_type": "markdown",
   "metadata": {},
   "source": [
    "#### drv_age_lic1 e drv_age_lic2"
   ]
  },
  {
   "cell_type": "code",
   "execution_count": 29,
   "metadata": {},
   "outputs": [
    {
     "data": {
      "text/plain": [
       "<matplotlib.axes._subplots.AxesSubplot at 0x23a9607b040>"
      ]
     },
     "execution_count": 29,
     "metadata": {},
     "output_type": "execute_result"
    },
    {
     "data": {
      "image/png": "[encoded data removed]",
      "text/plain": [
       "<Figure size 432x288 with 1 Axes>"
      ]
     },
     "metadata": {
      "needs_background": "light"
     },
     "output_type": "display_data"
    }
   ],
   "source": [
    "df['drv_age_lic1'].hist()\n",
    "df['drv_age_lic2'].hist()"
   ]
  },
  {
   "cell_type": "markdown",
   "metadata": {},
   "source": [
    "fazer scatterplot com esses dois dados"
   ]
  },
  {
   "cell_type": "markdown",
   "metadata": {},
   "source": [
    "#### vh_make_model"
   ]
  },
  {
   "cell_type": "code",
   "execution_count": 33,
   "metadata": {},
   "outputs": [
    {
     "data": {
      "text/plain": [
       "rthsjeyjgdlmkygk    4181\n",
       "johsjccpkithubii    2324\n",
       "biqzvbfzjivqmrro    2134\n",
       "swjkmyqytzxjwgag    1869\n",
       "tdgkjlphosocwbgu    1553\n",
       "                    ... \n",
       "khwbllfppvhgkgzc       1\n",
       "uczhoudymbvnhter       1\n",
       "eyaqhofitsegmcwi       1\n",
       "ogdxwqtrpclsxeyw       1\n",
       "zuqrdemwihnexkpw       1\n",
       "Name: vh_make_model, Length: 975, dtype: int64"
      ]
     },
     "execution_count": 33,
     "metadata": {},
     "output_type": "execute_result"
    }
   ],
   "source": [
    "df[df['year']==1]['vh_make_model'].value_counts()"
   ]
  },
  {
   "cell_type": "markdown",
   "metadata": {},
   "source": [
    "#### vh age"
   ]
  },
  {
   "cell_type": "code",
   "execution_count": 34,
   "metadata": {},
   "outputs": [
    {
     "data": {
      "text/plain": [
       "<matplotlib.axes._subplots.AxesSubplot at 0x23a960ef670>"
      ]
     },
     "execution_count": 34,
     "metadata": {},
     "output_type": "execute_result"
    },
    {
     "data": {
      "image/png": "[encoded data removed]",
      "text/plain": [
       "<Figure size 432x288 with 1 Axes>"
      ]
     },
     "metadata": {
      "needs_background": "light"
     },
     "output_type": "display_data"
    }
   ],
   "source": [
    "df['vh_age'].hist()"
   ]
  },
  {
   "cell_type": "markdown",
   "metadata": {},
   "source": [
    "#### vh_fuel"
   ]
  },
  {
   "cell_type": "code",
   "execution_count": 35,
   "metadata": {},
   "outputs": [
    {
     "data": {
      "text/plain": [
       "<matplotlib.axes._subplots.AxesSubplot at 0x23a9625b430>"
      ]
     },
     "execution_count": 35,
     "metadata": {},
     "output_type": "execute_result"
    },
    {
     "data": {
      "image/png": "[encoded data removed]",
      "text/plain": [
       "<Figure size 432x288 with 1 Axes>"
      ]
     },
     "metadata": {
      "needs_background": "light"
     },
     "output_type": "display_data"
    }
   ],
   "source": [
    "df['vh_fuel'].hist()"
   ]
  },
  {
   "cell_type": "markdown",
   "metadata": {},
   "source": [
    "#### vh_type"
   ]
  },
  {
   "cell_type": "code",
   "execution_count": 37,
   "metadata": {},
   "outputs": [
    {
     "data": {
      "text/plain": [
       "Tourism       205496\n",
       "Commercial     22720\n",
       "Name: vh_type, dtype: int64"
      ]
     },
     "execution_count": 37,
     "metadata": {},
     "output_type": "execute_result"
    }
   ],
   "source": [
    "df['vh_type'].value_counts()"
   ]
  },
  {
   "cell_type": "markdown",
   "metadata": {},
   "source": [
    "#### vh_speed"
   ]
  },
  {
   "cell_type": "code",
   "execution_count": 38,
   "metadata": {},
   "outputs": [
    {
     "data": {
      "text/plain": [
       "<matplotlib.axes._subplots.AxesSubplot at 0x23a9632bdc0>"
      ]
     },
     "execution_count": 38,
     "metadata": {},
     "output_type": "execute_result"
    },
    {
     "data": {
      "image/png": "[encoded data removed]",
      "text/plain": [
       "<Figure size 432x288 with 1 Axes>"
      ]
     },
     "metadata": {
      "needs_background": "light"
     },
     "output_type": "display_data"
    }
   ],
   "source": [
    "df['vh_speed'].hist()"
   ]
  },
  {
   "cell_type": "code",
   "execution_count": 57,
   "metadata": {},
   "outputs": [
    {
     "data": {
      "text/plain": [
       "0.9060172002185981"
      ]
     },
     "execution_count": 57,
     "metadata": {},
     "output_type": "execute_result"
    }
   ],
   "source": [
    "df[df['vh_speed']<180]['claim_amount'].value_counts()[0.00]/len(df[df['vh_speed']<180])"
   ]
  },
  {
   "cell_type": "code",
   "execution_count": 58,
   "metadata": {},
   "outputs": [
    {
     "data": {
      "text/plain": [
       "0.8833049616982926"
      ]
     },
     "execution_count": 58,
     "metadata": {},
     "output_type": "execute_result"
    }
   ],
   "source": [
    "df[df['vh_speed']>180]['claim_amount'].value_counts()[0.00]/len(df[df['vh_speed']>180])"
   ]
  },
  {
   "cell_type": "markdown",
   "metadata": {},
   "source": [
    "#### vh_value"
   ]
  },
  {
   "cell_type": "code",
   "execution_count": 59,
   "metadata": {},
   "outputs": [
    {
     "data": {
      "text/plain": [
       "<matplotlib.axes._subplots.AxesSubplot at 0x23a968bc1f0>"
      ]
     },
     "execution_count": 59,
     "metadata": {},
     "output_type": "execute_result"
    },
    {
     "data": {
      "image/png": "[encoded data removed]",
      "text/plain": [
       "<Figure size 432x288 with 1 Axes>"
      ]
     },
     "metadata": {
      "needs_background": "light"
     },
     "output_type": "display_data"
    }
   ],
   "source": [
    "df['vh_value'].hist()"
   ]
  },
  {
   "cell_type": "code",
   "execution_count": 70,
   "metadata": {},
   "outputs": [
    {
     "data": {
      "text/plain": [
       "<matplotlib.axes._subplots.AxesSubplot at 0x23a96a115b0>"
      ]
     },
     "execution_count": 70,
     "metadata": {},
     "output_type": "execute_result"
    },
    {
     "data": {
      "image/png": "[encoded data removed]",
      "text/plain": [
       "<Figure size 432x288 with 1 Axes>"
      ]
     },
     "metadata": {
      "needs_background": "light"
     },
     "output_type": "display_data"
    }
   ],
   "source": [
    "df[df['vh_value']<40000]['drv_sex1'].hist()"
   ]
  },
  {
   "cell_type": "code",
   "execution_count": 69,
   "metadata": {},
   "outputs": [
    {
     "data": {
      "text/plain": [
       "<matplotlib.axes._subplots.AxesSubplot at 0x23a968d2bb0>"
      ]
     },
     "execution_count": 69,
     "metadata": {},
     "output_type": "execute_result"
    },
    {
     "data": {
      "image/png": "[encoded data removed]",
      "text/plain": [
       "<Figure size 432x288 with 1 Axes>"
      ]
     },
     "metadata": {
      "needs_background": "light"
     },
     "output_type": "display_data"
    }
   ],
   "source": [
    "df[df['vh_value']>40000]['drv_sex1'].hist()"
   ]
  },
  {
   "cell_type": "markdown",
   "metadata": {},
   "source": [
    "#### vh_weight "
   ]
  },
  {
   "cell_type": "code",
   "execution_count": 78,
   "metadata": {},
   "outputs": [
    {
     "data": {
      "text/plain": [
       "<matplotlib.axes._subplots.AxesSubplot at 0x23a96b29b20>"
      ]
     },
     "execution_count": 78,
     "metadata": {},
     "output_type": "execute_result"
    },
    {
     "data": {
      "image/png": "[encoded data removed]",
      "text/plain": [
       "<Figure size 432x288 with 1 Axes>"
      ]
     },
     "metadata": {
      "needs_background": "light"
     },
     "output_type": "display_data"
    }
   ],
   "source": [
    "df['vh_weight'].hist()"
   ]
  },
  {
   "cell_type": "code",
   "execution_count": 16,
   "metadata": {},
   "outputs": [
    {
     "data": {
      "text/plain": [
       "<matplotlib.axes._subplots.AxesSubplot at 0x27b6edf3d00>"
      ]
     },
     "execution_count": 16,
     "metadata": {},
     "output_type": "execute_result"
    },
    {
     "data": {
      "image/png": "[encoded data removed]",
      "text/plain": [
       "<Figure size 432x288 with 1 Axes>"
      ]
     },
     "metadata": {
      "needs_background": "light"
     },
     "output_type": "display_data"
    }
   ],
   "source": [
    "df[df['vh_weight']<10]['vh_weight'].hist()"
   ]
  },
  {
   "cell_type": "markdown",
   "metadata": {},
   "source": [
    "#### population "
   ]
  },
  {
   "cell_type": "code",
   "execution_count": 86,
   "metadata": {},
   "outputs": [
    {
     "data": {
      "text/plain": [
       "<matplotlib.axes._subplots.AxesSubplot at 0x23a9a2a8790>"
      ]
     },
     "execution_count": 86,
     "metadata": {},
     "output_type": "execute_result"
    },
    {
     "data": {
      "image/png": "[encoded data removed]",
      "text/plain": [
       "<Figure size 432x288 with 1 Axes>"
      ]
     },
     "metadata": {
      "needs_background": "light"
     },
     "output_type": "display_data"
    }
   ],
   "source": [
    "df['population'].hist()"
   ]
  },
  {
   "cell_type": "code",
   "execution_count": 84,
   "metadata": {},
   "outputs": [
    {
     "data": {
      "text/html": [
       "<div>\n",
       "<style scoped>\n",
       "    .dataframe tbody tr th:only-of-type {\n",
       "        vertical-align: middle;\n",
       "    }\n",
       "\n",
       "    .dataframe tbody tr th {\n",
       "        vertical-align: top;\n",
       "    }\n",
       "\n",
       "    .dataframe thead th {\n",
       "        text-align: right;\n",
       "    }\n",
       "</style>\n",
       "<table border=\"1\" class=\"dataframe\">\n",
       "  <thead>\n",
       "    <tr style=\"text-align: right;\">\n",
       "      <th></th>\n",
       "      <th>id_policy</th>\n",
       "      <th>year</th>\n",
       "      <th>pol_no_claims_discount</th>\n",
       "      <th>pol_coverage</th>\n",
       "      <th>pol_duration</th>\n",
       "      <th>pol_sit_duration</th>\n",
       "      <th>pol_pay_freq</th>\n",
       "      <th>pol_payd</th>\n",
       "      <th>pol_usage</th>\n",
       "      <th>drv_sex1</th>\n",
       "      <th>drv_age1</th>\n",
       "      <th>drv_age_lic1</th>\n",
       "      <th>drv_drv2</th>\n",
       "      <th>drv_sex2</th>\n",
       "      <th>drv_age2</th>\n",
       "      <th>drv_age_lic2</th>\n",
       "      <th>vh_make_model</th>\n",
       "      <th>vh_age</th>\n",
       "      <th>vh_fuel</th>\n",
       "      <th>vh_type</th>\n",
       "      <th>vh_speed</th>\n",
       "      <th>vh_value</th>\n",
       "      <th>vh_weight</th>\n",
       "      <th>population</th>\n",
       "      <th>town_surface_area</th>\n",
       "      <th>claim_amount</th>\n",
       "    </tr>\n",
       "  </thead>\n",
       "  <tbody>\n",
       "    <tr>\n",
       "      <th>1081</th>\n",
       "      <td>PL041037</td>\n",
       "      <td>1.0</td>\n",
       "      <td>0.000</td>\n",
       "      <td>Max</td>\n",
       "      <td>27</td>\n",
       "      <td>6</td>\n",
       "      <td>Biannual</td>\n",
       "      <td>No</td>\n",
       "      <td>Retired</td>\n",
       "      <td>F</td>\n",
       "      <td>65.0</td>\n",
       "      <td>19.0</td>\n",
       "      <td>No</td>\n",
       "      <td>0</td>\n",
       "      <td>NaN</td>\n",
       "      <td>NaN</td>\n",
       "      <td>sioekxjbocpzrjzi</td>\n",
       "      <td>22.0</td>\n",
       "      <td>Gasoline</td>\n",
       "      <td>Tourism</td>\n",
       "      <td>174.0</td>\n",
       "      <td>8728.0</td>\n",
       "      <td>0.0</td>\n",
       "      <td>0.0</td>\n",
       "      <td>30.3</td>\n",
       "      <td>0.00</td>\n",
       "    </tr>\n",
       "    <tr>\n",
       "      <th>4920</th>\n",
       "      <td>PL040687</td>\n",
       "      <td>1.0</td>\n",
       "      <td>0.000</td>\n",
       "      <td>Max</td>\n",
       "      <td>31</td>\n",
       "      <td>11</td>\n",
       "      <td>Yearly</td>\n",
       "      <td>No</td>\n",
       "      <td>WorkPrivate</td>\n",
       "      <td>F</td>\n",
       "      <td>63.0</td>\n",
       "      <td>13.0</td>\n",
       "      <td>No</td>\n",
       "      <td>0</td>\n",
       "      <td>NaN</td>\n",
       "      <td>NaN</td>\n",
       "      <td>zoypfizhpbtpjwpv</td>\n",
       "      <td>11.0</td>\n",
       "      <td>Gasoline</td>\n",
       "      <td>Tourism</td>\n",
       "      <td>145.0</td>\n",
       "      <td>10896.0</td>\n",
       "      <td>660.0</td>\n",
       "      <td>0.0</td>\n",
       "      <td>66.3</td>\n",
       "      <td>0.00</td>\n",
       "    </tr>\n",
       "    <tr>\n",
       "      <th>5353</th>\n",
       "      <td>PL038458</td>\n",
       "      <td>1.0</td>\n",
       "      <td>0.000</td>\n",
       "      <td>Max</td>\n",
       "      <td>11</td>\n",
       "      <td>3</td>\n",
       "      <td>Biannual</td>\n",
       "      <td>No</td>\n",
       "      <td>WorkPrivate</td>\n",
       "      <td>M</td>\n",
       "      <td>57.0</td>\n",
       "      <td>35.0</td>\n",
       "      <td>Yes</td>\n",
       "      <td>M</td>\n",
       "      <td>59.0</td>\n",
       "      <td>34.0</td>\n",
       "      <td>swjkmyqytzxjwgag</td>\n",
       "      <td>4.0</td>\n",
       "      <td>Gasoline</td>\n",
       "      <td>Tourism</td>\n",
       "      <td>175.0</td>\n",
       "      <td>23900.0</td>\n",
       "      <td>1285.0</td>\n",
       "      <td>0.0</td>\n",
       "      <td>57.0</td>\n",
       "      <td>0.00</td>\n",
       "    </tr>\n",
       "    <tr>\n",
       "      <th>6059</th>\n",
       "      <td>PL052524</td>\n",
       "      <td>1.0</td>\n",
       "      <td>0.000</td>\n",
       "      <td>Min</td>\n",
       "      <td>4</td>\n",
       "      <td>1</td>\n",
       "      <td>Yearly</td>\n",
       "      <td>No</td>\n",
       "      <td>WorkPrivate</td>\n",
       "      <td>M</td>\n",
       "      <td>64.0</td>\n",
       "      <td>46.0</td>\n",
       "      <td>No</td>\n",
       "      <td>0</td>\n",
       "      <td>NaN</td>\n",
       "      <td>NaN</td>\n",
       "      <td>dbtkrhmbfxpkqbau</td>\n",
       "      <td>7.0</td>\n",
       "      <td>Diesel</td>\n",
       "      <td>Tourism</td>\n",
       "      <td>150.0</td>\n",
       "      <td>30795.0</td>\n",
       "      <td>1690.0</td>\n",
       "      <td>0.0</td>\n",
       "      <td>133.9</td>\n",
       "      <td>0.00</td>\n",
       "    </tr>\n",
       "    <tr>\n",
       "      <th>14209</th>\n",
       "      <td>PL023953</td>\n",
       "      <td>1.0</td>\n",
       "      <td>0.000</td>\n",
       "      <td>Max</td>\n",
       "      <td>25</td>\n",
       "      <td>2</td>\n",
       "      <td>Biannual</td>\n",
       "      <td>No</td>\n",
       "      <td>Retired</td>\n",
       "      <td>M</td>\n",
       "      <td>79.0</td>\n",
       "      <td>56.0</td>\n",
       "      <td>No</td>\n",
       "      <td>0</td>\n",
       "      <td>NaN</td>\n",
       "      <td>NaN</td>\n",
       "      <td>rthsjeyjgdlmkygk</td>\n",
       "      <td>6.0</td>\n",
       "      <td>Diesel</td>\n",
       "      <td>Tourism</td>\n",
       "      <td>182.0</td>\n",
       "      <td>12820.0</td>\n",
       "      <td>1036.0</td>\n",
       "      <td>0.0</td>\n",
       "      <td>40.0</td>\n",
       "      <td>2038.73</td>\n",
       "    </tr>\n",
       "    <tr>\n",
       "      <th>...</th>\n",
       "      <td>...</td>\n",
       "      <td>...</td>\n",
       "      <td>...</td>\n",
       "      <td>...</td>\n",
       "      <td>...</td>\n",
       "      <td>...</td>\n",
       "      <td>...</td>\n",
       "      <td>...</td>\n",
       "      <td>...</td>\n",
       "      <td>...</td>\n",
       "      <td>...</td>\n",
       "      <td>...</td>\n",
       "      <td>...</td>\n",
       "      <td>...</td>\n",
       "      <td>...</td>\n",
       "      <td>...</td>\n",
       "      <td>...</td>\n",
       "      <td>...</td>\n",
       "      <td>...</td>\n",
       "      <td>...</td>\n",
       "      <td>...</td>\n",
       "      <td>...</td>\n",
       "      <td>...</td>\n",
       "      <td>...</td>\n",
       "      <td>...</td>\n",
       "      <td>...</td>\n",
       "    </tr>\n",
       "    <tr>\n",
       "      <th>220542</th>\n",
       "      <td>PL052524</td>\n",
       "      <td>4.0</td>\n",
       "      <td>0.000</td>\n",
       "      <td>Min</td>\n",
       "      <td>7</td>\n",
       "      <td>4</td>\n",
       "      <td>Yearly</td>\n",
       "      <td>No</td>\n",
       "      <td>WorkPrivate</td>\n",
       "      <td>M</td>\n",
       "      <td>67.0</td>\n",
       "      <td>49.0</td>\n",
       "      <td>No</td>\n",
       "      <td>0</td>\n",
       "      <td>NaN</td>\n",
       "      <td>NaN</td>\n",
       "      <td>dbtkrhmbfxpkqbau</td>\n",
       "      <td>10.0</td>\n",
       "      <td>Diesel</td>\n",
       "      <td>Tourism</td>\n",
       "      <td>150.0</td>\n",
       "      <td>30795.0</td>\n",
       "      <td>1690.0</td>\n",
       "      <td>0.0</td>\n",
       "      <td>133.9</td>\n",
       "      <td>0.00</td>\n",
       "    </tr>\n",
       "    <tr>\n",
       "      <th>222821</th>\n",
       "      <td>PL006519</td>\n",
       "      <td>4.0</td>\n",
       "      <td>0.225</td>\n",
       "      <td>Med2</td>\n",
       "      <td>11</td>\n",
       "      <td>6</td>\n",
       "      <td>Monthly</td>\n",
       "      <td>No</td>\n",
       "      <td>Professional</td>\n",
       "      <td>M</td>\n",
       "      <td>47.0</td>\n",
       "      <td>11.0</td>\n",
       "      <td>No</td>\n",
       "      <td>0</td>\n",
       "      <td>NaN</td>\n",
       "      <td>NaN</td>\n",
       "      <td>dllcylnkzeegtsgr</td>\n",
       "      <td>11.0</td>\n",
       "      <td>Diesel</td>\n",
       "      <td>Commercial</td>\n",
       "      <td>NaN</td>\n",
       "      <td>NaN</td>\n",
       "      <td>NaN</td>\n",
       "      <td>0.0</td>\n",
       "      <td>101.8</td>\n",
       "      <td>0.00</td>\n",
       "    </tr>\n",
       "    <tr>\n",
       "      <th>222932</th>\n",
       "      <td>PL008242</td>\n",
       "      <td>4.0</td>\n",
       "      <td>0.000</td>\n",
       "      <td>Min</td>\n",
       "      <td>16</td>\n",
       "      <td>7</td>\n",
       "      <td>Biannual</td>\n",
       "      <td>No</td>\n",
       "      <td>WorkPrivate</td>\n",
       "      <td>M</td>\n",
       "      <td>61.0</td>\n",
       "      <td>42.0</td>\n",
       "      <td>No</td>\n",
       "      <td>0</td>\n",
       "      <td>NaN</td>\n",
       "      <td>NaN</td>\n",
       "      <td>tgvulwtrjyegawlr</td>\n",
       "      <td>17.0</td>\n",
       "      <td>Gasoline</td>\n",
       "      <td>Commercial</td>\n",
       "      <td>110.0</td>\n",
       "      <td>9657.0</td>\n",
       "      <td>0.0</td>\n",
       "      <td>0.0</td>\n",
       "      <td>57.0</td>\n",
       "      <td>0.00</td>\n",
       "    </tr>\n",
       "    <tr>\n",
       "      <th>224901</th>\n",
       "      <td>PL059087</td>\n",
       "      <td>4.0</td>\n",
       "      <td>0.000</td>\n",
       "      <td>Med2</td>\n",
       "      <td>26</td>\n",
       "      <td>12</td>\n",
       "      <td>Monthly</td>\n",
       "      <td>No</td>\n",
       "      <td>Retired</td>\n",
       "      <td>F</td>\n",
       "      <td>82.0</td>\n",
       "      <td>56.0</td>\n",
       "      <td>No</td>\n",
       "      <td>0</td>\n",
       "      <td>NaN</td>\n",
       "      <td>NaN</td>\n",
       "      <td>jhdjdpthkztnjvmb</td>\n",
       "      <td>20.0</td>\n",
       "      <td>Gasoline</td>\n",
       "      <td>Tourism</td>\n",
       "      <td>138.0</td>\n",
       "      <td>17126.0</td>\n",
       "      <td>1110.0</td>\n",
       "      <td>0.0</td>\n",
       "      <td>144.3</td>\n",
       "      <td>0.00</td>\n",
       "    </tr>\n",
       "    <tr>\n",
       "      <th>227225</th>\n",
       "      <td>PL007401</td>\n",
       "      <td>4.0</td>\n",
       "      <td>0.000</td>\n",
       "      <td>Med1</td>\n",
       "      <td>11</td>\n",
       "      <td>6</td>\n",
       "      <td>Biannual</td>\n",
       "      <td>No</td>\n",
       "      <td>WorkPrivate</td>\n",
       "      <td>M</td>\n",
       "      <td>67.0</td>\n",
       "      <td>45.0</td>\n",
       "      <td>Yes</td>\n",
       "      <td>M</td>\n",
       "      <td>31.0</td>\n",
       "      <td>11.0</td>\n",
       "      <td>ujwlwswdwvbpacnf</td>\n",
       "      <td>14.0</td>\n",
       "      <td>Gasoline</td>\n",
       "      <td>Tourism</td>\n",
       "      <td>95.0</td>\n",
       "      <td>4113.0</td>\n",
       "      <td>1345.0</td>\n",
       "      <td>0.0</td>\n",
       "      <td>57.0</td>\n",
       "      <td>0.00</td>\n",
       "    </tr>\n",
       "  </tbody>\n",
       "</table>\n",
       "<p>120 rows × 26 columns</p>\n",
       "</div>"
      ],
      "text/plain": [
       "       id_policy  year  pol_no_claims_discount pol_coverage  pol_duration  \\\n",
       "1081    PL041037   1.0                   0.000          Max            27   \n",
       "4920    PL040687   1.0                   0.000          Max            31   \n",
       "5353    PL038458   1.0                   0.000          Max            11   \n",
       "6059    PL052524   1.0                   0.000          Min             4   \n",
       "14209   PL023953   1.0                   0.000          Max            25   \n",
       "...          ...   ...                     ...          ...           ...   \n",
       "220542  PL052524   4.0                   0.000          Min             7   \n",
       "222821  PL006519   4.0                   0.225         Med2            11   \n",
       "222932  PL008242   4.0                   0.000          Min            16   \n",
       "224901  PL059087   4.0                   0.000         Med2            26   \n",
       "227225  PL007401   4.0                   0.000         Med1            11   \n",
       "\n",
       "        pol_sit_duration pol_pay_freq pol_payd     pol_usage drv_sex1  \\\n",
       "1081                   6     Biannual       No       Retired        F   \n",
       "4920                  11       Yearly       No   WorkPrivate        F   \n",
       "5353                   3     Biannual       No   WorkPrivate        M   \n",
       "6059                   1       Yearly       No   WorkPrivate        M   \n",
       "14209                  2     Biannual       No       Retired        M   \n",
       "...                  ...          ...      ...           ...      ...   \n",
       "220542                 4       Yearly       No   WorkPrivate        M   \n",
       "222821                 6      Monthly       No  Professional        M   \n",
       "222932                 7     Biannual       No   WorkPrivate        M   \n",
       "224901                12      Monthly       No       Retired        F   \n",
       "227225                 6     Biannual       No   WorkPrivate        M   \n",
       "\n",
       "        drv_age1  drv_age_lic1 drv_drv2 drv_sex2  drv_age2  drv_age_lic2  \\\n",
       "1081        65.0          19.0       No        0       NaN           NaN   \n",
       "4920        63.0          13.0       No        0       NaN           NaN   \n",
       "5353        57.0          35.0      Yes        M      59.0          34.0   \n",
       "6059        64.0          46.0       No        0       NaN           NaN   \n",
       "14209       79.0          56.0       No        0       NaN           NaN   \n",
       "...          ...           ...      ...      ...       ...           ...   \n",
       "220542      67.0          49.0       No        0       NaN           NaN   \n",
       "222821      47.0          11.0       No        0       NaN           NaN   \n",
       "222932      61.0          42.0       No        0       NaN           NaN   \n",
       "224901      82.0          56.0       No        0       NaN           NaN   \n",
       "227225      67.0          45.0      Yes        M      31.0          11.0   \n",
       "\n",
       "           vh_make_model  vh_age   vh_fuel     vh_type  vh_speed  vh_value  \\\n",
       "1081    sioekxjbocpzrjzi    22.0  Gasoline     Tourism     174.0    8728.0   \n",
       "4920    zoypfizhpbtpjwpv    11.0  Gasoline     Tourism     145.0   10896.0   \n",
       "5353    swjkmyqytzxjwgag     4.0  Gasoline     Tourism     175.0   23900.0   \n",
       "6059    dbtkrhmbfxpkqbau     7.0    Diesel     Tourism     150.0   30795.0   \n",
       "14209   rthsjeyjgdlmkygk     6.0    Diesel     Tourism     182.0   12820.0   \n",
       "...                  ...     ...       ...         ...       ...       ...   \n",
       "220542  dbtkrhmbfxpkqbau    10.0    Diesel     Tourism     150.0   30795.0   \n",
       "222821  dllcylnkzeegtsgr    11.0    Diesel  Commercial       NaN       NaN   \n",
       "222932  tgvulwtrjyegawlr    17.0  Gasoline  Commercial     110.0    9657.0   \n",
       "224901  jhdjdpthkztnjvmb    20.0  Gasoline     Tourism     138.0   17126.0   \n",
       "227225  ujwlwswdwvbpacnf    14.0  Gasoline     Tourism      95.0    4113.0   \n",
       "\n",
       "        vh_weight  population  town_surface_area  claim_amount  \n",
       "1081          0.0         0.0               30.3          0.00  \n",
       "4920        660.0         0.0               66.3          0.00  \n",
       "5353       1285.0         0.0               57.0          0.00  \n",
       "6059       1690.0         0.0              133.9          0.00  \n",
       "14209      1036.0         0.0               40.0       2038.73  \n",
       "...           ...         ...                ...           ...  \n",
       "220542     1690.0         0.0              133.9          0.00  \n",
       "222821        NaN         0.0              101.8          0.00  \n",
       "222932        0.0         0.0               57.0          0.00  \n",
       "224901     1110.0         0.0              144.3          0.00  \n",
       "227225     1345.0         0.0               57.0          0.00  \n",
       "\n",
       "[120 rows x 26 columns]"
      ]
     },
     "execution_count": 84,
     "metadata": {},
     "output_type": "execute_result"
    }
   ],
   "source": [
    "df[df['population']==0]"
   ]
  },
  {
   "cell_type": "markdown",
   "metadata": {},
   "source": [
    "#### town_surface_area\n"
   ]
  },
  {
   "cell_type": "code",
   "execution_count": 87,
   "metadata": {},
   "outputs": [
    {
     "data": {
      "text/plain": [
       "<matplotlib.axes._subplots.AxesSubplot at 0x23a9a4bfe80>"
      ]
     },
     "execution_count": 87,
     "metadata": {},
     "output_type": "execute_result"
    },
    {
     "data": {
      "image/png": "[encoded data removed]",
      "text/plain": [
       "<Figure size 432x288 with 1 Axes>"
      ]
     },
     "metadata": {
      "needs_background": "light"
     },
     "output_type": "display_data"
    }
   ],
   "source": [
    "df['town_surface_area'].hist()"
   ]
  },
  {
   "cell_type": "markdown",
   "metadata": {},
   "source": [
    "#### claim_amount "
   ]
  },
  {
   "cell_type": "code",
   "execution_count": 88,
   "metadata": {},
   "outputs": [
    {
     "data": {
      "text/plain": [
       "<matplotlib.axes._subplots.AxesSubplot at 0x23a9a34b610>"
      ]
     },
     "execution_count": 88,
     "metadata": {},
     "output_type": "execute_result"
    },
    {
     "data": {
      "image/png": "[encoded data removed]",
      "text/plain": [
       "<Figure size 432x288 with 1 Axes>"
      ]
     },
     "metadata": {
      "needs_background": "light"
     },
     "output_type": "display_data"
    }
   ],
   "source": [
    "df['claim_amount'].hist()"
   ]
  },
  {
   "cell_type": "code",
   "execution_count": 98,
   "metadata": {},
   "outputs": [
    {
     "data": {
      "text/plain": [
       "<matplotlib.axes._subplots.AxesSubplot at 0x23aa11e1a30>"
      ]
     },
     "execution_count": 98,
     "metadata": {},
     "output_type": "execute_result"
    },
    {
     "data": {
      "image/png": "[encoded data removed]",
      "text/plain": [
       "<Figure size 432x288 with 1 Axes>"
      ]
     },
     "metadata": {
      "needs_background": "light"
     },
     "output_type": "display_data"
    }
   ],
   "source": [
    "df[(df['claim_amount']>100) & (df['claim_amount']<20000)]['claim_amount'].hist(bins=100)"
   ]
  },
  {
   "cell_type": "code",
   "execution_count": 99,
   "metadata": {},
   "outputs": [
    {
     "data": {
      "text/plain": [
       "<matplotlib.axes._subplots.AxesSubplot at 0x23aa0c755b0>"
      ]
     },
     "execution_count": 99,
     "metadata": {},
     "output_type": "execute_result"
    },
    {
     "data": {
      "image/png": "[encoded data removed]",
      "text/plain": [
       "<Figure size 432x288 with 1 Axes>"
      ]
     },
     "metadata": {
      "needs_background": "light"
     },
     "output_type": "display_data"
    }
   ],
   "source": [
    "df[(df['claim_amount']>20000)]['claim_amount'].hist(bins=100)"
   ]
  },
  {
   "cell_type": "code",
   "execution_count": 100,
   "metadata": {},
   "outputs": [
    {
     "data": {
      "text/html": [
       "<div>\n",
       "<style scoped>\n",
       "    .dataframe tbody tr th:only-of-type {\n",
       "        vertical-align: middle;\n",
       "    }\n",
       "\n",
       "    .dataframe tbody tr th {\n",
       "        vertical-align: top;\n",
       "    }\n",
       "\n",
       "    .dataframe thead th {\n",
       "        text-align: right;\n",
       "    }\n",
       "</style>\n",
       "<table border=\"1\" class=\"dataframe\">\n",
       "  <thead>\n",
       "    <tr style=\"text-align: right;\">\n",
       "      <th></th>\n",
       "      <th>id_policy</th>\n",
       "      <th>year</th>\n",
       "      <th>pol_no_claims_discount</th>\n",
       "      <th>pol_coverage</th>\n",
       "      <th>pol_duration</th>\n",
       "      <th>pol_sit_duration</th>\n",
       "      <th>pol_pay_freq</th>\n",
       "      <th>pol_payd</th>\n",
       "      <th>pol_usage</th>\n",
       "      <th>drv_sex1</th>\n",
       "      <th>drv_age1</th>\n",
       "      <th>drv_age_lic1</th>\n",
       "      <th>drv_drv2</th>\n",
       "      <th>drv_sex2</th>\n",
       "      <th>drv_age2</th>\n",
       "      <th>drv_age_lic2</th>\n",
       "      <th>vh_make_model</th>\n",
       "      <th>vh_age</th>\n",
       "      <th>vh_fuel</th>\n",
       "      <th>vh_type</th>\n",
       "      <th>vh_speed</th>\n",
       "      <th>vh_value</th>\n",
       "      <th>vh_weight</th>\n",
       "      <th>population</th>\n",
       "      <th>town_surface_area</th>\n",
       "      <th>claim_amount</th>\n",
       "    </tr>\n",
       "  </thead>\n",
       "  <tbody>\n",
       "    <tr>\n",
       "      <th>13790</th>\n",
       "      <td>PL025631</td>\n",
       "      <td>1.0</td>\n",
       "      <td>0.0</td>\n",
       "      <td>Med2</td>\n",
       "      <td>31</td>\n",
       "      <td>8</td>\n",
       "      <td>Monthly</td>\n",
       "      <td>No</td>\n",
       "      <td>Retired</td>\n",
       "      <td>F</td>\n",
       "      <td>73.0</td>\n",
       "      <td>50.0</td>\n",
       "      <td>Yes</td>\n",
       "      <td>M</td>\n",
       "      <td>39.0</td>\n",
       "      <td>21.0</td>\n",
       "      <td>biqzvbfzjivqmrro</td>\n",
       "      <td>11.0</td>\n",
       "      <td>Gasoline</td>\n",
       "      <td>Tourism</td>\n",
       "      <td>140.0</td>\n",
       "      <td>1113.0</td>\n",
       "      <td>393.0</td>\n",
       "      <td>530.0</td>\n",
       "      <td>61.7</td>\n",
       "      <td>141828.26</td>\n",
       "    </tr>\n",
       "    <tr>\n",
       "      <th>215044</th>\n",
       "      <td>PL032444</td>\n",
       "      <td>4.0</td>\n",
       "      <td>0.0</td>\n",
       "      <td>Max</td>\n",
       "      <td>25</td>\n",
       "      <td>7</td>\n",
       "      <td>Biannual</td>\n",
       "      <td>No</td>\n",
       "      <td>WorkPrivate</td>\n",
       "      <td>F</td>\n",
       "      <td>68.0</td>\n",
       "      <td>43.0</td>\n",
       "      <td>No</td>\n",
       "      <td>0</td>\n",
       "      <td>NaN</td>\n",
       "      <td>NaN</td>\n",
       "      <td>zspzyfdefowgwddf</td>\n",
       "      <td>9.0</td>\n",
       "      <td>Gasoline</td>\n",
       "      <td>Tourism</td>\n",
       "      <td>200.0</td>\n",
       "      <td>25000.0</td>\n",
       "      <td>1300.0</td>\n",
       "      <td>310.0</td>\n",
       "      <td>96.5</td>\n",
       "      <td>132736.61</td>\n",
       "    </tr>\n",
       "  </tbody>\n",
       "</table>\n",
       "</div>"
      ],
      "text/plain": [
       "       id_policy  year  pol_no_claims_discount pol_coverage  pol_duration  \\\n",
       "13790   PL025631   1.0                     0.0         Med2            31   \n",
       "215044  PL032444   4.0                     0.0          Max            25   \n",
       "\n",
       "        pol_sit_duration pol_pay_freq pol_payd    pol_usage drv_sex1  \\\n",
       "13790                  8      Monthly       No      Retired        F   \n",
       "215044                 7     Biannual       No  WorkPrivate        F   \n",
       "\n",
       "        drv_age1  drv_age_lic1 drv_drv2 drv_sex2  drv_age2  drv_age_lic2  \\\n",
       "13790       73.0          50.0      Yes        M      39.0          21.0   \n",
       "215044      68.0          43.0       No        0       NaN           NaN   \n",
       "\n",
       "           vh_make_model  vh_age   vh_fuel  vh_type  vh_speed  vh_value  \\\n",
       "13790   biqzvbfzjivqmrro    11.0  Gasoline  Tourism     140.0    1113.0   \n",
       "215044  zspzyfdefowgwddf     9.0  Gasoline  Tourism     200.0   25000.0   \n",
       "\n",
       "        vh_weight  population  town_surface_area  claim_amount  \n",
       "13790       393.0       530.0               61.7     141828.26  \n",
       "215044     1300.0       310.0               96.5     132736.61  "
      ]
     },
     "execution_count": 100,
     "metadata": {},
     "output_type": "execute_result"
    }
   ],
   "source": [
    "df[df['claim_amount']>120000]"
   ]
  },
  {
   "cell_type": "markdown",
   "metadata": {},
   "source": [
    "#### Testes"
   ]
  },
  {
   "cell_type": "code",
   "execution_count": 217,
   "metadata": {},
   "outputs": [
    {
     "data": {
      "text/plain": [
       "year                     -0.007095\n",
       "pol_no_claims_discount    0.016296\n",
       "pol_duration             -0.002996\n",
       "pol_sit_duration         -0.025099\n",
       "drv_age1                 -0.000572\n",
       "drv_age_lic1              0.000089\n",
       "drv_age2                 -0.003440\n",
       "drv_age_lic2             -0.004777\n",
       "vh_age                   -0.064097\n",
       "vh_speed                  0.031857\n",
       "vh_value                  0.032733\n",
       "vh_weight                 0.029295\n",
       "population                0.009372\n",
       "town_surface_area        -0.006377\n",
       "claim_amount              1.000000\n",
       "Name: claim_amount, dtype: float64"
      ]
     },
     "execution_count": 217,
     "metadata": {},
     "output_type": "execute_result"
    }
   ],
   "source": [
    "df.corr()['claim_amount']"
   ]
  },
  {
   "cell_type": "code",
   "execution_count": 110,
   "metadata": {},
   "outputs": [
    {
     "data": {
      "text/html": [
       "<div>\n",
       "<style scoped>\n",
       "    .dataframe tbody tr th:only-of-type {\n",
       "        vertical-align: middle;\n",
       "    }\n",
       "\n",
       "    .dataframe tbody tr th {\n",
       "        vertical-align: top;\n",
       "    }\n",
       "\n",
       "    .dataframe thead th {\n",
       "        text-align: right;\n",
       "    }\n",
       "</style>\n",
       "<table border=\"1\" class=\"dataframe\">\n",
       "  <thead>\n",
       "    <tr style=\"text-align: right;\">\n",
       "      <th></th>\n",
       "      <th>id_policy</th>\n",
       "      <th>year</th>\n",
       "      <th>pol_no_claims_discount</th>\n",
       "      <th>pol_coverage</th>\n",
       "      <th>pol_duration</th>\n",
       "      <th>pol_sit_duration</th>\n",
       "      <th>pol_pay_freq</th>\n",
       "      <th>pol_payd</th>\n",
       "      <th>pol_usage</th>\n",
       "      <th>drv_sex1</th>\n",
       "      <th>drv_age1</th>\n",
       "      <th>drv_age_lic1</th>\n",
       "      <th>drv_drv2</th>\n",
       "      <th>drv_sex2</th>\n",
       "      <th>drv_age2</th>\n",
       "      <th>drv_age_lic2</th>\n",
       "      <th>vh_make_model</th>\n",
       "      <th>vh_age</th>\n",
       "      <th>vh_fuel</th>\n",
       "      <th>vh_type</th>\n",
       "      <th>vh_speed</th>\n",
       "      <th>vh_value</th>\n",
       "      <th>vh_weight</th>\n",
       "      <th>population</th>\n",
       "      <th>town_surface_area</th>\n",
       "      <th>claim_amount</th>\n",
       "    </tr>\n",
       "  </thead>\n",
       "  <tbody>\n",
       "    <tr>\n",
       "      <th>25525</th>\n",
       "      <td>PL084523</td>\n",
       "      <td>1.0</td>\n",
       "      <td>0.483</td>\n",
       "      <td>Max</td>\n",
       "      <td>4</td>\n",
       "      <td>3</td>\n",
       "      <td>Yearly</td>\n",
       "      <td>No</td>\n",
       "      <td>WorkPrivate</td>\n",
       "      <td>F</td>\n",
       "      <td>64.0</td>\n",
       "      <td>45.0</td>\n",
       "      <td>No</td>\n",
       "      <td>0</td>\n",
       "      <td>NaN</td>\n",
       "      <td>NaN</td>\n",
       "      <td>demgvtbzilochupd</td>\n",
       "      <td>7.0</td>\n",
       "      <td>Gasoline</td>\n",
       "      <td>Tourism</td>\n",
       "      <td>160.0</td>\n",
       "      <td>2088.0</td>\n",
       "      <td>0.0</td>\n",
       "      <td>380.0</td>\n",
       "      <td>332.5</td>\n",
       "      <td>530.73</td>\n",
       "    </tr>\n",
       "  </tbody>\n",
       "</table>\n",
       "</div>"
      ],
      "text/plain": [
       "      id_policy  year  pol_no_claims_discount pol_coverage  pol_duration  \\\n",
       "25525  PL084523   1.0                   0.483          Max             4   \n",
       "\n",
       "       pol_sit_duration pol_pay_freq pol_payd    pol_usage drv_sex1  drv_age1  \\\n",
       "25525                 3       Yearly       No  WorkPrivate        F      64.0   \n",
       "\n",
       "       drv_age_lic1 drv_drv2 drv_sex2  drv_age2  drv_age_lic2  \\\n",
       "25525          45.0       No        0       NaN           NaN   \n",
       "\n",
       "          vh_make_model  vh_age   vh_fuel  vh_type  vh_speed  vh_value  \\\n",
       "25525  demgvtbzilochupd     7.0  Gasoline  Tourism     160.0    2088.0   \n",
       "\n",
       "       vh_weight  population  town_surface_area  claim_amount  \n",
       "25525        0.0       380.0              332.5        530.73  "
      ]
     },
     "execution_count": 110,
     "metadata": {},
     "output_type": "execute_result"
    }
   ],
   "source": [
    "df[df['claim_amount']>0].sample()"
   ]
  },
  {
   "cell_type": "code",
   "execution_count": 112,
   "metadata": {},
   "outputs": [
    {
     "data": {
      "text/plain": [
       "<matplotlib.axes._subplots.AxesSubplot at 0x23aa1304f40>"
      ]
     },
     "execution_count": 112,
     "metadata": {},
     "output_type": "execute_result"
    },
    {
     "data": {
      "image/png": "[encoded data removed]",
      "text/plain": [
       "<Figure size 432x288 with 1 Axes>"
      ]
     },
     "metadata": {
      "needs_background": "light"
     },
     "output_type": "display_data"
    }
   ],
   "source": [
    "df[df['claim_amount']>0]['drv_sex1'].hist()"
   ]
  },
  {
   "cell_type": "code",
   "execution_count": 122,
   "metadata": {},
   "outputs": [
    {
     "data": {
      "text/html": [
       "<div>\n",
       "<style scoped>\n",
       "    .dataframe tbody tr th:only-of-type {\n",
       "        vertical-align: middle;\n",
       "    }\n",
       "\n",
       "    .dataframe tbody tr th {\n",
       "        vertical-align: top;\n",
       "    }\n",
       "\n",
       "    .dataframe thead th {\n",
       "        text-align: right;\n",
       "    }\n",
       "</style>\n",
       "<table border=\"1\" class=\"dataframe\">\n",
       "  <thead>\n",
       "    <tr style=\"text-align: right;\">\n",
       "      <th></th>\n",
       "      <th>id_policy</th>\n",
       "      <th>year</th>\n",
       "      <th>pol_no_claims_discount</th>\n",
       "      <th>pol_coverage</th>\n",
       "      <th>pol_duration</th>\n",
       "      <th>pol_sit_duration</th>\n",
       "      <th>pol_pay_freq</th>\n",
       "      <th>pol_payd</th>\n",
       "      <th>pol_usage</th>\n",
       "      <th>drv_sex1</th>\n",
       "      <th>drv_age1</th>\n",
       "      <th>drv_age_lic1</th>\n",
       "      <th>drv_drv2</th>\n",
       "      <th>drv_sex2</th>\n",
       "      <th>drv_age2</th>\n",
       "      <th>drv_age_lic2</th>\n",
       "      <th>vh_make_model</th>\n",
       "      <th>vh_age</th>\n",
       "      <th>vh_fuel</th>\n",
       "      <th>vh_type</th>\n",
       "      <th>vh_speed</th>\n",
       "      <th>vh_value</th>\n",
       "      <th>vh_weight</th>\n",
       "      <th>population</th>\n",
       "      <th>town_surface_area</th>\n",
       "      <th>claim_amount</th>\n",
       "    </tr>\n",
       "  </thead>\n",
       "  <tbody>\n",
       "    <tr>\n",
       "      <th>25525</th>\n",
       "      <td>PL084523</td>\n",
       "      <td>1.0</td>\n",
       "      <td>0.483</td>\n",
       "      <td>Max</td>\n",
       "      <td>4</td>\n",
       "      <td>3</td>\n",
       "      <td>Yearly</td>\n",
       "      <td>No</td>\n",
       "      <td>WorkPrivate</td>\n",
       "      <td>F</td>\n",
       "      <td>64.0</td>\n",
       "      <td>45.0</td>\n",
       "      <td>No</td>\n",
       "      <td>0</td>\n",
       "      <td>NaN</td>\n",
       "      <td>NaN</td>\n",
       "      <td>demgvtbzilochupd</td>\n",
       "      <td>7.0</td>\n",
       "      <td>Gasoline</td>\n",
       "      <td>Tourism</td>\n",
       "      <td>160.0</td>\n",
       "      <td>2088.0</td>\n",
       "      <td>0.0</td>\n",
       "      <td>380.0</td>\n",
       "      <td>332.5</td>\n",
       "      <td>530.73</td>\n",
       "    </tr>\n",
       "    <tr>\n",
       "      <th>68562</th>\n",
       "      <td>PL084523</td>\n",
       "      <td>2.0</td>\n",
       "      <td>0.428</td>\n",
       "      <td>Max</td>\n",
       "      <td>5</td>\n",
       "      <td>4</td>\n",
       "      <td>Yearly</td>\n",
       "      <td>No</td>\n",
       "      <td>WorkPrivate</td>\n",
       "      <td>F</td>\n",
       "      <td>65.0</td>\n",
       "      <td>46.0</td>\n",
       "      <td>No</td>\n",
       "      <td>0</td>\n",
       "      <td>NaN</td>\n",
       "      <td>NaN</td>\n",
       "      <td>demgvtbzilochupd</td>\n",
       "      <td>8.0</td>\n",
       "      <td>Gasoline</td>\n",
       "      <td>Tourism</td>\n",
       "      <td>160.0</td>\n",
       "      <td>2088.0</td>\n",
       "      <td>0.0</td>\n",
       "      <td>380.0</td>\n",
       "      <td>332.5</td>\n",
       "      <td>0.00</td>\n",
       "    </tr>\n",
       "    <tr>\n",
       "      <th>168880</th>\n",
       "      <td>PL084523</td>\n",
       "      <td>3.0</td>\n",
       "      <td>0.381</td>\n",
       "      <td>Max</td>\n",
       "      <td>6</td>\n",
       "      <td>5</td>\n",
       "      <td>Yearly</td>\n",
       "      <td>No</td>\n",
       "      <td>WorkPrivate</td>\n",
       "      <td>F</td>\n",
       "      <td>66.0</td>\n",
       "      <td>47.0</td>\n",
       "      <td>No</td>\n",
       "      <td>0</td>\n",
       "      <td>NaN</td>\n",
       "      <td>NaN</td>\n",
       "      <td>demgvtbzilochupd</td>\n",
       "      <td>9.0</td>\n",
       "      <td>Gasoline</td>\n",
       "      <td>Tourism</td>\n",
       "      <td>160.0</td>\n",
       "      <td>2088.0</td>\n",
       "      <td>0.0</td>\n",
       "      <td>380.0</td>\n",
       "      <td>332.5</td>\n",
       "      <td>2112.93</td>\n",
       "    </tr>\n",
       "    <tr>\n",
       "      <th>173905</th>\n",
       "      <td>PL084523</td>\n",
       "      <td>4.0</td>\n",
       "      <td>0.584</td>\n",
       "      <td>Max</td>\n",
       "      <td>7</td>\n",
       "      <td>6</td>\n",
       "      <td>Yearly</td>\n",
       "      <td>No</td>\n",
       "      <td>WorkPrivate</td>\n",
       "      <td>F</td>\n",
       "      <td>67.0</td>\n",
       "      <td>48.0</td>\n",
       "      <td>No</td>\n",
       "      <td>0</td>\n",
       "      <td>NaN</td>\n",
       "      <td>NaN</td>\n",
       "      <td>demgvtbzilochupd</td>\n",
       "      <td>10.0</td>\n",
       "      <td>Gasoline</td>\n",
       "      <td>Tourism</td>\n",
       "      <td>160.0</td>\n",
       "      <td>2088.0</td>\n",
       "      <td>0.0</td>\n",
       "      <td>380.0</td>\n",
       "      <td>332.5</td>\n",
       "      <td>106.75</td>\n",
       "    </tr>\n",
       "  </tbody>\n",
       "</table>\n",
       "</div>"
      ],
      "text/plain": [
       "       id_policy  year  pol_no_claims_discount pol_coverage  pol_duration  \\\n",
       "25525   PL084523   1.0                   0.483          Max             4   \n",
       "68562   PL084523   2.0                   0.428          Max             5   \n",
       "168880  PL084523   3.0                   0.381          Max             6   \n",
       "173905  PL084523   4.0                   0.584          Max             7   \n",
       "\n",
       "        pol_sit_duration pol_pay_freq pol_payd    pol_usage drv_sex1  \\\n",
       "25525                  3       Yearly       No  WorkPrivate        F   \n",
       "68562                  4       Yearly       No  WorkPrivate        F   \n",
       "168880                 5       Yearly       No  WorkPrivate        F   \n",
       "173905                 6       Yearly       No  WorkPrivate        F   \n",
       "\n",
       "        drv_age1  drv_age_lic1 drv_drv2 drv_sex2  drv_age2  drv_age_lic2  \\\n",
       "25525       64.0          45.0       No        0       NaN           NaN   \n",
       "68562       65.0          46.0       No        0       NaN           NaN   \n",
       "168880      66.0          47.0       No        0       NaN           NaN   \n",
       "173905      67.0          48.0       No        0       NaN           NaN   \n",
       "\n",
       "           vh_make_model  vh_age   vh_fuel  vh_type  vh_speed  vh_value  \\\n",
       "25525   demgvtbzilochupd     7.0  Gasoline  Tourism     160.0    2088.0   \n",
       "68562   demgvtbzilochupd     8.0  Gasoline  Tourism     160.0    2088.0   \n",
       "168880  demgvtbzilochupd     9.0  Gasoline  Tourism     160.0    2088.0   \n",
       "173905  demgvtbzilochupd    10.0  Gasoline  Tourism     160.0    2088.0   \n",
       "\n",
       "        vh_weight  population  town_surface_area  claim_amount  \n",
       "25525         0.0       380.0              332.5        530.73  \n",
       "68562         0.0       380.0              332.5          0.00  \n",
       "168880        0.0       380.0              332.5       2112.93  \n",
       "173905        0.0       380.0              332.5        106.75  "
      ]
     },
     "execution_count": 122,
     "metadata": {},
     "output_type": "execute_result"
    }
   ],
   "source": [
    "df[df['id_policy']=='PL084523'].iloc[:,:]"
   ]
  },
  {
   "cell_type": "code",
   "execution_count": 114,
   "metadata": {},
   "outputs": [
    {
     "data": {
      "text/plain": [
       "1    14440\n",
       "2     3495\n",
       "3      542\n",
       "4       59\n",
       "Name: claim_amount, dtype: int64"
      ]
     },
     "execution_count": 114,
     "metadata": {},
     "output_type": "execute_result"
    }
   ],
   "source": [
    "df[df['claim_amount']>0].groupby('id_policy')['claim_amount'].count().value_counts()"
   ]
  },
  {
   "cell_type": "code",
   "execution_count": 120,
   "metadata": {},
   "outputs": [
    {
     "data": {
      "text/html": [
       "<div>\n",
       "<style scoped>\n",
       "    .dataframe tbody tr th:only-of-type {\n",
       "        vertical-align: middle;\n",
       "    }\n",
       "\n",
       "    .dataframe tbody tr th {\n",
       "        vertical-align: top;\n",
       "    }\n",
       "\n",
       "    .dataframe thead th {\n",
       "        text-align: right;\n",
       "    }\n",
       "</style>\n",
       "<table border=\"1\" class=\"dataframe\">\n",
       "  <thead>\n",
       "    <tr style=\"text-align: right;\">\n",
       "      <th></th>\n",
       "      <th>Max</th>\n",
       "      <th>Med1</th>\n",
       "      <th>Med2</th>\n",
       "      <th>Min</th>\n",
       "    </tr>\n",
       "  </thead>\n",
       "  <tbody>\n",
       "    <tr>\n",
       "      <th>0</th>\n",
       "      <td>0</td>\n",
       "      <td>0</td>\n",
       "      <td>1</td>\n",
       "      <td>0</td>\n",
       "    </tr>\n",
       "    <tr>\n",
       "      <th>1</th>\n",
       "      <td>0</td>\n",
       "      <td>0</td>\n",
       "      <td>1</td>\n",
       "      <td>0</td>\n",
       "    </tr>\n",
       "    <tr>\n",
       "      <th>2</th>\n",
       "      <td>0</td>\n",
       "      <td>1</td>\n",
       "      <td>0</td>\n",
       "      <td>0</td>\n",
       "    </tr>\n",
       "    <tr>\n",
       "      <th>3</th>\n",
       "      <td>0</td>\n",
       "      <td>0</td>\n",
       "      <td>1</td>\n",
       "      <td>0</td>\n",
       "    </tr>\n",
       "    <tr>\n",
       "      <th>4</th>\n",
       "      <td>0</td>\n",
       "      <td>1</td>\n",
       "      <td>0</td>\n",
       "      <td>0</td>\n",
       "    </tr>\n",
       "    <tr>\n",
       "      <th>...</th>\n",
       "      <td>...</td>\n",
       "      <td>...</td>\n",
       "      <td>...</td>\n",
       "      <td>...</td>\n",
       "    </tr>\n",
       "    <tr>\n",
       "      <th>228211</th>\n",
       "      <td>0</td>\n",
       "      <td>0</td>\n",
       "      <td>1</td>\n",
       "      <td>0</td>\n",
       "    </tr>\n",
       "    <tr>\n",
       "      <th>228212</th>\n",
       "      <td>1</td>\n",
       "      <td>0</td>\n",
       "      <td>0</td>\n",
       "      <td>0</td>\n",
       "    </tr>\n",
       "    <tr>\n",
       "      <th>228213</th>\n",
       "      <td>1</td>\n",
       "      <td>0</td>\n",
       "      <td>0</td>\n",
       "      <td>0</td>\n",
       "    </tr>\n",
       "    <tr>\n",
       "      <th>228214</th>\n",
       "      <td>1</td>\n",
       "      <td>0</td>\n",
       "      <td>0</td>\n",
       "      <td>0</td>\n",
       "    </tr>\n",
       "    <tr>\n",
       "      <th>228215</th>\n",
       "      <td>1</td>\n",
       "      <td>0</td>\n",
       "      <td>0</td>\n",
       "      <td>0</td>\n",
       "    </tr>\n",
       "  </tbody>\n",
       "</table>\n",
       "<p>228216 rows × 4 columns</p>\n",
       "</div>"
      ],
      "text/plain": [
       "        Max  Med1  Med2  Min\n",
       "0         0     0     1    0\n",
       "1         0     0     1    0\n",
       "2         0     1     0    0\n",
       "3         0     0     1    0\n",
       "4         0     1     0    0\n",
       "...     ...   ...   ...  ...\n",
       "228211    0     0     1    0\n",
       "228212    1     0     0    0\n",
       "228213    1     0     0    0\n",
       "228214    1     0     0    0\n",
       "228215    1     0     0    0\n",
       "\n",
       "[228216 rows x 4 columns]"
      ]
     },
     "execution_count": 120,
     "metadata": {},
     "output_type": "execute_result"
    }
   ],
   "source": [
    "pd.get_dummies(df['pol_coverage'])"
   ]
  },
  {
   "cell_type": "code",
   "execution_count": 139,
   "metadata": {},
   "outputs": [],
   "source": [
    "df_com_claim = df[df['claim_amount']>0]\n",
    "df_sem_claim = df[df['claim_amount']==0]"
   ]
  },
  {
   "cell_type": "code",
   "execution_count": 183,
   "metadata": {},
   "outputs": [
    {
     "data": {
      "text/plain": [
       "[<matplotlib.lines.Line2D at 0x23aaf0c9520>]"
      ]
     },
     "execution_count": 183,
     "metadata": {},
     "output_type": "execute_result"
    },
    {
     "data": {
      "image/png": "[encoded data removed]",
      "text/plain": [
       "<Figure size 432x288 with 1 Axes>"
      ]
     },
     "metadata": {
      "needs_background": "light"
     },
     "output_type": "display_data"
    }
   ],
   "source": [
    "df_scatter = df[df['year']==4].dropna(subset = ['drv_age2'])\n",
    "\n",
    "fig=plt.figure()\n",
    "ax=fig.add_axes([0,0,1,1])\n",
    "ax.scatter(df_scatter[df_scatter['drv_sex1']=='M']['drv_age1'], df_scatter[df_scatter['drv_sex1']=='M']['drv_age2'], color='b',s=1)\n",
    "ax.scatter(df_scatter[df_scatter['drv_sex1']=='F']['drv_age1'], df_scatter[df_scatter['drv_sex1']=='F']['drv_age2'], color='r',s=1)\n",
    "ax.plot(list(range(20,100)),list(range(20,100)),color='g')"
   ]
  },
  {
   "cell_type": "code",
   "execution_count": 213,
   "metadata": {},
   "outputs": [
    {
     "name": "stdout",
     "output_type": "stream",
     "text": [
      "0.12165323628801664\n"
     ]
    },
    {
     "data": {
      "text/plain": [
       "<matplotlib.axes._subplots.AxesSubplot at 0x23ab8397ca0>"
      ]
     },
     "execution_count": 213,
     "metadata": {},
     "output_type": "execute_result"
    },
    {
     "data": {
      "image/png": "[encoded data removed]",
      "text/plain": [
       "<Figure size 432x288 with 1 Axes>"
      ]
     },
     "metadata": {
      "needs_background": "light"
     },
     "output_type": "display_data"
    }
   ],
   "source": [
    "df_drv2_jovem = df[df['drv_age2']<=30]\n",
    "\n",
    "print(len(df_drv2_jovem[df_drv2_jovem['claim_amount']>0])/len(df_drv2_jovem))\n",
    "\n",
    "df_drv2_jovem[df_drv2_jovem['claim_amount']>0]['claim_amount'].hist(bins=50)"
   ]
  },
  {
   "cell_type": "code",
   "execution_count": 214,
   "metadata": {},
   "outputs": [
    {
     "name": "stdout",
     "output_type": "stream",
     "text": [
      "0.10101765316718588\n"
     ]
    },
    {
     "data": {
      "text/plain": [
       "<matplotlib.axes._subplots.AxesSubplot at 0x23ab801a8b0>"
      ]
     },
     "execution_count": 214,
     "metadata": {},
     "output_type": "execute_result"
    },
    {
     "data": {
      "image/png": "[encoded data removed]",
      "text/plain": [
       "<Figure size 432x288 with 1 Axes>"
      ]
     },
     "metadata": {
      "needs_background": "light"
     },
     "output_type": "display_data"
    }
   ],
   "source": [
    "df_drv2_jovem = df[(df['drv_age2']<=30)==False]\n",
    "print(len(df_drv2_jovem[df_drv2_jovem['claim_amount']>0])/len(df_drv2_jovem))\n",
    "\n",
    "df_drv2_jovem[(df_drv2_jovem['claim_amount']>0) & (df_drv2_jovem['claim_amount']<8000)]['claim_amount'].hist(bins=50)"
   ]
  },
  {
   "cell_type": "code",
   "execution_count": 197,
   "metadata": {},
   "outputs": [
    {
     "data": {
      "text/plain": [
       "0.10206120517404564"
      ]
     },
     "execution_count": 197,
     "metadata": {},
     "output_type": "execute_result"
    }
   ],
   "source": [
    "len(df[df['claim_amount']>0])/len(df)"
   ]
  },
  {
   "cell_type": "code",
   "execution_count": null,
   "metadata": {},
   "outputs": [],
   "source": []
  }
 ],
 "metadata": {
  "kernelspec": {
   "display_name": "Python 3",
   "language": "python",
   "name": "python3"
  },
  "language_info": {
   "codemirror_mode": {
    "name": "ipython",
    "version": 3
   },
   "file_extension": ".py",
   "mimetype": "text/x-python",
   "name": "python",
   "nbconvert_exporter": "python",
   "pygments_lexer": "ipython3",
   "version": "3.8.3"
  }
 },
 "nbformat": 4,
 "nbformat_minor": 4
}

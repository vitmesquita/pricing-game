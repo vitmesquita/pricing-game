{
 "cells": [
  {
   "cell_type": "code",
   "execution_count": 1,
   "metadata": {},
   "outputs": [],
   "source": [
    "import pandas as pd\n",
    "import numpy as np\n",
    "from config import *\n",
    "import matplotlib.pyplot as plt\n",
    "\n",
    "pd.set_option('display.max_columns', 500)"
   ]
  },
  {
   "cell_type": "code",
   "execution_count": 3,
   "metadata": {},
   "outputs": [
    {
     "data": {
      "text/plain": [
       "(54000, 15)"
      ]
     },
     "execution_count": 3,
     "metadata": {},
     "output_type": "execute_result"
    }
   ],
   "source": [
    "df = pd.read_csv(path_arquivo_treino)\n",
    "df.shape"
   ]
  },
  {
   "cell_type": "code",
   "execution_count": 29,
   "metadata": {},
   "outputs": [],
   "source": [
    "df['DateTimeOfAccident']=pd.to_datetime(df['DateTimeOfAccident'])\n",
    "df['DateReported'] = pd.to_datetime(df['DateReported'])"
   ]
  },
  {
   "cell_type": "code",
   "execution_count": 30,
   "metadata": {},
   "outputs": [
    {
     "data": {
      "text/html": [
       "<div>\n",
       "<style scoped>\n",
       "    .dataframe tbody tr th:only-of-type {\n",
       "        vertical-align: middle;\n",
       "    }\n",
       "\n",
       "    .dataframe tbody tr th {\n",
       "        vertical-align: top;\n",
       "    }\n",
       "\n",
       "    .dataframe thead th {\n",
       "        text-align: right;\n",
       "    }\n",
       "</style>\n",
       "<table border=\"1\" class=\"dataframe\">\n",
       "  <thead>\n",
       "    <tr style=\"text-align: right;\">\n",
       "      <th></th>\n",
       "      <th>ClaimNumber</th>\n",
       "      <th>DateTimeOfAccident</th>\n",
       "      <th>DateReported</th>\n",
       "      <th>Age</th>\n",
       "      <th>Gender</th>\n",
       "      <th>MaritalStatus</th>\n",
       "      <th>DependentChildren</th>\n",
       "      <th>DependentsOther</th>\n",
       "      <th>WeeklyWages</th>\n",
       "      <th>PartTimeFullTime</th>\n",
       "      <th>HoursWorkedPerWeek</th>\n",
       "      <th>DaysWorkedPerWeek</th>\n",
       "      <th>ClaimDescription</th>\n",
       "      <th>InitialIncurredCalimsCost</th>\n",
       "      <th>UltimateIncurredClaimCost</th>\n",
       "    </tr>\n",
       "  </thead>\n",
       "  <tbody>\n",
       "    <tr>\n",
       "      <th>0</th>\n",
       "      <td>WC8285054</td>\n",
       "      <td>2002-04-09 07:00:00+00:00</td>\n",
       "      <td>2002-07-05 00:00:00+00:00</td>\n",
       "      <td>48</td>\n",
       "      <td>M</td>\n",
       "      <td>M</td>\n",
       "      <td>0</td>\n",
       "      <td>0</td>\n",
       "      <td>500.00</td>\n",
       "      <td>F</td>\n",
       "      <td>38.0</td>\n",
       "      <td>5</td>\n",
       "      <td>LIFTING TYRE INJURY TO RIGHT ARM AND WRIST INJURY</td>\n",
       "      <td>1500</td>\n",
       "      <td>4748.203388</td>\n",
       "    </tr>\n",
       "    <tr>\n",
       "      <th>1</th>\n",
       "      <td>WC6982224</td>\n",
       "      <td>1999-01-07 11:00:00+00:00</td>\n",
       "      <td>1999-01-20 00:00:00+00:00</td>\n",
       "      <td>43</td>\n",
       "      <td>F</td>\n",
       "      <td>M</td>\n",
       "      <td>0</td>\n",
       "      <td>0</td>\n",
       "      <td>509.34</td>\n",
       "      <td>F</td>\n",
       "      <td>37.5</td>\n",
       "      <td>5</td>\n",
       "      <td>STEPPED AROUND CRATES AND TRUCK TRAY FRACTURE ...</td>\n",
       "      <td>5500</td>\n",
       "      <td>6326.285819</td>\n",
       "    </tr>\n",
       "    <tr>\n",
       "      <th>2</th>\n",
       "      <td>WC5481426</td>\n",
       "      <td>1996-03-25 00:00:00+00:00</td>\n",
       "      <td>1996-04-14 00:00:00+00:00</td>\n",
       "      <td>30</td>\n",
       "      <td>M</td>\n",
       "      <td>U</td>\n",
       "      <td>0</td>\n",
       "      <td>0</td>\n",
       "      <td>709.10</td>\n",
       "      <td>F</td>\n",
       "      <td>38.0</td>\n",
       "      <td>5</td>\n",
       "      <td>CUT ON SHARP EDGE CUT LEFT THUMB</td>\n",
       "      <td>1700</td>\n",
       "      <td>2293.949087</td>\n",
       "    </tr>\n",
       "    <tr>\n",
       "      <th>3</th>\n",
       "      <td>WC9775968</td>\n",
       "      <td>2005-06-22 13:00:00+00:00</td>\n",
       "      <td>2005-07-22 00:00:00+00:00</td>\n",
       "      <td>41</td>\n",
       "      <td>M</td>\n",
       "      <td>S</td>\n",
       "      <td>0</td>\n",
       "      <td>0</td>\n",
       "      <td>555.46</td>\n",
       "      <td>F</td>\n",
       "      <td>38.0</td>\n",
       "      <td>5</td>\n",
       "      <td>DIGGING LOWER BACK LOWER BACK STRAIN</td>\n",
       "      <td>15000</td>\n",
       "      <td>17786.487170</td>\n",
       "    </tr>\n",
       "    <tr>\n",
       "      <th>4</th>\n",
       "      <td>WC2634037</td>\n",
       "      <td>1990-08-29 08:00:00+00:00</td>\n",
       "      <td>1990-09-27 00:00:00+00:00</td>\n",
       "      <td>36</td>\n",
       "      <td>M</td>\n",
       "      <td>M</td>\n",
       "      <td>0</td>\n",
       "      <td>0</td>\n",
       "      <td>377.10</td>\n",
       "      <td>F</td>\n",
       "      <td>38.0</td>\n",
       "      <td>5</td>\n",
       "      <td>REACHING ABOVE SHOULDER LEVEL ACUTE MUSCLE STR...</td>\n",
       "      <td>2800</td>\n",
       "      <td>4014.002925</td>\n",
       "    </tr>\n",
       "  </tbody>\n",
       "</table>\n",
       "</div>"
      ],
      "text/plain": [
       "  ClaimNumber        DateTimeOfAccident              DateReported  Age Gender  \\\n",
       "0   WC8285054 2002-04-09 07:00:00+00:00 2002-07-05 00:00:00+00:00   48      M   \n",
       "1   WC6982224 1999-01-07 11:00:00+00:00 1999-01-20 00:00:00+00:00   43      F   \n",
       "2   WC5481426 1996-03-25 00:00:00+00:00 1996-04-14 00:00:00+00:00   30      M   \n",
       "3   WC9775968 2005-06-22 13:00:00+00:00 2005-07-22 00:00:00+00:00   41      M   \n",
       "4   WC2634037 1990-08-29 08:00:00+00:00 1990-09-27 00:00:00+00:00   36      M   \n",
       "\n",
       "  MaritalStatus  DependentChildren  DependentsOther  WeeklyWages  \\\n",
       "0             M                  0                0       500.00   \n",
       "1             M                  0                0       509.34   \n",
       "2             U                  0                0       709.10   \n",
       "3             S                  0                0       555.46   \n",
       "4             M                  0                0       377.10   \n",
       "\n",
       "  PartTimeFullTime  HoursWorkedPerWeek  DaysWorkedPerWeek  \\\n",
       "0                F                38.0                  5   \n",
       "1                F                37.5                  5   \n",
       "2                F                38.0                  5   \n",
       "3                F                38.0                  5   \n",
       "4                F                38.0                  5   \n",
       "\n",
       "                                    ClaimDescription  \\\n",
       "0  LIFTING TYRE INJURY TO RIGHT ARM AND WRIST INJURY   \n",
       "1  STEPPED AROUND CRATES AND TRUCK TRAY FRACTURE ...   \n",
       "2                   CUT ON SHARP EDGE CUT LEFT THUMB   \n",
       "3               DIGGING LOWER BACK LOWER BACK STRAIN   \n",
       "4  REACHING ABOVE SHOULDER LEVEL ACUTE MUSCLE STR...   \n",
       "\n",
       "   InitialIncurredCalimsCost  UltimateIncurredClaimCost  \n",
       "0                       1500                4748.203388  \n",
       "1                       5500                6326.285819  \n",
       "2                       1700                2293.949087  \n",
       "3                      15000               17786.487170  \n",
       "4                       2800                4014.002925  "
      ]
     },
     "execution_count": 30,
     "metadata": {},
     "output_type": "execute_result"
    }
   ],
   "source": [
    "df.head()"
   ]
  },
  {
   "cell_type": "markdown",
   "metadata": {},
   "source": [
    "#### ClaimNumber"
   ]
  },
  {
   "cell_type": "code",
   "execution_count": 6,
   "metadata": {},
   "outputs": [
    {
     "data": {
      "text/plain": [
       "9    54000\n",
       "Name: ClaimNumber, dtype: int64"
      ]
     },
     "execution_count": 6,
     "metadata": {},
     "output_type": "execute_result"
    }
   ],
   "source": [
    "df['ClaimNumber'].str.len().value_counts()"
   ]
  },
  {
   "cell_type": "code",
   "execution_count": 8,
   "metadata": {},
   "outputs": [
    {
     "data": {
      "text/plain": [
       "WC    54000\n",
       "Name: ClaimNumber, dtype: int64"
      ]
     },
     "execution_count": 8,
     "metadata": {},
     "output_type": "execute_result"
    }
   ],
   "source": [
    "df['ClaimNumber'].str[:2].value_counts()"
   ]
  },
  {
   "cell_type": "code",
   "execution_count": 9,
   "metadata": {},
   "outputs": [
    {
     "data": {
      "text/plain": [
       "1    54000\n",
       "Name: ClaimNumber, dtype: int64"
      ]
     },
     "execution_count": 9,
     "metadata": {},
     "output_type": "execute_result"
    }
   ],
   "source": [
    "df['ClaimNumber'].value_counts().value_counts()"
   ]
  },
  {
   "cell_type": "markdown",
   "metadata": {},
   "source": [
    "#### DateTimeOfAccident"
   ]
  },
  {
   "cell_type": "code",
   "execution_count": 176,
   "metadata": {},
   "outputs": [
    {
     "data": {
      "text/plain": [
       "1    10235\n",
       "0    10003\n",
       "2     9849\n",
       "3     9549\n",
       "4     8650\n",
       "5     3448\n",
       "6     2266\n",
       "Name: DateTimeOfAccident, dtype: int64"
      ]
     },
     "execution_count": 176,
     "metadata": {},
     "output_type": "execute_result"
    }
   ],
   "source": [
    "df['DateTimeOfAccident'].dt.weekday.value_counts()"
   ]
  },
  {
   "cell_type": "code",
   "execution_count": 141,
   "metadata": {},
   "outputs": [
    {
     "data": {
      "text/plain": [
       "<matplotlib.axes._subplots.AxesSubplot at 0x14fff8d9fd0>"
      ]
     },
     "execution_count": 141,
     "metadata": {},
     "output_type": "execute_result"
    },
    {
     "data": {
      "image/png": "[encoded data removed]",
      "text/plain": [
       "<Figure size 432x288 with 1 Axes>"
      ]
     },
     "metadata": {
      "needs_background": "light"
     },
     "output_type": "display_data"
    }
   ],
   "source": [
    "df['YearOfAccident'] = df['DateTimeOfAccident'].dt.year\n",
    "df.groupby('YearOfAccident').count()['ClaimNumber'].plot()"
   ]
  },
  {
   "cell_type": "code",
   "execution_count": 148,
   "metadata": {},
   "outputs": [
    {
     "data": {
      "text/plain": [
       "<matplotlib.axes._subplots.AxesSubplot at 0x14f8456a9d0>"
      ]
     },
     "execution_count": 148,
     "metadata": {},
     "output_type": "execute_result"
    },
    {
     "data": {
      "image/png": "[encoded data removed]",
      "text/plain": [
       "<Figure size 1080x360 with 1 Axes>"
      ]
     },
     "metadata": {
      "needs_background": "light"
     },
     "output_type": "display_data"
    }
   ],
   "source": [
    "df['DateOfAccident'] = df['DateTimeOfAccident'].dt.date\n",
    "df[df['YearOfAccident']>2004].groupby('DateOfAccident').count()['ClaimNumber'].plot(figsize=(15,5))"
   ]
  },
  {
   "cell_type": "code",
   "execution_count": 42,
   "metadata": {},
   "outputs": [
    {
     "data": {
      "text/plain": [
       "<matplotlib.axes._subplots.AxesSubplot at 0x14ffe060850>"
      ]
     },
     "execution_count": 42,
     "metadata": {},
     "output_type": "execute_result"
    },
    {
     "data": {
      "image/png": "[encoded data removed]",
      "text/plain": [
       "<Figure size 432x288 with 1 Axes>"
      ]
     },
     "metadata": {
      "needs_background": "light"
     },
     "output_type": "display_data"
    }
   ],
   "source": [
    "df['DateTimeOfAccident'].dt.hour.hist(bins=24)"
   ]
  },
  {
   "cell_type": "markdown",
   "metadata": {},
   "source": [
    "#### DateReported"
   ]
  },
  {
   "cell_type": "code",
   "execution_count": 150,
   "metadata": {},
   "outputs": [
    {
     "data": {
      "text/plain": [
       "<matplotlib.axes._subplots.AxesSubplot at 0x14f84525af0>"
      ]
     },
     "execution_count": 150,
     "metadata": {},
     "output_type": "execute_result"
    },
    {
     "data": {
      "image/png": "[encoded data removed]",
      "text/plain": [
       "<Figure size 432x288 with 1 Axes>"
      ]
     },
     "metadata": {
      "needs_background": "light"
     },
     "output_type": "display_data"
    }
   ],
   "source": [
    "df['YearOfReport'] = df['DateReported'].dt.year\n",
    "df.groupby('YearOfReport').count()['ClaimNumber'].plot()"
   ]
  },
  {
   "cell_type": "code",
   "execution_count": 135,
   "metadata": {},
   "outputs": [
    {
     "data": {
      "text/plain": [
       "<matplotlib.collections.PathCollection at 0x14fff999b50>"
      ]
     },
     "execution_count": 135,
     "metadata": {},
     "output_type": "execute_result"
    },
    {
     "data": {
      "image/png": "[encoded data removed]",
      "text/plain": [
       "<Figure size 432x288 with 1 Axes>"
      ]
     },
     "metadata": {
      "needs_background": "light"
     },
     "output_type": "display_data"
    }
   ],
   "source": [
    "fig=plt.figure()\n",
    "ax=fig.add_axes([0,0,1,1])\n",
    "ax.scatter(df['DateReported'], df['DateTimeOfAccident'], color='b',s=1)"
   ]
  },
  {
   "cell_type": "markdown",
   "metadata": {},
   "source": [
    "#### Age"
   ]
  },
  {
   "cell_type": "code",
   "execution_count": 48,
   "metadata": {},
   "outputs": [
    {
     "data": {
      "text/plain": [
       "<matplotlib.axes._subplots.AxesSubplot at 0x14ff5aad1f0>"
      ]
     },
     "execution_count": 48,
     "metadata": {},
     "output_type": "execute_result"
    },
    {
     "data": {
      "image/png": "[encoded data removed]",
      "text/plain": [
       "<Figure size 432x288 with 1 Axes>"
      ]
     },
     "metadata": {
      "needs_background": "light"
     },
     "output_type": "display_data"
    }
   ],
   "source": [
    "df['Age'].hist()"
   ]
  },
  {
   "cell_type": "markdown",
   "metadata": {},
   "source": [
    "#### Gender"
   ]
  },
  {
   "cell_type": "code",
   "execution_count": 53,
   "metadata": {},
   "outputs": [
    {
     "data": {
      "text/plain": [
       "<matplotlib.axes._subplots.AxesSubplot at 0x14ffef98dc0>"
      ]
     },
     "execution_count": 53,
     "metadata": {},
     "output_type": "execute_result"
    },
    {
     "data": {
      "image/png": "[encoded data removed]",
      "text/plain": [
       "<Figure size 432x288 with 1 Axes>"
      ]
     },
     "metadata": {
      "needs_background": "light"
     },
     "output_type": "display_data"
    }
   ],
   "source": [
    "df['Gender'].hist()"
   ]
  },
  {
   "cell_type": "markdown",
   "metadata": {},
   "source": [
    "#### MaritalStatus"
   ]
  },
  {
   "cell_type": "code",
   "execution_count": 54,
   "metadata": {},
   "outputs": [
    {
     "data": {
      "text/plain": [
       "<matplotlib.axes._subplots.AxesSubplot at 0x14fff01e970>"
      ]
     },
     "execution_count": 54,
     "metadata": {},
     "output_type": "execute_result"
    },
    {
     "data": {
      "image/png": "[encoded data removed]",
      "text/plain": [
       "<Figure size 432x288 with 1 Axes>"
      ]
     },
     "metadata": {
      "needs_background": "light"
     },
     "output_type": "display_data"
    }
   ],
   "source": [
    "df['MaritalStatus'].hist()"
   ]
  },
  {
   "cell_type": "markdown",
   "metadata": {},
   "source": [
    "#### DependentChildren e DependentsOther"
   ]
  },
  {
   "cell_type": "code",
   "execution_count": 61,
   "metadata": {},
   "outputs": [
    {
     "data": {
      "text/plain": [
       "0    50639\n",
       "2     1361\n",
       "1     1273\n",
       "3      528\n",
       "4      150\n",
       "5       42\n",
       "6        5\n",
       "9        1\n",
       "8        1\n",
       "Name: DependentChildren, dtype: int64"
      ]
     },
     "execution_count": 61,
     "metadata": {},
     "output_type": "execute_result"
    }
   ],
   "source": [
    "df['DependentChildren'].value_counts()"
   ]
  },
  {
   "cell_type": "code",
   "execution_count": 64,
   "metadata": {},
   "outputs": [
    {
     "data": {
      "text/plain": [
       "0    53506\n",
       "1      462\n",
       "2       23\n",
       "3        8\n",
       "5        1\n",
       "Name: DependentsOther, dtype: int64"
      ]
     },
     "execution_count": 64,
     "metadata": {},
     "output_type": "execute_result"
    }
   ],
   "source": [
    "df['DependentsOther'].value_counts()"
   ]
  },
  {
   "cell_type": "markdown",
   "metadata": {},
   "source": [
    "#### WeeklyWages"
   ]
  },
  {
   "cell_type": "code",
   "execution_count": 68,
   "metadata": {},
   "outputs": [
    {
     "data": {
      "text/plain": [
       "1.00       122\n",
       "1.91         1\n",
       "3.59         1\n",
       "3.95         2\n",
       "4.61         1\n",
       "          ... \n",
       "4311.30      1\n",
       "4556.00      2\n",
       "6453.00      1\n",
       "7400.00      1\n",
       "7497.00      3\n",
       "Name: WeeklyWages, Length: 13211, dtype: int64"
      ]
     },
     "execution_count": 68,
     "metadata": {},
     "output_type": "execute_result"
    }
   ],
   "source": [
    "df['WeeklyWages'].value_counts().sort_index()"
   ]
  },
  {
   "cell_type": "code",
   "execution_count": 161,
   "metadata": {},
   "outputs": [
    {
     "data": {
      "text/plain": [
       "<matplotlib.axes._subplots.AxesSubplot at 0x14f8ab7f070>"
      ]
     },
     "execution_count": 161,
     "metadata": {},
     "output_type": "execute_result"
    },
    {
     "data": {
      "image/png": "[encoded data removed]",
      "text/plain": [
       "<Figure size 432x288 with 1 Axes>"
      ]
     },
     "metadata": {
      "needs_background": "light"
     },
     "output_type": "display_data"
    }
   ],
   "source": [
    "df[(df['WeeklyWages']<1000) & (df['PartTimeFullTime']=='F')]['WeeklyWages'].hist(bins=100)"
   ]
  },
  {
   "cell_type": "code",
   "execution_count": 159,
   "metadata": {},
   "outputs": [
    {
     "data": {
      "text/html": [
       "<div>\n",
       "<style scoped>\n",
       "    .dataframe tbody tr th:only-of-type {\n",
       "        vertical-align: middle;\n",
       "    }\n",
       "\n",
       "    .dataframe tbody tr th {\n",
       "        vertical-align: top;\n",
       "    }\n",
       "\n",
       "    .dataframe thead th {\n",
       "        text-align: right;\n",
       "    }\n",
       "</style>\n",
       "<table border=\"1\" class=\"dataframe\">\n",
       "  <thead>\n",
       "    <tr style=\"text-align: right;\">\n",
       "      <th></th>\n",
       "      <th>ClaimNumber</th>\n",
       "      <th>DateTimeOfAccident</th>\n",
       "      <th>DateReported</th>\n",
       "      <th>Age</th>\n",
       "      <th>Gender</th>\n",
       "      <th>MaritalStatus</th>\n",
       "      <th>DependentChildren</th>\n",
       "      <th>DependentsOther</th>\n",
       "      <th>WeeklyWages</th>\n",
       "      <th>PartTimeFullTime</th>\n",
       "      <th>HoursWorkedPerWeek</th>\n",
       "      <th>DaysWorkedPerWeek</th>\n",
       "      <th>ClaimDescription</th>\n",
       "      <th>InitialIncurredClaimCost</th>\n",
       "      <th>UltimateIncurredClaimCost</th>\n",
       "      <th>YearOfAccident</th>\n",
       "      <th>DateOfAccident</th>\n",
       "      <th>YearOfReport</th>\n",
       "    </tr>\n",
       "  </thead>\n",
       "  <tbody>\n",
       "    <tr>\n",
       "      <th>136</th>\n",
       "      <td>WC8068868</td>\n",
       "      <td>2001-02-16 10:00:00+00:00</td>\n",
       "      <td>2001-02-28 00:00:00+00:00</td>\n",
       "      <td>49</td>\n",
       "      <td>F</td>\n",
       "      <td>U</td>\n",
       "      <td>0</td>\n",
       "      <td>0</td>\n",
       "      <td>15.09</td>\n",
       "      <td>F</td>\n",
       "      <td>35.0</td>\n",
       "      <td>5</td>\n",
       "      <td>PULLING OUT CUTTER LACERATED RIGHT THUMB</td>\n",
       "      <td>4500</td>\n",
       "      <td>4506.738758</td>\n",
       "      <td>2001</td>\n",
       "      <td>2001-02-16</td>\n",
       "      <td>2001</td>\n",
       "    </tr>\n",
       "    <tr>\n",
       "      <th>324</th>\n",
       "      <td>WC6989970</td>\n",
       "      <td>1999-02-01 15:00:00+00:00</td>\n",
       "      <td>1999-02-28 00:00:00+00:00</td>\n",
       "      <td>24</td>\n",
       "      <td>M</td>\n",
       "      <td>U</td>\n",
       "      <td>0</td>\n",
       "      <td>0</td>\n",
       "      <td>1.00</td>\n",
       "      <td>F</td>\n",
       "      <td>40.0</td>\n",
       "      <td>5</td>\n",
       "      <td>HIT THUMB WITH BLADE LACERATED LEFT FINGERS</td>\n",
       "      <td>800</td>\n",
       "      <td>588.241327</td>\n",
       "      <td>1999</td>\n",
       "      <td>1999-02-01</td>\n",
       "      <td>1999</td>\n",
       "    </tr>\n",
       "    <tr>\n",
       "      <th>662</th>\n",
       "      <td>WC5583848</td>\n",
       "      <td>1996-02-16 17:00:00+00:00</td>\n",
       "      <td>1996-03-25 00:00:00+00:00</td>\n",
       "      <td>18</td>\n",
       "      <td>M</td>\n",
       "      <td>M</td>\n",
       "      <td>0</td>\n",
       "      <td>0</td>\n",
       "      <td>3.95</td>\n",
       "      <td>F</td>\n",
       "      <td>42.0</td>\n",
       "      <td>6</td>\n",
       "      <td>STRUCK KNIFE LACERATION LEFT FINGER</td>\n",
       "      <td>400</td>\n",
       "      <td>209.405944</td>\n",
       "      <td>1996</td>\n",
       "      <td>1996-02-16</td>\n",
       "      <td>1996</td>\n",
       "    </tr>\n",
       "    <tr>\n",
       "      <th>904</th>\n",
       "      <td>WC7816257</td>\n",
       "      <td>2001-03-16 14:00:00+00:00</td>\n",
       "      <td>2001-04-09 00:00:00+00:00</td>\n",
       "      <td>58</td>\n",
       "      <td>M</td>\n",
       "      <td>U</td>\n",
       "      <td>0</td>\n",
       "      <td>0</td>\n",
       "      <td>1.00</td>\n",
       "      <td>F</td>\n",
       "      <td>40.0</td>\n",
       "      <td>5</td>\n",
       "      <td>SLIPPED ON WET FLOOR AND FELL STRAIN TO HIP LE...</td>\n",
       "      <td>25000</td>\n",
       "      <td>15070.418840</td>\n",
       "      <td>2001</td>\n",
       "      <td>2001-03-16</td>\n",
       "      <td>2001</td>\n",
       "    </tr>\n",
       "    <tr>\n",
       "      <th>1069</th>\n",
       "      <td>WC5756566</td>\n",
       "      <td>1996-02-22 23:00:00+00:00</td>\n",
       "      <td>1996-03-06 00:00:00+00:00</td>\n",
       "      <td>18</td>\n",
       "      <td>M</td>\n",
       "      <td>U</td>\n",
       "      <td>0</td>\n",
       "      <td>0</td>\n",
       "      <td>3.95</td>\n",
       "      <td>F</td>\n",
       "      <td>40.0</td>\n",
       "      <td>5</td>\n",
       "      <td>KNIFE SLIPPED CUT THUMB</td>\n",
       "      <td>500</td>\n",
       "      <td>485.277771</td>\n",
       "      <td>1996</td>\n",
       "      <td>1996-02-22</td>\n",
       "      <td>1996</td>\n",
       "    </tr>\n",
       "    <tr>\n",
       "      <th>...</th>\n",
       "      <td>...</td>\n",
       "      <td>...</td>\n",
       "      <td>...</td>\n",
       "      <td>...</td>\n",
       "      <td>...</td>\n",
       "      <td>...</td>\n",
       "      <td>...</td>\n",
       "      <td>...</td>\n",
       "      <td>...</td>\n",
       "      <td>...</td>\n",
       "      <td>...</td>\n",
       "      <td>...</td>\n",
       "      <td>...</td>\n",
       "      <td>...</td>\n",
       "      <td>...</td>\n",
       "      <td>...</td>\n",
       "      <td>...</td>\n",
       "      <td>...</td>\n",
       "    </tr>\n",
       "    <tr>\n",
       "      <th>52528</th>\n",
       "      <td>WC6261618</td>\n",
       "      <td>1997-10-15 12:00:00+00:00</td>\n",
       "      <td>1997-10-25 00:00:00+00:00</td>\n",
       "      <td>38</td>\n",
       "      <td>M</td>\n",
       "      <td>U</td>\n",
       "      <td>0</td>\n",
       "      <td>0</td>\n",
       "      <td>13.20</td>\n",
       "      <td>F</td>\n",
       "      <td>40.0</td>\n",
       "      <td>5</td>\n",
       "      <td>FELL AND STRUCK ROTISSERIE BURN TO RIGHT WRIST</td>\n",
       "      <td>1000</td>\n",
       "      <td>568.545972</td>\n",
       "      <td>1997</td>\n",
       "      <td>1997-10-15</td>\n",
       "      <td>1997</td>\n",
       "    </tr>\n",
       "    <tr>\n",
       "      <th>52623</th>\n",
       "      <td>WC7257500</td>\n",
       "      <td>2000-12-07 13:00:00+00:00</td>\n",
       "      <td>2000-12-30 00:00:00+00:00</td>\n",
       "      <td>32</td>\n",
       "      <td>M</td>\n",
       "      <td>M</td>\n",
       "      <td>0</td>\n",
       "      <td>0</td>\n",
       "      <td>1.00</td>\n",
       "      <td>F</td>\n",
       "      <td>40.0</td>\n",
       "      <td>5</td>\n",
       "      <td>LIFTING UNHITCHING TRAILER STRAIN LOWER BACK S...</td>\n",
       "      <td>12000</td>\n",
       "      <td>10421.965630</td>\n",
       "      <td>2000</td>\n",
       "      <td>2000-12-07</td>\n",
       "      <td>2000</td>\n",
       "    </tr>\n",
       "    <tr>\n",
       "      <th>52636</th>\n",
       "      <td>WC5288290</td>\n",
       "      <td>1995-03-25 09:00:00+00:00</td>\n",
       "      <td>1995-04-15 00:00:00+00:00</td>\n",
       "      <td>24</td>\n",
       "      <td>M</td>\n",
       "      <td>U</td>\n",
       "      <td>0</td>\n",
       "      <td>0</td>\n",
       "      <td>1.00</td>\n",
       "      <td>F</td>\n",
       "      <td>1.0</td>\n",
       "      <td>1</td>\n",
       "      <td>METAL ENTERED EYE FOREIGN BODY RIGHT EYE</td>\n",
       "      <td>500</td>\n",
       "      <td>728.804800</td>\n",
       "      <td>1995</td>\n",
       "      <td>1995-03-25</td>\n",
       "      <td>1995</td>\n",
       "    </tr>\n",
       "    <tr>\n",
       "      <th>53435</th>\n",
       "      <td>WC5602965</td>\n",
       "      <td>1996-08-07 14:00:00+00:00</td>\n",
       "      <td>1996-08-22 00:00:00+00:00</td>\n",
       "      <td>27</td>\n",
       "      <td>M</td>\n",
       "      <td>U</td>\n",
       "      <td>0</td>\n",
       "      <td>0</td>\n",
       "      <td>10.27</td>\n",
       "      <td>F</td>\n",
       "      <td>38.0</td>\n",
       "      <td>5</td>\n",
       "      <td>FROM HAND GRINDER LACERATION WRIST</td>\n",
       "      <td>500</td>\n",
       "      <td>538.781552</td>\n",
       "      <td>1996</td>\n",
       "      <td>1996-08-07</td>\n",
       "      <td>1996</td>\n",
       "    </tr>\n",
       "    <tr>\n",
       "      <th>53980</th>\n",
       "      <td>WC7148618</td>\n",
       "      <td>1999-10-15 12:00:00+00:00</td>\n",
       "      <td>1999-11-08 00:00:00+00:00</td>\n",
       "      <td>57</td>\n",
       "      <td>F</td>\n",
       "      <td>M</td>\n",
       "      <td>0</td>\n",
       "      <td>0</td>\n",
       "      <td>1.00</td>\n",
       "      <td>F</td>\n",
       "      <td>38.0</td>\n",
       "      <td>5</td>\n",
       "      <td>REPETITIVE MOVEMENT FRACTURE RIGHT LOWER ARM</td>\n",
       "      <td>7500</td>\n",
       "      <td>4984.222193</td>\n",
       "      <td>1999</td>\n",
       "      <td>1999-10-15</td>\n",
       "      <td>1999</td>\n",
       "    </tr>\n",
       "  </tbody>\n",
       "</table>\n",
       "<p>342 rows × 18 columns</p>\n",
       "</div>"
      ],
      "text/plain": [
       "      ClaimNumber        DateTimeOfAccident              DateReported  Age  \\\n",
       "136     WC8068868 2001-02-16 10:00:00+00:00 2001-02-28 00:00:00+00:00   49   \n",
       "324     WC6989970 1999-02-01 15:00:00+00:00 1999-02-28 00:00:00+00:00   24   \n",
       "662     WC5583848 1996-02-16 17:00:00+00:00 1996-03-25 00:00:00+00:00   18   \n",
       "904     WC7816257 2001-03-16 14:00:00+00:00 2001-04-09 00:00:00+00:00   58   \n",
       "1069    WC5756566 1996-02-22 23:00:00+00:00 1996-03-06 00:00:00+00:00   18   \n",
       "...           ...                       ...                       ...  ...   \n",
       "52528   WC6261618 1997-10-15 12:00:00+00:00 1997-10-25 00:00:00+00:00   38   \n",
       "52623   WC7257500 2000-12-07 13:00:00+00:00 2000-12-30 00:00:00+00:00   32   \n",
       "52636   WC5288290 1995-03-25 09:00:00+00:00 1995-04-15 00:00:00+00:00   24   \n",
       "53435   WC5602965 1996-08-07 14:00:00+00:00 1996-08-22 00:00:00+00:00   27   \n",
       "53980   WC7148618 1999-10-15 12:00:00+00:00 1999-11-08 00:00:00+00:00   57   \n",
       "\n",
       "      Gender MaritalStatus  DependentChildren  DependentsOther  WeeklyWages  \\\n",
       "136        F             U                  0                0        15.09   \n",
       "324        M             U                  0                0         1.00   \n",
       "662        M             M                  0                0         3.95   \n",
       "904        M             U                  0                0         1.00   \n",
       "1069       M             U                  0                0         3.95   \n",
       "...      ...           ...                ...              ...          ...   \n",
       "52528      M             U                  0                0        13.20   \n",
       "52623      M             M                  0                0         1.00   \n",
       "52636      M             U                  0                0         1.00   \n",
       "53435      M             U                  0                0        10.27   \n",
       "53980      F             M                  0                0         1.00   \n",
       "\n",
       "      PartTimeFullTime  HoursWorkedPerWeek  DaysWorkedPerWeek  \\\n",
       "136                  F                35.0                  5   \n",
       "324                  F                40.0                  5   \n",
       "662                  F                42.0                  6   \n",
       "904                  F                40.0                  5   \n",
       "1069                 F                40.0                  5   \n",
       "...                ...                 ...                ...   \n",
       "52528                F                40.0                  5   \n",
       "52623                F                40.0                  5   \n",
       "52636                F                 1.0                  1   \n",
       "53435                F                38.0                  5   \n",
       "53980                F                38.0                  5   \n",
       "\n",
       "                                        ClaimDescription  \\\n",
       "136             PULLING OUT CUTTER LACERATED RIGHT THUMB   \n",
       "324          HIT THUMB WITH BLADE LACERATED LEFT FINGERS   \n",
       "662                  STRUCK KNIFE LACERATION LEFT FINGER   \n",
       "904    SLIPPED ON WET FLOOR AND FELL STRAIN TO HIP LE...   \n",
       "1069                             KNIFE SLIPPED CUT THUMB   \n",
       "...                                                  ...   \n",
       "52528     FELL AND STRUCK ROTISSERIE BURN TO RIGHT WRIST   \n",
       "52623  LIFTING UNHITCHING TRAILER STRAIN LOWER BACK S...   \n",
       "52636           METAL ENTERED EYE FOREIGN BODY RIGHT EYE   \n",
       "53435                 FROM HAND GRINDER LACERATION WRIST   \n",
       "53980       REPETITIVE MOVEMENT FRACTURE RIGHT LOWER ARM   \n",
       "\n",
       "       InitialIncurredClaimCost  UltimateIncurredClaimCost  YearOfAccident  \\\n",
       "136                        4500                4506.738758            2001   \n",
       "324                         800                 588.241327            1999   \n",
       "662                         400                 209.405944            1996   \n",
       "904                       25000               15070.418840            2001   \n",
       "1069                        500                 485.277771            1996   \n",
       "...                         ...                        ...             ...   \n",
       "52528                      1000                 568.545972            1997   \n",
       "52623                     12000               10421.965630            2000   \n",
       "52636                       500                 728.804800            1995   \n",
       "53435                       500                 538.781552            1996   \n",
       "53980                      7500                4984.222193            1999   \n",
       "\n",
       "      DateOfAccident  YearOfReport  \n",
       "136       2001-02-16          2001  \n",
       "324       1999-02-01          1999  \n",
       "662       1996-02-16          1996  \n",
       "904       2001-03-16          2001  \n",
       "1069      1996-02-22          1996  \n",
       "...              ...           ...  \n",
       "52528     1997-10-15          1997  \n",
       "52623     2000-12-07          2000  \n",
       "52636     1995-03-25          1995  \n",
       "53435     1996-08-07          1996  \n",
       "53980     1999-10-15          1999  \n",
       "\n",
       "[342 rows x 18 columns]"
      ]
     },
     "execution_count": 159,
     "metadata": {},
     "output_type": "execute_result"
    }
   ],
   "source": [
    "df[(df['WeeklyWages']<25) & (df['PartTimeFullTime']=='F')]"
   ]
  },
  {
   "cell_type": "markdown",
   "metadata": {},
   "source": [
    "#### PartTimeFullTime"
   ]
  },
  {
   "cell_type": "code",
   "execution_count": 72,
   "metadata": {},
   "outputs": [
    {
     "data": {
      "text/plain": [
       "<matplotlib.axes._subplots.AxesSubplot at 0x14fff416910>"
      ]
     },
     "execution_count": 72,
     "metadata": {},
     "output_type": "execute_result"
    },
    {
     "data": {
      "image/png": "[encoded data removed]",
      "text/plain": [
       "<Figure size 432x288 with 1 Axes>"
      ]
     },
     "metadata": {
      "needs_background": "light"
     },
     "output_type": "display_data"
    }
   ],
   "source": [
    "df['PartTimeFullTime'].hist()"
   ]
  },
  {
   "cell_type": "markdown",
   "metadata": {},
   "source": [
    "#### HoursWorkedPerWeek"
   ]
  },
  {
   "cell_type": "code",
   "execution_count": 76,
   "metadata": {},
   "outputs": [
    {
     "data": {
      "text/plain": [
       "<matplotlib.axes._subplots.AxesSubplot at 0x14ff5c81190>"
      ]
     },
     "execution_count": 76,
     "metadata": {},
     "output_type": "execute_result"
    },
    {
     "data": {
      "image/png": "[encoded data removed]",
      "text/plain": [
       "<Figure size 432x288 with 1 Axes>"
      ]
     },
     "metadata": {
      "needs_background": "light"
     },
     "output_type": "display_data"
    }
   ],
   "source": [
    "df['HoursWorkedPerWeek'].hist(bins=50)"
   ]
  },
  {
   "cell_type": "code",
   "execution_count": 165,
   "metadata": {},
   "outputs": [
    {
     "data": {
      "text/plain": [
       "<matplotlib.axes._subplots.AxesSubplot at 0x14f8ac75310>"
      ]
     },
     "execution_count": 165,
     "metadata": {},
     "output_type": "execute_result"
    },
    {
     "data": {
      "image/png": "[encoded data removed]",
      "text/plain": [
       "<Figure size 432x288 with 1 Axes>"
      ]
     },
     "metadata": {
      "needs_background": "light"
     },
     "output_type": "display_data"
    }
   ],
   "source": [
    "df[(df['HoursWorkedPerWeek']<30) & (df['PartTimeFullTime']=='F')]['HoursWorkedPerWeek'].hist(bins=50)"
   ]
  },
  {
   "cell_type": "code",
   "execution_count": 162,
   "metadata": {},
   "outputs": [
    {
     "data": {
      "text/plain": [
       "<matplotlib.axes._subplots.AxesSubplot at 0x14f8ad37d30>"
      ]
     },
     "execution_count": 162,
     "metadata": {},
     "output_type": "execute_result"
    },
    {
     "data": {
      "image/png": "[encoded data removed]",
      "text/plain": [
       "<Figure size 432x288 with 1 Axes>"
      ]
     },
     "metadata": {
      "needs_background": "light"
     },
     "output_type": "display_data"
    }
   ],
   "source": [
    "df[df['HoursWorkedPerWeek']>168]['HoursWorkedPerWeek'].hist(bins=50)"
   ]
  },
  {
   "cell_type": "code",
   "execution_count": 79,
   "metadata": {},
   "outputs": [
    {
     "data": {
      "text/plain": [
       "<matplotlib.collections.PathCollection at 0x14fff8bb7f0>"
      ]
     },
     "execution_count": 79,
     "metadata": {},
     "output_type": "execute_result"
    },
    {
     "data": {
      "image/png": "[encoded data removed]",
      "text/plain": [
       "<Figure size 432x288 with 1 Axes>"
      ]
     },
     "metadata": {
      "needs_background": "light"
     },
     "output_type": "display_data"
    }
   ],
   "source": [
    "fig=plt.figure()\n",
    "ax=fig.add_axes([0,0,1,1])\n",
    "ax.scatter(df['HoursWorkedPerWeek'], df['WeeklyWages'], color='b',s=1)"
   ]
  },
  {
   "cell_type": "markdown",
   "metadata": {},
   "source": [
    "#### DaysWorkedPerWeek"
   ]
  },
  {
   "cell_type": "code",
   "execution_count": 80,
   "metadata": {},
   "outputs": [
    {
     "data": {
      "text/plain": [
       "<matplotlib.axes._subplots.AxesSubplot at 0x14fff8f2bb0>"
      ]
     },
     "execution_count": 80,
     "metadata": {},
     "output_type": "execute_result"
    },
    {
     "data": {
      "image/png": "[encoded data removed]",
      "text/plain": [
       "<Figure size 432x288 with 1 Axes>"
      ]
     },
     "metadata": {
      "needs_background": "light"
     },
     "output_type": "display_data"
    }
   ],
   "source": [
    "df['DaysWorkedPerWeek'].hist()"
   ]
  },
  {
   "cell_type": "markdown",
   "metadata": {},
   "source": [
    "#### ClaimDescription"
   ]
  },
  {
   "cell_type": "code",
   "execution_count": 81,
   "metadata": {},
   "outputs": [
    {
     "data": {
      "text/plain": [
       "SLIPPED ON ROLLER TENDONITIS RIGHT SHOULDER                    289\n",
       "SORTING ALUMINIUM BARS STRAIN SHOULDER NECK                    278\n",
       "SLIPPED USING LATHE IN EYE CORNEA                              258\n",
       "REDBACK SPIDER BITE RIGHT FOOT RIGHT FRACTURE                  256\n",
       "LIFTING TYRES LOWER BACK STRAIN                                255\n",
       "                                                              ... \n",
       "DOG BITES LEFT HAND TORN LIGAMENT LEFT ANKLE                     1\n",
       "CAUGHT HAND IN ROLLERS BRUISED LEFT THUMB FINGER LACERATION      1\n",
       "LIFTING WOODEN PAINT BOARD STRAIN LOWER BACK STRAIN              1\n",
       "LIFTING STEEL FRAMES STRAIN LOWER BACK                           1\n",
       "WIND BLEW DUST IN EYE FOREIGN BODY LEFT EYE                      1\n",
       "Name: ClaimDescription, Length: 28114, dtype: int64"
      ]
     },
     "execution_count": 81,
     "metadata": {},
     "output_type": "execute_result"
    }
   ],
   "source": [
    "df['ClaimDescription'].value_counts()"
   ]
  },
  {
   "cell_type": "markdown",
   "metadata": {},
   "source": [
    "#### InitialIncurredClaimCost e UltimateIncurredClaimCost:"
   ]
  },
  {
   "cell_type": "code",
   "execution_count": 101,
   "metadata": {},
   "outputs": [],
   "source": [
    "df.columns = ['ClaimNumber', 'DateTimeOfAccident', 'DateReported', 'Age', 'Gender',\n",
    "       'MaritalStatus', 'DependentChildren', 'DependentsOther', 'WeeklyWages',\n",
    "       'PartTimeFullTime', 'HoursWorkedPerWeek', 'DaysWorkedPerWeek',\n",
    "       'ClaimDescription', 'InitialIncurredClaimCost',\n",
    "       'UltimateIncurredClaimCost']"
   ]
  },
  {
   "cell_type": "code",
   "execution_count": null,
   "metadata": {},
   "outputs": [],
   "source": [
    "#df.rename({'InitialIncurredCalimCost':'InitialIncurredClaimCost',\n",
    "#       'UltimateIncurredClaimCosts':'UltimateIncurredClaimCost'}, axis=1, inplace = True)"
   ]
  },
  {
   "cell_type": "code",
   "execution_count": 103,
   "metadata": {},
   "outputs": [
    {
     "data": {
      "text/plain": [
       "<matplotlib.axes._subplots.AxesSubplot at 0x14fffed8fa0>"
      ]
     },
     "execution_count": 103,
     "metadata": {},
     "output_type": "execute_result"
    },
    {
     "data": {
      "image/png": "[encoded data removed]",
      "text/plain": [
       "<Figure size 432x288 with 1 Axes>"
      ]
     },
     "metadata": {
      "needs_background": "light"
     },
     "output_type": "display_data"
    }
   ],
   "source": [
    "df['InitialIncurredClaimCost'].hist(bins=100)"
   ]
  },
  {
   "cell_type": "code",
   "execution_count": 104,
   "metadata": {},
   "outputs": [
    {
     "data": {
      "text/plain": [
       "<matplotlib.axes._subplots.AxesSubplot at 0x14fffe27490>"
      ]
     },
     "execution_count": 104,
     "metadata": {},
     "output_type": "execute_result"
    },
    {
     "data": {
      "image/png": "[encoded data removed]",
      "text/plain": [
       "<Figure size 432x288 with 1 Axes>"
      ]
     },
     "metadata": {
      "needs_background": "light"
     },
     "output_type": "display_data"
    }
   ],
   "source": [
    "df['UltimateIncurredClaimCost'].hist(bins=100)"
   ]
  },
  {
   "cell_type": "code",
   "execution_count": 168,
   "metadata": {},
   "outputs": [
    {
     "data": {
      "text/html": [
       "<div>\n",
       "<style scoped>\n",
       "    .dataframe tbody tr th:only-of-type {\n",
       "        vertical-align: middle;\n",
       "    }\n",
       "\n",
       "    .dataframe tbody tr th {\n",
       "        vertical-align: top;\n",
       "    }\n",
       "\n",
       "    .dataframe thead th {\n",
       "        text-align: right;\n",
       "    }\n",
       "</style>\n",
       "<table border=\"1\" class=\"dataframe\">\n",
       "  <thead>\n",
       "    <tr style=\"text-align: right;\">\n",
       "      <th></th>\n",
       "      <th>ClaimNumber</th>\n",
       "      <th>DateTimeOfAccident</th>\n",
       "      <th>DateReported</th>\n",
       "      <th>Age</th>\n",
       "      <th>Gender</th>\n",
       "      <th>MaritalStatus</th>\n",
       "      <th>DependentChildren</th>\n",
       "      <th>DependentsOther</th>\n",
       "      <th>WeeklyWages</th>\n",
       "      <th>PartTimeFullTime</th>\n",
       "      <th>HoursWorkedPerWeek</th>\n",
       "      <th>DaysWorkedPerWeek</th>\n",
       "      <th>ClaimDescription</th>\n",
       "      <th>InitialIncurredClaimCost</th>\n",
       "      <th>UltimateIncurredClaimCost</th>\n",
       "      <th>YearOfAccident</th>\n",
       "      <th>DateOfAccident</th>\n",
       "      <th>YearOfReport</th>\n",
       "    </tr>\n",
       "  </thead>\n",
       "  <tbody>\n",
       "    <tr>\n",
       "      <th>11027</th>\n",
       "      <td>WC9916019</td>\n",
       "      <td>2005-12-13 18:00:00+00:00</td>\n",
       "      <td>2006-01-10 00:00:00+00:00</td>\n",
       "      <td>51</td>\n",
       "      <td>F</td>\n",
       "      <td>M</td>\n",
       "      <td>0</td>\n",
       "      <td>0</td>\n",
       "      <td>390.0</td>\n",
       "      <td>F</td>\n",
       "      <td>40.0</td>\n",
       "      <td>5</td>\n",
       "      <td>SLIPPED ON WET FLOOR FRACTURED BASE OF HAND</td>\n",
       "      <td>43000</td>\n",
       "      <td>4027135.935</td>\n",
       "      <td>2005</td>\n",
       "      <td>2005-12-13</td>\n",
       "      <td>2006</td>\n",
       "    </tr>\n",
       "  </tbody>\n",
       "</table>\n",
       "</div>"
      ],
      "text/plain": [
       "      ClaimNumber        DateTimeOfAccident              DateReported  Age  \\\n",
       "11027   WC9916019 2005-12-13 18:00:00+00:00 2006-01-10 00:00:00+00:00   51   \n",
       "\n",
       "      Gender MaritalStatus  DependentChildren  DependentsOther  WeeklyWages  \\\n",
       "11027      F             M                  0                0        390.0   \n",
       "\n",
       "      PartTimeFullTime  HoursWorkedPerWeek  DaysWorkedPerWeek  \\\n",
       "11027                F                40.0                  5   \n",
       "\n",
       "                                  ClaimDescription  InitialIncurredClaimCost  \\\n",
       "11027  SLIPPED ON WET FLOOR FRACTURED BASE OF HAND                     43000   \n",
       "\n",
       "       UltimateIncurredClaimCost  YearOfAccident DateOfAccident  YearOfReport  \n",
       "11027                4027135.935            2005     2005-12-13          2006  "
      ]
     },
     "execution_count": 168,
     "metadata": {},
     "output_type": "execute_result"
    }
   ],
   "source": [
    "df[df['UltimateIncurredClaimCost']>1e6]"
   ]
  },
  {
   "cell_type": "code",
   "execution_count": 127,
   "metadata": {},
   "outputs": [
    {
     "data": {
      "text/plain": [
       "[<matplotlib.lines.Line2D at 0x151c0207fd0>]"
      ]
     },
     "execution_count": 127,
     "metadata": {},
     "output_type": "execute_result"
    },
    {
     "data": {
      "image/png": "[encoded data removed]",
      "text/plain": [
       "<Figure size 432x288 with 1 Axes>"
      ]
     },
     "metadata": {
      "needs_background": "light"
     },
     "output_type": "display_data"
    }
   ],
   "source": [
    "fig=plt.figure()\n",
    "ax=fig.add_axes([0,0,1,1])\n",
    "ax.scatter(df['UltimateIncurredClaimCost'],df['InitialIncurredClaimCost'], color='b',s=1)\n",
    "ax.plot(list(range(10**6)),list(range(10**6)),color='g')"
   ]
  },
  {
   "cell_type": "markdown",
   "metadata": {},
   "source": [
    "- horas de trabalho por semana estranhas (muito além das 168 possíveis e abaixo de 30)\n",
    "- muitos funcionarios com salario muito baixo\n",
    "- valor pago pelo seguro muito alto"
   ]
  },
  {
   "cell_type": "markdown",
   "metadata": {},
   "source": [
    "#### Testes"
   ]
  },
  {
   "cell_type": "code",
   "execution_count": 179,
   "metadata": {
    "scrolled": true
   },
   "outputs": [
    {
     "data": {
      "text/plain": [
       "Age                          0.102716\n",
       "DependentChildren            0.033450\n",
       "DependentsOther              0.027560\n",
       "WeeklyWages                  0.151695\n",
       "HoursWorkedPerWeek           0.004543\n",
       "DaysWorkedPerWeek            0.001901\n",
       "InitialIncurredClaimCost     0.394991\n",
       "UltimateIncurredClaimCost    1.000000\n",
       "YearOfAccident               0.161759\n",
       "YearOfReport                 0.162634\n",
       "Name: UltimateIncurredClaimCost, dtype: float64"
      ]
     },
     "execution_count": 179,
     "metadata": {},
     "output_type": "execute_result"
    }
   ],
   "source": [
    "df.corr()['UltimateIncurredClaimCost']"
   ]
  },
  {
   "cell_type": "code",
   "execution_count": 181,
   "metadata": {},
   "outputs": [
    {
     "data": {
      "text/plain": [
       "<matplotlib.collections.PathCollection at 0x14f9050d130>"
      ]
     },
     "execution_count": 181,
     "metadata": {},
     "output_type": "execute_result"
    },
    {
     "data": {
      "image/png": "[encoded data removed]",
      "text/plain": [
       "<Figure size 432x288 with 1 Axes>"
      ]
     },
     "metadata": {
      "needs_background": "light"
     },
     "output_type": "display_data"
    }
   ],
   "source": [
    "fig=plt.figure()\n",
    "ax=fig.add_axes([0,0,1,1])\n",
    "ax.scatter(df['Age'],df['UltimateIncurredClaimCost'], color='b',s=1)"
   ]
  },
  {
   "cell_type": "code",
   "execution_count": 184,
   "metadata": {},
   "outputs": [
    {
     "data": {
      "text/plain": [
       "<matplotlib.collections.PathCollection at 0x14f90b51730>"
      ]
     },
     "execution_count": 184,
     "metadata": {},
     "output_type": "execute_result"
    },
    {
     "data": {
      "image/png": "[encoded data removed]",
      "text/plain": [
       "<Figure size 432x288 with 1 Axes>"
      ]
     },
     "metadata": {
      "needs_background": "light"
     },
     "output_type": "display_data"
    }
   ],
   "source": [
    "fig=plt.figure()\n",
    "ax=fig.add_axes([0,0,1,1])\n",
    "ax.scatter(df['WeeklyWages'],df['UltimateIncurredClaimCost'], color='b',s=1)"
   ]
  },
  {
   "cell_type": "code",
   "execution_count": null,
   "metadata": {},
   "outputs": [],
   "source": []
  }
 ],
 "metadata": {
  "kernelspec": {
   "display_name": "Python 3",
   "language": "python",
   "name": "python3"
  },
  "language_info": {
   "codemirror_mode": {
    "name": "ipython",
    "version": 3
   },
   "file_extension": ".py",
   "mimetype": "text/x-python",
   "name": "python",
   "nbconvert_exporter": "python",
   "pygments_lexer": "ipython3",
   "version": "3.8.3"
  }
 },
 "nbformat": 4,
 "nbformat_minor": 4
}
